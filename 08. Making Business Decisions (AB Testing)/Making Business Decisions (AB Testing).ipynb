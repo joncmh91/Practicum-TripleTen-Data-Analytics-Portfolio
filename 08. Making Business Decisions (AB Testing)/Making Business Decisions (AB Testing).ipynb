{
 "cells": [
  {
   "cell_type": "markdown",
   "id": "67052681",
   "metadata": {},
   "source": [
    "# <u>A/B Test Study on Website Recommendation Blocks<u>"
   ]
  },
  {
   "cell_type": "markdown",
   "id": "8b25b4fe",
   "metadata": {},
   "source": [
    "# Introduction <a id='intro'></a>\n",
    "\n",
    "This project aims to test the viability of adding Recommendation Blocks to our site. We inferred that there is reason to believe this marketing initiative will aid in channeling more visitors down the marketing funnel. Our goal in theory, would be to increase Average Order Size, and Conversion Rates based on the ratio of *number of transactions* to the *number of visits/sessions*.\n",
    "\n",
    "**Initial Hypothesis: Recommendation Blocks on our website will increase Average Order Size and Conversion Rates.**"
   ]
  },
  {
   "cell_type": "markdown",
   "id": "3742f436",
   "metadata": {},
   "source": [
    "# Contents <a id='back'></a>\n",
    "\n",
    "* [Introduction](#intro)\n",
    "* [Stage 1. Libraries & Data Loading](#lib)\n",
    "* [Stage 2. Data Pre-Processing](#dp)\n",
    "* [Stage 3. Hypotheses Prioritization](#hp)\n",
    "* [Stage 4. A/B Testing Analysis](#ab)\n",
    "    * [4.1. Calculating Aggregated Cumulative Data](#ab1)\n",
    "    * [4.2. Cumulative Revenue by Test Group](#ab2)\n",
    "    * [4.3. Cumulative Average Order Size by Test Group](#ab3)\n",
    "    * [4.4. Relative Difference in Cumulative Average Order Size](#ab4)\n",
    "    * [4.5. Cumulative Conversion Rate by Group](#ab5)\n",
    "    * [4.6. Checking for Outliers: Orders per User](#ab6)\n",
    "    * [4.7. Checking for Outliers: Order Size per Transaction](#ab7)\n",
    "    * [4.8. Statistical Significance of Difference in Conversion - Raw Data](#ab8)\n",
    "    * [4.9. Statistical Significance of Difference in Average Order Size - Raw Data](#ab9)\n",
    "    * [4.10. Statistical Significance of Difference in Conversion - Filtered Data](#ab10)\n",
    "    * [4.11. Statistical Significance of Difference in Average Order Size - Filtered Data](#ab11)\n",
    "    * [4.12. Stability Test on Filtered Cumulative Conversion Rate - Preventing the Peeking Problem](#ab12)\n",
    "* [Stage 5. Findings & Overall Conclusion](#findings)"
   ]
  },
  {
   "cell_type": "markdown",
   "id": "dde08d1c",
   "metadata": {},
   "source": [
    "# 1. Libraries & Data Loading <a id='lib'></a>"
   ]
  },
  {
   "cell_type": "code",
   "execution_count": 41,
   "id": "64ee4a4a",
   "metadata": {},
   "outputs": [],
   "source": [
    "import pandas as pd\n",
    "import numpy as np\n",
    "import math as math\n",
    "from scipy import stats as st\n",
    "import matplotlib.pyplot as plt\n",
    "import seaborn as sns"
   ]
  },
  {
   "cell_type": "code",
   "execution_count": 42,
   "id": "c8c9ab70",
   "metadata": {},
   "outputs": [],
   "source": [
    "try:\n",
    "    hypo = pd.read_csv(\"hypotheses_us.csv\", sep=';')\n",
    "    orders = pd.read_csv(\"orders_us.csv\")\n",
    "    visits = pd.read_csv(\"visits_us.csv\")\n",
    "except:\n",
    "    hypo = pd.read_csv(\"/datasets/hypotheses_us.csv\", sep=';')\n",
    "    orders = pd.read_csv(\"/datasets/orders_us.csv\")\n",
    "    visits = pd.read_csv(\"/datasets/visits_us.csv\")"
   ]
  },
  {
   "cell_type": "markdown",
   "id": "2d1dcb45",
   "metadata": {},
   "source": [
    "[Back to Contents](#back)"
   ]
  },
  {
   "cell_type": "markdown",
   "id": "ca98e583",
   "metadata": {},
   "source": [
    "# 2. Data Pre-Processing <a id='dp'></a>"
   ]
  },
  {
   "cell_type": "markdown",
   "id": "1dfb08c4",
   "metadata": {},
   "source": [
    "### HYPOTHESES:"
   ]
  },
  {
   "cell_type": "code",
   "execution_count": 43,
   "id": "32bfb1ff",
   "metadata": {
    "scrolled": false
   },
   "outputs": [
    {
     "data": {
      "text/html": [
       "<div>\n",
       "<style scoped>\n",
       "    .dataframe tbody tr th:only-of-type {\n",
       "        vertical-align: middle;\n",
       "    }\n",
       "\n",
       "    .dataframe tbody tr th {\n",
       "        vertical-align: top;\n",
       "    }\n",
       "\n",
       "    .dataframe thead th {\n",
       "        text-align: right;\n",
       "    }\n",
       "</style>\n",
       "<table border=\"1\" class=\"dataframe\">\n",
       "  <thead>\n",
       "    <tr style=\"text-align: right;\">\n",
       "      <th></th>\n",
       "      <th>Hypothesis</th>\n",
       "      <th>Reach</th>\n",
       "      <th>Impact</th>\n",
       "      <th>Confidence</th>\n",
       "      <th>Effort</th>\n",
       "    </tr>\n",
       "  </thead>\n",
       "  <tbody>\n",
       "    <tr>\n",
       "      <th>0</th>\n",
       "      <td>Add two new channels for attracting traffic. This will bring 30% more users</td>\n",
       "      <td>3</td>\n",
       "      <td>10</td>\n",
       "      <td>8</td>\n",
       "      <td>6</td>\n",
       "    </tr>\n",
       "    <tr>\n",
       "      <th>1</th>\n",
       "      <td>Launch your own delivery service. This will shorten delivery time</td>\n",
       "      <td>2</td>\n",
       "      <td>5</td>\n",
       "      <td>4</td>\n",
       "      <td>10</td>\n",
       "    </tr>\n",
       "    <tr>\n",
       "      <th>2</th>\n",
       "      <td>Add product recommendation blocks to the store's site. This will increase conversion and average purchase size</td>\n",
       "      <td>8</td>\n",
       "      <td>3</td>\n",
       "      <td>7</td>\n",
       "      <td>3</td>\n",
       "    </tr>\n",
       "    <tr>\n",
       "      <th>3</th>\n",
       "      <td>Change the category structure. This will increase conversion since users will find the products they want more quickly</td>\n",
       "      <td>8</td>\n",
       "      <td>3</td>\n",
       "      <td>3</td>\n",
       "      <td>8</td>\n",
       "    </tr>\n",
       "    <tr>\n",
       "      <th>4</th>\n",
       "      <td>Change the background color on the main page. This will increase user engagement</td>\n",
       "      <td>3</td>\n",
       "      <td>1</td>\n",
       "      <td>1</td>\n",
       "      <td>1</td>\n",
       "    </tr>\n",
       "    <tr>\n",
       "      <th>5</th>\n",
       "      <td>Add a customer review page. This will increase the number of orders</td>\n",
       "      <td>3</td>\n",
       "      <td>2</td>\n",
       "      <td>2</td>\n",
       "      <td>3</td>\n",
       "    </tr>\n",
       "    <tr>\n",
       "      <th>6</th>\n",
       "      <td>Show banners with current offers and sales on the main page. This will boost conversion</td>\n",
       "      <td>5</td>\n",
       "      <td>3</td>\n",
       "      <td>8</td>\n",
       "      <td>3</td>\n",
       "    </tr>\n",
       "    <tr>\n",
       "      <th>7</th>\n",
       "      <td>Add a subscription form to all the main pages. This will help you compile a mailing list</td>\n",
       "      <td>10</td>\n",
       "      <td>7</td>\n",
       "      <td>8</td>\n",
       "      <td>5</td>\n",
       "    </tr>\n",
       "    <tr>\n",
       "      <th>8</th>\n",
       "      <td>Launch a promotion that gives users discounts on their birthdays</td>\n",
       "      <td>1</td>\n",
       "      <td>9</td>\n",
       "      <td>9</td>\n",
       "      <td>5</td>\n",
       "    </tr>\n",
       "  </tbody>\n",
       "</table>\n",
       "</div>"
      ],
      "text/plain": [
       "                                                                                                               Hypothesis  \\\n",
       "0                                             Add two new channels for attracting traffic. This will bring 30% more users   \n",
       "1                                                       Launch your own delivery service. This will shorten delivery time   \n",
       "2          Add product recommendation blocks to the store's site. This will increase conversion and average purchase size   \n",
       "3  Change the category structure. This will increase conversion since users will find the products they want more quickly   \n",
       "4                                        Change the background color on the main page. This will increase user engagement   \n",
       "5                                                     Add a customer review page. This will increase the number of orders   \n",
       "6                                 Show banners with current offers and sales on the main page. This will boost conversion   \n",
       "7                                Add a subscription form to all the main pages. This will help you compile a mailing list   \n",
       "8                                                        Launch a promotion that gives users discounts on their birthdays   \n",
       "\n",
       "   Reach  Impact  Confidence  Effort  \n",
       "0      3      10           8       6  \n",
       "1      2       5           4      10  \n",
       "2      8       3           7       3  \n",
       "3      8       3           3       8  \n",
       "4      3       1           1       1  \n",
       "5      3       2           2       3  \n",
       "6      5       3           8       3  \n",
       "7     10       7           8       5  \n",
       "8      1       9           9       5  "
      ]
     },
     "metadata": {},
     "output_type": "display_data"
    },
    {
     "name": "stdout",
     "output_type": "stream",
     "text": [
      "<class 'pandas.core.frame.DataFrame'>\n",
      "RangeIndex: 9 entries, 0 to 8\n",
      "Data columns (total 5 columns):\n",
      " #   Column      Non-Null Count  Dtype \n",
      "---  ------      --------------  ----- \n",
      " 0   Hypothesis  9 non-null      object\n",
      " 1   Reach       9 non-null      int64 \n",
      " 2   Impact      9 non-null      int64 \n",
      " 3   Confidence  9 non-null      int64 \n",
      " 4   Effort      9 non-null      int64 \n",
      "dtypes: int64(4), object(1)\n",
      "memory usage: 1.6 KB\n"
     ]
    }
   ],
   "source": [
    "# Overview\n",
    "pd.set_option('display.max_colwidth', None)\n",
    "display(hypo)\n",
    "hypo.info(memory_usage='deep')"
   ]
  },
  {
   "cell_type": "markdown",
   "id": "77760d71",
   "metadata": {},
   "source": [
    "### ORDERS:"
   ]
  },
  {
   "cell_type": "code",
   "execution_count": 44,
   "id": "6f981cc0",
   "metadata": {},
   "outputs": [
    {
     "data": {
      "text/html": [
       "<div>\n",
       "<style scoped>\n",
       "    .dataframe tbody tr th:only-of-type {\n",
       "        vertical-align: middle;\n",
       "    }\n",
       "\n",
       "    .dataframe tbody tr th {\n",
       "        vertical-align: top;\n",
       "    }\n",
       "\n",
       "    .dataframe thead th {\n",
       "        text-align: right;\n",
       "    }\n",
       "</style>\n",
       "<table border=\"1\" class=\"dataframe\">\n",
       "  <thead>\n",
       "    <tr style=\"text-align: right;\">\n",
       "      <th></th>\n",
       "      <th>transactionId</th>\n",
       "      <th>visitorId</th>\n",
       "      <th>date</th>\n",
       "      <th>revenue</th>\n",
       "      <th>group</th>\n",
       "    </tr>\n",
       "  </thead>\n",
       "  <tbody>\n",
       "    <tr>\n",
       "      <th>0</th>\n",
       "      <td>3667963787</td>\n",
       "      <td>3312258926</td>\n",
       "      <td>2019-08-15</td>\n",
       "      <td>30.4</td>\n",
       "      <td>B</td>\n",
       "    </tr>\n",
       "    <tr>\n",
       "      <th>1</th>\n",
       "      <td>2804400009</td>\n",
       "      <td>3642806036</td>\n",
       "      <td>2019-08-15</td>\n",
       "      <td>15.2</td>\n",
       "      <td>B</td>\n",
       "    </tr>\n",
       "    <tr>\n",
       "      <th>2</th>\n",
       "      <td>2961555356</td>\n",
       "      <td>4069496402</td>\n",
       "      <td>2019-08-15</td>\n",
       "      <td>10.2</td>\n",
       "      <td>A</td>\n",
       "    </tr>\n",
       "    <tr>\n",
       "      <th>3</th>\n",
       "      <td>3797467345</td>\n",
       "      <td>1196621759</td>\n",
       "      <td>2019-08-15</td>\n",
       "      <td>155.1</td>\n",
       "      <td>B</td>\n",
       "    </tr>\n",
       "    <tr>\n",
       "      <th>4</th>\n",
       "      <td>2282983706</td>\n",
       "      <td>2322279887</td>\n",
       "      <td>2019-08-15</td>\n",
       "      <td>40.5</td>\n",
       "      <td>B</td>\n",
       "    </tr>\n",
       "  </tbody>\n",
       "</table>\n",
       "</div>"
      ],
      "text/plain": [
       "   transactionId   visitorId        date  revenue group\n",
       "0     3667963787  3312258926  2019-08-15     30.4     B\n",
       "1     2804400009  3642806036  2019-08-15     15.2     B\n",
       "2     2961555356  4069496402  2019-08-15     10.2     A\n",
       "3     3797467345  1196621759  2019-08-15    155.1     B\n",
       "4     2282983706  2322279887  2019-08-15     40.5     B"
      ]
     },
     "metadata": {},
     "output_type": "display_data"
    },
    {
     "name": "stdout",
     "output_type": "stream",
     "text": [
      "<class 'pandas.core.frame.DataFrame'>\n",
      "RangeIndex: 1197 entries, 0 to 1196\n",
      "Data columns (total 5 columns):\n",
      " #   Column         Non-Null Count  Dtype  \n",
      "---  ------         --------------  -----  \n",
      " 0   transactionId  1197 non-null   int64  \n",
      " 1   visitorId      1197 non-null   int64  \n",
      " 2   date           1197 non-null   object \n",
      " 3   revenue        1197 non-null   float64\n",
      " 4   group          1197 non-null   object \n",
      "dtypes: float64(1), int64(2), object(2)\n",
      "memory usage: 174.3 KB\n"
     ]
    },
    {
     "data": {
      "text/plain": [
       "None"
      ]
     },
     "metadata": {},
     "output_type": "display_data"
    }
   ],
   "source": [
    "# Overview:\n",
    "\n",
    "display(orders.head(5))\n",
    "display(orders.info(memory_usage='deep'))"
   ]
  },
  {
   "cell_type": "code",
   "execution_count": 45,
   "id": "969eecf3",
   "metadata": {},
   "outputs": [],
   "source": [
    "# Changing id column names to the snake case:\n",
    "\n",
    "orders = orders.rename(columns={'transactionId': 'transaction_id', 'visitorId': 'visitor_id'})"
   ]
  },
  {
   "cell_type": "code",
   "execution_count": 46,
   "id": "a06cc371",
   "metadata": {},
   "outputs": [],
   "source": [
    "# Converting data types:\n",
    "## 'date' > datetime\n",
    "\n",
    "orders['date'] = pd.to_datetime(orders['date'], format='%Y-%m-%d', dayfirst=True)"
   ]
  },
  {
   "cell_type": "code",
   "execution_count": 47,
   "id": "4d2d1d00",
   "metadata": {
    "scrolled": false
   },
   "outputs": [
    {
     "data": {
      "text/html": [
       "<div>\n",
       "<style scoped>\n",
       "    .dataframe tbody tr th:only-of-type {\n",
       "        vertical-align: middle;\n",
       "    }\n",
       "\n",
       "    .dataframe tbody tr th {\n",
       "        vertical-align: top;\n",
       "    }\n",
       "\n",
       "    .dataframe thead th {\n",
       "        text-align: right;\n",
       "    }\n",
       "</style>\n",
       "<table border=\"1\" class=\"dataframe\">\n",
       "  <thead>\n",
       "    <tr style=\"text-align: right;\">\n",
       "      <th></th>\n",
       "      <th>transaction_id</th>\n",
       "      <th>visitor_id</th>\n",
       "      <th>date</th>\n",
       "      <th>revenue</th>\n",
       "      <th>group</th>\n",
       "    </tr>\n",
       "  </thead>\n",
       "  <tbody>\n",
       "    <tr>\n",
       "      <th>703</th>\n",
       "      <td>4293855558</td>\n",
       "      <td>8300375</td>\n",
       "      <td>2019-08-07</td>\n",
       "      <td>30.5</td>\n",
       "      <td>A</td>\n",
       "    </tr>\n",
       "    <tr>\n",
       "      <th>71</th>\n",
       "      <td>3679129301</td>\n",
       "      <td>8300375</td>\n",
       "      <td>2019-08-01</td>\n",
       "      <td>165.7</td>\n",
       "      <td>B</td>\n",
       "    </tr>\n",
       "    <tr>\n",
       "      <th>823</th>\n",
       "      <td>2971973105</td>\n",
       "      <td>199603092</td>\n",
       "      <td>2019-08-27</td>\n",
       "      <td>45.9</td>\n",
       "      <td>A</td>\n",
       "    </tr>\n",
       "    <tr>\n",
       "      <th>246</th>\n",
       "      <td>437656952</td>\n",
       "      <td>199603092</td>\n",
       "      <td>2019-08-02</td>\n",
       "      <td>55.7</td>\n",
       "      <td>B</td>\n",
       "    </tr>\n",
       "    <tr>\n",
       "      <th>26</th>\n",
       "      <td>2223239646</td>\n",
       "      <td>199603092</td>\n",
       "      <td>2019-08-15</td>\n",
       "      <td>55.7</td>\n",
       "      <td>A</td>\n",
       "    </tr>\n",
       "    <tr>\n",
       "      <th>...</th>\n",
       "      <td>...</td>\n",
       "      <td>...</td>\n",
       "      <td>...</td>\n",
       "      <td>...</td>\n",
       "      <td>...</td>\n",
       "    </tr>\n",
       "    <tr>\n",
       "      <th>187</th>\n",
       "      <td>2048878902</td>\n",
       "      <td>4256040402</td>\n",
       "      <td>2019-08-17</td>\n",
       "      <td>25.8</td>\n",
       "      <td>A</td>\n",
       "    </tr>\n",
       "    <tr>\n",
       "      <th>114</th>\n",
       "      <td>1120327437</td>\n",
       "      <td>4256040402</td>\n",
       "      <td>2019-08-01</td>\n",
       "      <td>90.2</td>\n",
       "      <td>A</td>\n",
       "    </tr>\n",
       "    <tr>\n",
       "      <th>60</th>\n",
       "      <td>1421016313</td>\n",
       "      <td>4256040402</td>\n",
       "      <td>2019-08-16</td>\n",
       "      <td>875.5</td>\n",
       "      <td>B</td>\n",
       "    </tr>\n",
       "    <tr>\n",
       "      <th>662</th>\n",
       "      <td>1811671147</td>\n",
       "      <td>4266935830</td>\n",
       "      <td>2019-08-29</td>\n",
       "      <td>1220.2</td>\n",
       "      <td>A</td>\n",
       "    </tr>\n",
       "    <tr>\n",
       "      <th>682</th>\n",
       "      <td>1216533772</td>\n",
       "      <td>4266935830</td>\n",
       "      <td>2019-08-29</td>\n",
       "      <td>1220.2</td>\n",
       "      <td>B</td>\n",
       "    </tr>\n",
       "  </tbody>\n",
       "</table>\n",
       "<p>181 rows × 5 columns</p>\n",
       "</div>"
      ],
      "text/plain": [
       "     transaction_id  visitor_id       date  revenue group\n",
       "703      4293855558     8300375 2019-08-07     30.5     A\n",
       "71       3679129301     8300375 2019-08-01    165.7     B\n",
       "823      2971973105   199603092 2019-08-27     45.9     A\n",
       "246       437656952   199603092 2019-08-02     55.7     B\n",
       "26       2223239646   199603092 2019-08-15     55.7     A\n",
       "..              ...         ...        ...      ...   ...\n",
       "187      2048878902  4256040402 2019-08-17     25.8     A\n",
       "114      1120327437  4256040402 2019-08-01     90.2     A\n",
       "60       1421016313  4256040402 2019-08-16    875.5     B\n",
       "662      1811671147  4266935830 2019-08-29   1220.2     A\n",
       "682      1216533772  4266935830 2019-08-29   1220.2     B\n",
       "\n",
       "[181 rows x 5 columns]"
      ]
     },
     "execution_count": 47,
     "metadata": {},
     "output_type": "execute_result"
    }
   ],
   "source": [
    "# Finding potential entries of inconsistent A/B group splits:\n",
    "\n",
    "## Splitting entries between both a/b groups\n",
    "a_id = orders.query(\"group == 'A'\")\n",
    "b_id = orders.query(\"group == 'B'\")\n",
    "\n",
    "## Table of visitorId's with values in both a/b groups\n",
    "ordersAB = orders[(orders['visitor_id'].isin(a_id['visitor_id'])) & (orders['visitor_id'].isin(b_id['visitor_id']))]\n",
    "ordersAB = ordersAB.sort_values(by='visitor_id')\n",
    "ordersAB"
   ]
  },
  {
   "cell_type": "markdown",
   "id": "cb47f6ab",
   "metadata": {},
   "source": [
    "**We found 181 entries that had inconsistent distribution of their A/B groups.  We unfortunately have to drop them as there is no telling which A/B test group these visitors originated from.**"
   ]
  },
  {
   "cell_type": "code",
   "execution_count": 48,
   "id": "14c6cdde",
   "metadata": {},
   "outputs": [
    {
     "data": {
      "text/plain": [
       "(1016, 5)"
      ]
     },
     "execution_count": 48,
     "metadata": {},
     "output_type": "execute_result"
    }
   ],
   "source": [
    "# Dropping duplicates, obtaining visitor_ids that had inconsistent group distribution\n",
    "\n",
    "ordersAB.drop_duplicates(subset='visitor_id', inplace=True)\n",
    "\n",
    "# Filtering out bad visitor ids:\n",
    "orders = orders.query(\"visitor_id not in @ordersAB.visitor_id\")\n",
    "orders.shape"
   ]
  },
  {
   "cell_type": "markdown",
   "id": "39e6d9b8",
   "metadata": {},
   "source": [
    "### VISITS:"
   ]
  },
  {
   "cell_type": "code",
   "execution_count": 49,
   "id": "996aa849",
   "metadata": {},
   "outputs": [
    {
     "data": {
      "text/html": [
       "<div>\n",
       "<style scoped>\n",
       "    .dataframe tbody tr th:only-of-type {\n",
       "        vertical-align: middle;\n",
       "    }\n",
       "\n",
       "    .dataframe tbody tr th {\n",
       "        vertical-align: top;\n",
       "    }\n",
       "\n",
       "    .dataframe thead th {\n",
       "        text-align: right;\n",
       "    }\n",
       "</style>\n",
       "<table border=\"1\" class=\"dataframe\">\n",
       "  <thead>\n",
       "    <tr style=\"text-align: right;\">\n",
       "      <th></th>\n",
       "      <th>date</th>\n",
       "      <th>group</th>\n",
       "      <th>visits</th>\n",
       "    </tr>\n",
       "  </thead>\n",
       "  <tbody>\n",
       "    <tr>\n",
       "      <th>0</th>\n",
       "      <td>2019-08-01</td>\n",
       "      <td>A</td>\n",
       "      <td>719</td>\n",
       "    </tr>\n",
       "    <tr>\n",
       "      <th>1</th>\n",
       "      <td>2019-08-02</td>\n",
       "      <td>A</td>\n",
       "      <td>619</td>\n",
       "    </tr>\n",
       "    <tr>\n",
       "      <th>2</th>\n",
       "      <td>2019-08-03</td>\n",
       "      <td>A</td>\n",
       "      <td>507</td>\n",
       "    </tr>\n",
       "    <tr>\n",
       "      <th>3</th>\n",
       "      <td>2019-08-04</td>\n",
       "      <td>A</td>\n",
       "      <td>717</td>\n",
       "    </tr>\n",
       "    <tr>\n",
       "      <th>4</th>\n",
       "      <td>2019-08-05</td>\n",
       "      <td>A</td>\n",
       "      <td>756</td>\n",
       "    </tr>\n",
       "  </tbody>\n",
       "</table>\n",
       "</div>"
      ],
      "text/plain": [
       "         date group  visits\n",
       "0  2019-08-01     A     719\n",
       "1  2019-08-02     A     619\n",
       "2  2019-08-03     A     507\n",
       "3  2019-08-04     A     717\n",
       "4  2019-08-05     A     756"
      ]
     },
     "metadata": {},
     "output_type": "display_data"
    },
    {
     "name": "stdout",
     "output_type": "stream",
     "text": [
      "<class 'pandas.core.frame.DataFrame'>\n",
      "RangeIndex: 62 entries, 0 to 61\n",
      "Data columns (total 3 columns):\n",
      " #   Column  Non-Null Count  Dtype \n",
      "---  ------  --------------  ----- \n",
      " 0   date    62 non-null     object\n",
      " 1   group   62 non-null     object\n",
      " 2   visits  62 non-null     int64 \n",
      "dtypes: int64(1), object(2)\n",
      "memory usage: 8.2 KB\n"
     ]
    }
   ],
   "source": [
    "# Overview\n",
    "\n",
    "display(visits.head())\n",
    "visits.info(memory_usage='deep')"
   ]
  },
  {
   "cell_type": "code",
   "execution_count": 50,
   "id": "ff69c540",
   "metadata": {},
   "outputs": [],
   "source": [
    "# Converting date types:\n",
    "## 'date' > datetime\n",
    "\n",
    "visits['date'] = pd.to_datetime(visits['date'], format='%Y-%m-%d', dayfirst=True)"
   ]
  },
  {
   "cell_type": "markdown",
   "id": "21024caf",
   "metadata": {},
   "source": [
    "[Back to Contents](#back)"
   ]
  },
  {
   "cell_type": "markdown",
   "id": "3ed0758b",
   "metadata": {},
   "source": [
    "# 3. Hypotheses Prioritization <a id='hp'></a>"
   ]
  },
  {
   "cell_type": "code",
   "execution_count": 51,
   "id": "2316d137",
   "metadata": {},
   "outputs": [],
   "source": [
    "# Getting category identifiers for our hypotheses:\n",
    "\n",
    "hypo_dict = {\n",
    "    0: 'New Marketing Channels',\n",
    "    1: 'Own Delivery Service',\n",
    "    2: 'Product Reccomendation Blocks',\n",
    "    3: 'New Site Category Structure',\n",
    "    4: 'New Background Color',\n",
    "    5: 'New Review Page',\n",
    "    6: 'Promotional Banners',\n",
    "    7: 'Subscription Form',\n",
    "    8: 'Birthday Discount'\n",
    "}\n",
    "\n",
    "hypo['Initiative'] = hypo.index.map(hypo_dict)"
   ]
  },
  {
   "cell_type": "code",
   "execution_count": 52,
   "id": "2ef0ddc4",
   "metadata": {},
   "outputs": [],
   "source": [
    "# Calculating ICE and RICE frameworks respectively:\n",
    "\n",
    "hypo['ICE'] = hypo.Impact * hypo.Confidence / hypo.Effort\n",
    "hypo['RICE'] = hypo.Reach * hypo.Impact * hypo.Confidence / hypo.Effort"
   ]
  },
  {
   "cell_type": "code",
   "execution_count": 53,
   "id": "a550b041",
   "metadata": {
    "scrolled": false
   },
   "outputs": [
    {
     "name": "stdout",
     "output_type": "stream",
     "text": [
      "\u001b[1m SORTED by ICE\n"
     ]
    },
    {
     "data": {
      "text/html": [
       "<div>\n",
       "<style scoped>\n",
       "    .dataframe tbody tr th:only-of-type {\n",
       "        vertical-align: middle;\n",
       "    }\n",
       "\n",
       "    .dataframe tbody tr th {\n",
       "        vertical-align: top;\n",
       "    }\n",
       "\n",
       "    .dataframe thead th {\n",
       "        text-align: right;\n",
       "    }\n",
       "</style>\n",
       "<table border=\"1\" class=\"dataframe\">\n",
       "  <thead>\n",
       "    <tr style=\"text-align: right;\">\n",
       "      <th></th>\n",
       "      <th>Hypothesis</th>\n",
       "      <th>Reach</th>\n",
       "      <th>Impact</th>\n",
       "      <th>Confidence</th>\n",
       "      <th>Effort</th>\n",
       "      <th>Initiative</th>\n",
       "      <th>ICE</th>\n",
       "      <th>RICE</th>\n",
       "    </tr>\n",
       "  </thead>\n",
       "  <tbody>\n",
       "    <tr>\n",
       "      <th>8</th>\n",
       "      <td>Launch a promotion that gives users discounts on their birthdays</td>\n",
       "      <td>1</td>\n",
       "      <td>9</td>\n",
       "      <td>9</td>\n",
       "      <td>5</td>\n",
       "      <td>Birthday Discount</td>\n",
       "      <td>16.200000</td>\n",
       "      <td>16.2</td>\n",
       "    </tr>\n",
       "    <tr>\n",
       "      <th>0</th>\n",
       "      <td>Add two new channels for attracting traffic. This will bring 30% more users</td>\n",
       "      <td>3</td>\n",
       "      <td>10</td>\n",
       "      <td>8</td>\n",
       "      <td>6</td>\n",
       "      <td>New Marketing Channels</td>\n",
       "      <td>13.333333</td>\n",
       "      <td>40.0</td>\n",
       "    </tr>\n",
       "    <tr>\n",
       "      <th>7</th>\n",
       "      <td>Add a subscription form to all the main pages. This will help you compile a mailing list</td>\n",
       "      <td>10</td>\n",
       "      <td>7</td>\n",
       "      <td>8</td>\n",
       "      <td>5</td>\n",
       "      <td>Subscription Form</td>\n",
       "      <td>11.200000</td>\n",
       "      <td>112.0</td>\n",
       "    </tr>\n",
       "    <tr>\n",
       "      <th>6</th>\n",
       "      <td>Show banners with current offers and sales on the main page. This will boost conversion</td>\n",
       "      <td>5</td>\n",
       "      <td>3</td>\n",
       "      <td>8</td>\n",
       "      <td>3</td>\n",
       "      <td>Promotional Banners</td>\n",
       "      <td>8.000000</td>\n",
       "      <td>40.0</td>\n",
       "    </tr>\n",
       "    <tr>\n",
       "      <th>2</th>\n",
       "      <td>Add product recommendation blocks to the store's site. This will increase conversion and average purchase size</td>\n",
       "      <td>8</td>\n",
       "      <td>3</td>\n",
       "      <td>7</td>\n",
       "      <td>3</td>\n",
       "      <td>Product Reccomendation Blocks</td>\n",
       "      <td>7.000000</td>\n",
       "      <td>56.0</td>\n",
       "    </tr>\n",
       "    <tr>\n",
       "      <th>1</th>\n",
       "      <td>Launch your own delivery service. This will shorten delivery time</td>\n",
       "      <td>2</td>\n",
       "      <td>5</td>\n",
       "      <td>4</td>\n",
       "      <td>10</td>\n",
       "      <td>Own Delivery Service</td>\n",
       "      <td>2.000000</td>\n",
       "      <td>4.0</td>\n",
       "    </tr>\n",
       "    <tr>\n",
       "      <th>5</th>\n",
       "      <td>Add a customer review page. This will increase the number of orders</td>\n",
       "      <td>3</td>\n",
       "      <td>2</td>\n",
       "      <td>2</td>\n",
       "      <td>3</td>\n",
       "      <td>New Review Page</td>\n",
       "      <td>1.333333</td>\n",
       "      <td>4.0</td>\n",
       "    </tr>\n",
       "    <tr>\n",
       "      <th>3</th>\n",
       "      <td>Change the category structure. This will increase conversion since users will find the products they want more quickly</td>\n",
       "      <td>8</td>\n",
       "      <td>3</td>\n",
       "      <td>3</td>\n",
       "      <td>8</td>\n",
       "      <td>New Site Category Structure</td>\n",
       "      <td>1.125000</td>\n",
       "      <td>9.0</td>\n",
       "    </tr>\n",
       "    <tr>\n",
       "      <th>4</th>\n",
       "      <td>Change the background color on the main page. This will increase user engagement</td>\n",
       "      <td>3</td>\n",
       "      <td>1</td>\n",
       "      <td>1</td>\n",
       "      <td>1</td>\n",
       "      <td>New Background Color</td>\n",
       "      <td>1.000000</td>\n",
       "      <td>3.0</td>\n",
       "    </tr>\n",
       "  </tbody>\n",
       "</table>\n",
       "</div>"
      ],
      "text/plain": [
       "                                                                                                               Hypothesis  \\\n",
       "8                                                        Launch a promotion that gives users discounts on their birthdays   \n",
       "0                                             Add two new channels for attracting traffic. This will bring 30% more users   \n",
       "7                                Add a subscription form to all the main pages. This will help you compile a mailing list   \n",
       "6                                 Show banners with current offers and sales on the main page. This will boost conversion   \n",
       "2          Add product recommendation blocks to the store's site. This will increase conversion and average purchase size   \n",
       "1                                                       Launch your own delivery service. This will shorten delivery time   \n",
       "5                                                     Add a customer review page. This will increase the number of orders   \n",
       "3  Change the category structure. This will increase conversion since users will find the products they want more quickly   \n",
       "4                                        Change the background color on the main page. This will increase user engagement   \n",
       "\n",
       "   Reach  Impact  Confidence  Effort                     Initiative  \\\n",
       "8      1       9           9       5              Birthday Discount   \n",
       "0      3      10           8       6         New Marketing Channels   \n",
       "7     10       7           8       5              Subscription Form   \n",
       "6      5       3           8       3            Promotional Banners   \n",
       "2      8       3           7       3  Product Reccomendation Blocks   \n",
       "1      2       5           4      10           Own Delivery Service   \n",
       "5      3       2           2       3                New Review Page   \n",
       "3      8       3           3       8    New Site Category Structure   \n",
       "4      3       1           1       1           New Background Color   \n",
       "\n",
       "         ICE   RICE  \n",
       "8  16.200000   16.2  \n",
       "0  13.333333   40.0  \n",
       "7  11.200000  112.0  \n",
       "6   8.000000   40.0  \n",
       "2   7.000000   56.0  \n",
       "1   2.000000    4.0  \n",
       "5   1.333333    4.0  \n",
       "3   1.125000    9.0  \n",
       "4   1.000000    3.0  "
      ]
     },
     "metadata": {},
     "output_type": "display_data"
    },
    {
     "name": "stdout",
     "output_type": "stream",
     "text": [
      "\n",
      "\u001b[1m SORTED by RICE\n"
     ]
    },
    {
     "data": {
      "text/html": [
       "<div>\n",
       "<style scoped>\n",
       "    .dataframe tbody tr th:only-of-type {\n",
       "        vertical-align: middle;\n",
       "    }\n",
       "\n",
       "    .dataframe tbody tr th {\n",
       "        vertical-align: top;\n",
       "    }\n",
       "\n",
       "    .dataframe thead th {\n",
       "        text-align: right;\n",
       "    }\n",
       "</style>\n",
       "<table border=\"1\" class=\"dataframe\">\n",
       "  <thead>\n",
       "    <tr style=\"text-align: right;\">\n",
       "      <th></th>\n",
       "      <th>Hypothesis</th>\n",
       "      <th>Reach</th>\n",
       "      <th>Impact</th>\n",
       "      <th>Confidence</th>\n",
       "      <th>Effort</th>\n",
       "      <th>Initiative</th>\n",
       "      <th>ICE</th>\n",
       "      <th>RICE</th>\n",
       "    </tr>\n",
       "  </thead>\n",
       "  <tbody>\n",
       "    <tr>\n",
       "      <th>7</th>\n",
       "      <td>Add a subscription form to all the main pages. This will help you compile a mailing list</td>\n",
       "      <td>10</td>\n",
       "      <td>7</td>\n",
       "      <td>8</td>\n",
       "      <td>5</td>\n",
       "      <td>Subscription Form</td>\n",
       "      <td>11.200000</td>\n",
       "      <td>112.0</td>\n",
       "    </tr>\n",
       "    <tr>\n",
       "      <th>2</th>\n",
       "      <td>Add product recommendation blocks to the store's site. This will increase conversion and average purchase size</td>\n",
       "      <td>8</td>\n",
       "      <td>3</td>\n",
       "      <td>7</td>\n",
       "      <td>3</td>\n",
       "      <td>Product Reccomendation Blocks</td>\n",
       "      <td>7.000000</td>\n",
       "      <td>56.0</td>\n",
       "    </tr>\n",
       "    <tr>\n",
       "      <th>0</th>\n",
       "      <td>Add two new channels for attracting traffic. This will bring 30% more users</td>\n",
       "      <td>3</td>\n",
       "      <td>10</td>\n",
       "      <td>8</td>\n",
       "      <td>6</td>\n",
       "      <td>New Marketing Channels</td>\n",
       "      <td>13.333333</td>\n",
       "      <td>40.0</td>\n",
       "    </tr>\n",
       "    <tr>\n",
       "      <th>6</th>\n",
       "      <td>Show banners with current offers and sales on the main page. This will boost conversion</td>\n",
       "      <td>5</td>\n",
       "      <td>3</td>\n",
       "      <td>8</td>\n",
       "      <td>3</td>\n",
       "      <td>Promotional Banners</td>\n",
       "      <td>8.000000</td>\n",
       "      <td>40.0</td>\n",
       "    </tr>\n",
       "    <tr>\n",
       "      <th>8</th>\n",
       "      <td>Launch a promotion that gives users discounts on their birthdays</td>\n",
       "      <td>1</td>\n",
       "      <td>9</td>\n",
       "      <td>9</td>\n",
       "      <td>5</td>\n",
       "      <td>Birthday Discount</td>\n",
       "      <td>16.200000</td>\n",
       "      <td>16.2</td>\n",
       "    </tr>\n",
       "    <tr>\n",
       "      <th>3</th>\n",
       "      <td>Change the category structure. This will increase conversion since users will find the products they want more quickly</td>\n",
       "      <td>8</td>\n",
       "      <td>3</td>\n",
       "      <td>3</td>\n",
       "      <td>8</td>\n",
       "      <td>New Site Category Structure</td>\n",
       "      <td>1.125000</td>\n",
       "      <td>9.0</td>\n",
       "    </tr>\n",
       "    <tr>\n",
       "      <th>1</th>\n",
       "      <td>Launch your own delivery service. This will shorten delivery time</td>\n",
       "      <td>2</td>\n",
       "      <td>5</td>\n",
       "      <td>4</td>\n",
       "      <td>10</td>\n",
       "      <td>Own Delivery Service</td>\n",
       "      <td>2.000000</td>\n",
       "      <td>4.0</td>\n",
       "    </tr>\n",
       "    <tr>\n",
       "      <th>5</th>\n",
       "      <td>Add a customer review page. This will increase the number of orders</td>\n",
       "      <td>3</td>\n",
       "      <td>2</td>\n",
       "      <td>2</td>\n",
       "      <td>3</td>\n",
       "      <td>New Review Page</td>\n",
       "      <td>1.333333</td>\n",
       "      <td>4.0</td>\n",
       "    </tr>\n",
       "    <tr>\n",
       "      <th>4</th>\n",
       "      <td>Change the background color on the main page. This will increase user engagement</td>\n",
       "      <td>3</td>\n",
       "      <td>1</td>\n",
       "      <td>1</td>\n",
       "      <td>1</td>\n",
       "      <td>New Background Color</td>\n",
       "      <td>1.000000</td>\n",
       "      <td>3.0</td>\n",
       "    </tr>\n",
       "  </tbody>\n",
       "</table>\n",
       "</div>"
      ],
      "text/plain": [
       "                                                                                                               Hypothesis  \\\n",
       "7                                Add a subscription form to all the main pages. This will help you compile a mailing list   \n",
       "2          Add product recommendation blocks to the store's site. This will increase conversion and average purchase size   \n",
       "0                                             Add two new channels for attracting traffic. This will bring 30% more users   \n",
       "6                                 Show banners with current offers and sales on the main page. This will boost conversion   \n",
       "8                                                        Launch a promotion that gives users discounts on their birthdays   \n",
       "3  Change the category structure. This will increase conversion since users will find the products they want more quickly   \n",
       "1                                                       Launch your own delivery service. This will shorten delivery time   \n",
       "5                                                     Add a customer review page. This will increase the number of orders   \n",
       "4                                        Change the background color on the main page. This will increase user engagement   \n",
       "\n",
       "   Reach  Impact  Confidence  Effort                     Initiative  \\\n",
       "7     10       7           8       5              Subscription Form   \n",
       "2      8       3           7       3  Product Reccomendation Blocks   \n",
       "0      3      10           8       6         New Marketing Channels   \n",
       "6      5       3           8       3            Promotional Banners   \n",
       "8      1       9           9       5              Birthday Discount   \n",
       "3      8       3           3       8    New Site Category Structure   \n",
       "1      2       5           4      10           Own Delivery Service   \n",
       "5      3       2           2       3                New Review Page   \n",
       "4      3       1           1       1           New Background Color   \n",
       "\n",
       "         ICE   RICE  \n",
       "7  11.200000  112.0  \n",
       "2   7.000000   56.0  \n",
       "0  13.333333   40.0  \n",
       "6   8.000000   40.0  \n",
       "8  16.200000   16.2  \n",
       "3   1.125000    9.0  \n",
       "1   2.000000    4.0  \n",
       "5   1.333333    4.0  \n",
       "4   1.000000    3.0  "
      ]
     },
     "execution_count": 53,
     "metadata": {},
     "output_type": "execute_result"
    }
   ],
   "source": [
    "# Visualizing top hypotheses by ICE and RICE frameworks respectively:\n",
    "\n",
    "print(\"\\033[1m SORTED by ICE\")\n",
    "display(hypo.sort_values('ICE', ascending=False))\n",
    "print()\n",
    "print(\"\\033[1m SORTED by RICE\")\n",
    "hypo.sort_values('RICE', ascending=False)"
   ]
  },
  {
   "cell_type": "code",
   "execution_count": 54,
   "id": "488f6716",
   "metadata": {
    "scrolled": false
   },
   "outputs": [
    {
     "data": {
      "image/png": "[encoded data removed]",
      "text/plain": [
       "<Figure size 600x400 with 1 Axes>"
      ]
     },
     "metadata": {},
     "output_type": "display_data"
    }
   ],
   "source": [
    "# Visualizing ICE and RICE prioritization:\n",
    "\n",
    "plt.figure(figsize=(6,4))\n",
    "\n",
    "sns.scatterplot(x='ICE', y='RICE', data=hypo, hue='Initiative', palette='bright')\n",
    "\n",
    "plt.title('ICE to RICE Comparisons')\n",
    "plt.legend(loc='center left', bbox_to_anchor=(1.1, 0.5), ncol=1)\n",
    "\n",
    "plt.show()"
   ]
  },
  {
   "cell_type": "markdown",
   "id": "6f79c33b",
   "metadata": {},
   "source": [
    "**INTERMEDIATE CONCLUSION:**\n",
    "<br><br>\n",
    "Our top 3 ICE hypotheses and observations:\n",
    "1. **Launching  birthday discount promotion** - This has a great Impact and Confidence rating as it is almost a certainty to ignite recurring purchases for visitors who have already converted. \n",
    "2. **Adding two new channels for increased website traffic** - This has the greatest Impact rating as it opens up new population markets that wasn't being catered to\n",
    "3. **Adding a subscription form to allow for email-marketing** - This has a substantial Impact and Confidence rating as it aid in building customer engagement and relationship.\n",
    "<br><br>\n",
    "\n",
    "Adding the reach parameter to our ICE framework significantly changes the hierachy for prioritization. Our top 4 RICE hypotheses and observations:\n",
    "1. **Adding a subscription form to allow for email-marketing** - This marketing initiative came in at no.1 in our RICE framework purely because it has the biggest Reach rating. Building a customer information database allows for direct targeting of users who already have us in their brand repertoire and enables re-targeting of past customers to increase retention rates.\n",
    "2. **Adding product recommendation blocks** - 2nd on our list, but 5th in the ICE framework. This initiative has low Impact but high Reach ratings. Recommendation blocks allow us to better ease prospective customers along the marketing funnel with better relevancy of products they already know they want/need. Moreover, we also have to consider the fact that Effort rating is low, which means it is cost-effective to implement.\n",
    "3. **Adding two new channels for increased website traffic** - This initiative came in 1 spot down compared to the ICE framework, due to the fact is has a pretty low Reach rating. However, the Impact component is a huge boon as this initiative will single-handedly create customer awareness for populations that were previously not targeted whatsoever. In essence then, this is quality over quantity.\n",
    "4. **Adding promotional banners to show current sales and offers** - This brings value added offerings to the forefront which will lead to better conversion of both customers who are already in-market and those who are of the browsing nature.\n",
    "<br>\n",
    "<br>\n",
    "**As an online platform, we are much more concerned about the reach of our marketing initiatives. The RICE framework caters to that and allows us to differentiate between 'big impact for a small audience' vs 'small impact for a big audience'.** "
   ]
  },
  {
   "cell_type": "markdown",
   "id": "2f42eff4",
   "metadata": {},
   "source": [
    "[Back to Contents](#back)"
   ]
  },
  {
   "cell_type": "markdown",
   "id": "eeb9830d",
   "metadata": {},
   "source": [
    "# 4. A/B Testing Analysis <a id='ab'></a>"
   ]
  },
  {
   "cell_type": "markdown",
   "id": "336a2b33",
   "metadata": {},
   "source": [
    "### 4.1. Calculating Aggregated Cumulative Data <a id='ab1'></a>"
   ]
  },
  {
   "cell_type": "code",
   "execution_count": 55,
   "id": "6f80fff6",
   "metadata": {
    "scrolled": false
   },
   "outputs": [],
   "source": [
    "# Constructing an array of unique paired date-group values\n",
    "datesGroups = orders[['date', 'group']].drop_duplicates()\n",
    "\n",
    "# Daily cumulative aggregated data on ORDERS:\n",
    "ordersAgg = (datesGroups\n",
    "             .apply(lambda x: orders[np.logical_and(orders['date'] <= x['date'], orders['group'] == x['group'])]\n",
    "                    .agg({'date': 'max', 'group': 'max', 'transaction_id': 'nunique', 'visitor_id': 'nunique', 'revenue': 'sum'}),\n",
    "                    axis=1)\n",
    "             .sort_values(by=['date', 'group'])\n",
    "            )\n",
    "\n",
    "# Daily cumulative aggregated data on VISITS:\n",
    "visitsAgg = (datesGroups\n",
    "             .apply(lambda x: visits[np.logical_and(visits['date'] <= x['date'], visits['group'] == x['group'])]\n",
    "                   .agg({'date': 'max', 'group': 'max', 'visits': 'sum'}),\n",
    "                   axis=1)\n",
    "             .sort_values(by=['date', 'group'])\n",
    "            )"
   ]
  },
  {
   "cell_type": "code",
   "execution_count": 56,
   "id": "4010beea",
   "metadata": {},
   "outputs": [
    {
     "data": {
      "text/html": [
       "<div>\n",
       "<style scoped>\n",
       "    .dataframe tbody tr th:only-of-type {\n",
       "        vertical-align: middle;\n",
       "    }\n",
       "\n",
       "    .dataframe tbody tr th {\n",
       "        vertical-align: top;\n",
       "    }\n",
       "\n",
       "    .dataframe thead th {\n",
       "        text-align: right;\n",
       "    }\n",
       "</style>\n",
       "<table border=\"1\" class=\"dataframe\">\n",
       "  <thead>\n",
       "    <tr style=\"text-align: right;\">\n",
       "      <th></th>\n",
       "      <th>date</th>\n",
       "      <th>group</th>\n",
       "      <th>transactions</th>\n",
       "      <th>buyers</th>\n",
       "      <th>revenue</th>\n",
       "      <th>visits</th>\n",
       "    </tr>\n",
       "  </thead>\n",
       "  <tbody>\n",
       "    <tr>\n",
       "      <th>0</th>\n",
       "      <td>2019-08-01</td>\n",
       "      <td>A</td>\n",
       "      <td>23</td>\n",
       "      <td>19</td>\n",
       "      <td>2266.6</td>\n",
       "      <td>719</td>\n",
       "    </tr>\n",
       "    <tr>\n",
       "      <th>1</th>\n",
       "      <td>2019-08-01</td>\n",
       "      <td>B</td>\n",
       "      <td>17</td>\n",
       "      <td>17</td>\n",
       "      <td>967.2</td>\n",
       "      <td>713</td>\n",
       "    </tr>\n",
       "    <tr>\n",
       "      <th>2</th>\n",
       "      <td>2019-08-02</td>\n",
       "      <td>A</td>\n",
       "      <td>42</td>\n",
       "      <td>36</td>\n",
       "      <td>3734.9</td>\n",
       "      <td>1338</td>\n",
       "    </tr>\n",
       "    <tr>\n",
       "      <th>3</th>\n",
       "      <td>2019-08-02</td>\n",
       "      <td>B</td>\n",
       "      <td>40</td>\n",
       "      <td>39</td>\n",
       "      <td>3535.3</td>\n",
       "      <td>1294</td>\n",
       "    </tr>\n",
       "    <tr>\n",
       "      <th>4</th>\n",
       "      <td>2019-08-03</td>\n",
       "      <td>A</td>\n",
       "      <td>66</td>\n",
       "      <td>60</td>\n",
       "      <td>5550.1</td>\n",
       "      <td>1845</td>\n",
       "    </tr>\n",
       "    <tr>\n",
       "      <th>5</th>\n",
       "      <td>2019-08-03</td>\n",
       "      <td>B</td>\n",
       "      <td>54</td>\n",
       "      <td>53</td>\n",
       "      <td>4606.9</td>\n",
       "      <td>1803</td>\n",
       "    </tr>\n",
       "    <tr>\n",
       "      <th>6</th>\n",
       "      <td>2019-08-04</td>\n",
       "      <td>A</td>\n",
       "      <td>77</td>\n",
       "      <td>71</td>\n",
       "      <td>6225.6</td>\n",
       "      <td>2562</td>\n",
       "    </tr>\n",
       "    <tr>\n",
       "      <th>7</th>\n",
       "      <td>2019-08-04</td>\n",
       "      <td>B</td>\n",
       "      <td>68</td>\n",
       "      <td>66</td>\n",
       "      <td>6138.5</td>\n",
       "      <td>2573</td>\n",
       "    </tr>\n",
       "    <tr>\n",
       "      <th>8</th>\n",
       "      <td>2019-08-05</td>\n",
       "      <td>A</td>\n",
       "      <td>99</td>\n",
       "      <td>92</td>\n",
       "      <td>7623.6</td>\n",
       "      <td>3318</td>\n",
       "    </tr>\n",
       "    <tr>\n",
       "      <th>9</th>\n",
       "      <td>2019-08-05</td>\n",
       "      <td>B</td>\n",
       "      <td>89</td>\n",
       "      <td>87</td>\n",
       "      <td>7587.8</td>\n",
       "      <td>3280</td>\n",
       "    </tr>\n",
       "  </tbody>\n",
       "</table>\n",
       "</div>"
      ],
      "text/plain": [
       "        date group  transactions  buyers  revenue  visits\n",
       "0 2019-08-01     A            23      19   2266.6     719\n",
       "1 2019-08-01     B            17      17    967.2     713\n",
       "2 2019-08-02     A            42      36   3734.9    1338\n",
       "3 2019-08-02     B            40      39   3535.3    1294\n",
       "4 2019-08-03     A            66      60   5550.1    1845\n",
       "5 2019-08-03     B            54      53   4606.9    1803\n",
       "6 2019-08-04     A            77      71   6225.6    2562\n",
       "7 2019-08-04     B            68      66   6138.5    2573\n",
       "8 2019-08-05     A            99      92   7623.6    3318\n",
       "9 2019-08-05     B            89      87   7587.8    3280"
      ]
     },
     "execution_count": 56,
     "metadata": {},
     "output_type": "execute_result"
    }
   ],
   "source": [
    "# Merging aggregated data:\n",
    "\n",
    "cumulativeData = ordersAgg.merge(visitsAgg, on=['date', 'group'])\n",
    "cumulativeData.columns = ['date', 'group', 'transactions', 'buyers', 'revenue', 'visits']\n",
    "\n",
    "cumulativeData.head(10)"
   ]
  },
  {
   "cell_type": "markdown",
   "id": "2a5955e6",
   "metadata": {},
   "source": [
    "[Back to Contents](#back)"
   ]
  },
  {
   "cell_type": "markdown",
   "id": "4aad70cf",
   "metadata": {},
   "source": [
    "### 4.2. Cumulative Revenue by Group <a id='ab2'></a>"
   ]
  },
  {
   "cell_type": "code",
   "execution_count": 57,
   "id": "b4691505",
   "metadata": {},
   "outputs": [],
   "source": [
    "# Splitting cumulative orders by group A/group B\n",
    "\n",
    "cumulativeOrdersA = cumulativeData[cumulativeData['group'] == 'A'][['date', 'transactions', 'revenue']]\n",
    "cumulativeOrdersB = cumulativeData[cumulativeData['group'] == 'B'][['date', 'transactions', 'revenue']]"
   ]
  },
  {
   "cell_type": "code",
   "execution_count": 58,
   "id": "cdb8e91b",
   "metadata": {},
   "outputs": [
    {
     "data": {
      "image/png": "[encoded data removed]",
      "text/plain": [
       "<Figure size 640x480 with 1 Axes>"
      ]
     },
     "metadata": {},
     "output_type": "display_data"
    }
   ],
   "source": [
    "# Plotting cumulative Revenue for both test groups:\n",
    "\n",
    "plt.plot(cumulativeOrdersA['date'], cumulativeOrdersA['revenue'], label='A')\n",
    "plt.plot(cumulativeOrdersB['date'], cumulativeOrdersB['revenue'], label='B')\n",
    "\n",
    "plt.title('Cumulative Revenue by Test Group', fontsize=11)\n",
    "plt.legend()\n",
    "plt.xlabel('Date')\n",
    "plt.ylabel('Revenue($)')\n",
    "plt.xticks(rotation=45)\n",
    "\n",
    "plt.show()"
   ]
  },
  {
   "cell_type": "markdown",
   "id": "816fd81a",
   "metadata": {},
   "source": [
    "**Intermediate Conclusion:** For the most part, revenue for our test group is consistently higher than our control group. However, it is prudent to note that there is an enormous spike observed at around the 17th Aug mark. This is an evident outlier and could be caused by a surge in large and/or expensive orders."
   ]
  },
  {
   "cell_type": "markdown",
   "id": "22ea1d86",
   "metadata": {},
   "source": [
    "[Back to Contents](#back)"
   ]
  },
  {
   "cell_type": "markdown",
   "id": "10961a9f",
   "metadata": {},
   "source": [
    "### 4.3. Cumulative Average Order Size by Group <a id='ab3'></a>"
   ]
  },
  {
   "cell_type": "code",
   "execution_count": 59,
   "id": "bb163e6f",
   "metadata": {},
   "outputs": [
    {
     "data": {
      "image/png": "[encoded data removed]",
      "text/plain": [
       "<Figure size 640x480 with 1 Axes>"
      ]
     },
     "metadata": {},
     "output_type": "display_data"
    }
   ],
   "source": [
    "# Plotting average order size for each test group:\n",
    "\n",
    "plt.plot(cumulativeOrdersA['date'], (cumulativeOrdersA['revenue'] / cumulativeOrdersA['transactions']), label='A')\n",
    "plt.plot(cumulativeOrdersB['date'], (cumulativeOrdersB['revenue'] / cumulativeOrdersB['transactions']), label='B')\n",
    "\n",
    "plt.title('Cumulative Avg Order Size by Test Group')\n",
    "plt.legend(loc='upper left')\n",
    "plt.xlabel('Date')\n",
    "plt.ylabel('Revenue($)')\n",
    "plt.xticks(rotation=45)\n",
    "plt.show()"
   ]
  },
  {
   "cell_type": "markdown",
   "id": "2bffb36d",
   "metadata": {},
   "source": [
    "**Intermediate Conclusion:** We can definitely observe lots of fluctuations throughout the first half of the month between both groups. Our control group seems to stabilize roughly from the middle of the month onwards, but our test group showed a substantial spike around the same time. Its clear that outliers are the cause for the spike and thus, this plot does not have conclusive value as of yet."
   ]
  },
  {
   "cell_type": "markdown",
   "id": "fdbc2956",
   "metadata": {},
   "source": [
    "[Back to Contents](#back)"
   ]
  },
  {
   "cell_type": "markdown",
   "id": "55191207",
   "metadata": {},
   "source": [
    "### 4.4. Relative Difference in Cumulative Average Order Size <a id='ab4'></a>"
   ]
  },
  {
   "cell_type": "code",
   "execution_count": 60,
   "id": "ecd4df89",
   "metadata": {},
   "outputs": [],
   "source": [
    "# Merging cumulative orders of both groups for relative difference calculations:\n",
    "\n",
    "cumulativeOrdersMerged = cumulativeOrdersA.merge(cumulativeOrdersB, on='date', suffixes=['A', 'B'])"
   ]
  },
  {
   "cell_type": "code",
   "execution_count": 61,
   "id": "75bbcd86",
   "metadata": {},
   "outputs": [
    {
     "data": {
      "image/png": "[encoded data removed]",
      "text/plain": [
       "<Figure size 640x480 with 1 Axes>"
      ]
     },
     "metadata": {},
     "output_type": "display_data"
    }
   ],
   "source": [
    "# Plotting relative difference in cumulative avg order size of group B compared to group A:\n",
    "\n",
    "plt.plot(cumulativeOrdersMerged['date'], \n",
    "         (cumulativeOrdersMerged['revenueB'] / cumulativeOrdersMerged['transactionsB'])\n",
    "        /\n",
    "        (cumulativeOrdersMerged['revenueA'] / cumulativeOrdersMerged['transactionsA'])\n",
    "        - 1\n",
    "        )\n",
    "\n",
    "plt.axhline(y=0, color='black', linestyle='--') \n",
    "\n",
    "plt.title('Relative Difference in Cumulative Avg Order Size | Group B: Group A', fontsize=11)\n",
    "plt.xticks(rotation=45)\n",
    "plt.show()"
   ]
  },
  {
   "cell_type": "markdown",
   "id": "c4161b66",
   "metadata": {},
   "source": [
    "**Intermediate Conclusion:** Yet again, there are major spikes in favor of our test group, B. There is almost a certainty outliers of immensely big orders have a role to play in this. Moreover, there doesn't seem to be any semblance of stability whatsoever throughout the graph."
   ]
  },
  {
   "cell_type": "markdown",
   "id": "171ef3fb",
   "metadata": {},
   "source": [
    "[Back to Contents](#back)"
   ]
  },
  {
   "cell_type": "markdown",
   "id": "b9770400",
   "metadata": {},
   "source": [
    "### 4.5. Cumulative Conversion Rate by Group <a id='ab5'></a>"
   ]
  },
  {
   "cell_type": "code",
   "execution_count": 62,
   "id": "3745ab3f",
   "metadata": {},
   "outputs": [],
   "source": [
    "# Calculating conversion rates as the ratio of orders to the number of visits each day:\n",
    "cumulativeData['conversion'] = cumulativeData['transactions'] / cumulativeData['visits']\n",
    "\n",
    "# Splitting cumulative data by Group A/Group B:\n",
    "cumulativeDataA = cumulativeData[cumulativeData['group'] == 'A']\n",
    "cumulativeDataB = cumulativeData[cumulativeData['group'] == 'B']"
   ]
  },
  {
   "cell_type": "code",
   "execution_count": 63,
   "id": "d4d4a2ab",
   "metadata": {
    "scrolled": false
   },
   "outputs": [
    {
     "data": {
      "image/png": "[encoded data removed]",
      "text/plain": [
       "<Figure size 640x480 with 1 Axes>"
      ]
     },
     "metadata": {},
     "output_type": "display_data"
    }
   ],
   "source": [
    "# Plotting cumulative conversion for each group:\n",
    "\n",
    "plt.plot(cumulativeDataA['date'], cumulativeDataA['conversion'], label='A')\n",
    "plt.plot(cumulativeDataB['date'], cumulativeDataB['conversion'], label='B')\n",
    "\n",
    "plt.title('Cumulative Conversion Rate by Group')\n",
    "plt.legend()\n",
    "plt.xlabel('Date')\n",
    "plt.ylabel('Conversion Rate')\n",
    "plt.xticks(rotation=45)\n",
    "\n",
    "plt.axis([pd.to_datetime('2019-07-31'), pd.to_datetime('2019-09-01'), 0.02, 0.04]) \n",
    "plt.show()"
   ]
  },
  {
   "cell_type": "code",
   "execution_count": 64,
   "id": "be388148",
   "metadata": {},
   "outputs": [],
   "source": [
    "# Merging conversions of group A and group B:\n",
    "\n",
    "cumulativeConversion = (cumulativeDataA[['date', 'conversion']]\n",
    "                        .merge(cumulativeDataB[['date', 'conversion']], on='date', suffixes=['_A', '_B'])) "
   ]
  },
  {
   "cell_type": "code",
   "execution_count": 65,
   "id": "21627df1",
   "metadata": {},
   "outputs": [
    {
     "data": {
      "image/png": "[encoded data removed]",
      "text/plain": [
       "<Figure size 640x480 with 1 Axes>"
      ]
     },
     "metadata": {},
     "output_type": "display_data"
    }
   ],
   "source": [
    "# Plotting relative difference in relative cumulative conversion rate of group B compared to group A:\n",
    "\n",
    "\n",
    "plt.plot(cumulativeConversion['date'], cumulativeConversion['conversion_B'] / cumulativeConversion['conversion_A'] - 1)\n",
    "\n",
    "plt.axhline(y=0, color='black', linestyle='--') \n",
    "\n",
    "plt.title('Relative Difference in Cumulative Conversion Rate | Group B: Group A', fontsize=11)\n",
    "plt.xticks(rotation=45)\n",
    "plt.show()"
   ]
  },
  {
   "cell_type": "markdown",
   "id": "28ba983e",
   "metadata": {},
   "source": [
    "**Intermediate Conclusion:** Group A, our control group had a higher conversion rate at the start of our test. However, group B quickly took the lead in the first week of our test and shows stablization from the middle of the month onwards. In a vacuum, our test group, B seems to be converting doing a better job in the conversion metric when compared to our control group, A."
   ]
  },
  {
   "cell_type": "markdown",
   "id": "28ec6c69",
   "metadata": {},
   "source": [
    "[Back to Contents](#back)"
   ]
  },
  {
   "cell_type": "markdown",
   "id": "34e9c9c8",
   "metadata": {},
   "source": [
    "### 4.6. Checking for Outliers: Orders per User <a id='ab6'></a>"
   ]
  },
  {
   "cell_type": "code",
   "execution_count": 66,
   "id": "9fc9d2be",
   "metadata": {},
   "outputs": [
    {
     "data": {
      "text/html": [
       "<div>\n",
       "<style scoped>\n",
       "    .dataframe tbody tr th:only-of-type {\n",
       "        vertical-align: middle;\n",
       "    }\n",
       "\n",
       "    .dataframe tbody tr th {\n",
       "        vertical-align: top;\n",
       "    }\n",
       "\n",
       "    .dataframe thead th {\n",
       "        text-align: right;\n",
       "    }\n",
       "</style>\n",
       "<table border=\"1\" class=\"dataframe\">\n",
       "  <thead>\n",
       "    <tr style=\"text-align: right;\">\n",
       "      <th></th>\n",
       "      <th>visitor_id</th>\n",
       "      <th>orders</th>\n",
       "    </tr>\n",
       "  </thead>\n",
       "  <tbody>\n",
       "    <tr>\n",
       "      <th>908</th>\n",
       "      <td>3967698036</td>\n",
       "      <td>3</td>\n",
       "    </tr>\n",
       "    <tr>\n",
       "      <th>55</th>\n",
       "      <td>249864742</td>\n",
       "      <td>3</td>\n",
       "    </tr>\n",
       "    <tr>\n",
       "      <th>478</th>\n",
       "      <td>2108163459</td>\n",
       "      <td>3</td>\n",
       "    </tr>\n",
       "    <tr>\n",
       "      <th>687</th>\n",
       "      <td>2988190573</td>\n",
       "      <td>3</td>\n",
       "    </tr>\n",
       "    <tr>\n",
       "      <th>890</th>\n",
       "      <td>3908431265</td>\n",
       "      <td>3</td>\n",
       "    </tr>\n",
       "    <tr>\n",
       "      <th>138</th>\n",
       "      <td>611059232</td>\n",
       "      <td>3</td>\n",
       "    </tr>\n",
       "    <tr>\n",
       "      <th>632</th>\n",
       "      <td>2742574263</td>\n",
       "      <td>3</td>\n",
       "    </tr>\n",
       "    <tr>\n",
       "      <th>157</th>\n",
       "      <td>678354126</td>\n",
       "      <td>2</td>\n",
       "    </tr>\n",
       "    <tr>\n",
       "      <th>323</th>\n",
       "      <td>1404560065</td>\n",
       "      <td>2</td>\n",
       "    </tr>\n",
       "    <tr>\n",
       "      <th>452</th>\n",
       "      <td>1985475298</td>\n",
       "      <td>2</td>\n",
       "    </tr>\n",
       "    <tr>\n",
       "      <th>118</th>\n",
       "      <td>522292794</td>\n",
       "      <td>2</td>\n",
       "    </tr>\n",
       "    <tr>\n",
       "      <th>628</th>\n",
       "      <td>2733145037</td>\n",
       "      <td>2</td>\n",
       "    </tr>\n",
       "    <tr>\n",
       "      <th>634</th>\n",
       "      <td>2744017357</td>\n",
       "      <td>2</td>\n",
       "    </tr>\n",
       "    <tr>\n",
       "      <th>407</th>\n",
       "      <td>1772171838</td>\n",
       "      <td>2</td>\n",
       "    </tr>\n",
       "    <tr>\n",
       "      <th>548</th>\n",
       "      <td>2397843657</td>\n",
       "      <td>2</td>\n",
       "    </tr>\n",
       "  </tbody>\n",
       "</table>\n",
       "</div>"
      ],
      "text/plain": [
       "     visitor_id  orders\n",
       "908  3967698036       3\n",
       "55    249864742       3\n",
       "478  2108163459       3\n",
       "687  2988190573       3\n",
       "890  3908431265       3\n",
       "138   611059232       3\n",
       "632  2742574263       3\n",
       "157   678354126       2\n",
       "323  1404560065       2\n",
       "452  1985475298       2\n",
       "118   522292794       2\n",
       "628  2733145037       2\n",
       "634  2744017357       2\n",
       "407  1772171838       2\n",
       "548  2397843657       2"
      ]
     },
     "execution_count": 66,
     "metadata": {},
     "output_type": "execute_result"
    }
   ],
   "source": [
    "# aggreating number of unique transactions for each unique visitor:\n",
    "ordersByVisitor = (orders\n",
    "                   .groupby('visitor_id', as_index=False)\n",
    "                   .agg({'transaction_id': 'nunique'})\n",
    "                  )\n",
    "ordersByVisitor.columns = ['visitor_id', 'orders']\n",
    "\n",
    "# sorting by number of orders to find visitors with substantially more orders than the avg:\n",
    "ordersByVisitor.sort_values('orders', ascending=False).head(15)"
   ]
  },
  {
   "cell_type": "code",
   "execution_count": 67,
   "id": "b6dfa8a3",
   "metadata": {},
   "outputs": [
    {
     "data": {
      "image/png": "[encoded data removed]",
      "text/plain": [
       "<Figure size 640x480 with 1 Axes>"
      ]
     },
     "metadata": {},
     "output_type": "display_data"
    }
   ],
   "source": [
    "# Plotting a scatterplot to visualize observed outliers:\n",
    "\n",
    "plt.scatter(pd.Series(range(len(ordersByVisitor))), ordersByVisitor['orders'])\n",
    "\n",
    "plt.title('Number of Orders per Visitor', fontsize=10.5)\n",
    "plt.ylabel('Order Volume')\n",
    "plt.show()"
   ]
  },
  {
   "cell_type": "markdown",
   "id": "8e0aea9c",
   "metadata": {},
   "source": [
    "**Observations:** It is clear from our scatterplot that the average order volume per user over the course of a 1 month test period is 1. Anything above that are considerable anomalies and outliers. This observation also explains our spikes in our analysis on cumulative revenue."
   ]
  },
  {
   "cell_type": "code",
   "execution_count": 68,
   "id": "3323ed9f",
   "metadata": {
    "scrolled": true
   },
   "outputs": [
    {
     "name": "stdout",
     "output_type": "stream",
     "text": [
      "90th Percentile Order Volume: 1.0\n",
      "95th Percentile Order Volume: 1.0\n",
      "99th Percentile Order Volume: 2.0\n"
     ]
    }
   ],
   "source": [
    "# Calculating the 90th, 95th and 99th percentile values for our buyers:\n",
    "\n",
    "percen = np.percentile(ordersByVisitor['orders'], [90, 95, 99])\n",
    "print(f\"90th Percentile Order Volume: {percen[0]}\")\n",
    "print(f\"95th Percentile Order Volume: {percen[1]}\")\n",
    "print(f\"99th Percentile Order Volume: {percen[2].round(1)}\")\n"
   ]
  },
  {
   "cell_type": "markdown",
   "id": "6cea1b72",
   "metadata": {},
   "source": [
    "**Intermediate Conclusion:** Taking 99th percentile as our threshold for anomalies, our prior observations hold true in that we have some anomalies in customer who order more than the average(1)."
   ]
  },
  {
   "cell_type": "markdown",
   "id": "abd3fed0",
   "metadata": {},
   "source": [
    "[Back to Contents](#back)"
   ]
  },
  {
   "cell_type": "markdown",
   "id": "c18ad3b0",
   "metadata": {},
   "source": [
    "### 4.7. Checking for Outliers: Order Size per Transaction<a id='ab7'></a>"
   ]
  },
  {
   "cell_type": "code",
   "execution_count": 69,
   "id": "efa0abf3",
   "metadata": {},
   "outputs": [
    {
     "data": {
      "image/png": "[encoded data removed]",
      "text/plain": [
       "<Figure size 640x480 with 1 Axes>"
      ]
     },
     "metadata": {},
     "output_type": "display_data"
    }
   ],
   "source": [
    "# Plotting a scatterplot on revenue to visualize possible anomalies:\n",
    "\n",
    "plt.scatter(pd.Series(range(len(orders['revenue']))), orders['revenue'])\n",
    "\n",
    "plt.title('Order Size per Transaction', fontsize=10.5)\n",
    "plt.ylabel('Order Size ($)')\n",
    "plt.show()"
   ]
  },
  {
   "cell_type": "markdown",
   "id": "c9716a24",
   "metadata": {},
   "source": [
    "**Observations:** We observe 2 obvious anomalies roughly around the \\\\$2,500 and \\\\$20,000 mark. These are considerably extreme values that explain our sudden spikes in our analysis on average cumulative order size."
   ]
  },
  {
   "cell_type": "code",
   "execution_count": 70,
   "id": "acdfad64",
   "metadata": {},
   "outputs": [
    {
     "name": "stdout",
     "output_type": "stream",
     "text": [
      "90th Percentile Order Size: 280.8\n",
      "95th Percentile Order Size: 414.275\n",
      "99th Percentile Order Size: 830.3\n"
     ]
    }
   ],
   "source": [
    "# Calculating the 90th, 95th and 99th percentile values for transactions:\n",
    "\n",
    "percen = np.percentile(orders['revenue'], [90, 95, 99])\n",
    "print(f\"90th Percentile Order Size: {percen[0]}\")\n",
    "print(f\"95th Percentile Order Size: {percen[1]}\")\n",
    "print(f\"99th Percentile Order Size: {percen[2].round(2)}\")"
   ]
  },
  {
   "cell_type": "markdown",
   "id": "27f9f586",
   "metadata": {},
   "source": [
    "**Intermediate Conclusions:** We will use our 99th percentile (\\\\$830.30) as a starting point for finding outliers. "
   ]
  },
  {
   "cell_type": "markdown",
   "id": "8b7a06ee",
   "metadata": {},
   "source": [
    "[Back to Contents](#back)"
   ]
  },
  {
   "cell_type": "markdown",
   "id": "2ff66c69",
   "metadata": {},
   "source": [
    "### 4.8. Statistical Significance of Difference in Conversion - Raw Data<a id='ab8'></a>"
   ]
  },
  {
   "cell_type": "markdown",
   "id": "7bfe9c5f",
   "metadata": {},
   "source": [
    "**N/B: Seeing as we have indications that anomalies are present in our test data, we will proceed with the Mann-Whitney U Test**."
   ]
  },
  {
   "cell_type": "code",
   "execution_count": 71,
   "id": "4853f1e6",
   "metadata": {},
   "outputs": [],
   "source": [
    "# Assigning a value of 1 for every entry of our orders table for MWU ranking purposes:\n",
    "orders['order_count'] = 1\n",
    "\n",
    "# Getting a list of website visits that resulted in conversion for each group:\n",
    "visitsConvertedA = orders.query(\"group == 'A'\")['order_count']\n",
    "visitsConvertedB = orders.query(\"group == 'B'\")['order_count']"
   ]
  },
  {
   "cell_type": "code",
   "execution_count": 72,
   "id": "df3d5909",
   "metadata": {},
   "outputs": [],
   "source": [
    "# Creating MWU ranking samples by joining visit entries that resulted in conversion on top of visit entries that did not:\n",
    "\n",
    "sampleA = pd.concat(\n",
    "    [visitsConvertedA, pd.Series(\n",
    "        0, index=np.arange(\n",
    "            visits[visits['group'] == 'A']['visits'].sum() - len(visitsConvertedA)), name='orders')],\n",
    "    axis=0)\n",
    "\n",
    "sampleB = pd.concat(\n",
    "    [visitsConvertedB, pd.Series(\n",
    "        0, index=np.arange(\n",
    "            visits[visits['group'] == 'B']['visits'].sum() - len(visitsConvertedB)), name='orders')],\n",
    "    axis=0)"
   ]
  },
  {
   "cell_type": "code",
   "execution_count": 73,
   "id": "d0a09636",
   "metadata": {},
   "outputs": [
    {
     "name": "stdout",
     "output_type": "stream",
     "text": [
      "P-Value: 1.69 %\n",
      "Relative Difference: 15.98 %\n"
     ]
    }
   ],
   "source": [
    "# Getting our p-value from our MWU test:\n",
    "print('P-Value:', ((st.mannwhitneyu(sampleA, sampleB)[1]) * 100).round(2),'%')\n",
    "\n",
    "# Getting relative difference of conversion rate for Group B compared to Group A:\n",
    "print('Relative Difference:',round((sampleB.mean() / sampleA.mean() - 1) * 100, 2),'%')"
   ]
  },
  {
   "cell_type": "markdown",
   "id": "ea561699",
   "metadata": {},
   "source": [
    "**Intermediate Conclusion:** Assuming a significance level of 5%, our H0 hypothesis is rejected as we have reached statistical significance; there is a significant difference between conversion rates of both groups. Moreover, our relative difference of roughly 16% is quite substantial. However, we need to remember the presence of our outliers found prior to this."
   ]
  },
  {
   "cell_type": "markdown",
   "id": "91b9e23d",
   "metadata": {},
   "source": [
    "[Back to Contents](#back)"
   ]
  },
  {
   "cell_type": "markdown",
   "id": "1929c668",
   "metadata": {},
   "source": [
    "### 4.9. Statistical Significance of Difference in Average Order Size - Raw Data<a id='ab9'></a>"
   ]
  },
  {
   "cell_type": "code",
   "execution_count": 74,
   "id": "243a27c1",
   "metadata": {},
   "outputs": [
    {
     "name": "stdout",
     "output_type": "stream",
     "text": [
      "P-Value: 86.22 %\n",
      "Relative Difference: 27.83 %\n"
     ]
    }
   ],
   "source": [
    "# Calculating the MWU Test for revenue:\n",
    "print('P-Value:', ((\n",
    "    st.mannwhitneyu(orders[orders['group'] == 'A']['revenue'], orders[orders['group'] == 'B']['revenue'])[1]) * 100)\n",
    "      .round(2), '%')\n",
    "\n",
    "# Calculating relative difference in average order size between groups:\n",
    "print(\n",
    "    'Relative Difference:', round((orders[orders['group'] == 'B']['revenue'].mean() \n",
    "                                  / orders[orders['group'] == 'A']['revenue'].mean() - 1) * 100,\n",
    "                                  2), '%')"
   ]
  },
  {
   "cell_type": "markdown",
   "id": "227921f2",
   "metadata": {},
   "source": [
    "**Intermediate Conclusion:** Assuming a significance level of 5%, our H0 hypothesis can't be rejected as we are well above our alpha value; there is no significant difference between average order sizes of both groups. However, our relative difference of roughly 28% says otherwise."
   ]
  },
  {
   "cell_type": "markdown",
   "id": "e6bda7cc",
   "metadata": {},
   "source": [
    "[Back to Contents](#back)"
   ]
  },
  {
   "cell_type": "markdown",
   "id": "815b9520",
   "metadata": {},
   "source": [
    "### 4.10.  Statistical Significance of Difference in Conversion - Filtered Data<a id='ab10'></a>"
   ]
  },
  {
   "cell_type": "markdown",
   "id": "cfa962e3",
   "metadata": {},
   "source": [
    "**<u>Recap on Prior Percentile Calculations:<u>**\n",
    "    \n",
    "ORDER VOLUME Percentiles:\n",
    "\n",
    "90th Percentile Order Volume: 1.0\n",
    "<br>95th Percentile Order Volume: 1.0\n",
    "<br>99th Percentile Order Volume: 2.0\n",
    "\n",
    "    \n",
    "ORDER SIZE Percentiles:\n",
    "\n",
    "90th Percentile Order size: 280.8\n",
    "<br>95th Percentile Order size: 414.275\n",
    "<br>99th Percentile Order size: 830.30"
   ]
  },
  {
   "cell_type": "code",
   "execution_count": 75,
   "id": "6b476893",
   "metadata": {},
   "outputs": [
    {
     "data": {
      "image/png": "[encoded data removed]",
      "text/plain": [
       "<Figure size 300x500 with 1 Axes>"
      ]
     },
     "metadata": {},
     "output_type": "display_data"
    }
   ],
   "source": [
    "# Finding the point at which our values along the vertical axis deviate substantially:\n",
    "\n",
    "Q1 = orders['revenue'].quantile(0.25)\n",
    "Q3 = orders['revenue'].quantile(0.75)\n",
    "IQR = Q3 - Q1\n",
    "\n",
    "orders.boxplot(column=['revenue'], grid=True, figsize=(3,5))\n",
    "plt.ylim(-100, 1500)\n",
    "plt.hlines(y=Q1-1.5*IQR, xmin=0.9, xmax=1.1, color='red')\n",
    "plt.hlines(y=Q3+1.5*IQR, xmin=0.9, xmax=1.1, color='red')\n",
    "plt.show()"
   ]
  },
  {
   "cell_type": "markdown",
   "id": "4eeb557a",
   "metadata": {},
   "source": [
    "**There is an observable increment after a cluster of values above \\\\$750.**"
   ]
  },
  {
   "cell_type": "code",
   "execution_count": 76,
   "id": "4d42626b",
   "metadata": {},
   "outputs": [],
   "source": [
    "# Finding users who fit our criteria of anomalous behaviour:\n",
    "\n",
    "usersManyOrders = (orders\n",
    "                        .groupby('visitor_id', as_index=False)['transaction_id'].nunique()\n",
    "                        .query(\"transaction_id > 1\")['visitor_id']\n",
    "                       )\n",
    "\n",
    "usersExpensiveOrders = (orders\n",
    "                        .query('revenue > 750')['visitor_id']\n",
    "                       )\n",
    "\n",
    "\n",
    "anomalousUsers = pd.concat([usersManyOrders, usersExpensiveOrders], axis=0)\\\n",
    "                    .drop_duplicates()\\\n",
    "                    .sort_values()"
   ]
  },
  {
   "cell_type": "code",
   "execution_count": 77,
   "id": "6cf91445",
   "metadata": {},
   "outputs": [
    {
     "name": "stdout",
     "output_type": "stream",
     "text": [
      "<class 'pandas.core.frame.DataFrame'>\n",
      "RangeIndex: 922 entries, 0 to 921\n",
      "Data columns (total 6 columns):\n",
      " #   Column          Non-Null Count  Dtype         \n",
      "---  ------          --------------  -----         \n",
      " 0   transaction_id  922 non-null    int64         \n",
      " 1   visitor_id      922 non-null    int64         \n",
      " 2   date            922 non-null    datetime64[ns]\n",
      " 3   revenue         922 non-null    float64       \n",
      " 4   group           922 non-null    object        \n",
      " 5   order_count     922 non-null    int64         \n",
      "dtypes: datetime64[ns](1), float64(1), int64(3), object(1)\n",
      "memory usage: 43.3+ KB\n"
     ]
    }
   ],
   "source": [
    "# Creating a copy of filtered users:\n",
    "\n",
    "ordersFiltered = orders.query(\"visitor_id not in @anomalousUsers\").reset_index(drop=True)\n",
    "ordersFiltered.info()"
   ]
  },
  {
   "cell_type": "code",
   "execution_count": 78,
   "id": "7b1d3091",
   "metadata": {},
   "outputs": [
    {
     "name": "stdout",
     "output_type": "stream",
     "text": [
      "Raw Data - P-Value: 1.69%\n",
      "Raw Data - Relative Difference: 15.98%\n",
      "\n",
      "Filtered Data - P-Value: 0.65 %\n",
      "Filtered Data - Relative Difference: 19.43 %\n"
     ]
    }
   ],
   "source": [
    "# Getting a list of website visits that resulted in conversion for each group:\n",
    "visitsConvertedA = ordersFiltered.query(\"group == 'A'\")['order_count']\n",
    "visitsConvertedB = ordersFiltered.query(\"group == 'B'\")['order_count']\n",
    "\n",
    "# Creating MWU ranking samples by joining visit entries that resulted in conversion on top of visit entries that did not:\n",
    "sampleA = pd.concat(\n",
    "    [visitsConvertedA, pd.Series(\n",
    "        0, index=np.arange(\n",
    "            visits[visits['group'] == 'A']['visits'].sum() - len(visitsConvertedA)), name='orders')],\n",
    "    axis=0)\n",
    "\n",
    "sampleB = pd.concat(\n",
    "    [visitsConvertedB, pd.Series(\n",
    "        0, index=np.arange(\n",
    "            visits[visits['group'] == 'B']['visits'].sum() - len(visitsConvertedB)), name='orders')],\n",
    "    axis=0)\n",
    "\n",
    "# Printing our prior unfiltered figures:\n",
    "print('Raw Data - P-Value: 1.69%')\n",
    "print('Raw Data - Relative Difference: 15.98%')\n",
    "print()\n",
    "\n",
    "# Getting our p-value from our MWU test:\n",
    "print('Filtered Data - P-Value:', ((st.mannwhitneyu(sampleA, sampleB)[1]) * 100).round(2),'%')\n",
    "\n",
    "# Getting relative difference of conversion rate for Group B compared to Group A:\n",
    "print('Filtered Data - Relative Difference:',round((sampleB.mean() / sampleA.mean() - 1) * 100, 2),'%')"
   ]
  },
  {
   "cell_type": "markdown",
   "id": "bde61001",
   "metadata": {},
   "source": [
    "**Intermediate Conclusion:** After filtering out outliers, we achieved a lower P-Value in our MWU test. We can still reject our Null hypothesis; there is a significant difference between test groups. Moreover, we saw a positive increase in our relative difference in conversion rate for test Group B compared to control Group A (16% to 20%)."
   ]
  },
  {
   "cell_type": "markdown",
   "id": "08032d47",
   "metadata": {},
   "source": [
    "[Back to Contents](#back)"
   ]
  },
  {
   "cell_type": "markdown",
   "id": "891790b8",
   "metadata": {},
   "source": [
    "### 4.11.  Statistical Significance of Difference in Average Order Size - Filtered Data<a id='ab11'></a>"
   ]
  },
  {
   "cell_type": "code",
   "execution_count": 79,
   "id": "85320561",
   "metadata": {},
   "outputs": [
    {
     "name": "stdout",
     "output_type": "stream",
     "text": [
      "Raw Data - P-Value: 86.22%\n",
      "Raw Data - Relative Difference: 27.83%\n",
      "\n",
      "Filtered Data - P-Value: 87.09 %\n",
      "Filtered Data - Relative Difference: 4.34 %\n"
     ]
    }
   ],
   "source": [
    "# Printing our prior unfiltered figures:\n",
    "print('Raw Data - P-Value: 86.22%')\n",
    "print('Raw Data - Relative Difference: 27.83%')\n",
    "print()\n",
    "\n",
    "# Calculating the MWU Test for revenue:\n",
    "print('Filtered Data - P-Value:', ((\n",
    "    st.mannwhitneyu(ordersFiltered[ordersFiltered['group'] == 'A']['revenue'], \n",
    "                    ordersFiltered[ordersFiltered['group'] == 'B']['revenue'])[1]) * 100)\n",
    "      .round(2), '%')\n",
    "\n",
    "# Calculating relative difference in average order size between groups:\n",
    "print(\n",
    "    'Filtered Data - Relative Difference:', round((ordersFiltered[ordersFiltered['group'] == 'B']['revenue'].mean() \n",
    "                                  / ordersFiltered[ordersFiltered['group'] == 'A']['revenue'].mean() - 1) * 100,\n",
    "                                  2), '%')"
   ]
  },
  {
   "cell_type": "markdown",
   "id": "1675cb13",
   "metadata": {},
   "source": [
    "**Intermediate Conclusion:** Post-filtering, our P-Value still remains extremely high; our Null hypothesis cannot be rejected as we did not reach statistical significance. There isn't an observed difference between average order size for both groups. However, our relative difference is now more in line with our P-value. There is now only a miniscule increase of about 4% in average order size for our Test group B compared to Control group A, but this is negligible. Overall, no significant change was observed."
   ]
  },
  {
   "cell_type": "markdown",
   "id": "ef1ae91a",
   "metadata": {},
   "source": [
    "[Back to Contents](#back)"
   ]
  },
  {
   "cell_type": "markdown",
   "id": "36c3050e",
   "metadata": {},
   "source": [
    "### 4.12.  Stability Test on Filtered Cumulative Conversion Rate - Preventing the Peeking Problem<a id='ab12'></a>"
   ]
  },
  {
   "cell_type": "code",
   "execution_count": 80,
   "id": "29b2fc63",
   "metadata": {},
   "outputs": [
    {
     "data": {
      "image/png": "[encoded data removed]",
      "text/plain": [
       "<Figure size 640x480 with 1 Axes>"
      ]
     },
     "metadata": {},
     "output_type": "display_data"
    }
   ],
   "source": [
    "# Plotting our cumulative conversion rate based on filtered data:\n",
    "\n",
    "datesGroups = ordersFiltered[['date', 'group']].drop_duplicates()\n",
    "ordersAgg = (datesGroups\n",
    "             .apply(lambda x: ordersFiltered[np.logical_and(ordersFiltered['date'] <= x['date'], ordersFiltered['group'] == x['group'])]\n",
    "                    .agg({'date': 'max', 'group': 'max', 'transaction_id': 'nunique', 'visitor_id': 'nunique', 'revenue': 'sum'}),\n",
    "                    axis=1)\n",
    "             .sort_values(by=['date', 'group'])\n",
    "            )\n",
    "visitsAgg = (datesGroups\n",
    "             .apply(lambda x: visits[np.logical_and(visits['date'] <= x['date'], visits['group'] == x['group'])]\n",
    "                   .agg({'date': 'max', 'group': 'max', 'visits': 'sum'}),\n",
    "                   axis=1)\n",
    "             .sort_values(by=['date', 'group'])\n",
    "            )\n",
    "cumulativeData = ordersAgg.merge(visitsAgg, on=['date', 'group'])\n",
    "cumulativeData.columns = ['date', 'group', 'transactions', 'buyers', 'revenue', 'visits']\n",
    "\n",
    "\n",
    "cumulativeData['conversion'] = cumulativeData['transactions'] / cumulativeData['visits']\n",
    "\n",
    "cumulativeDataA = cumulativeData[cumulativeData['group'] == 'A']\n",
    "cumulativeDataB = cumulativeData[cumulativeData['group'] == 'B']\n",
    "plt.plot(cumulativeDataA['date'], cumulativeDataA['conversion'], label='A')\n",
    "plt.plot(cumulativeDataB['date'], cumulativeDataB['conversion'], label='B')\n",
    "\n",
    "plt.title('Cumulative Conversion Rate by Group | Filtered Data')\n",
    "plt.legend()\n",
    "plt.xlabel('Date')\n",
    "plt.ylabel('Conversion Rate')\n",
    "plt.xticks(rotation=45)\n",
    "\n",
    "plt.axis([pd.to_datetime('2019-07-31'), pd.to_datetime('2019-09-01'), 0.015, 0.035]) \n",
    "plt.show()"
   ]
  },
  {
   "cell_type": "markdown",
   "id": "cc8ad1c9",
   "metadata": {},
   "source": [
    "**Intermediate Conclusion**: Based on our conversion metric based off of filtered data, of which had an observable and statistically significant difference, we can see some semblance of stability at roughly slightly after the 3rd week of the test period."
   ]
  },
  {
   "cell_type": "markdown",
   "id": "098b7c51",
   "metadata": {},
   "source": [
    "[Back to Contents](#back)"
   ]
  },
  {
   "cell_type": "markdown",
   "id": "c924749e",
   "metadata": {},
   "source": [
    "# 5. Findings & Overall Conclusion <a id='findings'></a>"
   ]
  },
  {
   "cell_type": "markdown",
   "id": "8d605921",
   "metadata": {},
   "source": [
    "Our experiment on implementing Recommendation Blocks on our website has proved fruitful, and our initial hypothesis is accepted. We have every reason to believe test group B has had a profound impact. While it did not affect average order size, it has successfully converted more visits into transactions by roughly 20%. More users were succesfully channeled further down the marketing funnel, meaning to say we had captured those customers who were perhaps on the fence prior to this experiment and/or customers who were of the nature of window-shoppers. Here is how we came to our conclusion:\n",
    "\n",
    "1. Average Order Size by transaction: With our plot on [cumulative average order size based off of raw data](#ab3), we observed Test Group B hovering slightly below Control group A before spiking upwards midway through the test period. Removing the anomalies that skewed our data proved to stabilize our results, as we saw no statistical significant difference in our MannWhitney U test, while achieving close to null relative difference between groups (< 5%). ***Test Group B has not had an effect on the Average Order Size metric***. \n",
    "\n",
    "2. Conversion Rate: Harking back to the graph on [cumulative conversion rate based off of raw data](#ab5), we observed Test group B pulling ahead compared to Control group A at roughly the middle of the test period. Both groups stabilized and plateaued after the fact, with neither an incline or decline observed. We tested the validity of this result based on filtered data and found that our prior observations were not only true, but had improved. We obtained a P-Value that had reached statistical significance and a relative difference of close to 20% in favor of Test group B. ***Test Group B is deemed successful in affecting positive change in the conversion metric***.\n",
    "\n",
    "> **<u>As our [conversion graph on filtered data](#ab12) seems to have stabilized somewhat after the 3/4 point of the experiment, it would be justifiable to stop the test, conclude Group B our winner, and proceed with implementing Recommendation Blocks to our website for the forseeable future.</u>**"
   ]
  },
  {
   "cell_type": "markdown",
   "id": "60c70837",
   "metadata": {},
   "source": [
    "[Back to Contents](#back)"
   ]
  }
 ],
 "metadata": {
  "kernelspec": {
   "display_name": "Python 3 (ipykernel)",
   "language": "python",
   "name": "python3"
  },
  "language_info": {
   "codemirror_mode": {
    "name": "ipython",
    "version": 3
   },
   "file_extension": ".py",
   "mimetype": "text/x-python",
   "name": "python",
   "nbconvert_exporter": "python",
   "pygments_lexer": "ipython3",
   "version": "3.9.13"
  },
  "toc": {
   "base_numbering": 1,
   "nav_menu": {},
   "number_sections": true,
   "sideBar": true,
   "skip_h1_title": true,
   "title_cell": "Table of Contents",
   "title_sidebar": "Contents",
   "toc_cell": false,
   "toc_position": {},
   "toc_section_display": true,
   "toc_window_display": false
  }
 },
 "nbformat": 4,
 "nbformat_minor": 5
}
