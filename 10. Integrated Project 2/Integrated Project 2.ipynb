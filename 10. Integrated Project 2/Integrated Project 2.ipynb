{
 "cells": [
  {
   "cell_type": "markdown",
   "id": "1c413bc3",
   "metadata": {},
   "source": [
    "# <u>FOOD PRODUCE APP</u>: <u>Testing the Effects of App Font Changes in User Behaviour</u>."
   ]
  },
  {
   "cell_type": "markdown",
   "id": "f68f7efc",
   "metadata": {},
   "source": [
    "# Introduction <a id='intro'><a/>\n",
    "Food produce is one of the most competitive industries around the globe. To stay competitive then is no easy feat, especially in the online app space. Every little detail could make or break a business; factors such as app usability and engagement level are vital attributes to cater to. \n",
    "    \n",
    "Objective: This preliminary study aims to test the feasability of introducing an entirely new font app-wide. There are concerns however, that this might be jarring for our current patrons. We have split our available events funnel data into 3 experiment groups; 2 controls and 1 test.\n",
    "    \n",
    "<u>Steps to Analysis</u>:\n",
    "1. Ensure overall data proportion equality across a set time period\n",
    "2. Study overall health of our events funnel. We want to determine where we are converting customers, and where we are losing them.\n",
    "3. Determine equality in user proportions across each experiment group.\n",
    "4. A/A Test - To test proportions of conversions and event user share between our two control groups. Only if equality is achieved do we gain the confidence to A/A/B test. \n",
    "5. A/A/B Test - To test proportions of conversions and event user share between our test group and control groups to determine if the font change had a detrimental effect to our conversion rates."
   ]
  },
  {
   "cell_type": "markdown",
   "id": "cb2dde09",
   "metadata": {},
   "source": [
    "# Contents <a id='back'></a>\n",
    "\n",
    "* [Introduction](#intro)\n",
    "* [Stage 1. Initialization & Data Pre-processing](#ini)\n",
    "* [Stage 2. Exploratory Data Analysis](#eda)\n",
    "    * [2.1. Preliminary Breakdown of Raw Data](#eda1)\n",
    "    * [2.2. Data Proportion Equality across Time Periods](#eda2)\n",
    "        * [Intermediate Conclusion](#edac)\n",
    "* [Stage 3. The Events Funnel Analysis](#ef)\n",
    "    * [3.1. Itemizing Event Funnel Sequence(s)](#ef1)\n",
    "    * [3.2. Funnel Sequence - Main Screen(start) : Payment Screen(end)](#ef2)\n",
    "    * [3.3. Funnel Sequence - Tutorial(start) : Payment Screen(end)](#ef3)\n",
    "        * [Intermediate Conclusion](#efc)\n",
    "* [Stage 4. A/A/B Testing](#aab)\n",
    "    * [4.1. User Distribution Equality amongst Experiment Groups](#aab1)\n",
    "    * [4.2. Conversion Proportions between Control Groups](#aab2)\n",
    "    * [4.3. User Proportions by Event Categories between Control Groups](#aab3)\n",
    "    * [4.4. User Proportions by Event Categories between Control & Test Groups](#aab4)\n",
    "    * [4.5. Conversion Proportions between Combined Control Group & Test Group](#aab5)\n",
    "        * [Intermediate Conclusion](#aabc)       \n",
    "* [Stage 5. Findings & Overall Conclusion](#findings)\n"
   ]
  },
  {
   "cell_type": "markdown",
   "id": "44553054",
   "metadata": {},
   "source": [
    "# 1. Initialization & Data Pre-processing<a id='ini'></a>"
   ]
  },
  {
   "cell_type": "code",
   "execution_count": 1,
   "id": "936a0d36",
   "metadata": {},
   "outputs": [],
   "source": [
    "# Libraries\n",
    "\n",
    "import pandas as pd\n",
    "import numpy as np\n",
    "import math as math\n",
    "import scipy.stats as stats\n",
    "from matplotlib import pyplot as plt\n",
    "import seaborn as sns\n",
    "import plotly.express as px "
   ]
  },
  {
   "cell_type": "code",
   "execution_count": 2,
   "id": "6742f888",
   "metadata": {},
   "outputs": [],
   "source": [
    "# Loading CSV\n",
    "\n",
    "try:\n",
    "    df = pd.read_csv('logs_exp_us.csv', sep='\\t')\n",
    "except:\n",
    "    df = pd.read_csv('/datasets/logs_exp_us.csv', sep='\\t')"
   ]
  },
  {
   "cell_type": "code",
   "execution_count": 3,
   "id": "a7228674",
   "metadata": {},
   "outputs": [
    {
     "data": {
      "text/html": [
       "<div>\n",
       "<style scoped>\n",
       "    .dataframe tbody tr th:only-of-type {\n",
       "        vertical-align: middle;\n",
       "    }\n",
       "\n",
       "    .dataframe tbody tr th {\n",
       "        vertical-align: top;\n",
       "    }\n",
       "\n",
       "    .dataframe thead th {\n",
       "        text-align: right;\n",
       "    }\n",
       "</style>\n",
       "<table border=\"1\" class=\"dataframe\">\n",
       "  <thead>\n",
       "    <tr style=\"text-align: right;\">\n",
       "      <th></th>\n",
       "      <th>EventName</th>\n",
       "      <th>DeviceIDHash</th>\n",
       "      <th>EventTimestamp</th>\n",
       "      <th>ExpId</th>\n",
       "    </tr>\n",
       "  </thead>\n",
       "  <tbody>\n",
       "    <tr>\n",
       "      <th>0</th>\n",
       "      <td>MainScreenAppear</td>\n",
       "      <td>4575588528974610257</td>\n",
       "      <td>1564029816</td>\n",
       "      <td>246</td>\n",
       "    </tr>\n",
       "    <tr>\n",
       "      <th>1</th>\n",
       "      <td>MainScreenAppear</td>\n",
       "      <td>7416695313311560658</td>\n",
       "      <td>1564053102</td>\n",
       "      <td>246</td>\n",
       "    </tr>\n",
       "    <tr>\n",
       "      <th>2</th>\n",
       "      <td>PaymentScreenSuccessful</td>\n",
       "      <td>3518123091307005509</td>\n",
       "      <td>1564054127</td>\n",
       "      <td>248</td>\n",
       "    </tr>\n",
       "    <tr>\n",
       "      <th>3</th>\n",
       "      <td>CartScreenAppear</td>\n",
       "      <td>3518123091307005509</td>\n",
       "      <td>1564054127</td>\n",
       "      <td>248</td>\n",
       "    </tr>\n",
       "    <tr>\n",
       "      <th>4</th>\n",
       "      <td>PaymentScreenSuccessful</td>\n",
       "      <td>6217807653094995999</td>\n",
       "      <td>1564055322</td>\n",
       "      <td>248</td>\n",
       "    </tr>\n",
       "  </tbody>\n",
       "</table>\n",
       "</div>"
      ],
      "text/plain": [
       "                 EventName         DeviceIDHash  EventTimestamp  ExpId\n",
       "0         MainScreenAppear  4575588528974610257      1564029816    246\n",
       "1         MainScreenAppear  7416695313311560658      1564053102    246\n",
       "2  PaymentScreenSuccessful  3518123091307005509      1564054127    248\n",
       "3         CartScreenAppear  3518123091307005509      1564054127    248\n",
       "4  PaymentScreenSuccessful  6217807653094995999      1564055322    248"
      ]
     },
     "metadata": {},
     "output_type": "display_data"
    },
    {
     "name": "stdout",
     "output_type": "stream",
     "text": [
      "<class 'pandas.core.frame.DataFrame'>\n",
      "RangeIndex: 244126 entries, 0 to 244125\n",
      "Data columns (total 4 columns):\n",
      " #   Column          Non-Null Count   Dtype \n",
      "---  ------          --------------   ----- \n",
      " 0   EventName       244126 non-null  object\n",
      " 1   DeviceIDHash    244126 non-null  int64 \n",
      " 2   EventTimestamp  244126 non-null  int64 \n",
      " 3   ExpId           244126 non-null  int64 \n",
      "dtypes: int64(3), object(1)\n",
      "memory usage: 22.9 MB\n"
     ]
    }
   ],
   "source": [
    "# Overview\n",
    "\n",
    "display(df.head())\n",
    "df.info(memory_usage='deep')"
   ]
  },
  {
   "cell_type": "code",
   "execution_count": 4,
   "id": "74ec01b7",
   "metadata": {},
   "outputs": [],
   "source": [
    "# Renaming columns\n",
    "\n",
    "df.columns = ['event', 'user_id', 'event_ts', 'exp_id']"
   ]
  },
  {
   "cell_type": "code",
   "execution_count": 5,
   "id": "73f9aeed",
   "metadata": {},
   "outputs": [],
   "source": [
    "# Converting Unix timestamp to datetime format\n",
    "\n",
    "df['event_ts'] = pd.to_datetime(df['event_ts'], unit='s', origin='unix') "
   ]
  },
  {
   "cell_type": "code",
   "execution_count": 6,
   "id": "8b51cc51",
   "metadata": {
    "scrolled": true
   },
   "outputs": [
    {
     "data": {
      "text/plain": [
       "MainScreenAppear           119205\n",
       "OffersScreenAppear          46825\n",
       "CartScreenAppear            42731\n",
       "PaymentScreenSuccessful     34313\n",
       "Tutorial                     1052\n",
       "Name: event, dtype: int64"
      ]
     },
     "execution_count": 6,
     "metadata": {},
     "output_type": "execute_result"
    }
   ],
   "source": [
    "# Checking for categories:\n",
    "\n",
    "df.event.value_counts()"
   ]
  },
  {
   "cell_type": "code",
   "execution_count": 7,
   "id": "d958a0b9",
   "metadata": {},
   "outputs": [],
   "source": [
    "# Converting 'event' column to category dtype\n",
    "\n",
    "df['event'] = df['event'].astype('category')"
   ]
  },
  {
   "cell_type": "code",
   "execution_count": 8,
   "id": "830f8d4e",
   "metadata": {},
   "outputs": [],
   "source": [
    "# Extracting a date column\n",
    "\n",
    "df['event_date'] = df['event_ts'].astype('datetime64[D]')"
   ]
  },
  {
   "cell_type": "code",
   "execution_count": 9,
   "id": "50ccd34c",
   "metadata": {
    "scrolled": true
   },
   "outputs": [
    {
     "name": "stdout",
     "output_type": "stream",
     "text": [
      "<class 'pandas.core.frame.DataFrame'>\n",
      "RangeIndex: 244126 entries, 0 to 244125\n",
      "Data columns (total 5 columns):\n",
      " #   Column      Non-Null Count   Dtype         \n",
      "---  ------      --------------   -----         \n",
      " 0   event       244126 non-null  category      \n",
      " 1   user_id     244126 non-null  int64         \n",
      " 2   event_ts    244126 non-null  datetime64[ns]\n",
      " 3   exp_id      244126 non-null  int64         \n",
      " 4   event_date  244126 non-null  datetime64[ns]\n",
      "dtypes: category(1), datetime64[ns](2), int64(2)\n",
      "memory usage: 7.7 MB\n"
     ]
    }
   ],
   "source": [
    "df.info(memory_usage='deep')"
   ]
  },
  {
   "cell_type": "markdown",
   "id": "343d561f",
   "metadata": {},
   "source": [
    "[Back to Contents](#back)"
   ]
  },
  {
   "cell_type": "markdown",
   "id": "e66865d3",
   "metadata": {},
   "source": [
    "# 2. Exploratory Data Analysis<a id='eda'></a>"
   ]
  },
  {
   "cell_type": "markdown",
   "id": "10ba7688",
   "metadata": {},
   "source": [
    "### 2.1. Preliminary Breakdown of Raw Data <a id='eda1'></a>"
   ]
  },
  {
   "cell_type": "code",
   "execution_count": 10,
   "id": "0b9a0384",
   "metadata": {},
   "outputs": [
    {
     "name": "stdout",
     "output_type": "stream",
     "text": [
      "Unique Events: 5\n",
      "Total Events: 244126\n",
      "Number of unique users: 7551\n"
     ]
    }
   ],
   "source": [
    "# Unique events and unique user_id count:\n",
    "\n",
    "print(\"Unique Events:\", df['event'].nunique())\n",
    "print(\"Total Events:\", df['event'].count())\n",
    "print(\"Number of unique users:\", df['user_id'].nunique())"
   ]
  },
  {
   "cell_type": "code",
   "execution_count": 11,
   "id": "f88f2bd7",
   "metadata": {
    "scrolled": false
   },
   "outputs": [
    {
     "data": {
      "image/png": "[encoded data removed]",
      "text/plain": [
       "<Figure size 1200x400 with 2 Axes>"
      ]
     },
     "metadata": {},
     "output_type": "display_data"
    },
    {
     "name": "stdout",
     "output_type": "stream",
     "text": [
      "Median of Events Per User: 20.0\n"
     ]
    }
   ],
   "source": [
    "# Visualizing average number of occurred events per user:\n",
    "\n",
    "events_by_user = df.groupby('user_id', as_index=False)['event'].count()\n",
    "fig, (ax1, ax2) = plt.subplots(1, 2)\n",
    "\n",
    "fig.suptitle('Frequency Distribution on Users by Number of Events', fontsize=15)\n",
    "fig.set_figheight(4)\n",
    "fig.set_figwidth(12)\n",
    "\n",
    "sns.histplot(events_by_user, x='event', ax=ax1)\n",
    "ax1.set_title('Macro View', fontsize=11)\n",
    "ax1.set_xlabel('Events Per User')\n",
    "ax1.set_ylabel('Frequency')\n",
    "\n",
    "sns.histplot(events_by_user, x='event', ax=ax2)\n",
    "ax2.set_title('Cluster View', fontsize=11)\n",
    "ax2.set_xlabel('Events Per User')\n",
    "ax2.set_ylabel('Frequency')\n",
    "ax2.set_xlim([0, 100])\n",
    "ax2.set_ylim([0, 800])\n",
    "plt.tight_layout()\n",
    "plt.show()\n",
    "\n",
    "print(\"Median of Events Per User:\", events_by_user['event'].median())"
   ]
  },
  {
   "cell_type": "markdown",
   "id": "46447bbc",
   "metadata": {},
   "source": [
    "**Observation:** When studying average events per user, our data depicted an extremely right skewed distribution. Because of the qualitative nature of our data, we used the median of our distribution to find our average (20 events per unique user)."
   ]
  },
  {
   "cell_type": "markdown",
   "id": "4d012e5d",
   "metadata": {},
   "source": [
    "### 2.2. Data Proportion Equality across Time Periods <a id='eda2'><a/>"
   ]
  },
  {
   "cell_type": "code",
   "execution_count": 12,
   "id": "538d6dc0",
   "metadata": {},
   "outputs": [
    {
     "data": {
      "text/plain": [
       "count                           244126\n",
       "mean     2019-08-04 10:18:35.842716160\n",
       "min                2019-07-25 04:43:36\n",
       "25%      2019-08-02 14:36:20.249999872\n",
       "50%                2019-08-04 11:49:55\n",
       "75%                2019-08-06 06:55:11\n",
       "max                2019-08-07 21:15:17\n",
       "Name: event_ts, dtype: object"
      ]
     },
     "metadata": {},
     "output_type": "display_data"
    },
    {
     "name": "stdout",
     "output_type": "stream",
     "text": [
      "First Timestamp: 2019-07-25 04:43:36\n",
      "Last Timestamp: 2019-08-07 21:15:17\n"
     ]
    }
   ],
   "source": [
    "# Finding the minimum and maximum observed datetimes:\n",
    "\n",
    "display(df.event_ts.describe(datetime_is_numeric=True))\n",
    "print(\"First Timestamp: 2019-07-25 04:43:36\")\n",
    "print(\"Last Timestamp: 2019-08-07 21:15:17\")"
   ]
  },
  {
   "cell_type": "code",
   "execution_count": 13,
   "id": "b5cc00ac",
   "metadata": {},
   "outputs": [
    {
     "data": {
      "image/png": "[encoded data removed]",
      "text/plain": [
       "<Figure size 900x400 with 1 Axes>"
      ]
     },
     "metadata": {},
     "output_type": "display_data"
    }
   ],
   "source": [
    "# Visualizing frequency distribution of events across observed time periods \n",
    "\n",
    "fig, ax = plt.subplots()\n",
    "\n",
    "fig.set_figwidth(9)\n",
    "fig.set_figheight(4)\n",
    "\n",
    "sns.histplot(df, x='event_ts', ax=ax)\n",
    "ax.set_title('Distribution of Events Across Time Periods')\n",
    "ax.set_xlabel('Date')\n",
    "ax.set_ylabel('Events Frequency')\n",
    "\n",
    "plt.xticks(rotation=45, fontsize=8)\n",
    "\n",
    "plt.show()"
   ]
  },
  {
   "cell_type": "code",
   "execution_count": 14,
   "id": "1eab8961",
   "metadata": {},
   "outputs": [
    {
     "data": {
      "image/png": "[encoded data removed]",
      "text/plain": [
       "<Figure size 900x400 with 1 Axes>"
      ]
     },
     "metadata": {},
     "output_type": "display_data"
    }
   ],
   "source": [
    "# Visualizing lineplot across time periods\n",
    "\n",
    "df.pivot_table(index='event_date', values='user_id', aggfunc='count').plot(style='o-', grid=True, figsize=(9,4))\n",
    "\n",
    "plt.title('Distribution of Events Across Time Periods')\n",
    "plt.xlabel('Date')\n",
    "plt.ylabel('Events Frequency')\n",
    "\n",
    "plt.show()"
   ]
  },
  {
   "cell_type": "markdown",
   "id": "1954ab96",
   "metadata": {},
   "source": [
    "**Observation:** The histogram and lineplot's distribution similarly depicts an extreme disparity between the first and second halves of our entire time period. Data appears to only achieve completion from the 1st of August onwards, with every day beyond that point showing similar looking patterns in its peaks and troughs. We will filter out data preceding this time period to achieve a full week's worth of relevant data."
   ]
  },
  {
   "cell_type": "code",
   "execution_count": 15,
   "id": "80ccc139",
   "metadata": {},
   "outputs": [],
   "source": [
    "# Filtering out all data points before the 1st of Aug:\n",
    "\n",
    "df = df.query(\"event_date >= '2019-08-01'\")"
   ]
  },
  {
   "cell_type": "code",
   "execution_count": 16,
   "id": "1f369705",
   "metadata": {},
   "outputs": [
    {
     "data": {
      "image/png": "[encoded data removed]",
      "text/plain": [
       "<Figure size 900x400 with 1 Axes>"
      ]
     },
     "metadata": {},
     "output_type": "display_data"
    }
   ],
   "source": [
    "# Visualizing distribution our filtered data:\n",
    "\n",
    "fig, ax = plt.subplots()\n",
    "\n",
    "fig.set_figwidth(9)\n",
    "fig.set_figheight(4)\n",
    "\n",
    "sns.histplot(df, x='event_ts', ax=ax)\n",
    "ax.set_title('Distribution of Events Across Time Periods | Filtered Data')\n",
    "ax.set_xlabel('Date')\n",
    "ax.set_ylabel('Events Frequency')\n",
    "\n",
    "plt.xticks(rotation=45, fontsize=8)\n",
    "plt.show()"
   ]
  },
  {
   "cell_type": "code",
   "execution_count": 17,
   "id": "d54db1a4",
   "metadata": {},
   "outputs": [
    {
     "name": "stdout",
     "output_type": "stream",
     "text": [
      "Filtered Data - Median of Events Per User: 19.0\n"
     ]
    }
   ],
   "source": [
    "# Checking average events per user once more:\n",
    "\n",
    "events_by_user = df.groupby('user_id', as_index=False)['event'].count()\n",
    "print(\"Filtered Data - Median of Events Per User:\", events_by_user['event'].median())"
   ]
  },
  {
   "cell_type": "code",
   "execution_count": 18,
   "id": "bb94a0b7",
   "metadata": {
    "scrolled": false
   },
   "outputs": [
    {
     "name": "stdout",
     "output_type": "stream",
     "text": [
      "\u001b[1mRemaining Data Points after Filtering:\u001b[0m\n",
      "\n",
      "Filtered Unique Events: 5 / 5\n",
      "Filtered Total Events: 241298 / 244126. Lost data = 1.1%\n",
      "Filtered Number of unique users: 7534 / 7551. Lost data = 0.22%\n"
     ]
    }
   ],
   "source": [
    "# Remaining data after filtering:\n",
    "\n",
    "print(\"\\033[1mRemaining Data Points after Filtering:\\033[0m\")\n",
    "print()\n",
    "print(\"Filtered Unique Events:\", df['event'].nunique(), \"/ 5\")\n",
    "print(\"Filtered Total Events:\", df['event'].count(), \"/ 244126. Lost data = 1.1%\")\n",
    "print(\"Filtered Number of unique users:\", df['user_id'].nunique(), \"/ 7551. Lost data = 0.22%\")"
   ]
  },
  {
   "cell_type": "code",
   "execution_count": 19,
   "id": "aa76e55e",
   "metadata": {},
   "outputs": [
    {
     "data": {
      "text/plain": [
       "exp_id\n",
       "246    2484\n",
       "247    2513\n",
       "248    2537\n",
       "Name: user_id, dtype: int64"
      ]
     },
     "metadata": {},
     "output_type": "display_data"
    },
    {
     "data": {
      "text/plain": [
       "True"
      ]
     },
     "execution_count": 19,
     "metadata": {},
     "output_type": "execute_result"
    }
   ],
   "source": [
    "# Ensuring roughly equal representation of users amongst all 3 experiment groups after filtering our data:\n",
    "## Making sure we do not have duplicate users in more than 1 experiment group:\n",
    "\n",
    "t = df.groupby('exp_id')['user_id'].nunique()\n",
    "display(t)\n",
    "t.sum() == df.user_id.nunique()"
   ]
  },
  {
   "cell_type": "markdown",
   "id": "88cb9873",
   "metadata": {},
   "source": [
    "### Intermediate Conclusion <a id='edac'><a/>\n",
    "After filtering our time periods that did not contain substantial data, we only lost 1.1% of our total events and 0.22% of unique users, while achieving 7 weeks worth of usable data points. Our filtered data distribution also appears more rounded. Finally, we confirmed equal representation of unique users in all 3 of our experiment groups, with no duplicate users across groups. Lastly, our median average of events per user dropped by 1, from 20 to 19."
   ]
  },
  {
   "cell_type": "markdown",
   "id": "96a90073",
   "metadata": {},
   "source": [
    "[Back to Contents](#back)"
   ]
  },
  {
   "cell_type": "markdown",
   "id": "c2aa5b74",
   "metadata": {},
   "source": [
    "# 3. The Events Funnel <a id='ef'></a>"
   ]
  },
  {
   "cell_type": "markdown",
   "id": "de075126",
   "metadata": {},
   "source": [
    "### 3.1. Itemizing Event Funnel Sequence(s) <a id='ef1'><a/>"
   ]
  },
  {
   "cell_type": "code",
   "execution_count": 20,
   "id": "70724a23",
   "metadata": {},
   "outputs": [
    {
     "data": {
      "text/html": [
       "<div>\n",
       "<style scoped>\n",
       "    .dataframe tbody tr th:only-of-type {\n",
       "        vertical-align: middle;\n",
       "    }\n",
       "\n",
       "    .dataframe tbody tr th {\n",
       "        vertical-align: top;\n",
       "    }\n",
       "\n",
       "    .dataframe thead th {\n",
       "        text-align: right;\n",
       "    }\n",
       "</style>\n",
       "<table border=\"1\" class=\"dataframe\">\n",
       "  <thead>\n",
       "    <tr style=\"text-align: right;\">\n",
       "      <th></th>\n",
       "      <th>event</th>\n",
       "      <th>event_freq</th>\n",
       "      <th>unique_users</th>\n",
       "      <th>user_proportion</th>\n",
       "    </tr>\n",
       "  </thead>\n",
       "  <tbody>\n",
       "    <tr>\n",
       "      <th>1</th>\n",
       "      <td>MainScreenAppear</td>\n",
       "      <td>117431</td>\n",
       "      <td>7419</td>\n",
       "      <td>0.98</td>\n",
       "    </tr>\n",
       "    <tr>\n",
       "      <th>2</th>\n",
       "      <td>OffersScreenAppear</td>\n",
       "      <td>46350</td>\n",
       "      <td>4593</td>\n",
       "      <td>0.61</td>\n",
       "    </tr>\n",
       "    <tr>\n",
       "      <th>0</th>\n",
       "      <td>CartScreenAppear</td>\n",
       "      <td>42365</td>\n",
       "      <td>3734</td>\n",
       "      <td>0.50</td>\n",
       "    </tr>\n",
       "    <tr>\n",
       "      <th>3</th>\n",
       "      <td>PaymentScreenSuccessful</td>\n",
       "      <td>34113</td>\n",
       "      <td>3539</td>\n",
       "      <td>0.47</td>\n",
       "    </tr>\n",
       "    <tr>\n",
       "      <th>4</th>\n",
       "      <td>Tutorial</td>\n",
       "      <td>1039</td>\n",
       "      <td>840</td>\n",
       "      <td>0.11</td>\n",
       "    </tr>\n",
       "  </tbody>\n",
       "</table>\n",
       "</div>"
      ],
      "text/plain": [
       "                     event  event_freq  unique_users  user_proportion\n",
       "1         MainScreenAppear      117431          7419             0.98\n",
       "2       OffersScreenAppear       46350          4593             0.61\n",
       "0         CartScreenAppear       42365          3734             0.50\n",
       "3  PaymentScreenSuccessful       34113          3539             0.47\n",
       "4                 Tutorial        1039           840             0.11"
      ]
     },
     "execution_count": 20,
     "metadata": {},
     "output_type": "execute_result"
    }
   ],
   "source": [
    "# Calculating our events funnel\n",
    "# Tabulating event frequency, unique users by event, proportion of overall users for each event \n",
    "\n",
    "events_funnel = (df\n",
    "                 .groupby('event', as_index=False)\n",
    "                 .agg({'event_ts': 'count', 'user_id': 'nunique'})\n",
    "                 .sort_values('user_id', ascending=False)\n",
    "                )\n",
    "events_funnel = events_funnel.rename(columns={'event_ts': 'event_freq', 'user_id': 'unique_users'})\n",
    "\n",
    "events_funnel['user_proportion'] = (events_funnel.unique_users / df.user_id.nunique()).round(2)\n",
    "events_funnel"
   ]
  },
  {
   "cell_type": "code",
   "execution_count": 21,
   "id": "70b41da9",
   "metadata": {},
   "outputs": [
    {
     "data": {
      "image/png": "[encoded data removed]"
     },
     "metadata": {},
     "output_type": "display_data"
    }
   ],
   "source": [
    "# Preliminary visualization of our Events Funnel\n",
    "\n",
    "fig = px.funnel(events_funnel, x='user_proportion', y='event', title='Proportion of Users by Event')\n",
    "fig.update_layout(autosize=False, width=800, height=600, title_x=0.565, font=dict(size=13))\n",
    "\n",
    "fig.show('png', scale=2)"
   ]
  },
  {
   "cell_type": "markdown",
   "id": "c7e3ed95",
   "metadata": {},
   "source": [
    "**Observations:** Our events funnel has two possible sequences, one of which takes into account 'Tutorials' being the first event undertaken by a user before transitioning to the main screen, offer screen, cart screen and payment screen in that order. The second possible sequence is exactly similar, without the tutorial event where a user forgoes the tutorial altogether. "
   ]
  },
  {
   "cell_type": "markdown",
   "id": "1516068f",
   "metadata": {},
   "source": [
    "[Back to Contents](#back)"
   ]
  },
  {
   "cell_type": "markdown",
   "id": "34579f99",
   "metadata": {},
   "source": [
    "### 3.2. Funnel Sequence - Main Screen(start) : Payment Screen(end) <a id='ef2'><a/>"
   ]
  },
  {
   "cell_type": "code",
   "execution_count": 22,
   "id": "c7748df2",
   "metadata": {},
   "outputs": [],
   "source": [
    "# Extracting users who participated in the tutorial \n",
    "\n",
    "tutorial_users = df.query(\"event == 'Tutorial'\").drop_duplicates(subset='user_id')"
   ]
  },
  {
   "cell_type": "code",
   "execution_count": 23,
   "id": "a3a8c4ca",
   "metadata": {},
   "outputs": [
    {
     "data": {
      "text/html": [
       "<div>\n",
       "<style scoped>\n",
       "    .dataframe tbody tr th:only-of-type {\n",
       "        vertical-align: middle;\n",
       "    }\n",
       "\n",
       "    .dataframe tbody tr th {\n",
       "        vertical-align: top;\n",
       "    }\n",
       "\n",
       "    .dataframe thead th {\n",
       "        text-align: right;\n",
       "    }\n",
       "</style>\n",
       "<table border=\"1\" class=\"dataframe\">\n",
       "  <thead>\n",
       "    <tr style=\"text-align: right;\">\n",
       "      <th></th>\n",
       "      <th>event</th>\n",
       "      <th>users</th>\n",
       "      <th>total_conversion, %</th>\n",
       "      <th>next_stage_conversion, %</th>\n",
       "    </tr>\n",
       "  </thead>\n",
       "  <tbody>\n",
       "    <tr>\n",
       "      <th>0</th>\n",
       "      <td>MainScreenAppear</td>\n",
       "      <td>6583</td>\n",
       "      <td>100.00</td>\n",
       "      <td>100.00</td>\n",
       "    </tr>\n",
       "    <tr>\n",
       "      <th>1</th>\n",
       "      <td>OffersScreenAppear</td>\n",
       "      <td>3949</td>\n",
       "      <td>59.99</td>\n",
       "      <td>59.99</td>\n",
       "    </tr>\n",
       "    <tr>\n",
       "      <th>2</th>\n",
       "      <td>CartScreenAppear</td>\n",
       "      <td>3192</td>\n",
       "      <td>48.49</td>\n",
       "      <td>80.83</td>\n",
       "    </tr>\n",
       "    <tr>\n",
       "      <th>3</th>\n",
       "      <td>PaymentScreenSuccessful</td>\n",
       "      <td>3072</td>\n",
       "      <td>46.67</td>\n",
       "      <td>96.24</td>\n",
       "    </tr>\n",
       "  </tbody>\n",
       "</table>\n",
       "</div>"
      ],
      "text/plain": [
       "                     event  users  total_conversion, %  \\\n",
       "0         MainScreenAppear   6583               100.00   \n",
       "1       OffersScreenAppear   3949                59.99   \n",
       "2         CartScreenAppear   3192                48.49   \n",
       "3  PaymentScreenSuccessful   3072                46.67   \n",
       "\n",
       "   next_stage_conversion, %  \n",
       "0                    100.00  \n",
       "1                     59.99  \n",
       "2                     80.83  \n",
       "3                     96.24  "
      ]
     },
     "execution_count": 23,
     "metadata": {},
     "output_type": "execute_result"
    }
   ],
   "source": [
    "# Non-tutorial event funnel\n",
    "\n",
    "non_tutorial_data = (df  # users who forgoed the tutorial stage\n",
    "                     .query(\"user_id not in @tutorial_users.user_id\")\n",
    "                     .reset_index(drop=True)\n",
    "                    ) \n",
    "non_tutorial_data['event'] = non_tutorial_data['event'].cat.remove_unused_categories() # removing the tutorial category \n",
    "\n",
    "mainScreenFunnel = (non_tutorial_data\n",
    "                    .groupby('event', as_index=False)\n",
    "                    .agg({'user_id': 'nunique'})\n",
    "                    .sort_values('user_id', ascending=False)\n",
    "                    .reset_index(drop=True)\n",
    "                   )\n",
    "\n",
    "mainScreenFunnel.columns = ['event', 'users']\n",
    "mainScreenFunnel['total_conversion, %'] = (mainScreenFunnel['users'] / mainScreenFunnel.loc[0, 'users'] * 100).round(2)\n",
    "mainScreenFunnel['next_stage_conversion, %'] = mainScreenFunnel['users'] / mainScreenFunnel['users'].shift(1) * 100\n",
    "mainScreenFunnel['next_stage_conversion, %'] = mainScreenFunnel['next_stage_conversion, %'].fillna(100).round(2)\n",
    "\n",
    "mainScreenFunnel"
   ]
  },
  {
   "cell_type": "markdown",
   "id": "8f80a5d1",
   "metadata": {},
   "source": [
    "**Observations:** \n",
    "1. About 46% of of app users end up making the entire journey up to the purchasing stage.\n",
    "2. We lost most of our prospective customers at the transition between our app's Main Screen to the Offers Screen (40% defect rate). Stages beyond that show significant conversion rates though, which shows our promotional offers are pulling their weight, it is just a matter of getting users to click on our offers page."
   ]
  },
  {
   "cell_type": "markdown",
   "id": "ff010142",
   "metadata": {},
   "source": [
    "[Back to Contents](#back)"
   ]
  },
  {
   "cell_type": "markdown",
   "id": "2f261d41",
   "metadata": {},
   "source": [
    "### 3.3. Funnel Sequence - Tutorial(start) : Payment Screen(end) <a id='ef3'><a/>"
   ]
  },
  {
   "cell_type": "code",
   "execution_count": 24,
   "id": "cfa85993",
   "metadata": {
    "scrolled": true
   },
   "outputs": [
    {
     "data": {
      "text/html": [
       "<div>\n",
       "<style scoped>\n",
       "    .dataframe tbody tr th:only-of-type {\n",
       "        vertical-align: middle;\n",
       "    }\n",
       "\n",
       "    .dataframe tbody tr th {\n",
       "        vertical-align: top;\n",
       "    }\n",
       "\n",
       "    .dataframe thead th {\n",
       "        text-align: right;\n",
       "    }\n",
       "</style>\n",
       "<table border=\"1\" class=\"dataframe\">\n",
       "  <thead>\n",
       "    <tr style=\"text-align: right;\">\n",
       "      <th></th>\n",
       "      <th>event</th>\n",
       "      <th>users</th>\n",
       "      <th>total_conversion, %</th>\n",
       "      <th>next_stage_conversion, %</th>\n",
       "    </tr>\n",
       "  </thead>\n",
       "  <tbody>\n",
       "    <tr>\n",
       "      <th>0</th>\n",
       "      <td>Tutorial</td>\n",
       "      <td>840</td>\n",
       "      <td>100.00</td>\n",
       "      <td>100.00</td>\n",
       "    </tr>\n",
       "    <tr>\n",
       "      <th>1</th>\n",
       "      <td>MainScreenAppear</td>\n",
       "      <td>836</td>\n",
       "      <td>99.52</td>\n",
       "      <td>99.52</td>\n",
       "    </tr>\n",
       "    <tr>\n",
       "      <th>2</th>\n",
       "      <td>OffersScreenAppear</td>\n",
       "      <td>644</td>\n",
       "      <td>76.67</td>\n",
       "      <td>77.03</td>\n",
       "    </tr>\n",
       "    <tr>\n",
       "      <th>3</th>\n",
       "      <td>CartScreenAppear</td>\n",
       "      <td>542</td>\n",
       "      <td>64.52</td>\n",
       "      <td>84.16</td>\n",
       "    </tr>\n",
       "    <tr>\n",
       "      <th>4</th>\n",
       "      <td>PaymentScreenSuccessful</td>\n",
       "      <td>467</td>\n",
       "      <td>55.60</td>\n",
       "      <td>86.16</td>\n",
       "    </tr>\n",
       "  </tbody>\n",
       "</table>\n",
       "</div>"
      ],
      "text/plain": [
       "                     event  users  total_conversion, %  \\\n",
       "0                 Tutorial    840               100.00   \n",
       "1         MainScreenAppear    836                99.52   \n",
       "2       OffersScreenAppear    644                76.67   \n",
       "3         CartScreenAppear    542                64.52   \n",
       "4  PaymentScreenSuccessful    467                55.60   \n",
       "\n",
       "   next_stage_conversion, %  \n",
       "0                    100.00  \n",
       "1                     99.52  \n",
       "2                     77.03  \n",
       "3                     84.16  \n",
       "4                     86.16  "
      ]
     },
     "execution_count": 24,
     "metadata": {},
     "output_type": "execute_result"
    }
   ],
   "source": [
    "# Tutorial event funnel\n",
    "\n",
    "tutorial_data = (df  # users who participated in the tutorial stage\n",
    "                 .query(\"user_id in @tutorial_users.user_id\")\n",
    "                 .reset_index(drop=True)\n",
    "                ) \n",
    "\n",
    "tutorialFunnel = (tutorial_data\n",
    "                    .groupby('event', as_index=False)\n",
    "                    .agg({'user_id': 'nunique'})\n",
    "                    .sort_values('user_id', ascending=False)\n",
    "                    .reset_index(drop=True)\n",
    "                   )\n",
    "\n",
    "tutorialFunnel.columns = ['event', 'users']\n",
    "tutorialFunnel['total_conversion, %'] = (tutorialFunnel['users'] / tutorialFunnel.loc[0, 'users'] * 100).round(2)\n",
    "tutorialFunnel['next_stage_conversion, %'] = tutorialFunnel['users'] / tutorialFunnel['users'].shift(1) * 100\n",
    "tutorialFunnel['next_stage_conversion, %'] = tutorialFunnel['next_stage_conversion, %'].fillna(100).round(2)\n",
    "\n",
    "tutorialFunnel"
   ]
  },
  {
   "cell_type": "markdown",
   "id": "bde6a07d",
   "metadata": {},
   "source": [
    "**Observations:** \n",
    "<br>Caveat: Our sample size of users who decide to participate in our app's tutorial is significantly smaller than our overall population size. However, there are some positive to draw from our observations - \n",
    "1. About 55% of of app users end up making the entire journey up to the purchasing stage, a roughly 9% increase over those who did not participate in the tutorial.\n",
    "2. Yet again, we lost most of our prospective customers at the transition between our app's Main Screen to the Offers Screen. However, the defect rate is smaller at roughly 23%. Stages beyond that also show relatively high conversion rates."
   ]
  },
  {
   "cell_type": "markdown",
   "id": "802f51b2",
   "metadata": {},
   "source": [
    "### Intermediate Conclusion <a id='efc'><a/>\n",
    "We found two potential event funnel sequences that depict user journey and behaviour on our app - A Tutorial(start) to Payment Screen(end) funnel, and a Main Screen(start) to Payment Screen(end) funnel. ***N/B:*** Our Tutorial funnel is significantly smaller in sample size, but gives some positive insights.\n",
    "1. Throughout both funnels, we seem to be losing customers at the transition from our Main Screen to our Offers Screen.\n",
    "2. Our Tutorial funnel does a better job at aleviating the above effects on customer defect rate at the Main Screen-Offers Screen stage, possibly indicating a lack of navigation user-friendlyness of the user interface.\n",
    "2. Our Tutorial funnel seems to do a better job at total conversion rates, about 9% increase compared to our Main Screen funnel."
   ]
  },
  {
   "cell_type": "markdown",
   "id": "d946f2ba",
   "metadata": {},
   "source": [
    "[Back to Contents](#back)"
   ]
  },
  {
   "cell_type": "markdown",
   "id": "a48eeec8",
   "metadata": {},
   "source": [
    "# 4. A/A/B Testing <a id='aab'></a>"
   ]
  },
  {
   "cell_type": "markdown",
   "id": "5414d167",
   "metadata": {},
   "source": [
    "### 4.1. User Distribution Equality amongst Experiment Groups <a id='aab1'></a>"
   ]
  },
  {
   "cell_type": "code",
   "execution_count": 25,
   "id": "f98ab0a5",
   "metadata": {},
   "outputs": [
    {
     "data": {
      "text/html": [
       "<div>\n",
       "<style scoped>\n",
       "    .dataframe tbody tr th:only-of-type {\n",
       "        vertical-align: middle;\n",
       "    }\n",
       "\n",
       "    .dataframe tbody tr th {\n",
       "        vertical-align: top;\n",
       "    }\n",
       "\n",
       "    .dataframe thead th {\n",
       "        text-align: right;\n",
       "    }\n",
       "</style>\n",
       "<table border=\"1\" class=\"dataframe\">\n",
       "  <thead>\n",
       "    <tr style=\"text-align: right;\">\n",
       "      <th></th>\n",
       "      <th>exp_id</th>\n",
       "      <th>users</th>\n",
       "      <th>user_share, %</th>\n",
       "    </tr>\n",
       "  </thead>\n",
       "  <tbody>\n",
       "    <tr>\n",
       "      <th>0</th>\n",
       "      <td>246</td>\n",
       "      <td>2484</td>\n",
       "      <td>32.97</td>\n",
       "    </tr>\n",
       "    <tr>\n",
       "      <th>1</th>\n",
       "      <td>247</td>\n",
       "      <td>2513</td>\n",
       "      <td>33.36</td>\n",
       "    </tr>\n",
       "    <tr>\n",
       "      <th>2</th>\n",
       "      <td>248</td>\n",
       "      <td>2537</td>\n",
       "      <td>33.67</td>\n",
       "    </tr>\n",
       "  </tbody>\n",
       "</table>\n",
       "</div>"
      ],
      "text/plain": [
       "   exp_id  users  user_share, %\n",
       "0     246   2484          32.97\n",
       "1     247   2513          33.36\n",
       "2     248   2537          33.67"
      ]
     },
     "metadata": {},
     "output_type": "display_data"
    },
    {
     "data": {
      "image/png": "[encoded data removed]",
      "text/plain": [
       "<Figure size 550x350 with 1 Axes>"
      ]
     },
     "metadata": {},
     "output_type": "display_data"
    }
   ],
   "source": [
    "# Checking proportion of user for each experiment group:\n",
    "\n",
    "user_count_by_exp = df.groupby('exp_id', as_index=False)['user_id'].nunique()\n",
    "user_count_by_exp['user_proportion'] = round(user_count_by_exp.user_id / user_count_by_exp.user_id.sum() * 100, 2)\n",
    "user_count_by_exp.columns = ['exp_id', 'users', 'user_share, %']\n",
    "display(user_count_by_exp)\n",
    "\n",
    "fig, ax = plt.subplots()\n",
    "sns.barplot(data=user_count_by_exp, x='exp_id', y='user_share, %', ax=ax)\n",
    "\n",
    "fig.set_figwidth(5.5)\n",
    "fig.set_figheight(3.5)\n",
    "ax.set_title('User Distribution by Experiment Group', fontsize=10.6)\n",
    "ax.set_ylabel('Percentage Share, %')\n",
    "ax.set_xlabel('Experiment Group')\n",
    "\n",
    "plt.show()"
   ]
  },
  {
   "cell_type": "markdown",
   "id": "d54688c2",
   "metadata": {},
   "source": [
    "**Observation:** All 3 experiment groups are have roughly equal share of users from our overall population, averaging 33% share. We can confirm sample sizes are equal for AB testing purposes."
   ]
  },
  {
   "cell_type": "markdown",
   "id": "1bd9be23",
   "metadata": {},
   "source": [
    "[Back to Contents](#back)"
   ]
  },
  {
   "cell_type": "markdown",
   "id": "28481ab0",
   "metadata": {},
   "source": [
    "### 4.2. Conversion Proportions between Control Groups <a id='aab2'></a>"
   ]
  },
  {
   "cell_type": "markdown",
   "id": "8860f749",
   "metadata": {},
   "source": [
    "**Methodology on proceeding steps:** <br>In this section, we will use a two proportion Z-test to compare the proportions in start-to-end conversion rates between experiment groups 246 and 247. Only if there is no statistically significant difference between conversion rates can we safely assume they are part of the same population, and therefore go ahead with an A/A/B test. ***We shall use a confidence interval of 1% to be extra sure of equality between our control groups.***"
   ]
  },
  {
   "cell_type": "code",
   "execution_count": 26,
   "id": "0cf17ffa",
   "metadata": {},
   "outputs": [],
   "source": [
    "# Filtering data by each experiment group\n",
    "\n",
    "control_246 = df.query(\"exp_id == 246\")\n",
    "control_247 = df.query(\"exp_id == 247\")\n",
    "test_248 = df.query(\"exp_id == 248\")"
   ]
  },
  {
   "cell_type": "code",
   "execution_count": 27,
   "id": "5e88c532",
   "metadata": {},
   "outputs": [],
   "source": [
    "# Grouping by events/calculating nunique of users\n",
    "\n",
    "##\n",
    "control_246_funnel = (control_246\n",
    "                      .groupby('event', as_index=False)\n",
    "                      .agg({'event_ts': 'count', 'user_id': 'nunique'})\n",
    "                      .sort_values('user_id', ascending=False).reset_index(drop=True))\n",
    "control_246_funnel.columns = ['event', 'event_count', 'users']\n",
    "\n",
    "##\n",
    "control_247_funnel = (control_247\n",
    "                      .groupby('event', as_index=False)\n",
    "                      .agg({'event_ts': 'count', 'user_id': 'nunique'})\n",
    "                      .sort_values('user_id', ascending=False).reset_index(drop=True))\n",
    "control_247_funnel.columns = ['event', 'event_count', 'users']\n",
    "\n",
    "##\n",
    "test_248_funnel = (test_248\n",
    "                   .groupby('event', as_index=False)\n",
    "                   .agg({'event_ts': 'count', 'user_id': 'nunique'})\n",
    "                   .sort_values('user_id', ascending=False).reset_index(drop=True))\n",
    "test_248_funnel.columns = ['event', 'event_count', 'users']\n"
   ]
  },
  {
   "cell_type": "code",
   "execution_count": 28,
   "id": "a7e3d6c1",
   "metadata": {},
   "outputs": [
    {
     "name": "stdout",
     "output_type": "stream",
     "text": [
      "246 Trials: 2450\n",
      "246 Successes: 1200\n",
      "\n",
      "247 Trials: 2476\n",
      "247 Successes: 1158\n"
     ]
    }
   ],
   "source": [
    "# Extracting our control groups(s) trial and success parameters, defined as {MainScreenAppear/PaymentScreenSuccessful} \n",
    "\n",
    "control_246_trials = control_246_funnel.loc[0, 'users']  # Main screen unique user count\n",
    "print(\"246 Trials:\", control_246_trials)\n",
    "control_246_successes = control_246_funnel.loc[3, 'users']  # Succesful payment unique user count\n",
    "print(\"246 Successes:\", control_246_successes)\n",
    "\n",
    "print()\n",
    "\n",
    "control_247_trials = control_247_funnel.loc[0, 'users']  # Main screen unique user count\n",
    "print(\"247 Trials:\", control_247_trials)\n",
    "control_247_successes = control_247_funnel.loc[3, 'users']  # Succesful payment unique user count\n",
    "print(\"247 Successes:\", control_247_successes)"
   ]
  },
  {
   "cell_type": "code",
   "execution_count": 29,
   "id": "0422cf5d",
   "metadata": {},
   "outputs": [],
   "source": [
    "# Proportion Z-Test Function\n",
    "\n",
    "def check_hypothesis(successes1,trials1, successes2,trials2, alpha=0.05):\n",
    "    \n",
    "    p1 = successes1/trials1\n",
    "    p2 = successes2/trials2\n",
    "    p_combined = (successes1 + successes2) / (trials1 + trials2)\n",
    "    difference = p1 - p2\n",
    "    \n",
    "    z_score = difference / math.sqrt(p_combined * (1 - p_combined) * (1/trials1 + 1/trials2))\n",
    "    \n",
    "    distr = stats.norm(0, 1) \n",
    "    p_value = (1 - distr.cdf(abs(z_score))) * 2\n",
    "    \n",
    "    if (p_value < alpha):\n",
    "        print('p-value: ', round(p_value, 2))\n",
    "        print(\"Reject the null hypothesis: there is a significant difference between the proportions of both groups.\")\n",
    "    else:\n",
    "        print('p-value: ', round(p_value, 2))\n",
    "        print(\"Failed to reject the null hypothesis: there is no reason to consider the proportions of both groups to be different.\") "
   ]
  },
  {
   "cell_type": "code",
   "execution_count": 30,
   "id": "be7e84a0",
   "metadata": {
    "scrolled": true
   },
   "outputs": [
    {
     "name": "stdout",
     "output_type": "stream",
     "text": [
      "p-value:  0.12\n",
      "Failed to reject the null hypothesis: there is no reason to consider the proportions of both groups to be different.\n"
     ]
    }
   ],
   "source": [
    "# Testing our hypothesis\n",
    "\n",
    "check_hypothesis(control_246_successes,control_246_trials, control_247_successes,control_247_trials, alpha=0.01)"
   ]
  },
  {
   "cell_type": "markdown",
   "id": "2e4d88f4",
   "metadata": {},
   "source": [
    "**Observation:** We did not reach statistical significance in our proportion Z-Test, and thus determined that our two control groups are similar in conversion proportions."
   ]
  },
  {
   "cell_type": "markdown",
   "id": "09e707ab",
   "metadata": {},
   "source": [
    "[Back to Contents](#back)"
   ]
  },
  {
   "cell_type": "markdown",
   "id": "5e7f321d",
   "metadata": {},
   "source": [
    "### 4.3. User Proportions by Event Categories between Control Groups <a id='aab3'></a>"
   ]
  },
  {
   "cell_type": "markdown",
   "id": "095b4f81",
   "metadata": {},
   "source": [
    "**Methodology on proceeding steps:** <br>In this section, we will compare the share of users for each event, starting from the highest occurring event to the least. This will further remove any doubts (if any) in determining the viability of our control groups. As we are studying proportions, we will once again use a two proportion Z-Test. ***As with our proportion conversion test, we will use a 1% confidence interval to be extra cautious.***"
   ]
  },
  {
   "cell_type": "code",
   "execution_count": 31,
   "id": "a7e06102",
   "metadata": {},
   "outputs": [
    {
     "data": {
      "text/html": [
       "<div>\n",
       "<style scoped>\n",
       "    .dataframe tbody tr th:only-of-type {\n",
       "        vertical-align: middle;\n",
       "    }\n",
       "\n",
       "    .dataframe tbody tr th {\n",
       "        vertical-align: top;\n",
       "    }\n",
       "\n",
       "    .dataframe thead th {\n",
       "        text-align: right;\n",
       "    }\n",
       "</style>\n",
       "<table border=\"1\" class=\"dataframe\">\n",
       "  <thead>\n",
       "    <tr style=\"text-align: right;\">\n",
       "      <th></th>\n",
       "      <th>event</th>\n",
       "      <th>event_count</th>\n",
       "      <th>users</th>\n",
       "    </tr>\n",
       "  </thead>\n",
       "  <tbody>\n",
       "    <tr>\n",
       "      <th>0</th>\n",
       "      <td>MainScreenAppear</td>\n",
       "      <td>37708</td>\n",
       "      <td>2450</td>\n",
       "    </tr>\n",
       "    <tr>\n",
       "      <th>1</th>\n",
       "      <td>OffersScreenAppear</td>\n",
       "      <td>14773</td>\n",
       "      <td>1542</td>\n",
       "    </tr>\n",
       "    <tr>\n",
       "      <th>2</th>\n",
       "      <td>CartScreenAppear</td>\n",
       "      <td>14711</td>\n",
       "      <td>1266</td>\n",
       "    </tr>\n",
       "    <tr>\n",
       "      <th>3</th>\n",
       "      <td>PaymentScreenSuccessful</td>\n",
       "      <td>11910</td>\n",
       "      <td>1200</td>\n",
       "    </tr>\n",
       "    <tr>\n",
       "      <th>4</th>\n",
       "      <td>Tutorial</td>\n",
       "      <td>323</td>\n",
       "      <td>278</td>\n",
       "    </tr>\n",
       "  </tbody>\n",
       "</table>\n",
       "</div>"
      ],
      "text/plain": [
       "                     event  event_count  users\n",
       "0         MainScreenAppear        37708   2450\n",
       "1       OffersScreenAppear        14773   1542\n",
       "2         CartScreenAppear        14711   1266\n",
       "3  PaymentScreenSuccessful        11910   1200\n",
       "4                 Tutorial          323    278"
      ]
     },
     "metadata": {},
     "output_type": "display_data"
    },
    {
     "name": "stdout",
     "output_type": "stream",
     "text": [
      "Control 246 Funnel\n"
     ]
    },
    {
     "data": {
      "text/html": [
       "<div>\n",
       "<style scoped>\n",
       "    .dataframe tbody tr th:only-of-type {\n",
       "        vertical-align: middle;\n",
       "    }\n",
       "\n",
       "    .dataframe tbody tr th {\n",
       "        vertical-align: top;\n",
       "    }\n",
       "\n",
       "    .dataframe thead th {\n",
       "        text-align: right;\n",
       "    }\n",
       "</style>\n",
       "<table border=\"1\" class=\"dataframe\">\n",
       "  <thead>\n",
       "    <tr style=\"text-align: right;\">\n",
       "      <th></th>\n",
       "      <th>event</th>\n",
       "      <th>event_count</th>\n",
       "      <th>users</th>\n",
       "    </tr>\n",
       "  </thead>\n",
       "  <tbody>\n",
       "    <tr>\n",
       "      <th>0</th>\n",
       "      <td>MainScreenAppear</td>\n",
       "      <td>39123</td>\n",
       "      <td>2476</td>\n",
       "    </tr>\n",
       "    <tr>\n",
       "      <th>1</th>\n",
       "      <td>OffersScreenAppear</td>\n",
       "      <td>15182</td>\n",
       "      <td>1520</td>\n",
       "    </tr>\n",
       "    <tr>\n",
       "      <th>2</th>\n",
       "      <td>CartScreenAppear</td>\n",
       "      <td>12456</td>\n",
       "      <td>1238</td>\n",
       "    </tr>\n",
       "    <tr>\n",
       "      <th>3</th>\n",
       "      <td>PaymentScreenSuccessful</td>\n",
       "      <td>10043</td>\n",
       "      <td>1158</td>\n",
       "    </tr>\n",
       "    <tr>\n",
       "      <th>4</th>\n",
       "      <td>Tutorial</td>\n",
       "      <td>343</td>\n",
       "      <td>283</td>\n",
       "    </tr>\n",
       "  </tbody>\n",
       "</table>\n",
       "</div>"
      ],
      "text/plain": [
       "                     event  event_count  users\n",
       "0         MainScreenAppear        39123   2476\n",
       "1       OffersScreenAppear        15182   1520\n",
       "2         CartScreenAppear        12456   1238\n",
       "3  PaymentScreenSuccessful        10043   1158\n",
       "4                 Tutorial          343    283"
      ]
     },
     "metadata": {},
     "output_type": "display_data"
    },
    {
     "name": "stdout",
     "output_type": "stream",
     "text": [
      "Control 247 Funnel\n"
     ]
    }
   ],
   "source": [
    "# Funnel reference\n",
    "\n",
    "display(control_246_funnel)\n",
    "print(\"Control 246 Funnel\")\n",
    "\n",
    "display(control_247_funnel)\n",
    "print(\"Control 247 Funnel\")"
   ]
  },
  {
   "cell_type": "code",
   "execution_count": 32,
   "id": "220b38ba",
   "metadata": {},
   "outputs": [],
   "source": [
    "# Trials and successes for each CONTROL groups by event type\n",
    "\n",
    "## Control group 246\n",
    "sample_246_trials = control_246.user_id.nunique()                       # Control group 246 - OVERALL unique user count\n",
    "\n",
    "main_246_successes = control_246_funnel.loc[0, 'users']                 # Main Screen event - unique user count\n",
    "offers_246_successes = control_246_funnel.loc[1, 'users']               # Offers Screen event - unique user count\n",
    "cart_246_successes = control_246_funnel.loc[2, 'users']                 # Cart Screen event - unique user count\n",
    "payment_246_successes = control_246_funnel.loc[3, 'users']              # Payment Screen event - unique user count\n",
    "tutorial_246_successes = control_246_funnel.loc[4, 'users']             # Tutorial Screen event - unique user count\n",
    "\n",
    "\n",
    "## Control group 247\n",
    "sample_247_trials = control_247.user_id.nunique()                       # Control group 247 - OVERALL unique user count\n",
    "\n",
    "main_247_successes = control_247_funnel.loc[0, 'users']                 # Main Screen event - unique user count\n",
    "offers_247_successes = control_247_funnel.loc[1, 'users']               # Offers Screen event - unique user count\n",
    "cart_247_successes = control_247_funnel.loc[2, 'users']                 # Cart Screen event - unique user count\n",
    "payment_247_successes = control_247_funnel.loc[3, 'users']              # Payment Screen event - unique user count\n",
    "tutorial_247_successes = control_247_funnel.loc[4, 'users']             # Tutorial Screen event - unique user count"
   ]
  },
  {
   "cell_type": "code",
   "execution_count": 33,
   "id": "21f1c15d",
   "metadata": {
    "scrolled": true
   },
   "outputs": [
    {
     "name": "stdout",
     "output_type": "stream",
     "text": [
      "\u001b[1mMain page\u001b[0m event proportions.\n",
      "p-value:  0.76\n",
      "Failed to reject the null hypothesis: there is no reason to consider the proportions of both groups to be different.\n",
      "\n",
      "\u001b[1mOffers page\u001b[0m event proportions.\n",
      "p-value:  0.25\n",
      "Failed to reject the null hypothesis: there is no reason to consider the proportions of both groups to be different.\n",
      "\n",
      "\u001b[1mCart page\u001b[0m event proportions.\n",
      "p-value:  0.23\n",
      "Failed to reject the null hypothesis: there is no reason to consider the proportions of both groups to be different.\n",
      "\n",
      "\u001b[1mPayment Success page\u001b[0m event proportions.\n",
      "p-value:  0.11\n",
      "Failed to reject the null hypothesis: there is no reason to consider the proportions of both groups to be different.\n",
      "\n",
      "\u001b[1mTutorial page\u001b[0m event proportions.\n",
      "p-value:  0.94\n",
      "Failed to reject the null hypothesis: there is no reason to consider the proportions of both groups to be different.\n"
     ]
    }
   ],
   "source": [
    "# Calling our two proportion z-test on each event\n",
    "\n",
    "print(\"\\033[1mMain page\\033[0m event proportions.\")\n",
    "check_hypothesis(main_246_successes,sample_246_trials, main_247_successes,sample_247_trials, alpha=0.01)\n",
    "print()\n",
    "\n",
    "print(\"\\033[1mOffers page\\033[0m event proportions.\")\n",
    "check_hypothesis(offers_246_successes,sample_246_trials, offers_247_successes,sample_247_trials, alpha=0.01)\n",
    "print()\n",
    "\n",
    "print(\"\\033[1mCart page\\033[0m event proportions.\")\n",
    "check_hypothesis(cart_246_successes,sample_246_trials, cart_247_successes,sample_247_trials, alpha=0.01)\n",
    "print()\n",
    "\n",
    "print(\"\\033[1mPayment Success page\\033[0m event proportions.\")\n",
    "check_hypothesis(payment_246_successes,sample_246_trials, payment_247_successes,sample_247_trials, alpha=0.01)\n",
    "print()\n",
    "\n",
    "print(\"\\033[1mTutorial page\\033[0m event proportions.\")\n",
    "check_hypothesis(tutorial_246_successes,sample_246_trials, tutorial_247_successes,sample_247_trials, alpha=0.01)"
   ]
  },
  {
   "cell_type": "markdown",
   "id": "0d0bc776",
   "metadata": {},
   "source": [
    "**Observations:** When running our two proportion Z-Test, we found p-values that were far away from reaching statistical significance. This is inclusive of both 1% and 5% significance thresholds. We can infer that our two control groups were split properly and are representative of each other."
   ]
  },
  {
   "cell_type": "markdown",
   "id": "9e337d30",
   "metadata": {},
   "source": [
    "[Back to Contents](#back)"
   ]
  },
  {
   "cell_type": "markdown",
   "id": "579fe0a6",
   "metadata": {},
   "source": [
    "### 4.4. User Proportions by Event Categories between Control & Test Groups <a id='aab4'></a>"
   ]
  },
  {
   "cell_type": "markdown",
   "id": "65d8881e",
   "metadata": {},
   "source": [
    "**Methodology on proceeding steps:** <br>We have now determined proportion equality between both control groups 246 and 247 that provides us a higher level of confidence in conducting our A/B test. We will be similarly comparing user proportions for each event of test group 248 against those of control groups 246 and 247 in **(1)** isolation, and in **(2)** combination. ***For comparisons with our test group, we will use a confidence interval of 5% instead, as sample sizes are relatively large, averaging roughly 2,500 unique users per experiment group.***"
   ]
  },
  {
   "cell_type": "code",
   "execution_count": 34,
   "id": "4a77c721",
   "metadata": {},
   "outputs": [],
   "source": [
    "# Trials and successes by event type combined for both control groups\n",
    "\n",
    "## Control group 246,247 - combined\n",
    "control_combined_trials = sample_246_trials + sample_247_trials              # Control groups OVERALL unique user count combined\n",
    "\n",
    "main_combined_successes = main_246_successes + main_247_successes                # Main user count control group combined\n",
    "offers_combined_successes = offers_246_successes + offers_247_successes          # Offers user count control group combined\n",
    "cart_combined_successes = cart_246_successes + cart_247_successes                # Cart user count control group combined\n",
    "payment_combined_successes = payment_246_successes + payment_247_successes       # Payment user count control group combined\n",
    "tutorial_combined_successes = tutorial_246_successes + tutorial_247_successes    # Tutorial user count control group combined"
   ]
  },
  {
   "cell_type": "code",
   "execution_count": 35,
   "id": "e5b768f3",
   "metadata": {},
   "outputs": [],
   "source": [
    "# Trials and successes for TEST Group 248 by event type\n",
    "\n",
    "sample_248_trials = test_248.user_id.nunique()                      # Test group 248 - OVERALL unique user count\n",
    "\n",
    "main_248_successes = test_248_funnel.loc[0, 'users']                 # Main Screen event - unique user count\n",
    "offers_248_successes = test_248_funnel.loc[1, 'users']               # Offers Screen event - unique user count\n",
    "cart_248_successes = test_248_funnel.loc[2, 'users']                 # Cart Screen event - unique user count\n",
    "payment_248_successes = test_248_funnel.loc[3, 'users']              # Payment Screen event - unique user count\n",
    "tutorial_248_successes = test_248_funnel.loc[4, 'users']             # Tutorial Screen event - unique user count"
   ]
  },
  {
   "cell_type": "markdown",
   "id": "c06d5837",
   "metadata": {},
   "source": [
    "<br>\n",
    "\n",
    "**<u>TEST GROUP 248 X CONTROL GROUP 246 </u>**"
   ]
  },
  {
   "cell_type": "code",
   "execution_count": 36,
   "id": "edef0a82",
   "metadata": {},
   "outputs": [
    {
     "name": "stdout",
     "output_type": "stream",
     "text": [
      "\u001b[1mMain page\u001b[0m event proportions.\n",
      "p-value:  0.29\n",
      "Failed to reject the null hypothesis: there is no reason to consider the proportions of both groups to be different.\n",
      "\n",
      "\u001b[1mOffers page\u001b[0m event proportions.\n",
      "p-value:  0.21\n",
      "Failed to reject the null hypothesis: there is no reason to consider the proportions of both groups to be different.\n",
      "\n",
      "\u001b[1mCart page\u001b[0m event proportions.\n",
      "p-value:  0.08\n",
      "Failed to reject the null hypothesis: there is no reason to consider the proportions of both groups to be different.\n",
      "\n",
      "\u001b[1mPayment Success page\u001b[0m event proportions.\n",
      "p-value:  0.21\n",
      "Failed to reject the null hypothesis: there is no reason to consider the proportions of both groups to be different.\n",
      "\n",
      "\u001b[1mTutorial page\u001b[0m event proportions.\n",
      "p-value:  0.83\n",
      "Failed to reject the null hypothesis: there is no reason to consider the proportions of both groups to be different.\n"
     ]
    }
   ],
   "source": [
    "# Comparing test group 248 with control group 246\n",
    "\n",
    "print(\"\\033[1mMain page\\033[0m event proportions.\")\n",
    "check_hypothesis(main_246_successes,sample_246_trials, main_248_successes,sample_248_trials, alpha=0.05)\n",
    "print()\n",
    "\n",
    "print(\"\\033[1mOffers page\\033[0m event proportions.\")\n",
    "check_hypothesis(offers_246_successes,sample_246_trials, offers_248_successes,sample_248_trials, alpha=0.05)\n",
    "print()\n",
    "\n",
    "print(\"\\033[1mCart page\\033[0m event proportions.\")\n",
    "check_hypothesis(cart_246_successes,sample_246_trials, cart_248_successes,sample_248_trials, alpha=0.05)\n",
    "print()\n",
    "\n",
    "print(\"\\033[1mPayment Success page\\033[0m event proportions.\")\n",
    "check_hypothesis(payment_246_successes,sample_246_trials, payment_248_successes,sample_248_trials, alpha=0.05)\n",
    "print()\n",
    "\n",
    "print(\"\\033[1mTutorial page\\033[0m event proportions.\")\n",
    "check_hypothesis(tutorial_246_successes,sample_246_trials, tutorial_248_successes,sample_248_trials, alpha=0.05)"
   ]
  },
  {
   "cell_type": "markdown",
   "id": "17f8e145",
   "metadata": {},
   "source": [
    "**Observations:** Control group 246 and test group 248 failed to reach statistical significance in any of the events, with all P-Values appearing above a 5% significance level."
   ]
  },
  {
   "cell_type": "markdown",
   "id": "7739496d",
   "metadata": {},
   "source": [
    "<br>\n",
    "\n",
    "**<u>TEST GROUP 248 X CONTROL GROUP 247 </u>**"
   ]
  },
  {
   "cell_type": "code",
   "execution_count": 37,
   "id": "ba03eb86",
   "metadata": {},
   "outputs": [
    {
     "name": "stdout",
     "output_type": "stream",
     "text": [
      "\u001b[1mMain page\u001b[0m event proportions.\n",
      "p-value:  0.46\n",
      "Failed to reject the null hypothesis: there is no reason to consider the proportions of both groups to be different.\n",
      "\n",
      "\u001b[1mOffers page\u001b[0m event proportions.\n",
      "p-value:  0.92\n",
      "Failed to reject the null hypothesis: there is no reason to consider the proportions of both groups to be different.\n",
      "\n",
      "\u001b[1mCart page\u001b[0m event proportions.\n",
      "p-value:  0.58\n",
      "Failed to reject the null hypothesis: there is no reason to consider the proportions of both groups to be different.\n",
      "\n",
      "\u001b[1mPayment Success page\u001b[0m event proportions.\n",
      "p-value:  0.74\n",
      "Failed to reject the null hypothesis: there is no reason to consider the proportions of both groups to be different.\n",
      "\n",
      "\u001b[1mTutorial page\u001b[0m event proportions.\n",
      "p-value:  0.77\n",
      "Failed to reject the null hypothesis: there is no reason to consider the proportions of both groups to be different.\n"
     ]
    }
   ],
   "source": [
    "# Comparing test group 248 with control group 247\n",
    "\n",
    "print(\"\\033[1mMain page\\033[0m event proportions.\")\n",
    "check_hypothesis(main_247_successes,sample_247_trials, main_248_successes,sample_248_trials, alpha=0.05)\n",
    "print()\n",
    "\n",
    "print(\"\\033[1mOffers page\\033[0m event proportions.\")\n",
    "check_hypothesis(offers_247_successes,sample_247_trials, offers_248_successes,sample_248_trials, alpha=0.05)\n",
    "print()\n",
    "\n",
    "print(\"\\033[1mCart page\\033[0m event proportions.\")\n",
    "check_hypothesis(cart_247_successes,sample_247_trials, cart_248_successes,sample_248_trials, alpha=0.05)\n",
    "print()\n",
    "\n",
    "print(\"\\033[1mPayment Success page\\033[0m event proportions.\")\n",
    "check_hypothesis(payment_247_successes,sample_247_trials, payment_248_successes,sample_248_trials, alpha=0.05)\n",
    "print()\n",
    "\n",
    "print(\"\\033[1mTutorial page\\033[0m event proportions.\")\n",
    "check_hypothesis(tutorial_247_successes,sample_247_trials, tutorial_248_successes,sample_248_trials, alpha=0.05)"
   ]
  },
  {
   "cell_type": "markdown",
   "id": "29a2ad9e",
   "metadata": {},
   "source": [
    "**Observations:** Control group 247 and test group 248 failed to reach statistical significance in any of the events, with all P-Values appearing above a 5% significance level."
   ]
  },
  {
   "cell_type": "markdown",
   "id": "8c5aa048",
   "metadata": {},
   "source": [
    "<br>\n",
    "\n",
    "**<u>TEST GROUP 248 X COMBINED CONTROL GROUPS </u>**"
   ]
  },
  {
   "cell_type": "code",
   "execution_count": 38,
   "id": "8e4f3027",
   "metadata": {
    "scrolled": true
   },
   "outputs": [
    {
     "name": "stdout",
     "output_type": "stream",
     "text": [
      "\u001b[1mMain page\u001b[0m event proportions.\n",
      "p-value:  0.29\n",
      "Failed to reject the null hypothesis: there is no reason to consider the proportions of both groups to be different.\n",
      "\n",
      "\u001b[1mOffers page\u001b[0m event proportions.\n",
      "p-value:  0.43\n",
      "Failed to reject the null hypothesis: there is no reason to consider the proportions of both groups to be different.\n",
      "\n",
      "\u001b[1mCart page\u001b[0m event proportions.\n",
      "p-value:  0.18\n",
      "Failed to reject the null hypothesis: there is no reason to consider the proportions of both groups to be different.\n",
      "\n",
      "\u001b[1mPayment Success page\u001b[0m event proportions.\n",
      "p-value:  0.6\n",
      "Failed to reject the null hypothesis: there is no reason to consider the proportions of both groups to be different.\n",
      "\n",
      "\u001b[1mTutorial page\u001b[0m event proportions.\n",
      "p-value:  0.76\n",
      "Failed to reject the null hypothesis: there is no reason to consider the proportions of both groups to be different.\n"
     ]
    }
   ],
   "source": [
    "# Comparing test group 248 with both control groups combined\n",
    "\n",
    "print(\"\\033[1mMain page\\033[0m event proportions.\")\n",
    "check_hypothesis(main_combined_successes,control_combined_trials, main_248_successes,sample_248_trials, alpha=0.05)\n",
    "print()\n",
    "\n",
    "print(\"\\033[1mOffers page\\033[0m event proportions.\")\n",
    "check_hypothesis(offers_combined_successes,control_combined_trials, offers_248_successes,sample_248_trials, alpha=0.05)\n",
    "print()\n",
    "\n",
    "print(\"\\033[1mCart page\\033[0m event proportions.\")\n",
    "check_hypothesis(cart_combined_successes,control_combined_trials, cart_248_successes,sample_248_trials, alpha=0.05)\n",
    "print()\n",
    "\n",
    "print(\"\\033[1mPayment Success page\\033[0m event proportions.\")\n",
    "check_hypothesis(payment_combined_successes,control_combined_trials, payment_248_successes,sample_248_trials, alpha=0.05)\n",
    "print()\n",
    "\n",
    "print(\"\\033[1mTutorial page\\033[0m event proportions.\")\n",
    "check_hypothesis(tutorial_combined_successes,control_combined_trials, tutorial_248_successes,sample_248_trials, alpha=0.05)"
   ]
  },
  {
   "cell_type": "markdown",
   "id": "0c305c0e",
   "metadata": {},
   "source": [
    "**Observations:** Combined control group and test group 248 failed to reach statistical significance in any of the events, with all P-Values appearing above a 5% significance level. ***It is worth nothing however, our Payment Success event is close to reaching statistical significance.***"
   ]
  },
  {
   "cell_type": "markdown",
   "id": "8bcc1514",
   "metadata": {},
   "source": [
    "[Back to Contents](#back)"
   ]
  },
  {
   "cell_type": "markdown",
   "id": "c3bdea26",
   "metadata": {},
   "source": [
    "### 4.5. Conversion Proportions between Combined Control Group & Test Group 248 <a id='aab5'></a>"
   ]
  },
  {
   "cell_type": "markdown",
   "id": "06179214",
   "metadata": {},
   "source": [
    "**Methodology on proceeding steps:** <br>We did not reach statistical significance in any of our Z-Tests in prior comparisons on proportions. Just to round things up, this section will round things off by comparing potential differences of our combined control groups and test group, with regards to overall conversion of users who ended up making a payment. ***We will set a significance level of 5%.***"
   ]
  },
  {
   "cell_type": "code",
   "execution_count": 39,
   "id": "8feea7da",
   "metadata": {},
   "outputs": [
    {
     "data": {
      "text/html": [
       "<div>\n",
       "<style scoped>\n",
       "    .dataframe tbody tr th:only-of-type {\n",
       "        vertical-align: middle;\n",
       "    }\n",
       "\n",
       "    .dataframe tbody tr th {\n",
       "        vertical-align: top;\n",
       "    }\n",
       "\n",
       "    .dataframe thead th {\n",
       "        text-align: right;\n",
       "    }\n",
       "</style>\n",
       "<table border=\"1\" class=\"dataframe\">\n",
       "  <thead>\n",
       "    <tr style=\"text-align: right;\">\n",
       "      <th></th>\n",
       "      <th>event</th>\n",
       "      <th>users</th>\n",
       "      <th>conversion, %</th>\n",
       "    </tr>\n",
       "  </thead>\n",
       "  <tbody>\n",
       "    <tr>\n",
       "      <th>0</th>\n",
       "      <td>MainScreenAppear</td>\n",
       "      <td>2493</td>\n",
       "      <td>1.000000</td>\n",
       "    </tr>\n",
       "    <tr>\n",
       "      <th>1</th>\n",
       "      <td>OffersScreenAppear</td>\n",
       "      <td>1531</td>\n",
       "      <td>0.614120</td>\n",
       "    </tr>\n",
       "    <tr>\n",
       "      <th>2</th>\n",
       "      <td>CartScreenAppear</td>\n",
       "      <td>1230</td>\n",
       "      <td>0.493381</td>\n",
       "    </tr>\n",
       "    <tr>\n",
       "      <th>3</th>\n",
       "      <td>PaymentScreenSuccessful</td>\n",
       "      <td>1181</td>\n",
       "      <td>0.473726</td>\n",
       "    </tr>\n",
       "    <tr>\n",
       "      <th>4</th>\n",
       "      <td>Tutorial</td>\n",
       "      <td>279</td>\n",
       "      <td>0.111913</td>\n",
       "    </tr>\n",
       "  </tbody>\n",
       "</table>\n",
       "</div>"
      ],
      "text/plain": [
       "                     event  users  conversion, %\n",
       "0         MainScreenAppear   2493       1.000000\n",
       "1       OffersScreenAppear   1531       0.614120\n",
       "2         CartScreenAppear   1230       0.493381\n",
       "3  PaymentScreenSuccessful   1181       0.473726\n",
       "4                 Tutorial    279       0.111913"
      ]
     },
     "metadata": {},
     "output_type": "display_data"
    },
    {
     "name": "stdout",
     "output_type": "stream",
     "text": [
      "Test Group 248\n"
     ]
    },
    {
     "data": {
      "text/html": [
       "<div>\n",
       "<style scoped>\n",
       "    .dataframe tbody tr th:only-of-type {\n",
       "        vertical-align: middle;\n",
       "    }\n",
       "\n",
       "    .dataframe tbody tr th {\n",
       "        vertical-align: top;\n",
       "    }\n",
       "\n",
       "    .dataframe thead th {\n",
       "        text-align: right;\n",
       "    }\n",
       "</style>\n",
       "<table border=\"1\" class=\"dataframe\">\n",
       "  <thead>\n",
       "    <tr style=\"text-align: right;\">\n",
       "      <th></th>\n",
       "      <th>event</th>\n",
       "      <th>users</th>\n",
       "      <th>conversion, %</th>\n",
       "    </tr>\n",
       "  </thead>\n",
       "  <tbody>\n",
       "    <tr>\n",
       "      <th>0</th>\n",
       "      <td>MainScreenAppear</td>\n",
       "      <td>4926</td>\n",
       "      <td>1.000000</td>\n",
       "    </tr>\n",
       "    <tr>\n",
       "      <th>1</th>\n",
       "      <td>OffersScreenAppear</td>\n",
       "      <td>3062</td>\n",
       "      <td>0.621600</td>\n",
       "    </tr>\n",
       "    <tr>\n",
       "      <th>2</th>\n",
       "      <td>CartScreenAppear</td>\n",
       "      <td>2504</td>\n",
       "      <td>0.508323</td>\n",
       "    </tr>\n",
       "    <tr>\n",
       "      <th>3</th>\n",
       "      <td>PaymentScreenSuccessful</td>\n",
       "      <td>2358</td>\n",
       "      <td>0.478685</td>\n",
       "    </tr>\n",
       "    <tr>\n",
       "      <th>4</th>\n",
       "      <td>Tutorial</td>\n",
       "      <td>561</td>\n",
       "      <td>0.113886</td>\n",
       "    </tr>\n",
       "  </tbody>\n",
       "</table>\n",
       "</div>"
      ],
      "text/plain": [
       "                     event  users  conversion, %\n",
       "0         MainScreenAppear   4926       1.000000\n",
       "1       OffersScreenAppear   3062       0.621600\n",
       "2         CartScreenAppear   2504       0.508323\n",
       "3  PaymentScreenSuccessful   2358       0.478685\n",
       "4                 Tutorial    561       0.113886"
      ]
     },
     "metadata": {},
     "output_type": "display_data"
    },
    {
     "name": "stdout",
     "output_type": "stream",
     "text": [
      "Combined Control Groups 246, 247\n"
     ]
    }
   ],
   "source": [
    "# Visualizing conversion to purchase rates for combined control groups and test group\n",
    "\n",
    "control_246_247 = df.query(\"exp_id == [246, 247]\")\n",
    "\n",
    "test_248_funnel = (test_248\n",
    "                   .groupby('event', as_index=False)\n",
    "                   .agg({'user_id': 'nunique'})\n",
    "                   .sort_values('user_id', ascending=False)\n",
    "                   .reset_index(drop=True)\n",
    "                  )\n",
    "test_248_funnel.rename(columns={'user_id': 'users'}, inplace=True)\n",
    "test_248_funnel['conversion, %'] = test_248_funnel['users'] / test_248_funnel.loc[0, 'users']\n",
    "\n",
    "control_246_247_funnel = (control_246_247\n",
    "                          .groupby('event', as_index=False)\n",
    "                          .agg({'user_id': 'nunique'})\n",
    "                          .sort_values('user_id', ascending=False)\n",
    "                          .reset_index(drop=True)\n",
    "                         )\n",
    "control_246_247_funnel.rename(columns={'user_id': 'users'}, inplace=True)\n",
    "control_246_247_funnel['conversion, %'] = control_246_247_funnel['users'] / control_246_247_funnel.loc[0, 'users']\n",
    "\n",
    "display(test_248_funnel)\n",
    "print(\"Test Group 248\")\n",
    "display(control_246_247_funnel)\n",
    "print(\"Combined Control Groups 246, 247\")"
   ]
  },
  {
   "cell_type": "code",
   "execution_count": 40,
   "id": "7d76e26c",
   "metadata": {},
   "outputs": [
    {
     "name": "stdout",
     "output_type": "stream",
     "text": [
      "Control Trials: 4926\n",
      "Control Successes: 2358\n",
      "\n",
      "Test Trials: 2493\n",
      "Test Successes: 1181\n"
     ]
    }
   ],
   "source": [
    "# Extracting conversion trials and successes between combined control groups and test group 248:\n",
    "\n",
    "control_trials = control_246_247_funnel.loc[0, 'users']  # Main screen unique user count\n",
    "print(\"Control Trials:\", control_trials)\n",
    "control_successes = control_246_247_funnel.loc[3, 'users']  # Succesful payment unique user count\n",
    "print(\"Control Successes:\", control_successes)\n",
    "\n",
    "print()\n",
    "\n",
    "test_trials = test_248_funnel.loc[0, 'users']  # Main screen unique user count\n",
    "print(\"Test Trials:\", test_trials)\n",
    "test_successes = test_248_funnel.loc[3, 'users']  # Succesful payment unique user count\n",
    "print(\"Test Successes:\", test_successes)"
   ]
  },
  {
   "cell_type": "code",
   "execution_count": 41,
   "id": "795dc5b7",
   "metadata": {},
   "outputs": [
    {
     "name": "stdout",
     "output_type": "stream",
     "text": [
      "p-value:  0.69\n",
      "Failed to reject the null hypothesis: there is no reason to consider the proportions of both groups to be different.\n"
     ]
    }
   ],
   "source": [
    "# Testing our hypothesis\n",
    "\n",
    "check_hypothesis(control_successes,control_trials, test_successes,test_trials, alpha=0.05)"
   ]
  },
  {
   "cell_type": "markdown",
   "id": "dff26595",
   "metadata": {},
   "source": [
    "**Observation:** Looking at overall conversion to purchase rates, yet again we see no significant differences between our test group and our combined control groups, with a P-Value of 69%."
   ]
  },
  {
   "cell_type": "markdown",
   "id": "a91fc496",
   "metadata": {},
   "source": [
    "### Intermediate Conclusion <a id='aabc'><a/>\n",
    "We determined that all 3 of our experiment groups are representative of each other, with no significant differences spotted, though it is prudent to take note of our P-Value of 6% at the Payment Success page event at the 'combined control groups X test group' level."
   ]
  },
  {
   "cell_type": "markdown",
   "id": "11522ae4",
   "metadata": {},
   "source": [
    "[Back to Contents](#back)"
   ]
  },
  {
   "cell_type": "markdown",
   "id": "1b56ff58",
   "metadata": {},
   "source": [
    "# 5. Findings & Overall Conclusions <a id='findings'></a>"
   ]
  },
  {
   "cell_type": "markdown",
   "id": "f1a1d7b2",
   "metadata": {},
   "source": [
    "<u>Event Funnel Health Findings</u>\n",
    "1. We found two event funnel sequences; One that starts with our tutorial and another that starts at the main screen of our app. N/B: The tutorial sequence of events has a substantially lower sample size in comparison.\n",
    "2. Amongst both sequences, we appear to be incurring the highest customer defect rate at the transition from the main screen  to the offers page, possibly indicating a lack of navigation user-friendlyness of the user interface. This is something to be investigated further.\n",
    "3. Our tutorial sequence, though small in sample size, seems to indicate slightly better defect rates (9% increase over our main screen sequence).\n",
    "\n",
    "<br>\n",
    "<u>A/A/B Hypothesis Test Findings</u>\n",
    "\n",
    "1. We confirmed initial viability of our overall data, as equality of user proportions were roughly similar at 33% per experiment group. \n",
    "1. We confirmed viablity of our control groups, as conversion proportions and event user share were not found to differ between each other. This was with a 1% significance level, and reassures us the groups were split properly.\n",
    "2. 4 distinct Z-Tests were performed together with our test group; 2 event-user-share proportion tests for each control group in isolation, 1 event-user-share proportion test on merged control groups and lastly, 1 conversion proportion test on merged control groups. A 5% significance level was used instead as our sample sizes were found to be relatively large. In all tests, statistical significance was not reached, and we failed to reject the null hypothesis on all ocassions.\n",
    "<br>\n",
    "\n",
    "**Suggestions:** Based on our Z-tests on proportions, we see no harm in continuing with the changed font across our entire app. However, our analysis depicted an area in our customer journey events funnel to improve on, that being the transition from the main screen to our offers screen. We might need to improve on useability of our UX design, as indicated by a 9% stage-on-stage improvement in conversion seen in our tutorial-based funnel sequence, with the caveat of a relative small sample size."
   ]
  },
  {
   "cell_type": "markdown",
   "id": "2125ee65",
   "metadata": {},
   "source": [
    "[Back to Contents](#back)"
   ]
  }
 ],
 "metadata": {
  "kernelspec": {
   "display_name": "Python 3 (ipykernel)",
   "language": "python",
   "name": "python3"
  },
  "language_info": {
   "codemirror_mode": {
    "name": "ipython",
    "version": 3
   },
   "file_extension": ".py",
   "mimetype": "text/x-python",
   "name": "python",
   "nbconvert_exporter": "python",
   "pygments_lexer": "ipython3",
   "version": "3.9.13"
  },
  "toc": {
   "base_numbering": 1,
   "nav_menu": {},
   "number_sections": true,
   "sideBar": true,
   "skip_h1_title": true,
   "title_cell": "Table of Contents",
   "title_sidebar": "Contents",
   "toc_cell": false,
   "toc_position": {},
   "toc_section_display": true,
   "toc_window_display": false
  }
 },
 "nbformat": 4,
 "nbformat_minor": 5
}
