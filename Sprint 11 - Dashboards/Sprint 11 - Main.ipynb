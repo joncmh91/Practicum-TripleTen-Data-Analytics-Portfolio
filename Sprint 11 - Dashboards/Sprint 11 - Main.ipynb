{
 "cells": [
  {
   "cell_type": "code",
   "execution_count": 1,
   "id": "bf0361d8",
   "metadata": {},
   "outputs": [],
   "source": [
    "import pandas as pd"
   ]
  },
  {
   "cell_type": "code",
   "execution_count": 2,
   "id": "23d6aef5",
   "metadata": {},
   "outputs": [],
   "source": [
    "df = pd.read_csv('trending_by_time.csv')"
   ]
  },
  {
   "cell_type": "code",
   "execution_count": 5,
   "id": "f5d7ec21",
   "metadata": {},
   "outputs": [
    {
     "name": "stdout",
     "output_type": "stream",
     "text": [
      "<class 'pandas.core.frame.DataFrame'>\n",
      "RangeIndex: 12343 entries, 0 to 12342\n",
      "Data columns (total 5 columns):\n",
      " #   Column          Non-Null Count  Dtype \n",
      "---  ------          --------------  ----- \n",
      " 0   record_id       12343 non-null  int64 \n",
      " 1   region          12343 non-null  object\n",
      " 2   trending_date   12343 non-null  object\n",
      " 3   category_title  12343 non-null  object\n",
      " 4   videos_count    12343 non-null  int64 \n",
      "dtypes: int64(2), object(3)\n",
      "memory usage: 482.3+ KB\n"
     ]
    },
    {
     "data": {
      "text/plain": [
       "None"
      ]
     },
     "metadata": {},
     "output_type": "display_data"
    },
    {
     "data": {
      "text/html": [
       "<div>\n",
       "<style scoped>\n",
       "    .dataframe tbody tr th:only-of-type {\n",
       "        vertical-align: middle;\n",
       "    }\n",
       "\n",
       "    .dataframe tbody tr th {\n",
       "        vertical-align: top;\n",
       "    }\n",
       "\n",
       "    .dataframe thead th {\n",
       "        text-align: right;\n",
       "    }\n",
       "</style>\n",
       "<table border=\"1\" class=\"dataframe\">\n",
       "  <thead>\n",
       "    <tr style=\"text-align: right;\">\n",
       "      <th></th>\n",
       "      <th>record_id</th>\n",
       "      <th>region</th>\n",
       "      <th>trending_date</th>\n",
       "      <th>category_title</th>\n",
       "      <th>videos_count</th>\n",
       "    </tr>\n",
       "  </thead>\n",
       "  <tbody>\n",
       "    <tr>\n",
       "      <th>0</th>\n",
       "      <td>1</td>\n",
       "      <td>France</td>\n",
       "      <td>2017-11-14 00:00:00.000000</td>\n",
       "      <td>Autos &amp; Vehicles</td>\n",
       "      <td>8</td>\n",
       "    </tr>\n",
       "    <tr>\n",
       "      <th>1</th>\n",
       "      <td>2</td>\n",
       "      <td>France</td>\n",
       "      <td>2017-11-15 00:00:00.000000</td>\n",
       "      <td>Autos &amp; Vehicles</td>\n",
       "      <td>2</td>\n",
       "    </tr>\n",
       "    <tr>\n",
       "      <th>2</th>\n",
       "      <td>3</td>\n",
       "      <td>France</td>\n",
       "      <td>2017-11-16 00:00:00.000000</td>\n",
       "      <td>Autos &amp; Vehicles</td>\n",
       "      <td>6</td>\n",
       "    </tr>\n",
       "    <tr>\n",
       "      <th>3</th>\n",
       "      <td>4</td>\n",
       "      <td>France</td>\n",
       "      <td>2017-11-17 00:00:00.000000</td>\n",
       "      <td>Autos &amp; Vehicles</td>\n",
       "      <td>8</td>\n",
       "    </tr>\n",
       "    <tr>\n",
       "      <th>4</th>\n",
       "      <td>5</td>\n",
       "      <td>France</td>\n",
       "      <td>2017-11-18 00:00:00.000000</td>\n",
       "      <td>Autos &amp; Vehicles</td>\n",
       "      <td>4</td>\n",
       "    </tr>\n",
       "  </tbody>\n",
       "</table>\n",
       "</div>"
      ],
      "text/plain": [
       "   record_id  region               trending_date    category_title  \\\n",
       "0          1  France  2017-11-14 00:00:00.000000  Autos & Vehicles   \n",
       "1          2  France  2017-11-15 00:00:00.000000  Autos & Vehicles   \n",
       "2          3  France  2017-11-16 00:00:00.000000  Autos & Vehicles   \n",
       "3          4  France  2017-11-17 00:00:00.000000  Autos & Vehicles   \n",
       "4          5  France  2017-11-18 00:00:00.000000  Autos & Vehicles   \n",
       "\n",
       "   videos_count  \n",
       "0             8  \n",
       "1             2  \n",
       "2             6  \n",
       "3             8  \n",
       "4             4  "
      ]
     },
     "execution_count": 5,
     "metadata": {},
     "output_type": "execute_result"
    }
   ],
   "source": [
    "display(df.info())\n",
    "df.head()\n"
   ]
  },
  {
   "cell_type": "code",
   "execution_count": 6,
   "id": "7010c068",
   "metadata": {},
   "outputs": [],
   "source": [
    "df['trending_date'] = pd.to_datetime(df['trending_date'])"
   ]
  },
  {
   "cell_type": "code",
   "execution_count": 9,
   "id": "5e34f62a",
   "metadata": {},
   "outputs": [
    {
     "data": {
      "text/plain": [
       "count                            12343\n",
       "mean     2018-03-04 06:10:10.742931200\n",
       "min                2017-11-14 00:00:00\n",
       "25%                2018-01-12 00:00:00\n",
       "50%                2018-03-05 00:00:00\n",
       "75%                2018-04-28 00:00:00\n",
       "max                2018-06-14 00:00:00\n",
       "Name: trending_date, dtype: object"
      ]
     },
     "execution_count": 9,
     "metadata": {},
     "output_type": "execute_result"
    }
   ],
   "source": [
    "df['trending_date'].describe(datetime_is_numeric=True)"
   ]
  },
  {
   "cell_type": "code",
   "execution_count": null,
   "id": "a7cda5f7",
   "metadata": {},
   "outputs": [],
   "source": []
  }
 ],
 "metadata": {
  "kernelspec": {
   "display_name": "Python 3 (ipykernel)",
   "language": "python",
   "name": "python3"
  },
  "language_info": {
   "codemirror_mode": {
    "name": "ipython",
    "version": 3
   },
   "file_extension": ".py",
   "mimetype": "text/x-python",
   "name": "python",
   "nbconvert_exporter": "python",
   "pygments_lexer": "ipython3",
   "version": "3.9.13"
  }
 },
 "nbformat": 4,
 "nbformat_minor": 5
}
