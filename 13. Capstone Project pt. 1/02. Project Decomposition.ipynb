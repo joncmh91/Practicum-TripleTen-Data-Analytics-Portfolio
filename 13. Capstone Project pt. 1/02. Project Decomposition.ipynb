{
 "cells": [
  {
   "cell_type": "markdown",
   "id": "0f150992",
   "metadata": {},
   "source": [
    "# Everything Plus E-commerce Platform: Project Decomposition\n",
    "\n",
    "by Jonathan Chan"
   ]
  },
  {
   "cell_type": "markdown",
   "id": "b03197e7",
   "metadata": {},
   "source": [
    "### <u>Table of Contents</u><a id='back'></a>\n",
    "* [1. Project Overview](#overview)\n",
    "* [2. Preliminary Hypotheses](#preliminaryhypotheses)    \n",
    "* [3. Deliverables](#deliverables)\n",
    "    * [3.1. Data Preprocessing](#dp)\n",
    "    * [3.2. Exploratory Data Analysis](#eda)\n",
    "    * [3.3 Features Engineering - Hypotheses Exploration](#fe)\n",
    "    * [3.4. User Clustering and Segmentation Strategies (ML)](#ml)\n",
    "* [4. Resources](#resources)    "
   ]
  },
  {
   "cell_type": "markdown",
   "id": "09772756",
   "metadata": {},
   "source": [
    "# 1. Project Overview <a id='overview' > <a/>"
   ]
  },
  {
   "cell_type": "markdown",
   "id": "d06f2ecf",
   "metadata": {},
   "source": [
    "- **About our Client:**\n",
    "<br><u>*Everything Plus: Plus a Little Bit More!*</u> is an e-commerce platform specializing in household goods of all kinds.\n",
    "\n",
    "\n",
    "- **Problem Statement:**\n",
    "<br>The client has specified a need for identifying distinct customer profiles out of their web channel &ndash; <u>Customer Segmentation Problem</u>.  \n",
    "\n",
    "\n",
    "- **Primary Objective:**\n",
    "<br>To run personalized offers for distinct customer profiles.\n",
    "\n",
    "\n",
    "- **Success Indicator(s):**\n",
    "<br>Increase in conversion rates &ndash; Running personalized offers will hopefully lead to greater user experience, of which will generate better brand salience and retention, while also aiding in word of mouth traffic. <u>Target Conversion Rates: 5 &ndash; 7%</u>\n",
    "\n",
    "\n",
    "- **Time Period:**\n",
    "<br>Approximately a year.\n",
    "\n",
    "\n",
    "- **Gap Analysis:**\n",
    "<br>Qualitative research has been done, but none with data manipulation. The client does not possess intrinsic personal data on its customers; they only have transactional data at their disposal.\n",
    "\n",
    "\n",
    "- **Key End User:** \n",
    "<br>Our analysis will be used by the client's <u>product manager</u>.\n",
    "\n",
    "\n",
    "- **Key Decisions:** \n",
    "<br> Unique personalized offerings will be made for each distinct customer profile we can identify.\n",
    "<br>"
   ]
  },
  {
   "cell_type": "markdown",
   "id": "ad9e1235",
   "metadata": {},
   "source": [
    "[Back to Contents](#back)"
   ]
  },
  {
   "cell_type": "markdown",
   "id": "926518ee",
   "metadata": {},
   "source": [
    "# 2. Preliminary Hypotheses <a id='preliminaryhypotheses' > <a/>"
   ]
  },
  {
   "cell_type": "markdown",
   "id": "41297cee",
   "metadata": {},
   "source": [
    "1. **Seasonality factors** \n",
    "- Seasonalities affects sales, whereby sales are highest towards the end of the year. \n",
    "\n",
    "2. **Day of the week transactions** \n",
    "- Customers are more likely to make purchases over the weekend than weekdays. \n",
    "\n",
    "3. **Time elapsed between transactions** \n",
    "- Customers with shorter time deltas between transactions are more likely to exhibit higher repeat purchase behavior, indicating higher engagement/loyalty. (and vice versa)\n",
    "\n",
    "4. **Purchase frequency (first order month) and average purchase frequency (proceeding months) are likely dependent on each other.** \n",
    "- Customers who transact frequently during their first-order month are likely to be frequent purchasers in the future.\n",
    "\n",
    "5. **Purchase Frequency has a higher impact on LTV compared to Average Purchase Value and Average Basket Size** \n",
    "- Customers who transact frequently are likely to generate higher Lifetime Value and subsequently, better loyalty and retention rates. This is irrespective of invoice value of that particular purchase or their quantities purchased.\n",
    "\n",
    "6. **Customer segments differ in terms of their average basket size (average quantity) and frequency of purchase** \n",
    "- For example, one segment may consist of bulk buyers who purchase in larger quantities but low frequency, while another segment may consist of more occasional shoppers with smaller purchase quantities but purchase more often. \n"
   ]
  },
  {
   "cell_type": "markdown",
   "id": "39ca5ba2",
   "metadata": {},
   "source": [
    "[Back to Contents](#back)"
   ]
  },
  {
   "cell_type": "markdown",
   "id": "f65e3db0",
   "metadata": {},
   "source": [
    "# 3. Deliverables <a id='deliverables' > <a/>"
   ]
  },
  {
   "cell_type": "markdown",
   "id": "78da16b1",
   "metadata": {},
   "source": [
    "**<u>Transaction Data Requested from client:</u>** \n",
    "\n",
    "1. InvoiceNo - Unique order identifiers\n",
    "2. StockCode - Unique item identifiers\n",
    "3. Description - Item name\n",
    "4. Quantity - Item quantities transacted\n",
    "5. InvoiceDate - Order date\n",
    "6. UnitPrice - Price per item\n",
    "7. CustomerID - Unique customer identifiers\n"
   ]
  },
  {
   "cell_type": "markdown",
   "id": "ff9f0283",
   "metadata": {},
   "source": [
    "## 3.1. Data Preprocessing <a id='dp'> <a/>"
   ]
  },
  {
   "cell_type": "markdown",
   "id": "f1aaf9a7",
   "metadata": {},
   "source": [
    "Estimated delivery timeframe for Data Preprocessing: 1 day(s)"
   ]
  },
  {
   "cell_type": "markdown",
   "id": "bfc4ab85",
   "metadata": {},
   "source": [
    "**<u>Key Check-points:</u>**\n",
    "- Readability fixes (column names to snake_case)\n",
    "- Check appropriate feature data types (especially datetime columns)\n",
    "- Check for complete duplicates\n",
    "- Check for missing values\n",
    "- Investigate the statistical summary of all feature columns - Look for potential outliers and illogical values"
   ]
  },
  {
   "cell_type": "markdown",
   "id": "020073c3",
   "metadata": {},
   "source": [
    "[Back to Contents](#back)"
   ]
  },
  {
   "cell_type": "markdown",
   "id": "dab76c85",
   "metadata": {},
   "source": [
    "## 3.2. Exploratory Data Analysis <a id='eda'> <a/>"
   ]
  },
  {
   "cell_type": "markdown",
   "id": "779a6f4e",
   "metadata": {},
   "source": [
    "Estimated delivery timeframe for EDA: 1 day(s)"
   ]
  },
  {
   "cell_type": "markdown",
   "id": "04ab9804",
   "metadata": {},
   "source": [
    "**Multivariate Feature Analysis** - Visualizing distribution of aggregated sales data across time\n",
    "- Check data distribution across monthly periods.\n",
    "- Plot a histogram and boxplot of PURCHASE VALUE for each unique invoice. Are there invoices that have abnormally low/high values?\n",
    "- Plot a boxplot for BASKET SIZE for each unique invoice. Are there invoices that have abnormally low/high volumes?\n",
    "- Plot a barchart for TOTAL ORDER VOLUME by month and REVENUE by month. Which months perform better than others?\n",
    "- Plot a barchart for AVERAGE CUSTOMER REVENUE by month. Which months have higher-value customers?\n",
    "- Plot a barchart for AVERAGE BASKET SIZE by month. Are there months where customers buy above average quantities?\n",
    " - We can make some intermediate conclusions on the hypothesis on Seasonal Factors here."
   ]
  },
  {
   "cell_type": "markdown",
   "id": "66759877",
   "metadata": {},
   "source": [
    "[Back to Contents](#back)"
   ]
  },
  {
   "cell_type": "markdown",
   "id": "be6cf82e",
   "metadata": {},
   "source": [
    "## 3.3. Features Engineering -  Hypotheses Exploration <a id='fe'> <a/>"
   ]
  },
  {
   "cell_type": "markdown",
   "id": "8f1a8daa",
   "metadata": {},
   "source": [
    "Estimated delivery timeframe for Features Engineering: 3 day(s)"
   ]
  },
  {
   "cell_type": "markdown",
   "id": "b5aa34f1",
   "metadata": {},
   "source": [
    "1. **Study purchase frequency by days of the week:**\n",
    "- Extract day of the week and plot frequency of invoices across the 7 days.\n",
    "\n",
    "2. **Investigate time elapsed between transactions and total purchase frequency:** \n",
    "- Group dataframe by customer id, invoice date and invoice number\n",
    "- Create a column of previous invoice dates for each customer_id group \n",
    "- Calculate time delta column by getting the difference invoice date column and previous invoice date column\n",
    "- Convert time delta column into the time delta type and calculate the mean\n",
    "- Fill any missing values with 0 as they are likely to be customers who do not have a prior invoice date, aka customers who have only purchased once\n",
    "- Merge values to our main DataFrame and visualize a histogram\n",
    "- Study the relationship between time-delta between transactions and total purchase frequency by individual customers. Use a joint-plot\n",
    "\n",
    "3. **Purchase frequency (first order month) and average purchase frequency of proceeding months are likely dependent on each other - Customers are likely to exhibit similar purchasing frequency in their lifetime based on their first order month:**\n",
    "- Create a column of first month purchase frequency\n",
    "- Group customers into cohorts based on their purchase frequency in the first month; Assign categorical identifiers.\n",
    "- Calculate the average purchase frequency for the remaining months for each customer within the cohort; Assign categorical idenfitiers.\n",
    "- Create a contingency table that shows the frequencies of observed occurrences for each distinct combination of 'purchase frequency in the first month' and the 'average purchase frequency in the remaining months'.\n",
    "- Perform Chi-test of Independence based on our contingency table. No need for a normality test.\n",
    "\n",
    "4. **Purchase frequency, average invoice value, average basket size & LTV - Purchase Frequency has a higher impact on LTV compared to Average Invoice Value and Average Basket Size**\n",
    "- Create cohorts of unique customer ids.\n",
    "- Calculate n_buyers, n_quantities, total revenue, total purchase instances and lifetime age values by each customer id.\n",
    "- Calculate LTV and average purchase frequency for each cohort .\n",
    "- Calculate average purchase value for each cohort.\n",
    "- Calculate average basket size for each cohort. \n",
    "- Create a correlation matrix and scatterplot to visualize the relationship.\n",
    "- Assign categorical identifiers to each metric for each customer for segmentation."
   ]
  },
  {
   "cell_type": "markdown",
   "id": "6fe2ecd5",
   "metadata": {},
   "source": [
    "[Back to Contents](#back)"
   ]
  },
  {
   "cell_type": "markdown",
   "id": "26a47000",
   "metadata": {},
   "source": [
    "## 3.4. RFM Segmentation <a id='ml' > <a/>"
   ]
  },
  {
   "cell_type": "markdown",
   "id": "606a6a97",
   "metadata": {},
   "source": [
    "Estimated delivery timeframe for Machine Learning: 5 day(s)"
   ]
  },
  {
   "cell_type": "markdown",
   "id": "0f3a96e5",
   "metadata": {},
   "source": [
    "**RFM modelling**\n",
    "- Create the RFM table\n",
    "- Recency: Calculate the time-delta between individual customer's last purchase date and a reference date (possibly the last observed transaction date on record)\n",
    "- Frequency: Calculate the total number of transactions made by each unique customer for the time period \n",
    "- Monetary: Calculate the total monetary value of transactions made by each unique customer the same time period\n",
    "- Assign a scoring system for RFM features. Manually or using quantiles.\n",
    "- Visualize our groups in terms of their behaviours and answer questions on who different segments of customers are. For example, who are the biggest spenders, who are likely to churn, who are lost customers we should not be expending budget on?"
   ]
  },
  {
   "cell_type": "markdown",
   "id": "8b269145",
   "metadata": {},
   "source": [
    "**K-Means Modelling**\n",
    "- Run hierarchical clustering to get an estimation for K-clusters\n",
    "- Run a dual axis plot of silhouette and inertia scores at various K-clusters to determine to cross-check our results in hierarchical clustering\n",
    "- Train our model \n",
    "- Assign model labels to our main report dataframe and aggregate each feature\n",
    "- Visualize each feature with each segment and their corresponding distribution\n",
    "- Provide recommendations"
   ]
  },
  {
   "cell_type": "markdown",
   "id": "23e76892",
   "metadata": {},
   "source": [
    "[Back to Contents](#back)"
   ]
  },
  {
   "cell_type": "markdown",
   "id": "270df049",
   "metadata": {},
   "source": [
    "# 4. Resources <a id='resources' > <a/>"
   ]
  },
  {
   "cell_type": "markdown",
   "id": "e063ca60",
   "metadata": {},
   "source": [
    "1. On various general customer segmentations strategies\n",
    "- https://www.qualtrics.com/au/experience-management/brand/customer-segmentation/?rid=ip&prevsite=en&newsite=au&geo=MY&geomatch=au\n",
    "- https://amplitude.com/blog/customer-segmentation \n",
    "- https://amplitude.com/blog/user-behavior\n",
    "\n",
    "2. Using data science for behavioural segmentation \n",
    "- https://towardsdatascience.com/setting-your-business-up-for-success-with-behaviour-segmentation-74cf675ef18b\n",
    "- https://towardsdatascience.com/from-data-to-market-strategy-using-behavior-segmentation-d065da224262\n",
    "\n",
    "2. On the intricasies of Chi-Squared analysis and contingency tables.\n",
    "- https://towardsdatascience.com/contingency-tables-chi-squared-and-cramers-v-ada4f93ec3fd\n",
    "\n",
    "3. Studying the multitude of feature selection methods available for differing kinds of scenarios.\n",
    "- https://www.kaggle.com/code/prashant111/comprehensive-guide-on-feature-selection\n",
    "\n",
    "4. On the intricasies of RFM Modelling.\n",
    "- https://aainabajaj39.medium.com/rfm-analysis-for-successful-customer-segmentation-using-python-6291decceb4b\n",
    "- https://www.geeksforgeeks.org/rfm-analysis-analysis-using-python/\n",
    "- https://towardsdatascience.com/an-rfm-customer-segmentation-with-python-cf7be647733d\n",
    "\n",
    "5. On K-Means Clustering and dimensionality reduction\n",
    "- https://365datascience.com/tutorials/python-tutorials/pca-k-means/"
   ]
  },
  {
   "cell_type": "markdown",
   "id": "034dad6b",
   "metadata": {},
   "source": [
    "[Back to Contents](#back)"
   ]
  }
 ],
 "metadata": {
  "kernelspec": {
   "display_name": "Python 3 (ipykernel)",
   "language": "python",
   "name": "python3"
  },
  "language_info": {
   "codemirror_mode": {
    "name": "ipython",
    "version": 3
   },
   "file_extension": ".py",
   "mimetype": "text/x-python",
   "name": "python",
   "nbconvert_exporter": "python",
   "pygments_lexer": "ipython3",
   "version": "3.9.13"
  }
 },
 "nbformat": 4,
 "nbformat_minor": 5
}
