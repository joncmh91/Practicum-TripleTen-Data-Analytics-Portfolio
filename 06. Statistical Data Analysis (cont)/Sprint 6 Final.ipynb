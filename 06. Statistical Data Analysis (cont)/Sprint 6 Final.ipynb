{
 "cells": [
  {
   "cell_type": "markdown",
   "id": "5e662f32",
   "metadata": {},
   "source": [
    "# ZUBER Ride Sharing ~ CHICAGO"
   ]
  },
  {
   "cell_type": "markdown",
   "id": "76e420a1",
   "metadata": {},
   "source": [
    "## Introduction <a id='intro'></a>\n",
    "This study aims to analyze ride patterns and user behaviour/preferences in terms of ride-hailing services across the Chicago area. We'd like to find out who the main competitors of Zuber are, where our prospective customers are heading and how external factors like weather affects ride-hailing services. As the nature of ride-sharing is still relatively novel, we have a chance to disrupt the market status-quo."
   ]
  },
  {
   "cell_type": "markdown",
   "id": "7b300cd3",
   "metadata": {},
   "source": [
    "# Contents <a id='back'></a>\n",
    "\n",
    "* [Introduction](#intro)\n",
    "* [Stage 1. Libraries & Data Loading](#lib)\n",
    "* [Stage 2. Data overview](#do)\n",
    "    * [Conclusions](#doconclusions)\n",
    "* [Stage 3. Data preprocessing](#dp)\n",
    "    * [Conclusions](#dpconclusions)\n",
    "* [Stage 4. User Behaviour](#ub)\n",
    "    * [4.1. Top 10 Ride Destinations](#destination)\n",
    "        * [Conclusion](#destination_conclusion)\n",
    "    * [4.2. Major Taxi Companies in the Chicago Area](#taxi_companies)\n",
    "        * [Conclusion](#taxi_companies_conclusion)\n",
    "* [Stage 5. Hypothesis Testing on Weather and Taxi Rides](#ht)\n",
    "    * [Conclusion](#ht_conclusion)\n",
    "* [Findings & Overall Conclusion](#findings)"
   ]
  },
  {
   "cell_type": "markdown",
   "id": "be1d88df",
   "metadata": {},
   "source": [
    "# 1. Libraries & Data Loading <a id='lib'></a>"
   ]
  },
  {
   "cell_type": "code",
   "execution_count": 1,
   "id": "d5ac2838",
   "metadata": {},
   "outputs": [],
   "source": [
    "# Importing libraries:\n",
    "\n",
    "import pandas as pd\n",
    "import numpy as np\n",
    "import math as mt\n",
    "import scipy.stats as st\n",
    "import matplotlib.pyplot as plt "
   ]
  },
  {
   "cell_type": "code",
   "execution_count": 2,
   "id": "54a7d9c5",
   "metadata": {},
   "outputs": [],
   "source": [
    "# Loading DataFrames:\n",
    "\n",
    "try: \n",
    "    df_taxi = pd.read_csv('project_sql_result_01.csv')\n",
    "    df_trips = pd.read_csv('project_sql_result_04.csv')\n",
    "    df_loop_ohare = pd.read_csv('project_sql_result_07.csv')\n",
    "\n",
    "    \n",
    "except: \n",
    "    df_taxi = pd.read_csv('/datasets/project_sql_result_01.csv')\n",
    "    df_trips = pd.read_csv('/datasets/project_sql_result_04.csv')\n",
    "    df_loop_ohare = pd.read_csv('/datasets/project_sql_result_07.csv')"
   ]
  },
  {
   "cell_type": "markdown",
   "id": "1af80714",
   "metadata": {},
   "source": [
    "# 2. Data Overview <a id='do'></a>"
   ]
  },
  {
   "cell_type": "code",
   "execution_count": 3,
   "id": "e781ec41",
   "metadata": {},
   "outputs": [
    {
     "data": {
      "text/html": [
       "<div>\n",
       "<style scoped>\n",
       "    .dataframe tbody tr th:only-of-type {\n",
       "        vertical-align: middle;\n",
       "    }\n",
       "\n",
       "    .dataframe tbody tr th {\n",
       "        vertical-align: top;\n",
       "    }\n",
       "\n",
       "    .dataframe thead th {\n",
       "        text-align: right;\n",
       "    }\n",
       "</style>\n",
       "<table border=\"1\" class=\"dataframe\">\n",
       "  <thead>\n",
       "    <tr style=\"text-align: right;\">\n",
       "      <th></th>\n",
       "      <th>company_name</th>\n",
       "      <th>trips_amount</th>\n",
       "    </tr>\n",
       "  </thead>\n",
       "  <tbody>\n",
       "    <tr>\n",
       "      <th>0</th>\n",
       "      <td>Flash Cab</td>\n",
       "      <td>19558</td>\n",
       "    </tr>\n",
       "    <tr>\n",
       "      <th>1</th>\n",
       "      <td>Taxi Affiliation Services</td>\n",
       "      <td>11422</td>\n",
       "    </tr>\n",
       "    <tr>\n",
       "      <th>2</th>\n",
       "      <td>Medallion Leasin</td>\n",
       "      <td>10367</td>\n",
       "    </tr>\n",
       "    <tr>\n",
       "      <th>3</th>\n",
       "      <td>Yellow Cab</td>\n",
       "      <td>9888</td>\n",
       "    </tr>\n",
       "    <tr>\n",
       "      <th>4</th>\n",
       "      <td>Taxi Affiliation Service Yellow</td>\n",
       "      <td>9299</td>\n",
       "    </tr>\n",
       "  </tbody>\n",
       "</table>\n",
       "</div>"
      ],
      "text/plain": [
       "                      company_name  trips_amount\n",
       "0                        Flash Cab         19558\n",
       "1        Taxi Affiliation Services         11422\n",
       "2                 Medallion Leasin         10367\n",
       "3                       Yellow Cab          9888\n",
       "4  Taxi Affiliation Service Yellow          9299"
      ]
     },
     "metadata": {},
     "output_type": "display_data"
    },
    {
     "name": "stdout",
     "output_type": "stream",
     "text": [
      "<class 'pandas.core.frame.DataFrame'>\n",
      "RangeIndex: 64 entries, 0 to 63\n",
      "Data columns (total 2 columns):\n",
      " #   Column        Non-Null Count  Dtype \n",
      "---  ------        --------------  ----- \n",
      " 0   company_name  64 non-null     object\n",
      " 1   trips_amount  64 non-null     int64 \n",
      "dtypes: int64(1), object(1)\n",
      "memory usage: 1.1+ KB\n"
     ]
    },
    {
     "data": {
      "text/plain": [
       "None"
      ]
     },
     "metadata": {},
     "output_type": "display_data"
    },
    {
     "data": {
      "text/html": [
       "<div>\n",
       "<style scoped>\n",
       "    .dataframe tbody tr th:only-of-type {\n",
       "        vertical-align: middle;\n",
       "    }\n",
       "\n",
       "    .dataframe tbody tr th {\n",
       "        vertical-align: top;\n",
       "    }\n",
       "\n",
       "    .dataframe thead th {\n",
       "        text-align: right;\n",
       "    }\n",
       "</style>\n",
       "<table border=\"1\" class=\"dataframe\">\n",
       "  <thead>\n",
       "    <tr style=\"text-align: right;\">\n",
       "      <th></th>\n",
       "      <th>trips_amount</th>\n",
       "    </tr>\n",
       "  </thead>\n",
       "  <tbody>\n",
       "    <tr>\n",
       "      <th>count</th>\n",
       "      <td>64.000000</td>\n",
       "    </tr>\n",
       "    <tr>\n",
       "      <th>mean</th>\n",
       "      <td>2145.484375</td>\n",
       "    </tr>\n",
       "    <tr>\n",
       "      <th>std</th>\n",
       "      <td>3812.310186</td>\n",
       "    </tr>\n",
       "    <tr>\n",
       "      <th>min</th>\n",
       "      <td>2.000000</td>\n",
       "    </tr>\n",
       "    <tr>\n",
       "      <th>25%</th>\n",
       "      <td>20.750000</td>\n",
       "    </tr>\n",
       "    <tr>\n",
       "      <th>50%</th>\n",
       "      <td>178.500000</td>\n",
       "    </tr>\n",
       "    <tr>\n",
       "      <th>75%</th>\n",
       "      <td>2106.500000</td>\n",
       "    </tr>\n",
       "    <tr>\n",
       "      <th>max</th>\n",
       "      <td>19558.000000</td>\n",
       "    </tr>\n",
       "  </tbody>\n",
       "</table>\n",
       "</div>"
      ],
      "text/plain": [
       "       trips_amount\n",
       "count     64.000000\n",
       "mean    2145.484375\n",
       "std     3812.310186\n",
       "min        2.000000\n",
       "25%       20.750000\n",
       "50%      178.500000\n",
       "75%     2106.500000\n",
       "max    19558.000000"
      ]
     },
     "execution_count": 3,
     "metadata": {},
     "output_type": "execute_result"
    }
   ],
   "source": [
    "# df_taxi overview:\n",
    "\n",
    "display(df_taxi.head())\n",
    "display(df_taxi.info())\n",
    "df_taxi.describe()"
   ]
  },
  {
   "cell_type": "code",
   "execution_count": 4,
   "id": "faef3481",
   "metadata": {},
   "outputs": [
    {
     "data": {
      "text/plain": [
       "company_name    0.0\n",
       "trips_amount    0.0\n",
       "dtype: float64"
      ]
     },
     "execution_count": 4,
     "metadata": {},
     "output_type": "execute_result"
    }
   ],
   "source": [
    "# df_taxi duplicate check:\n",
    "\n",
    "df_taxi[df_taxi.duplicated()].sum()"
   ]
  },
  {
   "cell_type": "code",
   "execution_count": 5,
   "id": "960c790c",
   "metadata": {},
   "outputs": [
    {
     "data": {
      "text/html": [
       "<div>\n",
       "<style scoped>\n",
       "    .dataframe tbody tr th:only-of-type {\n",
       "        vertical-align: middle;\n",
       "    }\n",
       "\n",
       "    .dataframe tbody tr th {\n",
       "        vertical-align: top;\n",
       "    }\n",
       "\n",
       "    .dataframe thead th {\n",
       "        text-align: right;\n",
       "    }\n",
       "</style>\n",
       "<table border=\"1\" class=\"dataframe\">\n",
       "  <thead>\n",
       "    <tr style=\"text-align: right;\">\n",
       "      <th></th>\n",
       "      <th>dropoff_location_name</th>\n",
       "      <th>average_trips</th>\n",
       "    </tr>\n",
       "  </thead>\n",
       "  <tbody>\n",
       "    <tr>\n",
       "      <th>0</th>\n",
       "      <td>Loop</td>\n",
       "      <td>10727.466667</td>\n",
       "    </tr>\n",
       "    <tr>\n",
       "      <th>1</th>\n",
       "      <td>River North</td>\n",
       "      <td>9523.666667</td>\n",
       "    </tr>\n",
       "    <tr>\n",
       "      <th>2</th>\n",
       "      <td>Streeterville</td>\n",
       "      <td>6664.666667</td>\n",
       "    </tr>\n",
       "    <tr>\n",
       "      <th>3</th>\n",
       "      <td>West Loop</td>\n",
       "      <td>5163.666667</td>\n",
       "    </tr>\n",
       "    <tr>\n",
       "      <th>4</th>\n",
       "      <td>O'Hare</td>\n",
       "      <td>2546.900000</td>\n",
       "    </tr>\n",
       "  </tbody>\n",
       "</table>\n",
       "</div>"
      ],
      "text/plain": [
       "  dropoff_location_name  average_trips\n",
       "0                  Loop   10727.466667\n",
       "1           River North    9523.666667\n",
       "2         Streeterville    6664.666667\n",
       "3             West Loop    5163.666667\n",
       "4                O'Hare    2546.900000"
      ]
     },
     "metadata": {},
     "output_type": "display_data"
    },
    {
     "name": "stdout",
     "output_type": "stream",
     "text": [
      "<class 'pandas.core.frame.DataFrame'>\n",
      "RangeIndex: 94 entries, 0 to 93\n",
      "Data columns (total 2 columns):\n",
      " #   Column                 Non-Null Count  Dtype  \n",
      "---  ------                 --------------  -----  \n",
      " 0   dropoff_location_name  94 non-null     object \n",
      " 1   average_trips          94 non-null     float64\n",
      "dtypes: float64(1), object(1)\n",
      "memory usage: 1.6+ KB\n"
     ]
    },
    {
     "data": {
      "text/plain": [
       "None"
      ]
     },
     "metadata": {},
     "output_type": "display_data"
    },
    {
     "data": {
      "text/html": [
       "<div>\n",
       "<style scoped>\n",
       "    .dataframe tbody tr th:only-of-type {\n",
       "        vertical-align: middle;\n",
       "    }\n",
       "\n",
       "    .dataframe tbody tr th {\n",
       "        vertical-align: top;\n",
       "    }\n",
       "\n",
       "    .dataframe thead th {\n",
       "        text-align: right;\n",
       "    }\n",
       "</style>\n",
       "<table border=\"1\" class=\"dataframe\">\n",
       "  <thead>\n",
       "    <tr style=\"text-align: right;\">\n",
       "      <th></th>\n",
       "      <th>average_trips</th>\n",
       "    </tr>\n",
       "  </thead>\n",
       "  <tbody>\n",
       "    <tr>\n",
       "      <th>count</th>\n",
       "      <td>94.000000</td>\n",
       "    </tr>\n",
       "    <tr>\n",
       "      <th>mean</th>\n",
       "      <td>599.953728</td>\n",
       "    </tr>\n",
       "    <tr>\n",
       "      <th>std</th>\n",
       "      <td>1714.591098</td>\n",
       "    </tr>\n",
       "    <tr>\n",
       "      <th>min</th>\n",
       "      <td>1.800000</td>\n",
       "    </tr>\n",
       "    <tr>\n",
       "      <th>25%</th>\n",
       "      <td>14.266667</td>\n",
       "    </tr>\n",
       "    <tr>\n",
       "      <th>50%</th>\n",
       "      <td>52.016667</td>\n",
       "    </tr>\n",
       "    <tr>\n",
       "      <th>75%</th>\n",
       "      <td>298.858333</td>\n",
       "    </tr>\n",
       "    <tr>\n",
       "      <th>max</th>\n",
       "      <td>10727.466667</td>\n",
       "    </tr>\n",
       "  </tbody>\n",
       "</table>\n",
       "</div>"
      ],
      "text/plain": [
       "       average_trips\n",
       "count      94.000000\n",
       "mean      599.953728\n",
       "std      1714.591098\n",
       "min         1.800000\n",
       "25%        14.266667\n",
       "50%        52.016667\n",
       "75%       298.858333\n",
       "max     10727.466667"
      ]
     },
     "execution_count": 5,
     "metadata": {},
     "output_type": "execute_result"
    }
   ],
   "source": [
    "# df_trips overview:\n",
    "\n",
    "display(df_trips.head())\n",
    "display(df_trips.info())\n",
    "df_trips.describe()"
   ]
  },
  {
   "cell_type": "code",
   "execution_count": 6,
   "id": "6857fe68",
   "metadata": {},
   "outputs": [
    {
     "data": {
      "text/plain": [
       "dropoff_location_name    0.0\n",
       "average_trips            0.0\n",
       "dtype: float64"
      ]
     },
     "execution_count": 6,
     "metadata": {},
     "output_type": "execute_result"
    }
   ],
   "source": [
    "# df_trips duplicate check:\n",
    "\n",
    "df_trips[df_trips.duplicated()].sum()"
   ]
  },
  {
   "cell_type": "code",
   "execution_count": 7,
   "id": "83192e92",
   "metadata": {},
   "outputs": [
    {
     "data": {
      "text/html": [
       "<div>\n",
       "<style scoped>\n",
       "    .dataframe tbody tr th:only-of-type {\n",
       "        vertical-align: middle;\n",
       "    }\n",
       "\n",
       "    .dataframe tbody tr th {\n",
       "        vertical-align: top;\n",
       "    }\n",
       "\n",
       "    .dataframe thead th {\n",
       "        text-align: right;\n",
       "    }\n",
       "</style>\n",
       "<table border=\"1\" class=\"dataframe\">\n",
       "  <thead>\n",
       "    <tr style=\"text-align: right;\">\n",
       "      <th></th>\n",
       "      <th>start_ts</th>\n",
       "      <th>weather_conditions</th>\n",
       "      <th>duration_seconds</th>\n",
       "    </tr>\n",
       "  </thead>\n",
       "  <tbody>\n",
       "    <tr>\n",
       "      <th>0</th>\n",
       "      <td>2017-11-25 16:00:00</td>\n",
       "      <td>Good</td>\n",
       "      <td>2410.0</td>\n",
       "    </tr>\n",
       "    <tr>\n",
       "      <th>1</th>\n",
       "      <td>2017-11-25 14:00:00</td>\n",
       "      <td>Good</td>\n",
       "      <td>1920.0</td>\n",
       "    </tr>\n",
       "    <tr>\n",
       "      <th>2</th>\n",
       "      <td>2017-11-25 12:00:00</td>\n",
       "      <td>Good</td>\n",
       "      <td>1543.0</td>\n",
       "    </tr>\n",
       "    <tr>\n",
       "      <th>3</th>\n",
       "      <td>2017-11-04 10:00:00</td>\n",
       "      <td>Good</td>\n",
       "      <td>2512.0</td>\n",
       "    </tr>\n",
       "    <tr>\n",
       "      <th>4</th>\n",
       "      <td>2017-11-11 07:00:00</td>\n",
       "      <td>Good</td>\n",
       "      <td>1440.0</td>\n",
       "    </tr>\n",
       "  </tbody>\n",
       "</table>\n",
       "</div>"
      ],
      "text/plain": [
       "              start_ts weather_conditions  duration_seconds\n",
       "0  2017-11-25 16:00:00               Good            2410.0\n",
       "1  2017-11-25 14:00:00               Good            1920.0\n",
       "2  2017-11-25 12:00:00               Good            1543.0\n",
       "3  2017-11-04 10:00:00               Good            2512.0\n",
       "4  2017-11-11 07:00:00               Good            1440.0"
      ]
     },
     "metadata": {},
     "output_type": "display_data"
    },
    {
     "name": "stdout",
     "output_type": "stream",
     "text": [
      "<class 'pandas.core.frame.DataFrame'>\n",
      "RangeIndex: 1068 entries, 0 to 1067\n",
      "Data columns (total 3 columns):\n",
      " #   Column              Non-Null Count  Dtype  \n",
      "---  ------              --------------  -----  \n",
      " 0   start_ts            1068 non-null   object \n",
      " 1   weather_conditions  1068 non-null   object \n",
      " 2   duration_seconds    1068 non-null   float64\n",
      "dtypes: float64(1), object(2)\n",
      "memory usage: 25.2+ KB\n"
     ]
    },
    {
     "data": {
      "text/plain": [
       "None"
      ]
     },
     "metadata": {},
     "output_type": "display_data"
    },
    {
     "data": {
      "text/html": [
       "<div>\n",
       "<style scoped>\n",
       "    .dataframe tbody tr th:only-of-type {\n",
       "        vertical-align: middle;\n",
       "    }\n",
       "\n",
       "    .dataframe tbody tr th {\n",
       "        vertical-align: top;\n",
       "    }\n",
       "\n",
       "    .dataframe thead th {\n",
       "        text-align: right;\n",
       "    }\n",
       "</style>\n",
       "<table border=\"1\" class=\"dataframe\">\n",
       "  <thead>\n",
       "    <tr style=\"text-align: right;\">\n",
       "      <th></th>\n",
       "      <th>duration_seconds</th>\n",
       "    </tr>\n",
       "  </thead>\n",
       "  <tbody>\n",
       "    <tr>\n",
       "      <th>count</th>\n",
       "      <td>1068.000000</td>\n",
       "    </tr>\n",
       "    <tr>\n",
       "      <th>mean</th>\n",
       "      <td>2071.731273</td>\n",
       "    </tr>\n",
       "    <tr>\n",
       "      <th>std</th>\n",
       "      <td>769.461125</td>\n",
       "    </tr>\n",
       "    <tr>\n",
       "      <th>min</th>\n",
       "      <td>0.000000</td>\n",
       "    </tr>\n",
       "    <tr>\n",
       "      <th>25%</th>\n",
       "      <td>1438.250000</td>\n",
       "    </tr>\n",
       "    <tr>\n",
       "      <th>50%</th>\n",
       "      <td>1980.000000</td>\n",
       "    </tr>\n",
       "    <tr>\n",
       "      <th>75%</th>\n",
       "      <td>2580.000000</td>\n",
       "    </tr>\n",
       "    <tr>\n",
       "      <th>max</th>\n",
       "      <td>7440.000000</td>\n",
       "    </tr>\n",
       "  </tbody>\n",
       "</table>\n",
       "</div>"
      ],
      "text/plain": [
       "       duration_seconds\n",
       "count       1068.000000\n",
       "mean        2071.731273\n",
       "std          769.461125\n",
       "min            0.000000\n",
       "25%         1438.250000\n",
       "50%         1980.000000\n",
       "75%         2580.000000\n",
       "max         7440.000000"
      ]
     },
     "execution_count": 7,
     "metadata": {},
     "output_type": "execute_result"
    }
   ],
   "source": [
    "# df_loop_ohare overview:\n",
    "\n",
    "display(df_loop_ohare.head())\n",
    "display(df_loop_ohare.info())\n",
    "df_loop_ohare.describe()"
   ]
  },
  {
   "cell_type": "markdown",
   "id": "812c0257",
   "metadata": {},
   "source": [
    "### Conclusions <a id='doconclusions'></a>\n",
    "In the Loop-O'Hare table, our start_ts column requires transformation to the DateTime type. Duration_seconds needs conversion to the INT type as well, while we observe a minimum of 0.00 seconds trip durations. We will investigate this further."
   ]
  },
  {
   "cell_type": "markdown",
   "id": "d5a5a35f",
   "metadata": {},
   "source": [
    "[Back to Contents](#back)"
   ]
  },
  {
   "cell_type": "markdown",
   "id": "50addaac",
   "metadata": {},
   "source": [
    "# 3. Data Preprocessing <a id='dp'></a>"
   ]
  },
  {
   "cell_type": "code",
   "execution_count": 8,
   "id": "16760967",
   "metadata": {},
   "outputs": [],
   "source": [
    "# Converting duration_seconds to the INT type:\n",
    "\n",
    "df_loop_ohare.duration_seconds = df_loop_ohare.duration_seconds.astype('int16')"
   ]
  },
  {
   "cell_type": "code",
   "execution_count": 9,
   "id": "478a0986",
   "metadata": {},
   "outputs": [],
   "source": [
    "# Converting start_ts to DateTime:\n",
    "\n",
    "df_loop_ohare.start_ts = pd.to_datetime(df_loop_ohare.start_ts, format=\"%Y-%m-%d %H:%M:%S\")"
   ]
  },
  {
   "cell_type": "code",
   "execution_count": 10,
   "id": "7dd13c1f",
   "metadata": {},
   "outputs": [
    {
     "name": "stdout",
     "output_type": "stream",
     "text": [
      "<class 'pandas.core.frame.DataFrame'>\n",
      "RangeIndex: 1068 entries, 0 to 1067\n",
      "Data columns (total 3 columns):\n",
      " #   Column              Non-Null Count  Dtype         \n",
      "---  ------              --------------  -----         \n",
      " 0   start_ts            1068 non-null   datetime64[ns]\n",
      " 1   weather_conditions  1068 non-null   object        \n",
      " 2   duration_seconds    1068 non-null   int16         \n",
      "dtypes: datetime64[ns](1), int16(1), object(1)\n",
      "memory usage: 18.9+ KB\n"
     ]
    }
   ],
   "source": [
    "# Fix check:\n",
    "\n",
    "df_loop_ohare.info()"
   ]
  },
  {
   "cell_type": "code",
   "execution_count": 11,
   "id": "0f006c10",
   "metadata": {},
   "outputs": [
    {
     "data": {
      "text/html": [
       "<div>\n",
       "<style scoped>\n",
       "    .dataframe tbody tr th:only-of-type {\n",
       "        vertical-align: middle;\n",
       "    }\n",
       "\n",
       "    .dataframe tbody tr th {\n",
       "        vertical-align: top;\n",
       "    }\n",
       "\n",
       "    .dataframe thead th {\n",
       "        text-align: right;\n",
       "    }\n",
       "</style>\n",
       "<table border=\"1\" class=\"dataframe\">\n",
       "  <thead>\n",
       "    <tr style=\"text-align: right;\">\n",
       "      <th></th>\n",
       "      <th>start_ts</th>\n",
       "      <th>weather_conditions</th>\n",
       "      <th>duration_seconds</th>\n",
       "    </tr>\n",
       "  </thead>\n",
       "  <tbody>\n",
       "    <tr>\n",
       "      <th>163</th>\n",
       "      <td>2017-11-11 09:00:00</td>\n",
       "      <td>Good</td>\n",
       "      <td>0</td>\n",
       "    </tr>\n",
       "    <tr>\n",
       "      <th>168</th>\n",
       "      <td>2017-11-11 07:00:00</td>\n",
       "      <td>Good</td>\n",
       "      <td>0</td>\n",
       "    </tr>\n",
       "    <tr>\n",
       "      <th>204</th>\n",
       "      <td>2017-11-18 19:00:00</td>\n",
       "      <td>Good</td>\n",
       "      <td>0</td>\n",
       "    </tr>\n",
       "    <tr>\n",
       "      <th>552</th>\n",
       "      <td>2017-11-04 01:00:00</td>\n",
       "      <td>Good</td>\n",
       "      <td>0</td>\n",
       "    </tr>\n",
       "    <tr>\n",
       "      <th>801</th>\n",
       "      <td>2017-11-04 09:00:00</td>\n",
       "      <td>Good</td>\n",
       "      <td>0</td>\n",
       "    </tr>\n",
       "    <tr>\n",
       "      <th>1063</th>\n",
       "      <td>2017-11-25 11:00:00</td>\n",
       "      <td>Good</td>\n",
       "      <td>0</td>\n",
       "    </tr>\n",
       "  </tbody>\n",
       "</table>\n",
       "</div>"
      ],
      "text/plain": [
       "                start_ts weather_conditions  duration_seconds\n",
       "163  2017-11-11 09:00:00               Good                 0\n",
       "168  2017-11-11 07:00:00               Good                 0\n",
       "204  2017-11-18 19:00:00               Good                 0\n",
       "552  2017-11-04 01:00:00               Good                 0\n",
       "801  2017-11-04 09:00:00               Good                 0\n",
       "1063 2017-11-25 11:00:00               Good                 0"
      ]
     },
     "execution_count": 11,
     "metadata": {},
     "output_type": "execute_result"
    }
   ],
   "source": [
    "# Investigating duration_seconds == 0:\n",
    "\n",
    "df_loop_ohare.query(\"duration_seconds == 0\")"
   ]
  },
  {
   "cell_type": "code",
   "execution_count": 12,
   "id": "276487f2",
   "metadata": {},
   "outputs": [
    {
     "data": {
      "text/plain": [
       "0.0056179775280898875"
      ]
     },
     "execution_count": 12,
     "metadata": {},
     "output_type": "execute_result"
    }
   ],
   "source": [
    "# Calculating share of 0 values:\n",
    "\n",
    "(df_loop_ohare['duration_seconds'] == 0).mean()"
   ]
  },
  {
   "cell_type": "code",
   "execution_count": 13,
   "id": "0f5c050b",
   "metadata": {},
   "outputs": [],
   "source": [
    "# Dropping entries of 0 duration_second values:\n",
    "\n",
    "df_loop_ohare = df_loop_ohare.drop(df_loop_ohare.query(\"duration_seconds == 0\").index)\n",
    "df_loop_ohare.reset_index(drop=True, inplace=True)"
   ]
  },
  {
   "cell_type": "code",
   "execution_count": 14,
   "id": "63bfe90b",
   "metadata": {},
   "outputs": [
    {
     "name": "stdout",
     "output_type": "stream",
     "text": [
      "<class 'pandas.core.frame.DataFrame'>\n",
      "RangeIndex: 1062 entries, 0 to 1061\n",
      "Data columns (total 3 columns):\n",
      " #   Column              Non-Null Count  Dtype         \n",
      "---  ------              --------------  -----         \n",
      " 0   start_ts            1062 non-null   datetime64[ns]\n",
      " 1   weather_conditions  1062 non-null   object        \n",
      " 2   duration_seconds    1062 non-null   int16         \n",
      "dtypes: datetime64[ns](1), int16(1), object(1)\n",
      "memory usage: 18.8+ KB\n"
     ]
    },
    {
     "data": {
      "text/plain": [
       "None"
      ]
     },
     "metadata": {},
     "output_type": "display_data"
    },
    {
     "data": {
      "text/html": [
       "<div>\n",
       "<style scoped>\n",
       "    .dataframe tbody tr th:only-of-type {\n",
       "        vertical-align: middle;\n",
       "    }\n",
       "\n",
       "    .dataframe tbody tr th {\n",
       "        vertical-align: top;\n",
       "    }\n",
       "\n",
       "    .dataframe thead th {\n",
       "        text-align: right;\n",
       "    }\n",
       "</style>\n",
       "<table border=\"1\" class=\"dataframe\">\n",
       "  <thead>\n",
       "    <tr style=\"text-align: right;\">\n",
       "      <th></th>\n",
       "      <th>duration_seconds</th>\n",
       "    </tr>\n",
       "  </thead>\n",
       "  <tbody>\n",
       "    <tr>\n",
       "      <th>count</th>\n",
       "      <td>1062.000000</td>\n",
       "    </tr>\n",
       "    <tr>\n",
       "      <th>mean</th>\n",
       "      <td>2083.435970</td>\n",
       "    </tr>\n",
       "    <tr>\n",
       "      <th>std</th>\n",
       "      <td>755.651796</td>\n",
       "    </tr>\n",
       "    <tr>\n",
       "      <th>min</th>\n",
       "      <td>60.000000</td>\n",
       "    </tr>\n",
       "    <tr>\n",
       "      <th>25%</th>\n",
       "      <td>1440.000000</td>\n",
       "    </tr>\n",
       "    <tr>\n",
       "      <th>50%</th>\n",
       "      <td>1980.000000</td>\n",
       "    </tr>\n",
       "    <tr>\n",
       "      <th>75%</th>\n",
       "      <td>2580.000000</td>\n",
       "    </tr>\n",
       "    <tr>\n",
       "      <th>max</th>\n",
       "      <td>7440.000000</td>\n",
       "    </tr>\n",
       "  </tbody>\n",
       "</table>\n",
       "</div>"
      ],
      "text/plain": [
       "       duration_seconds\n",
       "count       1062.000000\n",
       "mean        2083.435970\n",
       "std          755.651796\n",
       "min           60.000000\n",
       "25%         1440.000000\n",
       "50%         1980.000000\n",
       "75%         2580.000000\n",
       "max         7440.000000"
      ]
     },
     "execution_count": 14,
     "metadata": {},
     "output_type": "execute_result"
    }
   ],
   "source": [
    "# Fix check:\n",
    "\n",
    "display(df_loop_ohare.info())\n",
    "df_loop_ohare.describe()"
   ]
  },
  {
   "cell_type": "markdown",
   "id": "074434bf",
   "metadata": {},
   "source": [
    "### Conclusions <a id='dpconclusions'></a>\n",
    "\n",
    "Pertaining to the Loop-O'hare table: We found 6 entries with 0 values in its duration_seconds column. These can be considered as missing values, as they have either been mistakenly inputted during data collection or the passenger in question might have cancelled the trip altogether. Either ways, they do not provide any predictive value and only represent a small percentage share of our population - 0.5%, and thus were dropped from our DateFrame.  "
   ]
  },
  {
   "cell_type": "markdown",
   "id": "3ac5e89a",
   "metadata": {},
   "source": [
    "[Back to Contents](#back)"
   ]
  },
  {
   "cell_type": "markdown",
   "id": "70916103",
   "metadata": {},
   "source": [
    "# 4. User Behaviour <a id='ub'></a>"
   ]
  },
  {
   "cell_type": "markdown",
   "id": "79556a8c",
   "metadata": {},
   "source": [
    "## 4.1. Top 10 Ride Destinations <a id='destination'></a>"
   ]
  },
  {
   "cell_type": "code",
   "execution_count": 15,
   "id": "95925b8d",
   "metadata": {},
   "outputs": [],
   "source": [
    "# Extracting top-10 popular dropoff locations in the Chicago area:\n",
    "\n",
    "top10_destinations = df_trips.sort_values('average_trips', ascending=False).head(10)"
   ]
  },
  {
   "cell_type": "code",
   "execution_count": 16,
   "id": "9ebc6bfb",
   "metadata": {},
   "outputs": [
    {
     "data": {
      "image/png": "[encoded data removed]",
      "text/plain": [
       "<Figure size 700x400 with 1 Axes>"
      ]
     },
     "metadata": {},
     "output_type": "display_data"
    }
   ],
   "source": [
    "# Bar plot on popular destinations:\n",
    "\n",
    "top10_destinations\\\n",
    ".plot(kind='bar', grid=True, edgecolor='black', color='orange', figsize=(7,4))\n",
    "\n",
    "plt.title('Top 10 Ride Destinations | Chicago Area, Nov 2017', fontsize=12)\n",
    "plt.xlabel('Neighborhoods', fontsize=11)\n",
    "plt.ylabel('No. of Trips', fontsize=11)\n",
    "plt.xticks(ticks=[0, 1, 2, 3, 4, 5, 6, 7, 8, 9], \\\n",
    "           labels=['Loop', 'River North', 'Streeterville', 'West Loop', \"O'Hare\", 'Lake View', 'Grant Park', \\\n",
    "                  'Museum Campus', 'Gold Coast', 'Sheffield & DePaul'], \\\n",
    "          rotation=45)\n",
    "plt.tight_layout()\n",
    "plt.show()"
   ]
  },
  {
   "cell_type": "markdown",
   "id": "514b2cae",
   "metadata": {},
   "source": [
    "### Conclusions <a id='destination_conclusion'></a>\n",
    "\n",
    "Being the central business district (CBD) of the city and the main section of downtown Chicago, it isn't surprising to see Chicago's Loop being the most frequently dropped-off destination. In fact, our top 4 are all represented by densely populated areas, comprising affluent residences, businesses, eateries, art galleries and the lot. 5th spot goes to the O'Hare Airport, which speaks for itself. "
   ]
  },
  {
   "cell_type": "markdown",
   "id": "07845728",
   "metadata": {},
   "source": [
    "[Back to Contents](#back)"
   ]
  },
  {
   "cell_type": "markdown",
   "id": "c167df73",
   "metadata": {},
   "source": [
    "## 4.2. Major Taxi Companies in the Chicago Area<a id='taxi_companies'></a>\n",
    "In the following section, we'd like to determine the taxi companies that lead market share in the Chicago area. These companies represent our direct competitors in this space. We have a sample size of 2 days, for the 15th and 16th of November, 2017, and we will look at the total trips by each company across this duration."
   ]
  },
  {
   "cell_type": "code",
   "execution_count": 17,
   "id": "0314f76e",
   "metadata": {},
   "outputs": [
    {
     "data": {
      "image/png": "[encoded data removed]",
      "text/plain": [
       "<Figure size 300x500 with 1 Axes>"
      ]
     },
     "metadata": {},
     "output_type": "display_data"
    }
   ],
   "source": [
    "# Determining taxi companies that are dominating market share:\n",
    "\n",
    "Q1 = df_taxi['trips_amount'].quantile(0.25)\n",
    "Q3 = df_taxi['trips_amount'].quantile(0.75)\n",
    "IQR = Q3 - Q1\n",
    "\n",
    "(df_taxi\n",
    " .boxplot(column=['trips_amount'], grid=True, figsize=(3,5))\n",
    ")\n",
    "plt.suptitle('Total Rides by Taxi Company', fontsize=10)\n",
    "plt.title('Nov 16-17, 2017', fontsize=9)\n",
    "plt.ylim(-200, 10000)\n",
    "plt.hlines(y=Q1-1.5*IQR, xmin=0.9, xmax=1.1, color='red')\n",
    "plt.hlines(y=Q3+1.5*IQR, xmin=0.9, xmax=1.1, color='red')\n",
    "plt.show()"
   ]
  },
  {
   "cell_type": "code",
   "execution_count": 18,
   "id": "ee9783d1",
   "metadata": {},
   "outputs": [],
   "source": [
    "# Slicing taxi companies above the upper threshold (outliers):\n",
    "\n",
    "upper = Q3+1.5*IQR\n",
    "\n",
    "top_taxi_companies = df_taxi.query(\"trips_amount > @upper\")"
   ]
  },
  {
   "cell_type": "code",
   "execution_count": 19,
   "id": "fcef2a13",
   "metadata": {
    "scrolled": true
   },
   "outputs": [
    {
     "data": {
      "text/plain": [
       "0.7229719396115387"
      ]
     },
     "execution_count": 19,
     "metadata": {},
     "output_type": "execute_result"
    }
   ],
   "source": [
    "# Calculating percentage share total trips of our outliers over Nov 15-16:\n",
    "\n",
    "top_taxi_companies.trips_amount.sum() / df_taxi.trips_amount.sum()"
   ]
  },
  {
   "cell_type": "markdown",
   "id": "f5a12a32",
   "metadata": {},
   "source": [
    "**Intermediate Conclusion:** Our taxi company outliers represent a percentage share out of over 72% of roughly 130,000 trips across the 15th and 16th of November, 2017 in the Chicago area. In this scenario, we'd like to dial in on these outliers as they represent the market leaders of whom are our main competitors in this space."
   ]
  },
  {
   "cell_type": "code",
   "execution_count": 20,
   "id": "42cb78c4",
   "metadata": {},
   "outputs": [
    {
     "data": {
      "image/png": "[encoded data removed]",
      "text/plain": [
       "<Figure size 700x350 with 1 Axes>"
      ]
     },
     "metadata": {},
     "output_type": "display_data"
    }
   ],
   "source": [
    "# Visualizing the top taxi companies with a bar chart:\n",
    "\n",
    "(top_taxi_companies\n",
    " .plot(kind='barh', grid=True, edgecolor='black', color='orange', figsize=(7,3.5))\n",
    ")\n",
    "\n",
    "plt.title('Market Leading Taxi Companies | Chicago, Nov 15-16', fontsize=11)\n",
    "plt.xlabel('Number of Trips', fontsize=11)\n",
    "plt.ylabel('Taxi Companies', fontsize=11)\n",
    "plt.yticks(\n",
    "    ticks=[0, 1, 2, 3, 4, 5, 6, 7, 8, 9], \\\n",
    "    labels=['Flash Cab', 'Taxi Affiliation Services', 'Medallion Leasin', 'Yellow Cab', 'Taxi Affiliation Service Yellow', \n",
    "        'Chicago Cariage Cab Corp', 'Cirt Service', 'Sun Taxi', 'Star North Management LLC', \n",
    "        'Blue Ribbon Taxi Association Inc.'],      \n",
    "        )\n",
    "\n",
    "plt.show()"
   ]
  },
  {
   "cell_type": "code",
   "execution_count": 21,
   "id": "b9c286b1",
   "metadata": {},
   "outputs": [
    {
     "data": {
      "text/plain": [
       "0.29334139289641764"
      ]
     },
     "execution_count": 21,
     "metadata": {},
     "output_type": "execute_result"
    }
   ],
   "source": [
    "# Getting the percentage share of Flash Cab, Taxi Affiliation Services and Taxi Affiliation Service Yellow:\n",
    "\n",
    "(df_taxi.query(\"company_name == ['Flash Cab', 'Taxi Affiliation Services', 'Taxi Affiliation Service Yellow']\")\n",
    " .trips_amount.sum()\n",
    "  /\n",
    " df_taxi.trips_amount.sum()\n",
    ")"
   ]
  },
  {
   "cell_type": "markdown",
   "id": "65e1321f",
   "metadata": {},
   "source": [
    "### Conclusion <a id='taxi_companies_conclusion'></a>\n",
    "\n",
    "It's apparent that Flash Cab dominates the Chicago taxi space. However, if we consider Taxi Affiliation Services and Taxi Affiliation Service Yellow as a single entity, they immediately become our main competitior without question. These 3 companies account for almost 30% of our entire dataset. As a new entrant in the market and one of whose unique ride-sharing nature is the first of its kind, Zuber possesses the capabilities to disrupt the market if all things go to plan. These aforementioned companies should be our main priority in studying user brand preferences. The questions that need to be asked are:\n",
    "> 1. Can we assume our market leaders have bigger fleets and therefore reduced wait times/increased accessibility for consumers?\n",
    "2. Do our market leaders possess certain pulling traits that are not seen in other taxi companies? (ie; newer vehicles, vehicle spaciousness, hygiene etc.)\n",
    "3. If we assess that our market leaders have more available taxis on the road in the average day, are these companies better to work for in terms of compensation/salary/wages? "
   ]
  },
  {
   "cell_type": "markdown",
   "id": "bc9ff7c9",
   "metadata": {},
   "source": [
    "[Back to Contents](#back)"
   ]
  },
  {
   "cell_type": "markdown",
   "id": "3697d9a5",
   "metadata": {},
   "source": [
    "# 5. Hypothesis Testing on Weather and Ride Duration <a id='hp'></a>\n",
    "Moving forward, we'd like to test the hypothesis that average duration of rides from the Loop to O'Hare International Airport changes on rainy Saturdays.\n",
    "<br><br>\n",
    "> H0 - Average ride duration from Loop to O'Hare on rainy Saturdays remains the same.\n",
    "<br>\n",
    "H1 - Average ride duration from Loop to O'Hare on rainy Saturdays differs."
   ]
  },
  {
   "cell_type": "code",
   "execution_count": 22,
   "id": "b8b26831",
   "metadata": {},
   "outputs": [
    {
     "data": {
      "image/png": "[encoded data removed]",
      "text/plain": [
       "<Figure size 550x330 with 1 Axes>"
      ]
     },
     "metadata": {},
     "output_type": "display_data"
    }
   ],
   "source": [
    "# Plotting average trip duration for Loop-O'Hare:\n",
    "\n",
    "(df_loop_ohare\n",
    " .pivot_table(index='weather_conditions', values='duration_seconds', aggfunc='mean')\n",
    " .plot(kind='bar', edgecolor='black', grid=True, figsize=(5.5,3.3))\n",
    ")\n",
    "\n",
    "plt.legend(fontsize=8)\n",
    "plt.title(\"Average Trip Duration | Loop - O'Hare\", fontsize=10)\n",
    "plt.xlabel('Weather', fontsize=10)\n",
    "plt.ylabel('Trip Duration (seconds)', fontsize=10)\n",
    "plt.xticks(rotation=360, fontsize=12)\n",
    "\n",
    "plt.tight_layout()\n",
    "plt.show()"
   ]
  },
  {
   "cell_type": "code",
   "execution_count": 23,
   "id": "89da51a6",
   "metadata": {},
   "outputs": [],
   "source": [
    "# Filtering good and bad weather data:\n",
    "\n",
    "weather_good = df_loop_ohare.query(\"weather_conditions == 'Good'\")\n",
    "weather_bad = df_loop_ohare.query(\"weather_conditions == 'Bad'\")"
   ]
  },
  {
   "cell_type": "code",
   "execution_count": 24,
   "id": "6e10be9a",
   "metadata": {},
   "outputs": [
    {
     "data": {
      "text/plain": [
       "2013.2789115646258"
      ]
     },
     "metadata": {},
     "output_type": "display_data"
    },
    {
     "data": {
      "text/plain": [
       "2427.2055555555557"
      ]
     },
     "execution_count": 24,
     "metadata": {},
     "output_type": "execute_result"
    }
   ],
   "source": [
    "# Calculating difference in means of both samles:\n",
    "\n",
    "display(weather_good.duration_seconds.mean())\n",
    "weather_bad.duration_seconds.mean()"
   ]
  },
  {
   "cell_type": "code",
   "execution_count": 25,
   "id": "f6993127",
   "metadata": {},
   "outputs": [
    {
     "data": {
      "text/plain": [
       "552889.2319951818"
      ]
     },
     "metadata": {},
     "output_type": "display_data"
    },
    {
     "data": {
      "text/plain": [
       "520294.086002483"
      ]
     },
     "metadata": {},
     "output_type": "display_data"
    },
    {
     "data": {
      "text/plain": [
       "0.9410457934312187"
      ]
     },
     "execution_count": 25,
     "metadata": {},
     "output_type": "execute_result"
    }
   ],
   "source": [
    "# Calculating variance difference between both samples:\n",
    "\n",
    "display(weather_good.duration_seconds.var())\n",
    "display(weather_bad.duration_seconds.var())\n",
    "\n",
    "weather_bad.duration_seconds.var() / weather_good.duration_seconds.var() "
   ]
  },
  {
   "cell_type": "code",
   "execution_count": 26,
   "id": "38c34571",
   "metadata": {
    "scrolled": false
   },
   "outputs": [
    {
     "name": "stdout",
     "output_type": "stream",
     "text": [
      "p-value: 2.4173590471585584e-11\n",
      "We reject the null hypothesis; Average trip durations for both weather conditions are different\n"
     ]
    }
   ],
   "source": [
    "# T-test\n",
    "\n",
    "alpha = 0.05\n",
    "\n",
    "results = st.ttest_ind(weather_good.duration_seconds, weather_bad.duration_seconds, equal_var = False)\n",
    "print('p-value:', results.pvalue) \n",
    "\n",
    "if (results.pvalue < alpha):\n",
    "    print(\"We reject the null hypothesis; Average trip durations for both weather conditions are different\")\n",
    "else:\n",
    "    print(\"We can't reject the null hypothesis; Average trip durations for both weather conditions are similar\")"
   ]
  },
  {
   "cell_type": "markdown",
   "id": "601aab7c",
   "metadata": {},
   "source": [
    "### Conclusion <a id='ht_conclusion'></a>\n",
    "\n",
    "We plotted a simple bar chart of average trip duration under both good and bad weather. Trips under bad weather were on average 7 minutes slower. Though we have a smaller sample size of bad weather data, our T-Test confirmed our hypothesis, that trips from the Loop to O'Hare Airport do indeed take longer when weather conditions are bad."
   ]
  },
  {
   "cell_type": "markdown",
   "id": "bed09977",
   "metadata": {},
   "source": [
    "[Back to Contents](#back)"
   ]
  },
  {
   "cell_type": "markdown",
   "id": "227aa099",
   "metadata": {},
   "source": [
    "# Findings & Overall Conclusion <a id='findings'></a>\n",
    "\n",
    "Our analysis on the Chicago area provided us with a few key takeaways;\n",
    "1. The CBD and its surrounding metropolitan areas were our most frequented destinations based on drop-off locations. Our top 5 comprised the Loop, Rivernorth, Streeterville, West Loop and O'Hare Airport. These are densely population locations and should be accounted for when recruiting drivers for our new ride-sharing service.\n",
    "2. There is a major skew in user brand preferences. The majority of users are hailing rides from Flash Cab and the Taxi Affliliation Services companies, with these three alone accounting for nearly 30% of our entire dataset. The aforementioned companies are part of 9 well-performing outliers who account for roughly 72% of total trips over the span of 2 days in the Chicago areas. It would be wise to study them further so that we can highlight their selling points and thus, their ability to attract the majority of our prospective customer base. Are they price-driven, features-laden or just companies that possess larger fleets and accessibility?\n",
    "3. We hypothesized that trip durations specific to the Loop-O'Hare route would incur a longer average duration (roughly 7 minutes longer) in bad weather conditions and concluded via our T-Test that this is in fact true to an extent. As a ride sharing service, this will come in handy in terms of promotional campaigns as the highlight of the Zuber service is availability and accessibility for the masses."
   ]
  },
  {
   "cell_type": "markdown",
   "id": "62e08853",
   "metadata": {},
   "source": [
    "[Back to Contents](#back)"
   ]
  }
 ],
 "metadata": {
  "kernelspec": {
   "display_name": "Python 3 (ipykernel)",
   "language": "python",
   "name": "python3"
  },
  "language_info": {
   "codemirror_mode": {
    "name": "ipython",
    "version": 3
   },
   "file_extension": ".py",
   "mimetype": "text/x-python",
   "name": "python",
   "nbconvert_exporter": "python",
   "pygments_lexer": "ipython3",
   "version": "3.9.13"
  },
  "toc": {
   "base_numbering": 1,
   "nav_menu": {},
   "number_sections": true,
   "sideBar": true,
   "skip_h1_title": true,
   "title_cell": "Table of Contents",
   "title_sidebar": "Contents",
   "toc_cell": false,
   "toc_position": {},
   "toc_section_display": true,
   "toc_window_display": false
  }
 },
 "nbformat": 4,
 "nbformat_minor": 5
}
