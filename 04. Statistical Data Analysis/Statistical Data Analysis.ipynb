{
 "cells": [
  {
   "cell_type": "markdown",
   "metadata": {},
   "source": [
    "# MEGALINE ~ Prepaid Plan Analysis"
   ]
  },
  {
   "cell_type": "markdown",
   "metadata": {},
   "source": [
    "This study aims to break down the nuances between prepaid products of 'Surf' and 'Ultimate' made available by Megaline, of which we will ascertain which of the two has made the most traction in terms of overall revenue. The goal is to determine which plan will warrant additional budget allocation towards its advertising and promotional activities. Our data comprises 500 Megaline customers for the year 2018 and are of random demographics. We will predominantly look at the behavioural patterns of both sets of users and to a lesser extent, their demographics. <br><br>  Below is a summary of how we intend to process our revenue analysis\n",
    "<br>\n",
    "<br>\n",
    "1. We need to look at user behaviours between the populations of both prepaid plans. If they are largely different, we may surmise that Megaline may want to look at two different marketing plans and strategies for two separate types of population. If they are similar, we may suggest a bigger focus on the plan that generates the most revenue.\n",
    "2. User demographics will also play a role to a smaller extent, whereby we can ascertain if both prepaid plan populations have similar characteristics or differing ones; for example, a bigger market like LA, NY and Chicago possesses a higher per-capita real gross GDP and thus a higher average income bracket when compared to smaller markets in the States.  \n",
    "3. Our main strategy in determining revenue generation boils down to our baseline plan prices. In other words, how much more revenue generated on average by users of a certain plan on top of their default monthly plan rates."
   ]
  },
  {
   "cell_type": "markdown",
   "metadata": {},
   "source": [
    "# Table of contents\n",
    "1. [Initial Hypothesis](#hypothesis)\n",
    "2. [Initialization](#initialization)\n",
    "3. [Data Preprocessing](#dp)\n",
    "    * 3.1 [Plans Data](#dpplans)\n",
    "    * 3.2 [Users Data](#dpusers)\n",
    "    * 3.3 [Call Data](#dpcall)\n",
    "    * 3.4 [Internet Data](#dpinternet)\n",
    "    * 3.5 [Messages Data](#dpmessages)\n",
    "4. [Features Engineering](#fe)\n",
    "    * 4.1 [df_users](#feusers)\n",
    "    * 4.2 [df_calls](#fecalls)\n",
    "    * 4.3 [df_internet](#feinternet)\n",
    "    * 4.4 [df_messages](#femessages)\n",
    "5. [Data Transformation](#dt)\n",
    "    * 5.1 [Monthly Usage, per User](#dt1)\n",
    "    * 5.2 [Mothly Surcharge, per User](#dt2)\n",
    "        * 5.2.1 [Calls Surcharge](#dt21)\n",
    "        * 5.2.2 [Internet Surcharge](#dt22)\n",
    "        * 5.2.3 [Messages Surcharge](#dt23)   \n",
    "        * 5.2.4 [Merging Usage, Surcharge, User Information & Plan Prices](#dt24) \n",
    "    * 5.3 [Monthly Revenue for user](#dt3)\n",
    "6. [User Behaviour Study](#ub)\n",
    "    * 6.1 [Calls](#ub1)\n",
    "    * 6.2 [Internet](#ub2)\n",
    "    * 6.3 [Messages](#ub3)\n",
    "    * 6.4 [Age Group](#ub4)\n",
    "    * 6.5 [Location](#ub5)\n",
    "7. [Revenue Study](#revenue)\n",
    "8. [Statistical Hypothesis Testing](#hypo)\n",
    "    * 8.1 [Average revenue from users of the Ultimate and Surf calling plans differs](#hypo1)\n",
    "    * 8.2 [Average revenue from users in the NY-NJ area differs from that of the users from the other regions ](#hypo2)\n",
    "9. [General Conclusion](#gc)\n",
    "    * 9.1 [Data Cleaning Overview](#gc1)\n",
    "    * 9.2 [Features Engineering Overview](#gc2)\n",
    "    * 9.3 [Data Transformation Overview](#gc3)\n",
    "    * 9.4 [Conclusive Overview on Revenue](#gc4)"
   ]
  },
  {
   "cell_type": "markdown",
   "metadata": {},
   "source": [
    "# 1. Initial Hypothesis <a id=\"hypothesis\"> </a>"
   ]
  },
  {
   "cell_type": "markdown",
   "metadata": {},
   "source": [
    "<u>Users of the cheaper Surf plan, who are of the mindset of \"pay for what you will use/need\", will generate more revenue in contrast to the Ultimate plan, as it is more likely for those users to exceed their call, internet and message limits.<u/>"
   ]
  },
  {
   "cell_type": "markdown",
   "metadata": {},
   "source": [
    "# 2. Initialization <a name=\"initialization\"></a>"
   ]
  },
  {
   "cell_type": "code",
   "execution_count": 148,
   "metadata": {
    "scrolled": true
   },
   "outputs": [],
   "source": [
    "# Loading libraries:\n",
    "\n",
    "import pandas as pd\n",
    "import numpy as np\n",
    "import math as mt\n",
    "import scipy.stats as st\n",
    "import matplotlib.pyplot as plt "
   ]
  },
  {
   "cell_type": "code",
   "execution_count": 149,
   "metadata": {
    "scrolled": true
   },
   "outputs": [],
   "source": [
    "# Loading DataFrames:\n",
    "\n",
    "try: \n",
    "    df_users = pd.read_csv('megaline_users.csv')\n",
    "    df_plans = pd.read_csv('megaline_plans.csv')\n",
    "    df_calls = pd.read_csv('megaline_calls.csv')\n",
    "    df_internet = pd.read_csv('megaline_internet.csv')\n",
    "    df_messages = pd.read_csv('megaline_messages.csv')\n",
    "    \n",
    "except: \n",
    "    df_users = pd.read_csv('/datasets/megaline_users.csv')\n",
    "    df_plans = pd.read_csv('/datasets/megaline_plans.csv')\n",
    "    df_calls = pd.read_csv('/datasets/megaline_calls.csv')\n",
    "    df_internet = pd.read_csv('/datasets/megaline_internet.csv')\n",
    "    df_messages = pd.read_csv('/datasets/megaline_messages.csv')"
   ]
  },
  {
   "cell_type": "markdown",
   "metadata": {},
   "source": [
    "# 3. Data Pre-processing <a name=\"dp\"></a>"
   ]
  },
  {
   "cell_type": "markdown",
   "metadata": {},
   "source": [
    "## 3.1. Plans Data <a name=\"dpplans\"></a>"
   ]
  },
  {
   "cell_type": "code",
   "execution_count": 150,
   "metadata": {
    "scrolled": true
   },
   "outputs": [
    {
     "data": {
      "text/html": [
       "<div>\n",
       "<style scoped>\n",
       "    .dataframe tbody tr th:only-of-type {\n",
       "        vertical-align: middle;\n",
       "    }\n",
       "\n",
       "    .dataframe tbody tr th {\n",
       "        vertical-align: top;\n",
       "    }\n",
       "\n",
       "    .dataframe thead th {\n",
       "        text-align: right;\n",
       "    }\n",
       "</style>\n",
       "<table border=\"1\" class=\"dataframe\">\n",
       "  <thead>\n",
       "    <tr style=\"text-align: right;\">\n",
       "      <th></th>\n",
       "      <th>messages_included</th>\n",
       "      <th>mb_per_month_included</th>\n",
       "      <th>minutes_included</th>\n",
       "      <th>usd_monthly_pay</th>\n",
       "      <th>usd_per_gb</th>\n",
       "      <th>usd_per_message</th>\n",
       "      <th>usd_per_minute</th>\n",
       "      <th>plan_name</th>\n",
       "    </tr>\n",
       "  </thead>\n",
       "  <tbody>\n",
       "    <tr>\n",
       "      <th>0</th>\n",
       "      <td>50</td>\n",
       "      <td>15360</td>\n",
       "      <td>500</td>\n",
       "      <td>20</td>\n",
       "      <td>10</td>\n",
       "      <td>0.03</td>\n",
       "      <td>0.03</td>\n",
       "      <td>surf</td>\n",
       "    </tr>\n",
       "    <tr>\n",
       "      <th>1</th>\n",
       "      <td>1000</td>\n",
       "      <td>30720</td>\n",
       "      <td>3000</td>\n",
       "      <td>70</td>\n",
       "      <td>7</td>\n",
       "      <td>0.01</td>\n",
       "      <td>0.01</td>\n",
       "      <td>ultimate</td>\n",
       "    </tr>\n",
       "  </tbody>\n",
       "</table>\n",
       "</div>"
      ],
      "text/plain": [
       "   messages_included  mb_per_month_included  minutes_included  \\\n",
       "0                 50                  15360               500   \n",
       "1               1000                  30720              3000   \n",
       "\n",
       "   usd_monthly_pay  usd_per_gb  usd_per_message  usd_per_minute plan_name  \n",
       "0               20          10             0.03            0.03      surf  \n",
       "1               70           7             0.01            0.01  ultimate  "
      ]
     },
     "execution_count": 150,
     "metadata": {},
     "output_type": "execute_result"
    }
   ],
   "source": [
    "# Checking our df_plans DataFrame as it contains critical measurements for the rest of our data:\n",
    "\n",
    "df_plans"
   ]
  },
  {
   "cell_type": "markdown",
   "metadata": {},
   "source": [
    "Our column for included internet is measured in Megabytes, when the rest of our data is in Gigabytes. Our column name 'plan_name' also appears to be different from a similar column in our 'df_user' dataset.  We will rename 'mb_per_month_included' to 'gb_included and convert its values to the appropriate unit of measurement, whereas 'plan_name' will be renamed to 'plan'."
   ]
  },
  {
   "cell_type": "code",
   "execution_count": 151,
   "metadata": {
    "scrolled": true
   },
   "outputs": [],
   "source": [
    "# Renaming our included internet standard of measurement:\n",
    "\n",
    "df_plans = df_plans.rename(columns = {'mb_per_month_included': 'gb_included'})\n"
   ]
  },
  {
   "cell_type": "code",
   "execution_count": 152,
   "metadata": {},
   "outputs": [],
   "source": [
    "# Replacing our MB values with its corresponding GB measurements:\n",
    "\n",
    "df_plans['gb_included'] = (df_plans['gb_included'] / 1024).astype(int)\n"
   ]
  },
  {
   "cell_type": "code",
   "execution_count": 153,
   "metadata": {
    "scrolled": true
   },
   "outputs": [],
   "source": [
    "# Renaming 'plan_name' to 'plan':\n",
    "\n",
    "df_plans.rename(columns = {'plan_name':'plan'}, inplace = True)"
   ]
  },
  {
   "cell_type": "code",
   "execution_count": 154,
   "metadata": {
    "scrolled": false
   },
   "outputs": [
    {
     "name": "stdout",
     "output_type": "stream",
     "text": [
      "<class 'pandas.core.frame.DataFrame'>\n",
      "RangeIndex: 2 entries, 0 to 1\n",
      "Data columns (total 8 columns):\n",
      " #   Column             Non-Null Count  Dtype  \n",
      "---  ------             --------------  -----  \n",
      " 0   messages_included  2 non-null      int64  \n",
      " 1   gb_included        2 non-null      int32  \n",
      " 2   minutes_included   2 non-null      int64  \n",
      " 3   usd_monthly_pay    2 non-null      int64  \n",
      " 4   usd_per_gb         2 non-null      int64  \n",
      " 5   usd_per_message    2 non-null      float64\n",
      " 6   usd_per_minute     2 non-null      float64\n",
      " 7   plan               2 non-null      object \n",
      "dtypes: float64(2), int32(1), int64(4), object(1)\n",
      "memory usage: 248.0+ bytes\n"
     ]
    }
   ],
   "source": [
    "df_plans.info()"
   ]
  },
  {
   "cell_type": "markdown",
   "metadata": {},
   "source": [
    "## 3.2. Users Data <a name=\"dpusers\"></a>"
   ]
  },
  {
   "cell_type": "code",
   "execution_count": 155,
   "metadata": {
    "scrolled": true
   },
   "outputs": [
    {
     "data": {
      "text/html": [
       "<div>\n",
       "<style scoped>\n",
       "    .dataframe tbody tr th:only-of-type {\n",
       "        vertical-align: middle;\n",
       "    }\n",
       "\n",
       "    .dataframe tbody tr th {\n",
       "        vertical-align: top;\n",
       "    }\n",
       "\n",
       "    .dataframe thead th {\n",
       "        text-align: right;\n",
       "    }\n",
       "</style>\n",
       "<table border=\"1\" class=\"dataframe\">\n",
       "  <thead>\n",
       "    <tr style=\"text-align: right;\">\n",
       "      <th></th>\n",
       "      <th>user_id</th>\n",
       "      <th>first_name</th>\n",
       "      <th>last_name</th>\n",
       "      <th>age</th>\n",
       "      <th>city</th>\n",
       "      <th>reg_date</th>\n",
       "      <th>plan</th>\n",
       "      <th>churn_date</th>\n",
       "    </tr>\n",
       "  </thead>\n",
       "  <tbody>\n",
       "    <tr>\n",
       "      <th>0</th>\n",
       "      <td>1000</td>\n",
       "      <td>Anamaria</td>\n",
       "      <td>Bauer</td>\n",
       "      <td>45</td>\n",
       "      <td>Atlanta-Sandy Springs-Roswell, GA MSA</td>\n",
       "      <td>2018-12-24</td>\n",
       "      <td>ultimate</td>\n",
       "      <td>NaN</td>\n",
       "    </tr>\n",
       "    <tr>\n",
       "      <th>1</th>\n",
       "      <td>1001</td>\n",
       "      <td>Mickey</td>\n",
       "      <td>Wilkerson</td>\n",
       "      <td>28</td>\n",
       "      <td>Seattle-Tacoma-Bellevue, WA MSA</td>\n",
       "      <td>2018-08-13</td>\n",
       "      <td>surf</td>\n",
       "      <td>NaN</td>\n",
       "    </tr>\n",
       "    <tr>\n",
       "      <th>2</th>\n",
       "      <td>1002</td>\n",
       "      <td>Carlee</td>\n",
       "      <td>Hoffman</td>\n",
       "      <td>36</td>\n",
       "      <td>Las Vegas-Henderson-Paradise, NV MSA</td>\n",
       "      <td>2018-10-21</td>\n",
       "      <td>surf</td>\n",
       "      <td>NaN</td>\n",
       "    </tr>\n",
       "    <tr>\n",
       "      <th>3</th>\n",
       "      <td>1003</td>\n",
       "      <td>Reynaldo</td>\n",
       "      <td>Jenkins</td>\n",
       "      <td>52</td>\n",
       "      <td>Tulsa, OK MSA</td>\n",
       "      <td>2018-01-28</td>\n",
       "      <td>surf</td>\n",
       "      <td>NaN</td>\n",
       "    </tr>\n",
       "    <tr>\n",
       "      <th>4</th>\n",
       "      <td>1004</td>\n",
       "      <td>Leonila</td>\n",
       "      <td>Thompson</td>\n",
       "      <td>40</td>\n",
       "      <td>Seattle-Tacoma-Bellevue, WA MSA</td>\n",
       "      <td>2018-05-23</td>\n",
       "      <td>surf</td>\n",
       "      <td>NaN</td>\n",
       "    </tr>\n",
       "  </tbody>\n",
       "</table>\n",
       "</div>"
      ],
      "text/plain": [
       "   user_id first_name  last_name  age                                   city  \\\n",
       "0     1000   Anamaria      Bauer   45  Atlanta-Sandy Springs-Roswell, GA MSA   \n",
       "1     1001     Mickey  Wilkerson   28        Seattle-Tacoma-Bellevue, WA MSA   \n",
       "2     1002     Carlee    Hoffman   36   Las Vegas-Henderson-Paradise, NV MSA   \n",
       "3     1003   Reynaldo    Jenkins   52                          Tulsa, OK MSA   \n",
       "4     1004    Leonila   Thompson   40        Seattle-Tacoma-Bellevue, WA MSA   \n",
       "\n",
       "     reg_date      plan churn_date  \n",
       "0  2018-12-24  ultimate        NaN  \n",
       "1  2018-08-13      surf        NaN  \n",
       "2  2018-10-21      surf        NaN  \n",
       "3  2018-01-28      surf        NaN  \n",
       "4  2018-05-23      surf        NaN  "
      ]
     },
     "metadata": {},
     "output_type": "display_data"
    },
    {
     "name": "stdout",
     "output_type": "stream",
     "text": [
      "<class 'pandas.core.frame.DataFrame'>\n",
      "RangeIndex: 500 entries, 0 to 499\n",
      "Data columns (total 8 columns):\n",
      " #   Column      Non-Null Count  Dtype \n",
      "---  ------      --------------  ----- \n",
      " 0   user_id     500 non-null    int64 \n",
      " 1   first_name  500 non-null    object\n",
      " 2   last_name   500 non-null    object\n",
      " 3   age         500 non-null    int64 \n",
      " 4   city        500 non-null    object\n",
      " 5   reg_date    500 non-null    object\n",
      " 6   plan        500 non-null    object\n",
      " 7   churn_date  34 non-null     object\n",
      "dtypes: int64(2), object(6)\n",
      "memory usage: 31.4+ KB\n"
     ]
    }
   ],
   "source": [
    "# Checking our users dataset:\n",
    "\n",
    "display(df_users.head())\n",
    "df_users.info()"
   ]
  },
  {
   "cell_type": "code",
   "execution_count": 156,
   "metadata": {},
   "outputs": [
    {
     "data": {
      "text/html": [
       "<div>\n",
       "<style scoped>\n",
       "    .dataframe tbody tr th:only-of-type {\n",
       "        vertical-align: middle;\n",
       "    }\n",
       "\n",
       "    .dataframe tbody tr th {\n",
       "        vertical-align: top;\n",
       "    }\n",
       "\n",
       "    .dataframe thead th {\n",
       "        text-align: right;\n",
       "    }\n",
       "</style>\n",
       "<table border=\"1\" class=\"dataframe\">\n",
       "  <thead>\n",
       "    <tr style=\"text-align: right;\">\n",
       "      <th></th>\n",
       "      <th>user_id</th>\n",
       "      <th>age</th>\n",
       "    </tr>\n",
       "  </thead>\n",
       "  <tbody>\n",
       "    <tr>\n",
       "      <th>count</th>\n",
       "      <td>500.000000</td>\n",
       "      <td>500.000000</td>\n",
       "    </tr>\n",
       "    <tr>\n",
       "      <th>mean</th>\n",
       "      <td>1249.500000</td>\n",
       "      <td>45.486000</td>\n",
       "    </tr>\n",
       "    <tr>\n",
       "      <th>std</th>\n",
       "      <td>144.481833</td>\n",
       "      <td>16.972269</td>\n",
       "    </tr>\n",
       "    <tr>\n",
       "      <th>min</th>\n",
       "      <td>1000.000000</td>\n",
       "      <td>18.000000</td>\n",
       "    </tr>\n",
       "    <tr>\n",
       "      <th>25%</th>\n",
       "      <td>1124.750000</td>\n",
       "      <td>30.000000</td>\n",
       "    </tr>\n",
       "    <tr>\n",
       "      <th>50%</th>\n",
       "      <td>1249.500000</td>\n",
       "      <td>46.000000</td>\n",
       "    </tr>\n",
       "    <tr>\n",
       "      <th>75%</th>\n",
       "      <td>1374.250000</td>\n",
       "      <td>61.000000</td>\n",
       "    </tr>\n",
       "    <tr>\n",
       "      <th>max</th>\n",
       "      <td>1499.000000</td>\n",
       "      <td>75.000000</td>\n",
       "    </tr>\n",
       "  </tbody>\n",
       "</table>\n",
       "</div>"
      ],
      "text/plain": [
       "           user_id         age\n",
       "count   500.000000  500.000000\n",
       "mean   1249.500000   45.486000\n",
       "std     144.481833   16.972269\n",
       "min    1000.000000   18.000000\n",
       "25%    1124.750000   30.000000\n",
       "50%    1249.500000   46.000000\n",
       "75%    1374.250000   61.000000\n",
       "max    1499.000000   75.000000"
      ]
     },
     "execution_count": 156,
     "metadata": {},
     "output_type": "execute_result"
    }
   ],
   "source": [
    "# Getting a statistical overview our user data:\n",
    "\n",
    "df_users.describe()"
   ]
  },
  {
   "cell_type": "code",
   "execution_count": 157,
   "metadata": {
    "scrolled": true
   },
   "outputs": [
    {
     "data": {
      "text/plain": [
       "0"
      ]
     },
     "execution_count": 157,
     "metadata": {},
     "output_type": "execute_result"
    }
   ],
   "source": [
    "# Checking for duplicates:\n",
    "\n",
    "df_users.duplicated().sum()"
   ]
  },
  {
   "cell_type": "markdown",
   "metadata": {},
   "source": [
    "**Obvious Fixes:**\n",
    "1. No Duplicates found\n",
    "2. Missing Values found in 'churn_date', but that is due to those particular entries still being subscribed to the service. We will fill these with the last day of the 2018 calender, as this represents the maximum DateTime limit of our dataset.\n",
    "3. Converting to DateTime objects for columns \"reg_date\" and \"churn_date\"\n",
    "4. The city column can be further split into city and state"
   ]
  },
  {
   "cell_type": "code",
   "execution_count": 158,
   "metadata": {
    "scrolled": true
   },
   "outputs": [],
   "source": [
    "# Converting 'reg_date' and 'churn_date' to DateTime objects:\n",
    "\n",
    "df_users['reg_date'] = pd.to_datetime(df_users['reg_date'], format='%Y-%m-%d')\n",
    "df_users['churn_date'] = pd.to_datetime(df_users['churn_date'], format='%Y-%m-%d')"
   ]
  },
  {
   "cell_type": "code",
   "execution_count": 159,
   "metadata": {
    "scrolled": true
   },
   "outputs": [],
   "source": [
    "# Getting a column of states:\n",
    "\n",
    "df_users.insert(loc=5, \n",
    "                column='state', \n",
    "                value=(df_users['city'].str.split(', ').str[1]).str.split().str[0]\n",
    "               )"
   ]
  },
  {
   "cell_type": "code",
   "execution_count": 160,
   "metadata": {
    "scrolled": true
   },
   "outputs": [],
   "source": [
    "# Getting a column of cities:\n",
    "\n",
    "df_users['city'] = df_users['city'].str.split(', ').str[0]"
   ]
  },
  {
   "cell_type": "code",
   "execution_count": 161,
   "metadata": {
    "scrolled": true
   },
   "outputs": [],
   "source": [
    "# Filling in our missing values with the last day of 2018 calender:\n",
    "\n",
    "df_users['churn_date'] = df_users['churn_date'].fillna('2018-12-31')"
   ]
  },
  {
   "cell_type": "code",
   "execution_count": 162,
   "metadata": {
    "scrolled": false
   },
   "outputs": [
    {
     "name": "stdout",
     "output_type": "stream",
     "text": [
      "<class 'pandas.core.frame.DataFrame'>\n",
      "RangeIndex: 500 entries, 0 to 499\n",
      "Data columns (total 9 columns):\n",
      " #   Column      Non-Null Count  Dtype         \n",
      "---  ------      --------------  -----         \n",
      " 0   user_id     500 non-null    int64         \n",
      " 1   first_name  500 non-null    object        \n",
      " 2   last_name   500 non-null    object        \n",
      " 3   age         500 non-null    int64         \n",
      " 4   city        500 non-null    object        \n",
      " 5   state       500 non-null    object        \n",
      " 6   reg_date    500 non-null    datetime64[ns]\n",
      " 7   plan        500 non-null    object        \n",
      " 8   churn_date  500 non-null    datetime64[ns]\n",
      "dtypes: datetime64[ns](2), int64(2), object(5)\n",
      "memory usage: 35.3+ KB\n"
     ]
    }
   ],
   "source": [
    "# Last check:\n",
    "\n",
    "df_users.info()"
   ]
  },
  {
   "cell_type": "markdown",
   "metadata": {},
   "source": [
    "## 3.3. Call Data <a id=\"dpcall\"></a>"
   ]
  },
  {
   "cell_type": "code",
   "execution_count": 163,
   "metadata": {
    "scrolled": true
   },
   "outputs": [
    {
     "name": "stdout",
     "output_type": "stream",
     "text": [
      "<class 'pandas.core.frame.DataFrame'>\n",
      "RangeIndex: 137735 entries, 0 to 137734\n",
      "Data columns (total 4 columns):\n",
      " #   Column     Non-Null Count   Dtype  \n",
      "---  ------     --------------   -----  \n",
      " 0   id         137735 non-null  object \n",
      " 1   user_id    137735 non-null  int64  \n",
      " 2   call_date  137735 non-null  object \n",
      " 3   duration   137735 non-null  float64\n",
      "dtypes: float64(1), int64(1), object(2)\n",
      "memory usage: 4.2+ MB\n"
     ]
    },
    {
     "data": {
      "text/plain": [
       "None"
      ]
     },
     "metadata": {},
     "output_type": "display_data"
    },
    {
     "data": {
      "text/html": [
       "<div>\n",
       "<style scoped>\n",
       "    .dataframe tbody tr th:only-of-type {\n",
       "        vertical-align: middle;\n",
       "    }\n",
       "\n",
       "    .dataframe tbody tr th {\n",
       "        vertical-align: top;\n",
       "    }\n",
       "\n",
       "    .dataframe thead th {\n",
       "        text-align: right;\n",
       "    }\n",
       "</style>\n",
       "<table border=\"1\" class=\"dataframe\">\n",
       "  <thead>\n",
       "    <tr style=\"text-align: right;\">\n",
       "      <th></th>\n",
       "      <th>id</th>\n",
       "      <th>user_id</th>\n",
       "      <th>call_date</th>\n",
       "      <th>duration</th>\n",
       "    </tr>\n",
       "  </thead>\n",
       "  <tbody>\n",
       "    <tr>\n",
       "      <th>137720</th>\n",
       "      <td>1499_189</td>\n",
       "      <td>1499</td>\n",
       "      <td>2018-12-27</td>\n",
       "      <td>0.00</td>\n",
       "    </tr>\n",
       "    <tr>\n",
       "      <th>137721</th>\n",
       "      <td>1499_190</td>\n",
       "      <td>1499</td>\n",
       "      <td>2018-09-03</td>\n",
       "      <td>7.82</td>\n",
       "    </tr>\n",
       "    <tr>\n",
       "      <th>137722</th>\n",
       "      <td>1499_191</td>\n",
       "      <td>1499</td>\n",
       "      <td>2018-12-24</td>\n",
       "      <td>0.00</td>\n",
       "    </tr>\n",
       "    <tr>\n",
       "      <th>137723</th>\n",
       "      <td>1499_192</td>\n",
       "      <td>1499</td>\n",
       "      <td>2018-11-27</td>\n",
       "      <td>8.27</td>\n",
       "    </tr>\n",
       "    <tr>\n",
       "      <th>137724</th>\n",
       "      <td>1499_193</td>\n",
       "      <td>1499</td>\n",
       "      <td>2018-10-22</td>\n",
       "      <td>7.22</td>\n",
       "    </tr>\n",
       "    <tr>\n",
       "      <th>137725</th>\n",
       "      <td>1499_194</td>\n",
       "      <td>1499</td>\n",
       "      <td>2018-10-31</td>\n",
       "      <td>0.00</td>\n",
       "    </tr>\n",
       "    <tr>\n",
       "      <th>137726</th>\n",
       "      <td>1499_195</td>\n",
       "      <td>1499</td>\n",
       "      <td>2018-09-16</td>\n",
       "      <td>1.39</td>\n",
       "    </tr>\n",
       "    <tr>\n",
       "      <th>137727</th>\n",
       "      <td>1499_196</td>\n",
       "      <td>1499</td>\n",
       "      <td>2018-11-22</td>\n",
       "      <td>0.27</td>\n",
       "    </tr>\n",
       "    <tr>\n",
       "      <th>137728</th>\n",
       "      <td>1499_197</td>\n",
       "      <td>1499</td>\n",
       "      <td>2018-12-27</td>\n",
       "      <td>8.36</td>\n",
       "    </tr>\n",
       "    <tr>\n",
       "      <th>137729</th>\n",
       "      <td>1499_198</td>\n",
       "      <td>1499</td>\n",
       "      <td>2018-10-26</td>\n",
       "      <td>6.41</td>\n",
       "    </tr>\n",
       "    <tr>\n",
       "      <th>137730</th>\n",
       "      <td>1499_199</td>\n",
       "      <td>1499</td>\n",
       "      <td>2018-11-21</td>\n",
       "      <td>8.72</td>\n",
       "    </tr>\n",
       "    <tr>\n",
       "      <th>137731</th>\n",
       "      <td>1499_200</td>\n",
       "      <td>1499</td>\n",
       "      <td>2018-10-20</td>\n",
       "      <td>10.89</td>\n",
       "    </tr>\n",
       "    <tr>\n",
       "      <th>137732</th>\n",
       "      <td>1499_201</td>\n",
       "      <td>1499</td>\n",
       "      <td>2018-09-21</td>\n",
       "      <td>8.12</td>\n",
       "    </tr>\n",
       "    <tr>\n",
       "      <th>137733</th>\n",
       "      <td>1499_202</td>\n",
       "      <td>1499</td>\n",
       "      <td>2018-10-10</td>\n",
       "      <td>0.37</td>\n",
       "    </tr>\n",
       "    <tr>\n",
       "      <th>137734</th>\n",
       "      <td>1499_203</td>\n",
       "      <td>1499</td>\n",
       "      <td>2018-12-29</td>\n",
       "      <td>13.86</td>\n",
       "    </tr>\n",
       "  </tbody>\n",
       "</table>\n",
       "</div>"
      ],
      "text/plain": [
       "              id  user_id   call_date  duration\n",
       "137720  1499_189     1499  2018-12-27      0.00\n",
       "137721  1499_190     1499  2018-09-03      7.82\n",
       "137722  1499_191     1499  2018-12-24      0.00\n",
       "137723  1499_192     1499  2018-11-27      8.27\n",
       "137724  1499_193     1499  2018-10-22      7.22\n",
       "137725  1499_194     1499  2018-10-31      0.00\n",
       "137726  1499_195     1499  2018-09-16      1.39\n",
       "137727  1499_196     1499  2018-11-22      0.27\n",
       "137728  1499_197     1499  2018-12-27      8.36\n",
       "137729  1499_198     1499  2018-10-26      6.41\n",
       "137730  1499_199     1499  2018-11-21      8.72\n",
       "137731  1499_200     1499  2018-10-20     10.89\n",
       "137732  1499_201     1499  2018-09-21      8.12\n",
       "137733  1499_202     1499  2018-10-10      0.37\n",
       "137734  1499_203     1499  2018-12-29     13.86"
      ]
     },
     "execution_count": 163,
     "metadata": {},
     "output_type": "execute_result"
    }
   ],
   "source": [
    "# Checking our Call dataset:\n",
    "\n",
    "display(df_calls.info())\n",
    "df_calls.tail(15)"
   ]
  },
  {
   "cell_type": "code",
   "execution_count": 164,
   "metadata": {},
   "outputs": [
    {
     "data": {
      "text/html": [
       "<div>\n",
       "<style scoped>\n",
       "    .dataframe tbody tr th:only-of-type {\n",
       "        vertical-align: middle;\n",
       "    }\n",
       "\n",
       "    .dataframe tbody tr th {\n",
       "        vertical-align: top;\n",
       "    }\n",
       "\n",
       "    .dataframe thead th {\n",
       "        text-align: right;\n",
       "    }\n",
       "</style>\n",
       "<table border=\"1\" class=\"dataframe\">\n",
       "  <thead>\n",
       "    <tr style=\"text-align: right;\">\n",
       "      <th></th>\n",
       "      <th>user_id</th>\n",
       "      <th>duration</th>\n",
       "    </tr>\n",
       "  </thead>\n",
       "  <tbody>\n",
       "    <tr>\n",
       "      <th>count</th>\n",
       "      <td>137735.000000</td>\n",
       "      <td>137735.000000</td>\n",
       "    </tr>\n",
       "    <tr>\n",
       "      <th>mean</th>\n",
       "      <td>1247.658046</td>\n",
       "      <td>6.745927</td>\n",
       "    </tr>\n",
       "    <tr>\n",
       "      <th>std</th>\n",
       "      <td>139.416268</td>\n",
       "      <td>5.839241</td>\n",
       "    </tr>\n",
       "    <tr>\n",
       "      <th>min</th>\n",
       "      <td>1000.000000</td>\n",
       "      <td>0.000000</td>\n",
       "    </tr>\n",
       "    <tr>\n",
       "      <th>25%</th>\n",
       "      <td>1128.000000</td>\n",
       "      <td>1.290000</td>\n",
       "    </tr>\n",
       "    <tr>\n",
       "      <th>50%</th>\n",
       "      <td>1247.000000</td>\n",
       "      <td>5.980000</td>\n",
       "    </tr>\n",
       "    <tr>\n",
       "      <th>75%</th>\n",
       "      <td>1365.000000</td>\n",
       "      <td>10.690000</td>\n",
       "    </tr>\n",
       "    <tr>\n",
       "      <th>max</th>\n",
       "      <td>1499.000000</td>\n",
       "      <td>37.600000</td>\n",
       "    </tr>\n",
       "  </tbody>\n",
       "</table>\n",
       "</div>"
      ],
      "text/plain": [
       "             user_id       duration\n",
       "count  137735.000000  137735.000000\n",
       "mean     1247.658046       6.745927\n",
       "std       139.416268       5.839241\n",
       "min      1000.000000       0.000000\n",
       "25%      1128.000000       1.290000\n",
       "50%      1247.000000       5.980000\n",
       "75%      1365.000000      10.690000\n",
       "max      1499.000000      37.600000"
      ]
     },
     "execution_count": 164,
     "metadata": {},
     "output_type": "execute_result"
    }
   ],
   "source": [
    "#getting a statistical overview of call data:\n",
    "\n",
    "df_calls.describe()"
   ]
  },
  {
   "cell_type": "code",
   "execution_count": 165,
   "metadata": {
    "scrolled": true
   },
   "outputs": [
    {
     "data": {
      "text/plain": [
       "0"
      ]
     },
     "execution_count": 165,
     "metadata": {},
     "output_type": "execute_result"
    }
   ],
   "source": [
    "# Checking for duplicates:\n",
    "\n",
    "df_calls.duplicated().sum()"
   ]
  },
  {
   "cell_type": "markdown",
   "metadata": {},
   "source": [
    "**Obvious Fixes:**\n",
    "\n",
    "1. No obvious duplicates.\n",
    "2. 'id' will be renamed 'call_id'.\n",
    "2. 'call_id' will be positioned after 'user_id' for better readability.\n",
    "3. 'call_date' needs to be converted to the DateTime type.\n",
    "4. 'duration' needs to be rounded up to the next minute, as Megaline charges by minute intervals.\n",
    "5. 'duration' has some 0.00 values that indicate that the user did not get through to other line. These will be dropped as they do not provide any useful information towards our main goal and will skew our computed averages later on. "
   ]
  },
  {
   "cell_type": "code",
   "execution_count": 166,
   "metadata": {
    "scrolled": true
   },
   "outputs": [],
   "source": [
    "# Renaming 'id' to 'call_id':\n",
    "\n",
    "df_calls.rename(columns = {'id':'call_id'}, inplace = True)"
   ]
  },
  {
   "cell_type": "code",
   "execution_count": 167,
   "metadata": {
    "scrolled": true
   },
   "outputs": [],
   "source": [
    "# Switching positions of 'call_id' and 'user_id'\n",
    "\n",
    "cols = list(df_calls.columns)\n",
    "a, b = cols.index('call_id'), cols.index('user_id')\n",
    "cols[b], cols[a] = cols[a], cols[b]\n",
    "df_calls = df_calls[cols]"
   ]
  },
  {
   "cell_type": "code",
   "execution_count": 168,
   "metadata": {
    "scrolled": true
   },
   "outputs": [],
   "source": [
    "# Converting 'call_date' to the DateTime type:\n",
    "\n",
    "df_calls['call_date'] = pd.to_datetime(df_calls['call_date'], format='%Y-%m-%d')"
   ]
  },
  {
   "cell_type": "code",
   "execution_count": 169,
   "metadata": {
    "scrolled": true
   },
   "outputs": [],
   "source": [
    "# Rounding up 'duration' to the next minute:\n",
    "\n",
    "df_calls['duration'] = np.ceil(df_calls['duration'])"
   ]
  },
  {
   "cell_type": "code",
   "execution_count": 170,
   "metadata": {
    "scrolled": true
   },
   "outputs": [],
   "source": [
    "# Converting 'duration' from float to int types:\n",
    "\n",
    "df_calls['duration'] = df_calls['duration'].astype('int')"
   ]
  },
  {
   "cell_type": "code",
   "execution_count": 171,
   "metadata": {
    "scrolled": true
   },
   "outputs": [],
   "source": [
    "# Dropping 'duration' == 0 entries:\n",
    "\n",
    "df_calls = df_calls.drop(df_calls.query(\"duration == 0\").index)\n",
    "\n",
    "df_calls.reset_index(drop=True, inplace=True)"
   ]
  },
  {
   "cell_type": "code",
   "execution_count": 172,
   "metadata": {
    "scrolled": true
   },
   "outputs": [
    {
     "name": "stdout",
     "output_type": "stream",
     "text": [
      "<class 'pandas.core.frame.DataFrame'>\n",
      "RangeIndex: 110901 entries, 0 to 110900\n",
      "Data columns (total 4 columns):\n",
      " #   Column     Non-Null Count   Dtype         \n",
      "---  ------     --------------   -----         \n",
      " 0   user_id    110901 non-null  int64         \n",
      " 1   call_id    110901 non-null  object        \n",
      " 2   call_date  110901 non-null  datetime64[ns]\n",
      " 3   duration   110901 non-null  int32         \n",
      "dtypes: datetime64[ns](1), int32(1), int64(1), object(1)\n",
      "memory usage: 3.0+ MB\n"
     ]
    }
   ],
   "source": [
    "# Last Check:\n",
    "\n",
    "df_calls.info()"
   ]
  },
  {
   "cell_type": "markdown",
   "metadata": {},
   "source": [
    "## 3.4. Internet Data <a name=\"dpinternet\"></a>"
   ]
  },
  {
   "cell_type": "code",
   "execution_count": 173,
   "metadata": {
    "scrolled": true
   },
   "outputs": [
    {
     "name": "stdout",
     "output_type": "stream",
     "text": [
      "<class 'pandas.core.frame.DataFrame'>\n",
      "RangeIndex: 104825 entries, 0 to 104824\n",
      "Data columns (total 4 columns):\n",
      " #   Column        Non-Null Count   Dtype  \n",
      "---  ------        --------------   -----  \n",
      " 0   id            104825 non-null  object \n",
      " 1   user_id       104825 non-null  int64  \n",
      " 2   session_date  104825 non-null  object \n",
      " 3   mb_used       104825 non-null  float64\n",
      "dtypes: float64(1), int64(1), object(2)\n",
      "memory usage: 3.2+ MB\n"
     ]
    },
    {
     "data": {
      "text/plain": [
       "None"
      ]
     },
     "metadata": {},
     "output_type": "display_data"
    },
    {
     "data": {
      "text/html": [
       "<div>\n",
       "<style scoped>\n",
       "    .dataframe tbody tr th:only-of-type {\n",
       "        vertical-align: middle;\n",
       "    }\n",
       "\n",
       "    .dataframe tbody tr th {\n",
       "        vertical-align: top;\n",
       "    }\n",
       "\n",
       "    .dataframe thead th {\n",
       "        text-align: right;\n",
       "    }\n",
       "</style>\n",
       "<table border=\"1\" class=\"dataframe\">\n",
       "  <thead>\n",
       "    <tr style=\"text-align: right;\">\n",
       "      <th></th>\n",
       "      <th>id</th>\n",
       "      <th>user_id</th>\n",
       "      <th>session_date</th>\n",
       "      <th>mb_used</th>\n",
       "    </tr>\n",
       "  </thead>\n",
       "  <tbody>\n",
       "    <tr>\n",
       "      <th>0</th>\n",
       "      <td>1000_13</td>\n",
       "      <td>1000</td>\n",
       "      <td>12/29/2018</td>\n",
       "      <td>89.86</td>\n",
       "    </tr>\n",
       "    <tr>\n",
       "      <th>1</th>\n",
       "      <td>1000_204</td>\n",
       "      <td>1000</td>\n",
       "      <td>12/31/2018</td>\n",
       "      <td>0.00</td>\n",
       "    </tr>\n",
       "    <tr>\n",
       "      <th>2</th>\n",
       "      <td>1000_379</td>\n",
       "      <td>1000</td>\n",
       "      <td>12/28/2018</td>\n",
       "      <td>660.40</td>\n",
       "    </tr>\n",
       "    <tr>\n",
       "      <th>3</th>\n",
       "      <td>1000_413</td>\n",
       "      <td>1000</td>\n",
       "      <td>12/26/2018</td>\n",
       "      <td>270.99</td>\n",
       "    </tr>\n",
       "    <tr>\n",
       "      <th>4</th>\n",
       "      <td>1000_442</td>\n",
       "      <td>1000</td>\n",
       "      <td>12/27/2018</td>\n",
       "      <td>880.22</td>\n",
       "    </tr>\n",
       "    <tr>\n",
       "      <th>5</th>\n",
       "      <td>1001_0</td>\n",
       "      <td>1001</td>\n",
       "      <td>8/24/2018</td>\n",
       "      <td>284.68</td>\n",
       "    </tr>\n",
       "    <tr>\n",
       "      <th>6</th>\n",
       "      <td>1001_3</td>\n",
       "      <td>1001</td>\n",
       "      <td>12/9/2018</td>\n",
       "      <td>656.04</td>\n",
       "    </tr>\n",
       "    <tr>\n",
       "      <th>7</th>\n",
       "      <td>1001_4</td>\n",
       "      <td>1001</td>\n",
       "      <td>11/4/2018</td>\n",
       "      <td>16.97</td>\n",
       "    </tr>\n",
       "    <tr>\n",
       "      <th>8</th>\n",
       "      <td>1001_10</td>\n",
       "      <td>1001</td>\n",
       "      <td>11/27/2018</td>\n",
       "      <td>135.18</td>\n",
       "    </tr>\n",
       "    <tr>\n",
       "      <th>9</th>\n",
       "      <td>1001_15</td>\n",
       "      <td>1001</td>\n",
       "      <td>12/13/2018</td>\n",
       "      <td>761.92</td>\n",
       "    </tr>\n",
       "    <tr>\n",
       "      <th>10</th>\n",
       "      <td>1001_16</td>\n",
       "      <td>1001</td>\n",
       "      <td>10/28/2018</td>\n",
       "      <td>501.53</td>\n",
       "    </tr>\n",
       "    <tr>\n",
       "      <th>11</th>\n",
       "      <td>1001_17</td>\n",
       "      <td>1001</td>\n",
       "      <td>9/5/2018</td>\n",
       "      <td>727.29</td>\n",
       "    </tr>\n",
       "    <tr>\n",
       "      <th>12</th>\n",
       "      <td>1001_24</td>\n",
       "      <td>1001</td>\n",
       "      <td>9/5/2018</td>\n",
       "      <td>622.03</td>\n",
       "    </tr>\n",
       "    <tr>\n",
       "      <th>13</th>\n",
       "      <td>1001_25</td>\n",
       "      <td>1001</td>\n",
       "      <td>10/14/2018</td>\n",
       "      <td>310.43</td>\n",
       "    </tr>\n",
       "    <tr>\n",
       "      <th>14</th>\n",
       "      <td>1001_26</td>\n",
       "      <td>1001</td>\n",
       "      <td>9/17/2018</td>\n",
       "      <td>0.00</td>\n",
       "    </tr>\n",
       "    <tr>\n",
       "      <th>15</th>\n",
       "      <td>1001_27</td>\n",
       "      <td>1001</td>\n",
       "      <td>12/13/2018</td>\n",
       "      <td>149.17</td>\n",
       "    </tr>\n",
       "    <tr>\n",
       "      <th>16</th>\n",
       "      <td>1001_28</td>\n",
       "      <td>1001</td>\n",
       "      <td>10/17/2018</td>\n",
       "      <td>0.00</td>\n",
       "    </tr>\n",
       "    <tr>\n",
       "      <th>17</th>\n",
       "      <td>1001_29</td>\n",
       "      <td>1001</td>\n",
       "      <td>10/9/2018</td>\n",
       "      <td>1067.99</td>\n",
       "    </tr>\n",
       "    <tr>\n",
       "      <th>18</th>\n",
       "      <td>1001_30</td>\n",
       "      <td>1001</td>\n",
       "      <td>12/27/2018</td>\n",
       "      <td>157.20</td>\n",
       "    </tr>\n",
       "    <tr>\n",
       "      <th>19</th>\n",
       "      <td>1001_33</td>\n",
       "      <td>1001</td>\n",
       "      <td>9/27/2018</td>\n",
       "      <td>236.40</td>\n",
       "    </tr>\n",
       "    <tr>\n",
       "      <th>20</th>\n",
       "      <td>1001_34</td>\n",
       "      <td>1001</td>\n",
       "      <td>9/18/2018</td>\n",
       "      <td>299.66</td>\n",
       "    </tr>\n",
       "    <tr>\n",
       "      <th>21</th>\n",
       "      <td>1001_37</td>\n",
       "      <td>1001</td>\n",
       "      <td>12/26/2018</td>\n",
       "      <td>694.50</td>\n",
       "    </tr>\n",
       "    <tr>\n",
       "      <th>22</th>\n",
       "      <td>1001_38</td>\n",
       "      <td>1001</td>\n",
       "      <td>11/25/2018</td>\n",
       "      <td>288.27</td>\n",
       "    </tr>\n",
       "    <tr>\n",
       "      <th>23</th>\n",
       "      <td>1001_40</td>\n",
       "      <td>1001</td>\n",
       "      <td>12/27/2018</td>\n",
       "      <td>632.84</td>\n",
       "    </tr>\n",
       "    <tr>\n",
       "      <th>24</th>\n",
       "      <td>1001_42</td>\n",
       "      <td>1001</td>\n",
       "      <td>12/3/2018</td>\n",
       "      <td>474.35</td>\n",
       "    </tr>\n",
       "    <tr>\n",
       "      <th>25</th>\n",
       "      <td>1001_43</td>\n",
       "      <td>1001</td>\n",
       "      <td>11/16/2018</td>\n",
       "      <td>196.94</td>\n",
       "    </tr>\n",
       "    <tr>\n",
       "      <th>26</th>\n",
       "      <td>1001_44</td>\n",
       "      <td>1001</td>\n",
       "      <td>9/27/2018</td>\n",
       "      <td>44.91</td>\n",
       "    </tr>\n",
       "    <tr>\n",
       "      <th>27</th>\n",
       "      <td>1001_45</td>\n",
       "      <td>1001</td>\n",
       "      <td>10/23/2018</td>\n",
       "      <td>483.49</td>\n",
       "    </tr>\n",
       "    <tr>\n",
       "      <th>28</th>\n",
       "      <td>1001_47</td>\n",
       "      <td>1001</td>\n",
       "      <td>12/7/2018</td>\n",
       "      <td>317.01</td>\n",
       "    </tr>\n",
       "    <tr>\n",
       "      <th>29</th>\n",
       "      <td>1001_48</td>\n",
       "      <td>1001</td>\n",
       "      <td>9/8/2018</td>\n",
       "      <td>284.97</td>\n",
       "    </tr>\n",
       "  </tbody>\n",
       "</table>\n",
       "</div>"
      ],
      "text/plain": [
       "          id  user_id session_date  mb_used\n",
       "0    1000_13     1000   12/29/2018    89.86\n",
       "1   1000_204     1000   12/31/2018     0.00\n",
       "2   1000_379     1000   12/28/2018   660.40\n",
       "3   1000_413     1000   12/26/2018   270.99\n",
       "4   1000_442     1000   12/27/2018   880.22\n",
       "5     1001_0     1001    8/24/2018   284.68\n",
       "6     1001_3     1001    12/9/2018   656.04\n",
       "7     1001_4     1001    11/4/2018    16.97\n",
       "8    1001_10     1001   11/27/2018   135.18\n",
       "9    1001_15     1001   12/13/2018   761.92\n",
       "10   1001_16     1001   10/28/2018   501.53\n",
       "11   1001_17     1001     9/5/2018   727.29\n",
       "12   1001_24     1001     9/5/2018   622.03\n",
       "13   1001_25     1001   10/14/2018   310.43\n",
       "14   1001_26     1001    9/17/2018     0.00\n",
       "15   1001_27     1001   12/13/2018   149.17\n",
       "16   1001_28     1001   10/17/2018     0.00\n",
       "17   1001_29     1001    10/9/2018  1067.99\n",
       "18   1001_30     1001   12/27/2018   157.20\n",
       "19   1001_33     1001    9/27/2018   236.40\n",
       "20   1001_34     1001    9/18/2018   299.66\n",
       "21   1001_37     1001   12/26/2018   694.50\n",
       "22   1001_38     1001   11/25/2018   288.27\n",
       "23   1001_40     1001   12/27/2018   632.84\n",
       "24   1001_42     1001    12/3/2018   474.35\n",
       "25   1001_43     1001   11/16/2018   196.94\n",
       "26   1001_44     1001    9/27/2018    44.91\n",
       "27   1001_45     1001   10/23/2018   483.49\n",
       "28   1001_47     1001    12/7/2018   317.01\n",
       "29   1001_48     1001     9/8/2018   284.97"
      ]
     },
     "execution_count": 173,
     "metadata": {},
     "output_type": "execute_result"
    }
   ],
   "source": [
    "# Checking our Internet dataset:\n",
    "\n",
    "display(df_internet.info())\n",
    "df_internet.head(30)"
   ]
  },
  {
   "cell_type": "code",
   "execution_count": 174,
   "metadata": {},
   "outputs": [
    {
     "data": {
      "text/html": [
       "<div>\n",
       "<style scoped>\n",
       "    .dataframe tbody tr th:only-of-type {\n",
       "        vertical-align: middle;\n",
       "    }\n",
       "\n",
       "    .dataframe tbody tr th {\n",
       "        vertical-align: top;\n",
       "    }\n",
       "\n",
       "    .dataframe thead th {\n",
       "        text-align: right;\n",
       "    }\n",
       "</style>\n",
       "<table border=\"1\" class=\"dataframe\">\n",
       "  <thead>\n",
       "    <tr style=\"text-align: right;\">\n",
       "      <th></th>\n",
       "      <th>user_id</th>\n",
       "      <th>mb_used</th>\n",
       "    </tr>\n",
       "  </thead>\n",
       "  <tbody>\n",
       "    <tr>\n",
       "      <th>count</th>\n",
       "      <td>104825.000000</td>\n",
       "      <td>104825.000000</td>\n",
       "    </tr>\n",
       "    <tr>\n",
       "      <th>mean</th>\n",
       "      <td>1242.496361</td>\n",
       "      <td>366.713701</td>\n",
       "    </tr>\n",
       "    <tr>\n",
       "      <th>std</th>\n",
       "      <td>142.053913</td>\n",
       "      <td>277.170542</td>\n",
       "    </tr>\n",
       "    <tr>\n",
       "      <th>min</th>\n",
       "      <td>1000.000000</td>\n",
       "      <td>0.000000</td>\n",
       "    </tr>\n",
       "    <tr>\n",
       "      <th>25%</th>\n",
       "      <td>1122.000000</td>\n",
       "      <td>136.080000</td>\n",
       "    </tr>\n",
       "    <tr>\n",
       "      <th>50%</th>\n",
       "      <td>1236.000000</td>\n",
       "      <td>343.980000</td>\n",
       "    </tr>\n",
       "    <tr>\n",
       "      <th>75%</th>\n",
       "      <td>1367.000000</td>\n",
       "      <td>554.610000</td>\n",
       "    </tr>\n",
       "    <tr>\n",
       "      <th>max</th>\n",
       "      <td>1499.000000</td>\n",
       "      <td>1693.470000</td>\n",
       "    </tr>\n",
       "  </tbody>\n",
       "</table>\n",
       "</div>"
      ],
      "text/plain": [
       "             user_id        mb_used\n",
       "count  104825.000000  104825.000000\n",
       "mean     1242.496361     366.713701\n",
       "std       142.053913     277.170542\n",
       "min      1000.000000       0.000000\n",
       "25%      1122.000000     136.080000\n",
       "50%      1236.000000     343.980000\n",
       "75%      1367.000000     554.610000\n",
       "max      1499.000000    1693.470000"
      ]
     },
     "execution_count": 174,
     "metadata": {},
     "output_type": "execute_result"
    }
   ],
   "source": [
    "# Getting a statistical overview of internet data:\n",
    "\n",
    "df_internet.describe()"
   ]
  },
  {
   "cell_type": "code",
   "execution_count": 175,
   "metadata": {
    "scrolled": true
   },
   "outputs": [
    {
     "data": {
      "text/plain": [
       "0"
      ]
     },
     "execution_count": 175,
     "metadata": {},
     "output_type": "execute_result"
    }
   ],
   "source": [
    "# Checking for duplicates:\n",
    "\n",
    "df_internet.duplicated().sum()"
   ]
  },
  {
   "cell_type": "markdown",
   "metadata": {},
   "source": [
    "**Obvious Fixes:**\n",
    "\n",
    "1. No obvious duplicates found.\n",
    "2. 'id' will be renamed to 'session_id'.\n",
    "3. Positions of 'session_id' and 'user_id' will be switched for better readability.\n",
    "4. 'session_date' will be converted to the DateTime type.\n",
    "5. 'mb_used' will be renamed to 'gb_used' as we are interested in the latter unit of measurement.\n",
    "6. 'gb_used' will be converted to the GB unit of measurement.\n",
    "7. 'gb_used appear to have 0.00 values; these could potentially indicate a user turning on their data, but not actually surfing the internet. These will be dropped as they do not provide any useful information towards our main goal and will skew our computed averages later on."
   ]
  },
  {
   "cell_type": "code",
   "execution_count": 176,
   "metadata": {
    "scrolled": true
   },
   "outputs": [],
   "source": [
    "# Renaming 'id' to 'session_id'\n",
    "\n",
    "df_internet.rename(columns = {'id':'session_id'}, inplace = True)"
   ]
  },
  {
   "cell_type": "code",
   "execution_count": 177,
   "metadata": {
    "scrolled": true
   },
   "outputs": [],
   "source": [
    "# Switching positions of 'session_id' and 'user_id'\n",
    "\n",
    "cols = list(df_internet.columns)\n",
    "a, b = cols.index('session_id'), cols.index('user_id')\n",
    "cols[b], cols[a] = cols[a], cols[b]\n",
    "df_internet = df_internet[cols]"
   ]
  },
  {
   "cell_type": "code",
   "execution_count": 178,
   "metadata": {
    "scrolled": true
   },
   "outputs": [],
   "source": [
    "# Converting 'session_date' to the DateTime type:\n",
    "\n",
    "df_internet['session_date'] = pd.to_datetime(df_internet['session_date'], format='%m/%d/%Y')"
   ]
  },
  {
   "cell_type": "code",
   "execution_count": 179,
   "metadata": {
    "scrolled": true
   },
   "outputs": [],
   "source": [
    "# Renaming 'mb_used' to 'gb_used'\n",
    "\n",
    "df_internet.rename(columns = {'mb_used':'gb_used'}, inplace = True)"
   ]
  },
  {
   "cell_type": "code",
   "execution_count": 180,
   "metadata": {
    "scrolled": true
   },
   "outputs": [],
   "source": [
    "# Converting 'gb_used' values from MB unit of measurement to GB\n",
    "\n",
    "df_internet['gb_used'] = df_internet['gb_used'] / 1024"
   ]
  },
  {
   "cell_type": "code",
   "execution_count": 181,
   "metadata": {
    "scrolled": true
   },
   "outputs": [],
   "source": [
    "# Dropping 'gb_used' == 0 entries:\n",
    "\n",
    "df_internet = df_internet.drop(df_internet.query(\"gb_used == 0\").index)\n",
    "df_internet.reset_index(drop=True, inplace=True)"
   ]
  },
  {
   "cell_type": "code",
   "execution_count": 182,
   "metadata": {
    "scrolled": true
   },
   "outputs": [
    {
     "name": "stdout",
     "output_type": "stream",
     "text": [
      "<class 'pandas.core.frame.DataFrame'>\n",
      "RangeIndex: 91078 entries, 0 to 91077\n",
      "Data columns (total 4 columns):\n",
      " #   Column        Non-Null Count  Dtype         \n",
      "---  ------        --------------  -----         \n",
      " 0   user_id       91078 non-null  int64         \n",
      " 1   session_id    91078 non-null  object        \n",
      " 2   session_date  91078 non-null  datetime64[ns]\n",
      " 3   gb_used       91078 non-null  float64       \n",
      "dtypes: datetime64[ns](1), float64(1), int64(1), object(1)\n",
      "memory usage: 2.8+ MB\n"
     ]
    }
   ],
   "source": [
    "# Last check:\n",
    "\n",
    "df_internet.info()"
   ]
  },
  {
   "cell_type": "markdown",
   "metadata": {},
   "source": [
    "## 3.5. Messages Data <a name=\"dpmessages\"></a>"
   ]
  },
  {
   "cell_type": "code",
   "execution_count": 183,
   "metadata": {
    "scrolled": false
   },
   "outputs": [
    {
     "name": "stdout",
     "output_type": "stream",
     "text": [
      "<class 'pandas.core.frame.DataFrame'>\n",
      "RangeIndex: 76051 entries, 0 to 76050\n",
      "Data columns (total 3 columns):\n",
      " #   Column        Non-Null Count  Dtype \n",
      "---  ------        --------------  ----- \n",
      " 0   id            76051 non-null  object\n",
      " 1   user_id       76051 non-null  int64 \n",
      " 2   message_date  76051 non-null  object\n",
      "dtypes: int64(1), object(2)\n",
      "memory usage: 1.7+ MB\n"
     ]
    },
    {
     "data": {
      "text/plain": [
       "None"
      ]
     },
     "metadata": {},
     "output_type": "display_data"
    },
    {
     "data": {
      "text/html": [
       "<div>\n",
       "<style scoped>\n",
       "    .dataframe tbody tr th:only-of-type {\n",
       "        vertical-align: middle;\n",
       "    }\n",
       "\n",
       "    .dataframe tbody tr th {\n",
       "        vertical-align: top;\n",
       "    }\n",
       "\n",
       "    .dataframe thead th {\n",
       "        text-align: right;\n",
       "    }\n",
       "</style>\n",
       "<table border=\"1\" class=\"dataframe\">\n",
       "  <thead>\n",
       "    <tr style=\"text-align: right;\">\n",
       "      <th></th>\n",
       "      <th>id</th>\n",
       "      <th>user_id</th>\n",
       "      <th>message_date</th>\n",
       "    </tr>\n",
       "  </thead>\n",
       "  <tbody>\n",
       "    <tr>\n",
       "      <th>0</th>\n",
       "      <td>1000_125</td>\n",
       "      <td>1000</td>\n",
       "      <td>2018-12-27</td>\n",
       "    </tr>\n",
       "    <tr>\n",
       "      <th>1</th>\n",
       "      <td>1000_160</td>\n",
       "      <td>1000</td>\n",
       "      <td>2018-12-31</td>\n",
       "    </tr>\n",
       "    <tr>\n",
       "      <th>2</th>\n",
       "      <td>1000_223</td>\n",
       "      <td>1000</td>\n",
       "      <td>2018-12-31</td>\n",
       "    </tr>\n",
       "    <tr>\n",
       "      <th>3</th>\n",
       "      <td>1000_251</td>\n",
       "      <td>1000</td>\n",
       "      <td>2018-12-27</td>\n",
       "    </tr>\n",
       "    <tr>\n",
       "      <th>4</th>\n",
       "      <td>1000_255</td>\n",
       "      <td>1000</td>\n",
       "      <td>2018-12-26</td>\n",
       "    </tr>\n",
       "  </tbody>\n",
       "</table>\n",
       "</div>"
      ],
      "text/plain": [
       "         id  user_id message_date\n",
       "0  1000_125     1000   2018-12-27\n",
       "1  1000_160     1000   2018-12-31\n",
       "2  1000_223     1000   2018-12-31\n",
       "3  1000_251     1000   2018-12-27\n",
       "4  1000_255     1000   2018-12-26"
      ]
     },
     "execution_count": 183,
     "metadata": {},
     "output_type": "execute_result"
    }
   ],
   "source": [
    "# Checking our Messages dataset:\n",
    "\n",
    "display(df_messages.info())\n",
    "df_messages.head()"
   ]
  },
  {
   "cell_type": "code",
   "execution_count": 184,
   "metadata": {
    "scrolled": true
   },
   "outputs": [
    {
     "data": {
      "text/plain": [
       "0"
      ]
     },
     "execution_count": 184,
     "metadata": {},
     "output_type": "execute_result"
    }
   ],
   "source": [
    "# Checking for duplicates:\n",
    "\n",
    "df_messages.duplicated().sum()"
   ]
  },
  {
   "cell_type": "markdown",
   "metadata": {},
   "source": [
    "**Obvious Fixes:**\n",
    "\n",
    "1. 'id' will be renamed to 'message_id'\n",
    "2. Positions of 'message_id' and 'user_id' will be switched for better readability.\n",
    "3. 'message_date' will be converted to the DateTime type."
   ]
  },
  {
   "cell_type": "code",
   "execution_count": 185,
   "metadata": {
    "scrolled": true
   },
   "outputs": [],
   "source": [
    "# Renaming 'id' to 'message_id':\n",
    "\n",
    "df_messages.rename(columns = {'id':'message_id'}, inplace = True)"
   ]
  },
  {
   "cell_type": "code",
   "execution_count": 186,
   "metadata": {
    "scrolled": true
   },
   "outputs": [],
   "source": [
    "# Switching positions between 'message_id' and 'user_id':\n",
    "\n",
    "cols = list(df_messages.columns)\n",
    "a, b = cols.index('message_id'), cols.index('user_id')\n",
    "cols[b], cols[a] = cols[a], cols[b]\n",
    "df_messages = df_messages[cols]"
   ]
  },
  {
   "cell_type": "code",
   "execution_count": 187,
   "metadata": {
    "scrolled": true
   },
   "outputs": [],
   "source": [
    "# Converting 'message_date' to the DateTime type:\n",
    "\n",
    "df_messages['message_date'] = pd.to_datetime(df_messages['message_date'], format='%Y-%m-%d')"
   ]
  },
  {
   "cell_type": "code",
   "execution_count": 188,
   "metadata": {
    "scrolled": true
   },
   "outputs": [
    {
     "name": "stdout",
     "output_type": "stream",
     "text": [
      "<class 'pandas.core.frame.DataFrame'>\n",
      "RangeIndex: 76051 entries, 0 to 76050\n",
      "Data columns (total 3 columns):\n",
      " #   Column        Non-Null Count  Dtype         \n",
      "---  ------        --------------  -----         \n",
      " 0   user_id       76051 non-null  int64         \n",
      " 1   message_id    76051 non-null  object        \n",
      " 2   message_date  76051 non-null  datetime64[ns]\n",
      "dtypes: datetime64[ns](1), int64(1), object(1)\n",
      "memory usage: 1.7+ MB\n"
     ]
    }
   ],
   "source": [
    "# Last check:\n",
    "\n",
    "df_messages.info()"
   ]
  },
  {
   "cell_type": "markdown",
   "metadata": {},
   "source": [
    "# 4. Features Engineering <a name=\"fe\"></a>"
   ]
  },
  {
   "cell_type": "markdown",
   "metadata": {},
   "source": [
    "## 4.1. df_users <a name=\"feusers\"></a>"
   ]
  },
  {
   "cell_type": "code",
   "execution_count": 189,
   "metadata": {
    "scrolled": true
   },
   "outputs": [],
   "source": [
    "# Creating a column of age groups based on 'age':\n",
    "\n",
    "df_users.age.value_counts().sort_index()                  # Getting our minimum and maximum age values for our dictionary\n",
    "\n",
    "bins = [0, 19, 29, 39, 49, 59, 69, 79]\n",
    "names = ['10s', '20s', '30s', '40s', '50s', '60s', '70s']\n",
    "\n",
    "df_users.insert(loc=4, column='age_group', value=(pd.cut(df_users['age'], bins, labels=names)))"
   ]
  },
  {
   "cell_type": "code",
   "execution_count": 190,
   "metadata": {
    "scrolled": true
   },
   "outputs": [],
   "source": [
    "# Creating a column of total observed days subscribed to a prepaid plan:\n",
    "\n",
    "df_users['lifetime_days'] = (df_users['churn_date'] - df_users['reg_date']).dt.days"
   ]
  },
  {
   "cell_type": "code",
   "execution_count": 191,
   "metadata": {
    "scrolled": true
   },
   "outputs": [],
   "source": [
    "# Creating a column of total observed months subscribed to a prepaid plan:\n",
    "\n",
    "\n",
    "df_users['lifetime_months'] = df_users['churn_date'].dt.to_period('M').view(dtype='int64') - \\\n",
    "                            df_users['reg_date'].dt.to_period('M').view(dtype='int64')\n"
   ]
  },
  {
   "cell_type": "code",
   "execution_count": 192,
   "metadata": {
    "scrolled": true
   },
   "outputs": [
    {
     "data": {
      "text/html": [
       "<div>\n",
       "<style scoped>\n",
       "    .dataframe tbody tr th:only-of-type {\n",
       "        vertical-align: middle;\n",
       "    }\n",
       "\n",
       "    .dataframe tbody tr th {\n",
       "        vertical-align: top;\n",
       "    }\n",
       "\n",
       "    .dataframe thead th {\n",
       "        text-align: right;\n",
       "    }\n",
       "</style>\n",
       "<table border=\"1\" class=\"dataframe\">\n",
       "  <thead>\n",
       "    <tr style=\"text-align: right;\">\n",
       "      <th></th>\n",
       "      <th>user_id</th>\n",
       "      <th>first_name</th>\n",
       "      <th>last_name</th>\n",
       "      <th>age</th>\n",
       "      <th>age_group</th>\n",
       "      <th>city</th>\n",
       "      <th>state</th>\n",
       "      <th>reg_date</th>\n",
       "      <th>plan</th>\n",
       "      <th>churn_date</th>\n",
       "      <th>lifetime_days</th>\n",
       "      <th>lifetime_months</th>\n",
       "    </tr>\n",
       "  </thead>\n",
       "  <tbody>\n",
       "    <tr>\n",
       "      <th>0</th>\n",
       "      <td>1000</td>\n",
       "      <td>Anamaria</td>\n",
       "      <td>Bauer</td>\n",
       "      <td>45</td>\n",
       "      <td>40s</td>\n",
       "      <td>Atlanta-Sandy Springs-Roswell</td>\n",
       "      <td>GA</td>\n",
       "      <td>2018-12-24</td>\n",
       "      <td>ultimate</td>\n",
       "      <td>2018-12-31</td>\n",
       "      <td>7</td>\n",
       "      <td>0</td>\n",
       "    </tr>\n",
       "    <tr>\n",
       "      <th>13</th>\n",
       "      <td>1013</td>\n",
       "      <td>Nicolas</td>\n",
       "      <td>Snider</td>\n",
       "      <td>50</td>\n",
       "      <td>50s</td>\n",
       "      <td>Knoxville</td>\n",
       "      <td>TN</td>\n",
       "      <td>2018-12-01</td>\n",
       "      <td>ultimate</td>\n",
       "      <td>2018-12-31</td>\n",
       "      <td>30</td>\n",
       "      <td>0</td>\n",
       "    </tr>\n",
       "    <tr>\n",
       "      <th>15</th>\n",
       "      <td>1015</td>\n",
       "      <td>Beata</td>\n",
       "      <td>Carpenter</td>\n",
       "      <td>26</td>\n",
       "      <td>20s</td>\n",
       "      <td>Pittsburgh</td>\n",
       "      <td>PA</td>\n",
       "      <td>2018-12-05</td>\n",
       "      <td>surf</td>\n",
       "      <td>2018-12-31</td>\n",
       "      <td>26</td>\n",
       "      <td>0</td>\n",
       "    </tr>\n",
       "    <tr>\n",
       "      <th>21</th>\n",
       "      <td>1021</td>\n",
       "      <td>Ricarda</td>\n",
       "      <td>Booker</td>\n",
       "      <td>37</td>\n",
       "      <td>30s</td>\n",
       "      <td>Los Angeles-Long Beach-Anaheim</td>\n",
       "      <td>CA</td>\n",
       "      <td>2018-12-21</td>\n",
       "      <td>surf</td>\n",
       "      <td>2018-12-31</td>\n",
       "      <td>10</td>\n",
       "      <td>0</td>\n",
       "    </tr>\n",
       "    <tr>\n",
       "      <th>35</th>\n",
       "      <td>1035</td>\n",
       "      <td>Jeff</td>\n",
       "      <td>Cummings</td>\n",
       "      <td>67</td>\n",
       "      <td>60s</td>\n",
       "      <td>Charlotte-Concord-Gastonia</td>\n",
       "      <td>NC-SC</td>\n",
       "      <td>2018-12-08</td>\n",
       "      <td>surf</td>\n",
       "      <td>2018-12-31</td>\n",
       "      <td>23</td>\n",
       "      <td>0</td>\n",
       "    </tr>\n",
       "    <tr>\n",
       "      <th>40</th>\n",
       "      <td>1040</td>\n",
       "      <td>Paris</td>\n",
       "      <td>Santos</td>\n",
       "      <td>72</td>\n",
       "      <td>70s</td>\n",
       "      <td>Philadelphia-Camden-Wilmington</td>\n",
       "      <td>PA-NJ-DE-MD</td>\n",
       "      <td>2018-12-23</td>\n",
       "      <td>surf</td>\n",
       "      <td>2018-12-30</td>\n",
       "      <td>7</td>\n",
       "      <td>0</td>\n",
       "    </tr>\n",
       "    <tr>\n",
       "      <th>51</th>\n",
       "      <td>1051</td>\n",
       "      <td>Rosario</td>\n",
       "      <td>Gibbs</td>\n",
       "      <td>55</td>\n",
       "      <td>50s</td>\n",
       "      <td>San Diego-Chula Vista-Carlsbad</td>\n",
       "      <td>CA</td>\n",
       "      <td>2018-12-11</td>\n",
       "      <td>surf</td>\n",
       "      <td>2018-12-31</td>\n",
       "      <td>20</td>\n",
       "      <td>0</td>\n",
       "    </tr>\n",
       "    <tr>\n",
       "      <th>92</th>\n",
       "      <td>1092</td>\n",
       "      <td>Taren</td>\n",
       "      <td>Strickland</td>\n",
       "      <td>26</td>\n",
       "      <td>20s</td>\n",
       "      <td>Dallas-Fort Worth-Arlington</td>\n",
       "      <td>TX</td>\n",
       "      <td>2018-12-10</td>\n",
       "      <td>surf</td>\n",
       "      <td>2018-12-31</td>\n",
       "      <td>21</td>\n",
       "      <td>0</td>\n",
       "    </tr>\n",
       "    <tr>\n",
       "      <th>93</th>\n",
       "      <td>1093</td>\n",
       "      <td>Karima</td>\n",
       "      <td>Hampton</td>\n",
       "      <td>69</td>\n",
       "      <td>60s</td>\n",
       "      <td>Nashville-Davidson–Murfreesboro–Franklin</td>\n",
       "      <td>TN</td>\n",
       "      <td>2018-12-17</td>\n",
       "      <td>surf</td>\n",
       "      <td>2018-12-31</td>\n",
       "      <td>14</td>\n",
       "      <td>0</td>\n",
       "    </tr>\n",
       "    <tr>\n",
       "      <th>96</th>\n",
       "      <td>1096</td>\n",
       "      <td>Song</td>\n",
       "      <td>Cline</td>\n",
       "      <td>28</td>\n",
       "      <td>20s</td>\n",
       "      <td>New York-Newark-Jersey City</td>\n",
       "      <td>NY-NJ-PA</td>\n",
       "      <td>2018-12-22</td>\n",
       "      <td>ultimate</td>\n",
       "      <td>2018-12-31</td>\n",
       "      <td>9</td>\n",
       "      <td>0</td>\n",
       "    </tr>\n",
       "    <tr>\n",
       "      <th>104</th>\n",
       "      <td>1104</td>\n",
       "      <td>Thurman</td>\n",
       "      <td>Stephens</td>\n",
       "      <td>20</td>\n",
       "      <td>20s</td>\n",
       "      <td>Chicago-Naperville-Elgin</td>\n",
       "      <td>IL-IN-WI</td>\n",
       "      <td>2018-12-23</td>\n",
       "      <td>ultimate</td>\n",
       "      <td>2018-12-31</td>\n",
       "      <td>8</td>\n",
       "      <td>0</td>\n",
       "    </tr>\n",
       "    <tr>\n",
       "      <th>108</th>\n",
       "      <td>1108</td>\n",
       "      <td>Porfirio</td>\n",
       "      <td>Kane</td>\n",
       "      <td>45</td>\n",
       "      <td>40s</td>\n",
       "      <td>Salt Lake City</td>\n",
       "      <td>UT</td>\n",
       "      <td>2018-12-30</td>\n",
       "      <td>ultimate</td>\n",
       "      <td>2018-12-31</td>\n",
       "      <td>1</td>\n",
       "      <td>0</td>\n",
       "    </tr>\n",
       "    <tr>\n",
       "      <th>118</th>\n",
       "      <td>1118</td>\n",
       "      <td>Deane</td>\n",
       "      <td>Ramirez</td>\n",
       "      <td>28</td>\n",
       "      <td>20s</td>\n",
       "      <td>Columbus</td>\n",
       "      <td>OH</td>\n",
       "      <td>2018-12-08</td>\n",
       "      <td>surf</td>\n",
       "      <td>2018-12-31</td>\n",
       "      <td>23</td>\n",
       "      <td>0</td>\n",
       "    </tr>\n",
       "    <tr>\n",
       "      <th>135</th>\n",
       "      <td>1135</td>\n",
       "      <td>Scotty</td>\n",
       "      <td>White</td>\n",
       "      <td>51</td>\n",
       "      <td>50s</td>\n",
       "      <td>Miami-Fort Lauderdale-West Palm Beach</td>\n",
       "      <td>FL</td>\n",
       "      <td>2018-12-23</td>\n",
       "      <td>ultimate</td>\n",
       "      <td>2018-12-31</td>\n",
       "      <td>8</td>\n",
       "      <td>0</td>\n",
       "    </tr>\n",
       "    <tr>\n",
       "      <th>168</th>\n",
       "      <td>1168</td>\n",
       "      <td>Shay</td>\n",
       "      <td>Weaver</td>\n",
       "      <td>58</td>\n",
       "      <td>50s</td>\n",
       "      <td>Milwaukee-Waukesha</td>\n",
       "      <td>WI</td>\n",
       "      <td>2018-12-13</td>\n",
       "      <td>surf</td>\n",
       "      <td>2018-12-31</td>\n",
       "      <td>18</td>\n",
       "      <td>0</td>\n",
       "    </tr>\n",
       "    <tr>\n",
       "      <th>169</th>\n",
       "      <td>1169</td>\n",
       "      <td>Hai</td>\n",
       "      <td>Bean</td>\n",
       "      <td>67</td>\n",
       "      <td>60s</td>\n",
       "      <td>New York-Newark-Jersey City</td>\n",
       "      <td>NY-NJ-PA</td>\n",
       "      <td>2018-12-06</td>\n",
       "      <td>surf</td>\n",
       "      <td>2018-12-31</td>\n",
       "      <td>25</td>\n",
       "      <td>0</td>\n",
       "    </tr>\n",
       "    <tr>\n",
       "      <th>180</th>\n",
       "      <td>1180</td>\n",
       "      <td>Wonda</td>\n",
       "      <td>Hays</td>\n",
       "      <td>24</td>\n",
       "      <td>20s</td>\n",
       "      <td>New York-Newark-Jersey City</td>\n",
       "      <td>NY-NJ-PA</td>\n",
       "      <td>2018-12-01</td>\n",
       "      <td>surf</td>\n",
       "      <td>2018-12-22</td>\n",
       "      <td>21</td>\n",
       "      <td>0</td>\n",
       "    </tr>\n",
       "    <tr>\n",
       "      <th>186</th>\n",
       "      <td>1186</td>\n",
       "      <td>Josiah</td>\n",
       "      <td>Douglas</td>\n",
       "      <td>55</td>\n",
       "      <td>50s</td>\n",
       "      <td>Las Vegas-Henderson-Paradise</td>\n",
       "      <td>NV</td>\n",
       "      <td>2018-12-22</td>\n",
       "      <td>ultimate</td>\n",
       "      <td>2018-12-31</td>\n",
       "      <td>9</td>\n",
       "      <td>0</td>\n",
       "    </tr>\n",
       "    <tr>\n",
       "      <th>207</th>\n",
       "      <td>1207</td>\n",
       "      <td>Samuel</td>\n",
       "      <td>Porter</td>\n",
       "      <td>63</td>\n",
       "      <td>60s</td>\n",
       "      <td>Omaha-Council Bluffs</td>\n",
       "      <td>NE-IA</td>\n",
       "      <td>2018-12-22</td>\n",
       "      <td>surf</td>\n",
       "      <td>2018-12-31</td>\n",
       "      <td>9</td>\n",
       "      <td>0</td>\n",
       "    </tr>\n",
       "    <tr>\n",
       "      <th>221</th>\n",
       "      <td>1221</td>\n",
       "      <td>Mckenzie</td>\n",
       "      <td>Wilkinson</td>\n",
       "      <td>18</td>\n",
       "      <td>10s</td>\n",
       "      <td>Boston-Cambridge-Newton</td>\n",
       "      <td>MA-NH</td>\n",
       "      <td>2018-12-17</td>\n",
       "      <td>surf</td>\n",
       "      <td>2018-12-31</td>\n",
       "      <td>14</td>\n",
       "      <td>0</td>\n",
       "    </tr>\n",
       "    <tr>\n",
       "      <th>229</th>\n",
       "      <td>1229</td>\n",
       "      <td>Augustus</td>\n",
       "      <td>Barker</td>\n",
       "      <td>69</td>\n",
       "      <td>60s</td>\n",
       "      <td>Austin-Round Rock-Georgetown</td>\n",
       "      <td>TX</td>\n",
       "      <td>2018-12-09</td>\n",
       "      <td>ultimate</td>\n",
       "      <td>2018-12-31</td>\n",
       "      <td>22</td>\n",
       "      <td>0</td>\n",
       "    </tr>\n",
       "    <tr>\n",
       "      <th>260</th>\n",
       "      <td>1260</td>\n",
       "      <td>Alia</td>\n",
       "      <td>Aguilar</td>\n",
       "      <td>36</td>\n",
       "      <td>30s</td>\n",
       "      <td>Los Angeles-Long Beach-Anaheim</td>\n",
       "      <td>CA</td>\n",
       "      <td>2018-12-02</td>\n",
       "      <td>surf</td>\n",
       "      <td>2018-12-31</td>\n",
       "      <td>29</td>\n",
       "      <td>0</td>\n",
       "    </tr>\n",
       "    <tr>\n",
       "      <th>266</th>\n",
       "      <td>1266</td>\n",
       "      <td>Dorie</td>\n",
       "      <td>Chandler</td>\n",
       "      <td>62</td>\n",
       "      <td>60s</td>\n",
       "      <td>New York-Newark-Jersey City</td>\n",
       "      <td>NY-NJ-PA</td>\n",
       "      <td>2018-12-13</td>\n",
       "      <td>surf</td>\n",
       "      <td>2018-12-31</td>\n",
       "      <td>18</td>\n",
       "      <td>0</td>\n",
       "    </tr>\n",
       "    <tr>\n",
       "      <th>286</th>\n",
       "      <td>1286</td>\n",
       "      <td>Casie</td>\n",
       "      <td>Castaneda</td>\n",
       "      <td>52</td>\n",
       "      <td>50s</td>\n",
       "      <td>New Haven-Milford</td>\n",
       "      <td>CT</td>\n",
       "      <td>2018-12-07</td>\n",
       "      <td>surf</td>\n",
       "      <td>2018-12-31</td>\n",
       "      <td>24</td>\n",
       "      <td>0</td>\n",
       "    </tr>\n",
       "    <tr>\n",
       "      <th>307</th>\n",
       "      <td>1307</td>\n",
       "      <td>Kristopher</td>\n",
       "      <td>Lang</td>\n",
       "      <td>28</td>\n",
       "      <td>20s</td>\n",
       "      <td>Boston-Cambridge-Newton</td>\n",
       "      <td>MA-NH</td>\n",
       "      <td>2018-12-31</td>\n",
       "      <td>surf</td>\n",
       "      <td>2018-12-31</td>\n",
       "      <td>0</td>\n",
       "      <td>0</td>\n",
       "    </tr>\n",
       "    <tr>\n",
       "      <th>323</th>\n",
       "      <td>1323</td>\n",
       "      <td>Pamelia</td>\n",
       "      <td>Atkins</td>\n",
       "      <td>42</td>\n",
       "      <td>40s</td>\n",
       "      <td>Baltimore-Columbia-Towson</td>\n",
       "      <td>MD</td>\n",
       "      <td>2018-12-30</td>\n",
       "      <td>surf</td>\n",
       "      <td>2018-12-31</td>\n",
       "      <td>1</td>\n",
       "      <td>0</td>\n",
       "    </tr>\n",
       "    <tr>\n",
       "      <th>344</th>\n",
       "      <td>1344</td>\n",
       "      <td>Hugo</td>\n",
       "      <td>Daugherty</td>\n",
       "      <td>70</td>\n",
       "      <td>70s</td>\n",
       "      <td>New York-Newark-Jersey City</td>\n",
       "      <td>NY-NJ-PA</td>\n",
       "      <td>2018-12-25</td>\n",
       "      <td>surf</td>\n",
       "      <td>2018-12-31</td>\n",
       "      <td>6</td>\n",
       "      <td>0</td>\n",
       "    </tr>\n",
       "    <tr>\n",
       "      <th>375</th>\n",
       "      <td>1375</td>\n",
       "      <td>Andy</td>\n",
       "      <td>Holden</td>\n",
       "      <td>69</td>\n",
       "      <td>60s</td>\n",
       "      <td>Philadelphia-Camden-Wilmington</td>\n",
       "      <td>PA-NJ-DE-MD</td>\n",
       "      <td>2018-12-01</td>\n",
       "      <td>surf</td>\n",
       "      <td>2018-12-31</td>\n",
       "      <td>30</td>\n",
       "      <td>0</td>\n",
       "    </tr>\n",
       "    <tr>\n",
       "      <th>378</th>\n",
       "      <td>1378</td>\n",
       "      <td>Mckinley</td>\n",
       "      <td>Clayton</td>\n",
       "      <td>22</td>\n",
       "      <td>20s</td>\n",
       "      <td>Denver-Aurora-Lakewood</td>\n",
       "      <td>CO</td>\n",
       "      <td>2018-12-17</td>\n",
       "      <td>surf</td>\n",
       "      <td>2018-12-31</td>\n",
       "      <td>14</td>\n",
       "      <td>0</td>\n",
       "    </tr>\n",
       "    <tr>\n",
       "      <th>429</th>\n",
       "      <td>1429</td>\n",
       "      <td>Arianna</td>\n",
       "      <td>Rowe</td>\n",
       "      <td>36</td>\n",
       "      <td>30s</td>\n",
       "      <td>New York-Newark-Jersey City</td>\n",
       "      <td>NY-NJ-PA</td>\n",
       "      <td>2018-12-22</td>\n",
       "      <td>surf</td>\n",
       "      <td>2018-12-31</td>\n",
       "      <td>9</td>\n",
       "      <td>0</td>\n",
       "    </tr>\n",
       "    <tr>\n",
       "      <th>430</th>\n",
       "      <td>1430</td>\n",
       "      <td>Myung</td>\n",
       "      <td>Pugh</td>\n",
       "      <td>63</td>\n",
       "      <td>60s</td>\n",
       "      <td>New York-Newark-Jersey City</td>\n",
       "      <td>NY-NJ-PA</td>\n",
       "      <td>2018-12-07</td>\n",
       "      <td>surf</td>\n",
       "      <td>2018-12-31</td>\n",
       "      <td>24</td>\n",
       "      <td>0</td>\n",
       "    </tr>\n",
       "    <tr>\n",
       "      <th>452</th>\n",
       "      <td>1452</td>\n",
       "      <td>Miguel</td>\n",
       "      <td>Sparks</td>\n",
       "      <td>32</td>\n",
       "      <td>30s</td>\n",
       "      <td>Tucson</td>\n",
       "      <td>AZ</td>\n",
       "      <td>2018-12-29</td>\n",
       "      <td>surf</td>\n",
       "      <td>2018-12-31</td>\n",
       "      <td>2</td>\n",
       "      <td>0</td>\n",
       "    </tr>\n",
       "    <tr>\n",
       "      <th>473</th>\n",
       "      <td>1473</td>\n",
       "      <td>Kirk</td>\n",
       "      <td>Velez</td>\n",
       "      <td>61</td>\n",
       "      <td>60s</td>\n",
       "      <td>Louisville/Jefferson County</td>\n",
       "      <td>KY-IN</td>\n",
       "      <td>2018-12-31</td>\n",
       "      <td>surf</td>\n",
       "      <td>2018-12-31</td>\n",
       "      <td>0</td>\n",
       "      <td>0</td>\n",
       "    </tr>\n",
       "    <tr>\n",
       "      <th>480</th>\n",
       "      <td>1480</td>\n",
       "      <td>Jasper</td>\n",
       "      <td>Buchanan</td>\n",
       "      <td>46</td>\n",
       "      <td>40s</td>\n",
       "      <td>St. Louis</td>\n",
       "      <td>MO-IL</td>\n",
       "      <td>2018-12-13</td>\n",
       "      <td>surf</td>\n",
       "      <td>2018-12-31</td>\n",
       "      <td>18</td>\n",
       "      <td>0</td>\n",
       "    </tr>\n",
       "    <tr>\n",
       "      <th>481</th>\n",
       "      <td>1481</td>\n",
       "      <td>Roni</td>\n",
       "      <td>Frye</td>\n",
       "      <td>32</td>\n",
       "      <td>30s</td>\n",
       "      <td>Urban Honolulu</td>\n",
       "      <td>HI</td>\n",
       "      <td>2018-12-27</td>\n",
       "      <td>surf</td>\n",
       "      <td>2018-12-31</td>\n",
       "      <td>4</td>\n",
       "      <td>0</td>\n",
       "    </tr>\n",
       "    <tr>\n",
       "      <th>486</th>\n",
       "      <td>1486</td>\n",
       "      <td>Sang</td>\n",
       "      <td>Solis</td>\n",
       "      <td>29</td>\n",
       "      <td>20s</td>\n",
       "      <td>Orlando-Kissimmee-Sanford</td>\n",
       "      <td>FL</td>\n",
       "      <td>2018-12-05</td>\n",
       "      <td>surf</td>\n",
       "      <td>2018-12-31</td>\n",
       "      <td>26</td>\n",
       "      <td>0</td>\n",
       "    </tr>\n",
       "    <tr>\n",
       "      <th>497</th>\n",
       "      <td>1497</td>\n",
       "      <td>Donte</td>\n",
       "      <td>Barrera</td>\n",
       "      <td>49</td>\n",
       "      <td>40s</td>\n",
       "      <td>Los Angeles-Long Beach-Anaheim</td>\n",
       "      <td>CA</td>\n",
       "      <td>2018-12-10</td>\n",
       "      <td>ultimate</td>\n",
       "      <td>2018-12-31</td>\n",
       "      <td>21</td>\n",
       "      <td>0</td>\n",
       "    </tr>\n",
       "  </tbody>\n",
       "</table>\n",
       "</div>"
      ],
      "text/plain": [
       "     user_id  first_name   last_name  age age_group  \\\n",
       "0       1000    Anamaria       Bauer   45       40s   \n",
       "13      1013     Nicolas      Snider   50       50s   \n",
       "15      1015       Beata   Carpenter   26       20s   \n",
       "21      1021     Ricarda      Booker   37       30s   \n",
       "35      1035        Jeff    Cummings   67       60s   \n",
       "40      1040       Paris      Santos   72       70s   \n",
       "51      1051     Rosario       Gibbs   55       50s   \n",
       "92      1092       Taren  Strickland   26       20s   \n",
       "93      1093      Karima     Hampton   69       60s   \n",
       "96      1096        Song       Cline   28       20s   \n",
       "104     1104     Thurman    Stephens   20       20s   \n",
       "108     1108    Porfirio        Kane   45       40s   \n",
       "118     1118       Deane     Ramirez   28       20s   \n",
       "135     1135      Scotty       White   51       50s   \n",
       "168     1168        Shay      Weaver   58       50s   \n",
       "169     1169         Hai        Bean   67       60s   \n",
       "180     1180       Wonda        Hays   24       20s   \n",
       "186     1186      Josiah     Douglas   55       50s   \n",
       "207     1207      Samuel      Porter   63       60s   \n",
       "221     1221    Mckenzie   Wilkinson   18       10s   \n",
       "229     1229    Augustus      Barker   69       60s   \n",
       "260     1260        Alia     Aguilar   36       30s   \n",
       "266     1266       Dorie    Chandler   62       60s   \n",
       "286     1286       Casie   Castaneda   52       50s   \n",
       "307     1307  Kristopher        Lang   28       20s   \n",
       "323     1323     Pamelia      Atkins   42       40s   \n",
       "344     1344        Hugo   Daugherty   70       70s   \n",
       "375     1375        Andy      Holden   69       60s   \n",
       "378     1378    Mckinley     Clayton   22       20s   \n",
       "429     1429     Arianna        Rowe   36       30s   \n",
       "430     1430       Myung        Pugh   63       60s   \n",
       "452     1452      Miguel      Sparks   32       30s   \n",
       "473     1473        Kirk       Velez   61       60s   \n",
       "480     1480      Jasper    Buchanan   46       40s   \n",
       "481     1481        Roni        Frye   32       30s   \n",
       "486     1486        Sang       Solis   29       20s   \n",
       "497     1497       Donte     Barrera   49       40s   \n",
       "\n",
       "                                         city        state   reg_date  \\\n",
       "0               Atlanta-Sandy Springs-Roswell           GA 2018-12-24   \n",
       "13                                  Knoxville           TN 2018-12-01   \n",
       "15                                 Pittsburgh           PA 2018-12-05   \n",
       "21             Los Angeles-Long Beach-Anaheim           CA 2018-12-21   \n",
       "35                 Charlotte-Concord-Gastonia        NC-SC 2018-12-08   \n",
       "40             Philadelphia-Camden-Wilmington  PA-NJ-DE-MD 2018-12-23   \n",
       "51             San Diego-Chula Vista-Carlsbad           CA 2018-12-11   \n",
       "92                Dallas-Fort Worth-Arlington           TX 2018-12-10   \n",
       "93   Nashville-Davidson–Murfreesboro–Franklin           TN 2018-12-17   \n",
       "96                New York-Newark-Jersey City     NY-NJ-PA 2018-12-22   \n",
       "104                  Chicago-Naperville-Elgin     IL-IN-WI 2018-12-23   \n",
       "108                            Salt Lake City           UT 2018-12-30   \n",
       "118                                  Columbus           OH 2018-12-08   \n",
       "135     Miami-Fort Lauderdale-West Palm Beach           FL 2018-12-23   \n",
       "168                        Milwaukee-Waukesha           WI 2018-12-13   \n",
       "169               New York-Newark-Jersey City     NY-NJ-PA 2018-12-06   \n",
       "180               New York-Newark-Jersey City     NY-NJ-PA 2018-12-01   \n",
       "186              Las Vegas-Henderson-Paradise           NV 2018-12-22   \n",
       "207                      Omaha-Council Bluffs        NE-IA 2018-12-22   \n",
       "221                   Boston-Cambridge-Newton        MA-NH 2018-12-17   \n",
       "229              Austin-Round Rock-Georgetown           TX 2018-12-09   \n",
       "260            Los Angeles-Long Beach-Anaheim           CA 2018-12-02   \n",
       "266               New York-Newark-Jersey City     NY-NJ-PA 2018-12-13   \n",
       "286                         New Haven-Milford           CT 2018-12-07   \n",
       "307                   Boston-Cambridge-Newton        MA-NH 2018-12-31   \n",
       "323                 Baltimore-Columbia-Towson           MD 2018-12-30   \n",
       "344               New York-Newark-Jersey City     NY-NJ-PA 2018-12-25   \n",
       "375            Philadelphia-Camden-Wilmington  PA-NJ-DE-MD 2018-12-01   \n",
       "378                    Denver-Aurora-Lakewood           CO 2018-12-17   \n",
       "429               New York-Newark-Jersey City     NY-NJ-PA 2018-12-22   \n",
       "430               New York-Newark-Jersey City     NY-NJ-PA 2018-12-07   \n",
       "452                                    Tucson           AZ 2018-12-29   \n",
       "473               Louisville/Jefferson County        KY-IN 2018-12-31   \n",
       "480                                 St. Louis        MO-IL 2018-12-13   \n",
       "481                            Urban Honolulu           HI 2018-12-27   \n",
       "486                 Orlando-Kissimmee-Sanford           FL 2018-12-05   \n",
       "497            Los Angeles-Long Beach-Anaheim           CA 2018-12-10   \n",
       "\n",
       "         plan churn_date  lifetime_days  lifetime_months  \n",
       "0    ultimate 2018-12-31              7                0  \n",
       "13   ultimate 2018-12-31             30                0  \n",
       "15       surf 2018-12-31             26                0  \n",
       "21       surf 2018-12-31             10                0  \n",
       "35       surf 2018-12-31             23                0  \n",
       "40       surf 2018-12-30              7                0  \n",
       "51       surf 2018-12-31             20                0  \n",
       "92       surf 2018-12-31             21                0  \n",
       "93       surf 2018-12-31             14                0  \n",
       "96   ultimate 2018-12-31              9                0  \n",
       "104  ultimate 2018-12-31              8                0  \n",
       "108  ultimate 2018-12-31              1                0  \n",
       "118      surf 2018-12-31             23                0  \n",
       "135  ultimate 2018-12-31              8                0  \n",
       "168      surf 2018-12-31             18                0  \n",
       "169      surf 2018-12-31             25                0  \n",
       "180      surf 2018-12-22             21                0  \n",
       "186  ultimate 2018-12-31              9                0  \n",
       "207      surf 2018-12-31              9                0  \n",
       "221      surf 2018-12-31             14                0  \n",
       "229  ultimate 2018-12-31             22                0  \n",
       "260      surf 2018-12-31             29                0  \n",
       "266      surf 2018-12-31             18                0  \n",
       "286      surf 2018-12-31             24                0  \n",
       "307      surf 2018-12-31              0                0  \n",
       "323      surf 2018-12-31              1                0  \n",
       "344      surf 2018-12-31              6                0  \n",
       "375      surf 2018-12-31             30                0  \n",
       "378      surf 2018-12-31             14                0  \n",
       "429      surf 2018-12-31              9                0  \n",
       "430      surf 2018-12-31             24                0  \n",
       "452      surf 2018-12-31              2                0  \n",
       "473      surf 2018-12-31              0                0  \n",
       "480      surf 2018-12-31             18                0  \n",
       "481      surf 2018-12-31              4                0  \n",
       "486      surf 2018-12-31             26                0  \n",
       "497  ultimate 2018-12-31             21                0  "
      ]
     },
     "execution_count": 192,
     "metadata": {},
     "output_type": "execute_result"
    }
   ],
   "source": [
    "# Investigating lifetime_months == 0:\n",
    "\n",
    "df_users.query(\"lifetime_months == 0\")"
   ]
  },
  {
   "cell_type": "markdown",
   "metadata": {},
   "source": [
    "**Intermediate Conclusion:** \n",
    "<br>\n",
    "It looks like our {0} lifetime_month values are due to the fact these particular customers had only just signed up for a prepaid plan in the last month of 2018. We will replace these values with 1 as it represents a service uptake of a month or less."
   ]
  },
  {
   "cell_type": "code",
   "execution_count": 193,
   "metadata": {
    "scrolled": true
   },
   "outputs": [],
   "source": [
    "# Replacing {0} lifetime month values with {1}:\n",
    "\n",
    "df_users.loc[df_users['lifetime_months'] == 0, 'lifetime_months'] = 1"
   ]
  },
  {
   "cell_type": "markdown",
   "metadata": {},
   "source": [
    "## 4.2. df_calls <a name=\"fecalls\"></a>"
   ]
  },
  {
   "cell_type": "code",
   "execution_count": 194,
   "metadata": {
    "scrolled": true
   },
   "outputs": [],
   "source": [
    "# Extracting monthly call values from 'call_date'\n",
    "\n",
    "df_calls.insert(loc=3, column='month', value=(df_calls.call_date.dt.month))"
   ]
  },
  {
   "cell_type": "markdown",
   "metadata": {},
   "source": [
    "## 4.3. df_internet <a name=\"feinternet\"></a>"
   ]
  },
  {
   "cell_type": "code",
   "execution_count": 195,
   "metadata": {
    "scrolled": true
   },
   "outputs": [],
   "source": [
    "# Extracting monthly internet session values from 'session_date'\n",
    "\n",
    "df_internet.insert(loc=3, column='month', value=(df_internet.session_date.dt.month))"
   ]
  },
  {
   "cell_type": "markdown",
   "metadata": {},
   "source": [
    "## 4.4. df_messages <a name=\"femessages\"></a>"
   ]
  },
  {
   "cell_type": "code",
   "execution_count": 196,
   "metadata": {
    "scrolled": true
   },
   "outputs": [],
   "source": [
    "# Extracting monthly message values from 'message_date'\n",
    "\n",
    "df_messages.insert(loc=3, column='month', value=(df_messages.message_date.dt.month))"
   ]
  },
  {
   "cell_type": "markdown",
   "metadata": {},
   "source": [
    "# 5. Data Transformation <a name=\"dt\"></a>"
   ]
  },
  {
   "cell_type": "markdown",
   "metadata": {},
   "source": [
    "## 5.1 Monthly Usage, per User. <a name=\"dt1\"></a>"
   ]
  },
  {
   "cell_type": "code",
   "execution_count": 197,
   "metadata": {
    "scrolled": true
   },
   "outputs": [],
   "source": [
    "# Getting totals for calls made and call duration by each month:\n",
    "\n",
    "df_calls_total = df_calls.pivot_table(index=['user_id', 'month'], values='duration', aggfunc=['count', 'sum'])\n",
    "\n",
    "df_calls_total.columns = ['calls_made', 'calls_duration']               # Changing column names for readability\n",
    "df_calls_total = df_calls_total.reset_index(level=[0,1])                # Resetting multi-index\n",
    "\n",
    "df_calls_total = df_calls_total.merge(df_users[['user_id', 'plan']], on='user_id')  # Retrieving respective plans chosen\n",
    "                "
   ]
  },
  {
   "cell_type": "code",
   "execution_count": 198,
   "metadata": {
    "scrolled": true
   },
   "outputs": [],
   "source": [
    "# Getting total data volume for each month:\n",
    "\n",
    "df_internet_total = df_internet.pivot_table(index=['user_id', 'month'], values='gb_used', aggfunc='sum')\n",
    "\n",
    "df_internet_total.columns = ['data_used']                               # Changing column names for readability\n",
    "df_internet_total = df_internet_total.reset_index(level=[0,1])          # Resetting multi-index\n",
    "\n",
    "df_internet_total = df_internet_total.merge(df_users[['user_id', 'plan']], on='user_id')  # Retrieving respective plans chosen"
   ]
  },
  {
   "cell_type": "code",
   "execution_count": 199,
   "metadata": {
    "scrolled": true
   },
   "outputs": [],
   "source": [
    "# Getting totals for messages sent in each month:\n",
    "\n",
    "df_messages_total = df_messages.pivot_table(index=['user_id', 'month'], values='message_id', aggfunc='count')\n",
    "\n",
    "df_messages_total.columns = ['messages_sent']                           # Changing column names for readability\n",
    "df_messages_total = df_messages_total.reset_index(level=[0,1])          # Resetting multi-index\n",
    "\n",
    "df_messages_total = df_messages_total.merge(df_users[['user_id', 'plan']], on='user_id')  # Retrieving respective plans chosen"
   ]
  },
  {
   "cell_type": "code",
   "execution_count": 200,
   "metadata": {},
   "outputs": [],
   "source": [
    "# Merging all metric DataFrames:\n",
    "\n",
    "df = (df_internet_total\n",
    "                  .merge(df_calls_total, on=['user_id', 'plan', 'month'], how='outer')\n",
    "                  .merge(df_messages_total, on=['user_id', 'plan', 'month'], how='outer')\n",
    "                 )\n",
    "                      "
   ]
  },
  {
   "cell_type": "code",
   "execution_count": 201,
   "metadata": {},
   "outputs": [],
   "source": [
    "# Replacing all NaN values that represent null usages for a particular month with {0}:\n",
    "\n",
    "df = df.fillna(0)"
   ]
  },
  {
   "cell_type": "markdown",
   "metadata": {},
   "source": [
    "## 5.2 Monthly Surcharge, per User. <a name=\"dt2\"></a>"
   ]
  },
  {
   "cell_type": "markdown",
   "metadata": {},
   "source": [
    "### 5.2.1 Calls Surcharge: <a name=\"dt21\"></a>"
   ]
  },
  {
   "cell_type": "code",
   "execution_count": 202,
   "metadata": {},
   "outputs": [],
   "source": [
    "# Merging plan rates with df:\n",
    "\n",
    "df_calls_surcharge = df.merge(df_plans[['minutes_included', 'usd_per_minute', 'plan']], on='plan')"
   ]
  },
  {
   "cell_type": "code",
   "execution_count": 203,
   "metadata": {
    "scrolled": true
   },
   "outputs": [],
   "source": [
    "# Getting monthly surcharge per month, per user for the call category:\n",
    "\n",
    "def define_call_surcharge(row):\n",
    "    \n",
    "    plan = row['plan']\n",
    "    calls_duration = row['calls_duration']\n",
    "    minutes_included = row['minutes_included']\n",
    "    rate = row['usd_per_minute']\n",
    "    \n",
    "\n",
    "    if plan == 'surf':\n",
    "        if calls_duration <= minutes_included:\n",
    "            return 0\n",
    "        elif calls_duration > minutes_included:\n",
    "            return (calls_duration - minutes_included) * rate        \n",
    "    elif plan == 'ultimate':\n",
    "        if calls_duration <= minutes_included:\n",
    "            return 0\n",
    "        elif calls_duration > minutes_included:\n",
    "            return (calls_duration - minutes_included) * rate\n",
    "        \n",
    "df_calls_surcharge['calls_surcharge'] = df_calls_surcharge.apply(define_call_surcharge, axis=1)\n",
    "        "
   ]
  },
  {
   "cell_type": "code",
   "execution_count": 204,
   "metadata": {
    "scrolled": true
   },
   "outputs": [
    {
     "data": {
      "text/html": [
       "<div>\n",
       "<style scoped>\n",
       "    .dataframe tbody tr th:only-of-type {\n",
       "        vertical-align: middle;\n",
       "    }\n",
       "\n",
       "    .dataframe tbody tr th {\n",
       "        vertical-align: top;\n",
       "    }\n",
       "\n",
       "    .dataframe thead th {\n",
       "        text-align: right;\n",
       "    }\n",
       "</style>\n",
       "<table border=\"1\" class=\"dataframe\">\n",
       "  <thead>\n",
       "    <tr style=\"text-align: right;\">\n",
       "      <th></th>\n",
       "      <th>user_id</th>\n",
       "      <th>month</th>\n",
       "      <th>data_used</th>\n",
       "      <th>plan</th>\n",
       "      <th>calls_made</th>\n",
       "      <th>calls_duration</th>\n",
       "      <th>messages_sent</th>\n",
       "      <th>minutes_included</th>\n",
       "      <th>usd_per_minute</th>\n",
       "      <th>calls_surcharge</th>\n",
       "    </tr>\n",
       "  </thead>\n",
       "  <tbody>\n",
       "    <tr>\n",
       "      <th>0</th>\n",
       "      <td>1000</td>\n",
       "      <td>12</td>\n",
       "      <td>1.856904</td>\n",
       "      <td>ultimate</td>\n",
       "      <td>16.0</td>\n",
       "      <td>124.0</td>\n",
       "      <td>11.0</td>\n",
       "      <td>3000</td>\n",
       "      <td>0.01</td>\n",
       "      <td>0.0</td>\n",
       "    </tr>\n",
       "    <tr>\n",
       "      <th>1</th>\n",
       "      <td>1006</td>\n",
       "      <td>11</td>\n",
       "      <td>2.019893</td>\n",
       "      <td>ultimate</td>\n",
       "      <td>2.0</td>\n",
       "      <td>10.0</td>\n",
       "      <td>15.0</td>\n",
       "      <td>3000</td>\n",
       "      <td>0.01</td>\n",
       "      <td>0.0</td>\n",
       "    </tr>\n",
       "    <tr>\n",
       "      <th>2</th>\n",
       "      <td>1006</td>\n",
       "      <td>12</td>\n",
       "      <td>31.366035</td>\n",
       "      <td>ultimate</td>\n",
       "      <td>7.0</td>\n",
       "      <td>59.0</td>\n",
       "      <td>139.0</td>\n",
       "      <td>3000</td>\n",
       "      <td>0.01</td>\n",
       "      <td>0.0</td>\n",
       "    </tr>\n",
       "    <tr>\n",
       "      <th>3</th>\n",
       "      <td>1008</td>\n",
       "      <td>10</td>\n",
       "      <td>16.706045</td>\n",
       "      <td>ultimate</td>\n",
       "      <td>54.0</td>\n",
       "      <td>476.0</td>\n",
       "      <td>21.0</td>\n",
       "      <td>3000</td>\n",
       "      <td>0.01</td>\n",
       "      <td>0.0</td>\n",
       "    </tr>\n",
       "    <tr>\n",
       "      <th>4</th>\n",
       "      <td>1008</td>\n",
       "      <td>11</td>\n",
       "      <td>23.121797</td>\n",
       "      <td>ultimate</td>\n",
       "      <td>50.0</td>\n",
       "      <td>446.0</td>\n",
       "      <td>37.0</td>\n",
       "      <td>3000</td>\n",
       "      <td>0.01</td>\n",
       "      <td>0.0</td>\n",
       "    </tr>\n",
       "  </tbody>\n",
       "</table>\n",
       "</div>"
      ],
      "text/plain": [
       "   user_id  month  data_used      plan  calls_made  calls_duration  \\\n",
       "0     1000     12   1.856904  ultimate        16.0           124.0   \n",
       "1     1006     11   2.019893  ultimate         2.0            10.0   \n",
       "2     1006     12  31.366035  ultimate         7.0            59.0   \n",
       "3     1008     10  16.706045  ultimate        54.0           476.0   \n",
       "4     1008     11  23.121797  ultimate        50.0           446.0   \n",
       "\n",
       "   messages_sent  minutes_included  usd_per_minute  calls_surcharge  \n",
       "0           11.0              3000            0.01              0.0  \n",
       "1           15.0              3000            0.01              0.0  \n",
       "2          139.0              3000            0.01              0.0  \n",
       "3           21.0              3000            0.01              0.0  \n",
       "4           37.0              3000            0.01              0.0  "
      ]
     },
     "execution_count": 204,
     "metadata": {},
     "output_type": "execute_result"
    }
   ],
   "source": [
    "# Overview of our new table:\n",
    "\n",
    "df_calls_surcharge.head()"
   ]
  },
  {
   "cell_type": "code",
   "execution_count": 205,
   "metadata": {},
   "outputs": [],
   "source": [
    "# Dropping unnecessary columns:\n",
    "\n",
    "df_calls_surcharge.drop(['minutes_included', 'usd_per_minute'], inplace=True, axis=1)"
   ]
  },
  {
   "cell_type": "markdown",
   "metadata": {},
   "source": [
    "### 5.2.2 Internet Surcharge: <a name=\"dt22\"></a>"
   ]
  },
  {
   "cell_type": "code",
   "execution_count": 206,
   "metadata": {},
   "outputs": [],
   "source": [
    "# Merging plan rates with df:\n",
    "\n",
    "df_internet_surcharge = df.merge(df_plans[['gb_included', 'usd_per_gb', 'plan']], on='plan')"
   ]
  },
  {
   "cell_type": "code",
   "execution_count": 207,
   "metadata": {},
   "outputs": [],
   "source": [
    "# Getting monthly surcharge per month, per user for the internet category:\n",
    "\n",
    "\n",
    "def define_internet_surcharge(row):\n",
    "    \n",
    "    plan = row['plan']\n",
    "    data_used = row['data_used']\n",
    "    gb_included = row['gb_included']\n",
    "    rate = row['usd_per_gb']\n",
    "    \n",
    "    \n",
    "\n",
    "    if plan == 'surf':\n",
    "        if data_used <= gb_included:\n",
    "            return 0\n",
    "        elif data_used > gb_included:\n",
    "            return np.ceil(data_used - gb_included) * rate \n",
    "        # rounding up our gb values once they have surpassed the included gb threshold  \n",
    "        \n",
    "    elif plan == 'ultimate':\n",
    "        if data_used <= gb_included:\n",
    "            return 0\n",
    "        elif data_used > gb_included:\n",
    "            return np.ceil(data_used - gb_included) * rate\n",
    "        # rounding up our gb values once they have surpassed the included gb threshold \n",
    "        \n",
    "df_internet_surcharge['internet_surcharge'] = df_internet_surcharge.apply(define_internet_surcharge, axis=1)\n",
    "        "
   ]
  },
  {
   "cell_type": "code",
   "execution_count": 208,
   "metadata": {},
   "outputs": [
    {
     "data": {
      "text/html": [
       "<div>\n",
       "<style scoped>\n",
       "    .dataframe tbody tr th:only-of-type {\n",
       "        vertical-align: middle;\n",
       "    }\n",
       "\n",
       "    .dataframe tbody tr th {\n",
       "        vertical-align: top;\n",
       "    }\n",
       "\n",
       "    .dataframe thead th {\n",
       "        text-align: right;\n",
       "    }\n",
       "</style>\n",
       "<table border=\"1\" class=\"dataframe\">\n",
       "  <thead>\n",
       "    <tr style=\"text-align: right;\">\n",
       "      <th></th>\n",
       "      <th>user_id</th>\n",
       "      <th>month</th>\n",
       "      <th>data_used</th>\n",
       "      <th>plan</th>\n",
       "      <th>calls_made</th>\n",
       "      <th>calls_duration</th>\n",
       "      <th>messages_sent</th>\n",
       "      <th>gb_included</th>\n",
       "      <th>usd_per_gb</th>\n",
       "      <th>internet_surcharge</th>\n",
       "    </tr>\n",
       "  </thead>\n",
       "  <tbody>\n",
       "    <tr>\n",
       "      <th>0</th>\n",
       "      <td>1000</td>\n",
       "      <td>12</td>\n",
       "      <td>1.856904</td>\n",
       "      <td>ultimate</td>\n",
       "      <td>16.0</td>\n",
       "      <td>124.0</td>\n",
       "      <td>11.0</td>\n",
       "      <td>30</td>\n",
       "      <td>7</td>\n",
       "      <td>0.0</td>\n",
       "    </tr>\n",
       "    <tr>\n",
       "      <th>1</th>\n",
       "      <td>1006</td>\n",
       "      <td>11</td>\n",
       "      <td>2.019893</td>\n",
       "      <td>ultimate</td>\n",
       "      <td>2.0</td>\n",
       "      <td>10.0</td>\n",
       "      <td>15.0</td>\n",
       "      <td>30</td>\n",
       "      <td>7</td>\n",
       "      <td>0.0</td>\n",
       "    </tr>\n",
       "    <tr>\n",
       "      <th>2</th>\n",
       "      <td>1006</td>\n",
       "      <td>12</td>\n",
       "      <td>31.366035</td>\n",
       "      <td>ultimate</td>\n",
       "      <td>7.0</td>\n",
       "      <td>59.0</td>\n",
       "      <td>139.0</td>\n",
       "      <td>30</td>\n",
       "      <td>7</td>\n",
       "      <td>14.0</td>\n",
       "    </tr>\n",
       "    <tr>\n",
       "      <th>3</th>\n",
       "      <td>1008</td>\n",
       "      <td>10</td>\n",
       "      <td>16.706045</td>\n",
       "      <td>ultimate</td>\n",
       "      <td>54.0</td>\n",
       "      <td>476.0</td>\n",
       "      <td>21.0</td>\n",
       "      <td>30</td>\n",
       "      <td>7</td>\n",
       "      <td>0.0</td>\n",
       "    </tr>\n",
       "    <tr>\n",
       "      <th>4</th>\n",
       "      <td>1008</td>\n",
       "      <td>11</td>\n",
       "      <td>23.121797</td>\n",
       "      <td>ultimate</td>\n",
       "      <td>50.0</td>\n",
       "      <td>446.0</td>\n",
       "      <td>37.0</td>\n",
       "      <td>30</td>\n",
       "      <td>7</td>\n",
       "      <td>0.0</td>\n",
       "    </tr>\n",
       "  </tbody>\n",
       "</table>\n",
       "</div>"
      ],
      "text/plain": [
       "   user_id  month  data_used      plan  calls_made  calls_duration  \\\n",
       "0     1000     12   1.856904  ultimate        16.0           124.0   \n",
       "1     1006     11   2.019893  ultimate         2.0            10.0   \n",
       "2     1006     12  31.366035  ultimate         7.0            59.0   \n",
       "3     1008     10  16.706045  ultimate        54.0           476.0   \n",
       "4     1008     11  23.121797  ultimate        50.0           446.0   \n",
       "\n",
       "   messages_sent  gb_included  usd_per_gb  internet_surcharge  \n",
       "0           11.0           30           7                 0.0  \n",
       "1           15.0           30           7                 0.0  \n",
       "2          139.0           30           7                14.0  \n",
       "3           21.0           30           7                 0.0  \n",
       "4           37.0           30           7                 0.0  "
      ]
     },
     "execution_count": 208,
     "metadata": {},
     "output_type": "execute_result"
    }
   ],
   "source": [
    "# Getting an overview:\n",
    "\n",
    "df_internet_surcharge.head()"
   ]
  },
  {
   "cell_type": "code",
   "execution_count": 209,
   "metadata": {},
   "outputs": [],
   "source": [
    "# Dropping unncessary columns:\n",
    "\n",
    "df_internet_surcharge.drop(['gb_included', 'usd_per_gb'], inplace=True, axis=1)"
   ]
  },
  {
   "cell_type": "markdown",
   "metadata": {},
   "source": [
    "### 5.2.3 Messages Surcharge: <a name=\"dt23\"></a>"
   ]
  },
  {
   "cell_type": "code",
   "execution_count": 210,
   "metadata": {},
   "outputs": [],
   "source": [
    "# Merging plan rates with df:\n",
    "\n",
    "df_messages_surcharge = df.merge(df_plans[['messages_included', 'usd_per_message', 'plan']], on='plan')"
   ]
  },
  {
   "cell_type": "code",
   "execution_count": 211,
   "metadata": {},
   "outputs": [],
   "source": [
    "# Getting monthly surcharge per month, per user for the messages category:\n",
    "\n",
    "def define_messages_surcharge(row):\n",
    "    \n",
    "    plan = row['plan']\n",
    "    messages_sent = row['messages_sent']\n",
    "    messages_included = row['messages_included']\n",
    "    rate = row['usd_per_message']\n",
    "\n",
    "\n",
    "    if plan == 'surf':\n",
    "        if messages_sent <= messages_included:\n",
    "            return 0\n",
    "        elif messages_sent > messages_included:\n",
    "            return (messages_sent - messages_included) * rate        \n",
    "    elif plan == 'ultimate':\n",
    "        if messages_sent <= messages_included:\n",
    "            return 0\n",
    "        elif messages_sent > messages_included:\n",
    "            return (messages_sent - messages_included) * rate\n",
    "        \n",
    "df_messages_surcharge['messages_surcharge'] = df_messages_surcharge.apply(define_messages_surcharge, axis=1)"
   ]
  },
  {
   "cell_type": "code",
   "execution_count": 212,
   "metadata": {},
   "outputs": [
    {
     "data": {
      "text/html": [
       "<div>\n",
       "<style scoped>\n",
       "    .dataframe tbody tr th:only-of-type {\n",
       "        vertical-align: middle;\n",
       "    }\n",
       "\n",
       "    .dataframe tbody tr th {\n",
       "        vertical-align: top;\n",
       "    }\n",
       "\n",
       "    .dataframe thead th {\n",
       "        text-align: right;\n",
       "    }\n",
       "</style>\n",
       "<table border=\"1\" class=\"dataframe\">\n",
       "  <thead>\n",
       "    <tr style=\"text-align: right;\">\n",
       "      <th></th>\n",
       "      <th>user_id</th>\n",
       "      <th>month</th>\n",
       "      <th>data_used</th>\n",
       "      <th>plan</th>\n",
       "      <th>calls_made</th>\n",
       "      <th>calls_duration</th>\n",
       "      <th>messages_sent</th>\n",
       "      <th>messages_included</th>\n",
       "      <th>usd_per_message</th>\n",
       "      <th>messages_surcharge</th>\n",
       "    </tr>\n",
       "  </thead>\n",
       "  <tbody>\n",
       "    <tr>\n",
       "      <th>0</th>\n",
       "      <td>1000</td>\n",
       "      <td>12</td>\n",
       "      <td>1.856904</td>\n",
       "      <td>ultimate</td>\n",
       "      <td>16.0</td>\n",
       "      <td>124.0</td>\n",
       "      <td>11.0</td>\n",
       "      <td>1000</td>\n",
       "      <td>0.01</td>\n",
       "      <td>0.0</td>\n",
       "    </tr>\n",
       "    <tr>\n",
       "      <th>1</th>\n",
       "      <td>1006</td>\n",
       "      <td>11</td>\n",
       "      <td>2.019893</td>\n",
       "      <td>ultimate</td>\n",
       "      <td>2.0</td>\n",
       "      <td>10.0</td>\n",
       "      <td>15.0</td>\n",
       "      <td>1000</td>\n",
       "      <td>0.01</td>\n",
       "      <td>0.0</td>\n",
       "    </tr>\n",
       "    <tr>\n",
       "      <th>2</th>\n",
       "      <td>1006</td>\n",
       "      <td>12</td>\n",
       "      <td>31.366035</td>\n",
       "      <td>ultimate</td>\n",
       "      <td>7.0</td>\n",
       "      <td>59.0</td>\n",
       "      <td>139.0</td>\n",
       "      <td>1000</td>\n",
       "      <td>0.01</td>\n",
       "      <td>0.0</td>\n",
       "    </tr>\n",
       "    <tr>\n",
       "      <th>3</th>\n",
       "      <td>1008</td>\n",
       "      <td>10</td>\n",
       "      <td>16.706045</td>\n",
       "      <td>ultimate</td>\n",
       "      <td>54.0</td>\n",
       "      <td>476.0</td>\n",
       "      <td>21.0</td>\n",
       "      <td>1000</td>\n",
       "      <td>0.01</td>\n",
       "      <td>0.0</td>\n",
       "    </tr>\n",
       "    <tr>\n",
       "      <th>4</th>\n",
       "      <td>1008</td>\n",
       "      <td>11</td>\n",
       "      <td>23.121797</td>\n",
       "      <td>ultimate</td>\n",
       "      <td>50.0</td>\n",
       "      <td>446.0</td>\n",
       "      <td>37.0</td>\n",
       "      <td>1000</td>\n",
       "      <td>0.01</td>\n",
       "      <td>0.0</td>\n",
       "    </tr>\n",
       "  </tbody>\n",
       "</table>\n",
       "</div>"
      ],
      "text/plain": [
       "   user_id  month  data_used      plan  calls_made  calls_duration  \\\n",
       "0     1000     12   1.856904  ultimate        16.0           124.0   \n",
       "1     1006     11   2.019893  ultimate         2.0            10.0   \n",
       "2     1006     12  31.366035  ultimate         7.0            59.0   \n",
       "3     1008     10  16.706045  ultimate        54.0           476.0   \n",
       "4     1008     11  23.121797  ultimate        50.0           446.0   \n",
       "\n",
       "   messages_sent  messages_included  usd_per_message  messages_surcharge  \n",
       "0           11.0               1000             0.01                 0.0  \n",
       "1           15.0               1000             0.01                 0.0  \n",
       "2          139.0               1000             0.01                 0.0  \n",
       "3           21.0               1000             0.01                 0.0  \n",
       "4           37.0               1000             0.01                 0.0  "
      ]
     },
     "execution_count": 212,
     "metadata": {},
     "output_type": "execute_result"
    }
   ],
   "source": [
    "# Getting an overview:\n",
    "\n",
    "df_messages_surcharge.head()"
   ]
  },
  {
   "cell_type": "code",
   "execution_count": 213,
   "metadata": {},
   "outputs": [],
   "source": [
    "# Dropping unnecessary columns:\n",
    "\n",
    "df_messages_surcharge.drop(['messages_included', 'usd_per_message'], inplace=True, axis=1)"
   ]
  },
  {
   "cell_type": "markdown",
   "metadata": {},
   "source": [
    "### 5.2.4 Merging Usage, Surcharge, User Information & Plan Prices:  <a name=\"dt24\"></a>"
   ]
  },
  {
   "cell_type": "code",
   "execution_count": 214,
   "metadata": {},
   "outputs": [],
   "source": [
    "# Combining surcharge data for all 3 metrics:\n",
    "\n",
    "df_surcharge = (df_calls_surcharge\n",
    "      .merge(df_internet_surcharge, \n",
    "             on=['user_id', 'month', 'plan', 'calls_made', 'calls_duration', 'data_used', 'messages_sent'], how='outer')\n",
    "      .merge(df_messages_surcharge,\n",
    "             on=['user_id', 'month', 'plan', 'calls_made', 'calls_duration', 'data_used', 'messages_sent'], how='outer')\n",
    "               )          "
   ]
  },
  {
   "cell_type": "code",
   "execution_count": 215,
   "metadata": {},
   "outputs": [],
   "source": [
    "# Merging combined surcharge data to our main DataFrame:\n",
    "\n",
    "df = df.merge(df_surcharge, \n",
    "              on=['user_id', 'month', 'plan', 'calls_made', 'calls_duration', 'data_used', 'messages_sent'])"
   ]
  },
  {
   "cell_type": "code",
   "execution_count": 216,
   "metadata": {},
   "outputs": [],
   "source": [
    "# Merging plan prices to our main DataFrame:\n",
    "\n",
    "df = df.merge(df_plans[['plan', 'usd_monthly_pay']], on='plan')"
   ]
  },
  {
   "cell_type": "code",
   "execution_count": 217,
   "metadata": {},
   "outputs": [],
   "source": [
    "# Merging customer information columns to our main DataFrame:\n",
    "\n",
    "df = df.merge(df_users[['user_id', 'age_group', 'city']], on='user_id', how='inner')"
   ]
  },
  {
   "cell_type": "code",
   "execution_count": 218,
   "metadata": {},
   "outputs": [
    {
     "data": {
      "text/html": [
       "<div>\n",
       "<style scoped>\n",
       "    .dataframe tbody tr th:only-of-type {\n",
       "        vertical-align: middle;\n",
       "    }\n",
       "\n",
       "    .dataframe tbody tr th {\n",
       "        vertical-align: top;\n",
       "    }\n",
       "\n",
       "    .dataframe thead th {\n",
       "        text-align: right;\n",
       "    }\n",
       "</style>\n",
       "<table border=\"1\" class=\"dataframe\">\n",
       "  <thead>\n",
       "    <tr style=\"text-align: right;\">\n",
       "      <th></th>\n",
       "      <th>user_id</th>\n",
       "      <th>month</th>\n",
       "      <th>data_used</th>\n",
       "      <th>plan</th>\n",
       "      <th>calls_made</th>\n",
       "      <th>calls_duration</th>\n",
       "      <th>messages_sent</th>\n",
       "      <th>calls_surcharge</th>\n",
       "      <th>internet_surcharge</th>\n",
       "      <th>messages_surcharge</th>\n",
       "      <th>usd_monthly_pay</th>\n",
       "      <th>age_group</th>\n",
       "      <th>city</th>\n",
       "    </tr>\n",
       "  </thead>\n",
       "  <tbody>\n",
       "    <tr>\n",
       "      <th>0</th>\n",
       "      <td>1000</td>\n",
       "      <td>12</td>\n",
       "      <td>1.856904</td>\n",
       "      <td>ultimate</td>\n",
       "      <td>16.0</td>\n",
       "      <td>124.0</td>\n",
       "      <td>11.0</td>\n",
       "      <td>0.0</td>\n",
       "      <td>0.0</td>\n",
       "      <td>0.0</td>\n",
       "      <td>70</td>\n",
       "      <td>40s</td>\n",
       "      <td>Atlanta-Sandy Springs-Roswell</td>\n",
       "    </tr>\n",
       "    <tr>\n",
       "      <th>1</th>\n",
       "      <td>1006</td>\n",
       "      <td>11</td>\n",
       "      <td>2.019893</td>\n",
       "      <td>ultimate</td>\n",
       "      <td>2.0</td>\n",
       "      <td>10.0</td>\n",
       "      <td>15.0</td>\n",
       "      <td>0.0</td>\n",
       "      <td>0.0</td>\n",
       "      <td>0.0</td>\n",
       "      <td>70</td>\n",
       "      <td>70s</td>\n",
       "      <td>San Francisco-Oakland-Berkeley</td>\n",
       "    </tr>\n",
       "    <tr>\n",
       "      <th>2</th>\n",
       "      <td>1006</td>\n",
       "      <td>12</td>\n",
       "      <td>31.366035</td>\n",
       "      <td>ultimate</td>\n",
       "      <td>7.0</td>\n",
       "      <td>59.0</td>\n",
       "      <td>139.0</td>\n",
       "      <td>0.0</td>\n",
       "      <td>14.0</td>\n",
       "      <td>0.0</td>\n",
       "      <td>70</td>\n",
       "      <td>70s</td>\n",
       "      <td>San Francisco-Oakland-Berkeley</td>\n",
       "    </tr>\n",
       "    <tr>\n",
       "      <th>3</th>\n",
       "      <td>1008</td>\n",
       "      <td>10</td>\n",
       "      <td>16.706045</td>\n",
       "      <td>ultimate</td>\n",
       "      <td>54.0</td>\n",
       "      <td>476.0</td>\n",
       "      <td>21.0</td>\n",
       "      <td>0.0</td>\n",
       "      <td>0.0</td>\n",
       "      <td>0.0</td>\n",
       "      <td>70</td>\n",
       "      <td>50s</td>\n",
       "      <td>Orlando-Kissimmee-Sanford</td>\n",
       "    </tr>\n",
       "    <tr>\n",
       "      <th>4</th>\n",
       "      <td>1008</td>\n",
       "      <td>11</td>\n",
       "      <td>23.121797</td>\n",
       "      <td>ultimate</td>\n",
       "      <td>50.0</td>\n",
       "      <td>446.0</td>\n",
       "      <td>37.0</td>\n",
       "      <td>0.0</td>\n",
       "      <td>0.0</td>\n",
       "      <td>0.0</td>\n",
       "      <td>70</td>\n",
       "      <td>50s</td>\n",
       "      <td>Orlando-Kissimmee-Sanford</td>\n",
       "    </tr>\n",
       "  </tbody>\n",
       "</table>\n",
       "</div>"
      ],
      "text/plain": [
       "   user_id  month  data_used      plan  calls_made  calls_duration  \\\n",
       "0     1000     12   1.856904  ultimate        16.0           124.0   \n",
       "1     1006     11   2.019893  ultimate         2.0            10.0   \n",
       "2     1006     12  31.366035  ultimate         7.0            59.0   \n",
       "3     1008     10  16.706045  ultimate        54.0           476.0   \n",
       "4     1008     11  23.121797  ultimate        50.0           446.0   \n",
       "\n",
       "   messages_sent  calls_surcharge  internet_surcharge  messages_surcharge  \\\n",
       "0           11.0              0.0                 0.0                 0.0   \n",
       "1           15.0              0.0                 0.0                 0.0   \n",
       "2          139.0              0.0                14.0                 0.0   \n",
       "3           21.0              0.0                 0.0                 0.0   \n",
       "4           37.0              0.0                 0.0                 0.0   \n",
       "\n",
       "   usd_monthly_pay age_group                            city  \n",
       "0               70       40s   Atlanta-Sandy Springs-Roswell  \n",
       "1               70       70s  San Francisco-Oakland-Berkeley  \n",
       "2               70       70s  San Francisco-Oakland-Berkeley  \n",
       "3               70       50s       Orlando-Kissimmee-Sanford  \n",
       "4               70       50s       Orlando-Kissimmee-Sanford  "
      ]
     },
     "execution_count": 218,
     "metadata": {},
     "output_type": "execute_result"
    }
   ],
   "source": [
    "# Checking our new DataFrame:\n",
    "\n",
    "df.head()"
   ]
  },
  {
   "cell_type": "code",
   "execution_count": 219,
   "metadata": {},
   "outputs": [],
   "source": [
    "# Rearranging columns for better readability:\n",
    "\n",
    "df = df.iloc[:, np.r_[0, 1, 4:6, 2, 6, 3, -3, -2, -1, 7:10]]"
   ]
  },
  {
   "cell_type": "code",
   "execution_count": 220,
   "metadata": {},
   "outputs": [
    {
     "data": {
      "text/html": [
       "<div>\n",
       "<style scoped>\n",
       "    .dataframe tbody tr th:only-of-type {\n",
       "        vertical-align: middle;\n",
       "    }\n",
       "\n",
       "    .dataframe tbody tr th {\n",
       "        vertical-align: top;\n",
       "    }\n",
       "\n",
       "    .dataframe thead th {\n",
       "        text-align: right;\n",
       "    }\n",
       "</style>\n",
       "<table border=\"1\" class=\"dataframe\">\n",
       "  <thead>\n",
       "    <tr style=\"text-align: right;\">\n",
       "      <th></th>\n",
       "      <th>user_id</th>\n",
       "      <th>month</th>\n",
       "      <th>calls_made</th>\n",
       "      <th>calls_duration</th>\n",
       "      <th>data_used</th>\n",
       "      <th>messages_sent</th>\n",
       "      <th>plan</th>\n",
       "      <th>usd_monthly_pay</th>\n",
       "      <th>age_group</th>\n",
       "      <th>city</th>\n",
       "      <th>calls_surcharge</th>\n",
       "      <th>internet_surcharge</th>\n",
       "      <th>messages_surcharge</th>\n",
       "    </tr>\n",
       "  </thead>\n",
       "  <tbody>\n",
       "    <tr>\n",
       "      <th>0</th>\n",
       "      <td>1000</td>\n",
       "      <td>12</td>\n",
       "      <td>16.0</td>\n",
       "      <td>124.0</td>\n",
       "      <td>1.856904</td>\n",
       "      <td>11.0</td>\n",
       "      <td>ultimate</td>\n",
       "      <td>70</td>\n",
       "      <td>40s</td>\n",
       "      <td>Atlanta-Sandy Springs-Roswell</td>\n",
       "      <td>0.0</td>\n",
       "      <td>0.0</td>\n",
       "      <td>0.0</td>\n",
       "    </tr>\n",
       "    <tr>\n",
       "      <th>1</th>\n",
       "      <td>1006</td>\n",
       "      <td>11</td>\n",
       "      <td>2.0</td>\n",
       "      <td>10.0</td>\n",
       "      <td>2.019893</td>\n",
       "      <td>15.0</td>\n",
       "      <td>ultimate</td>\n",
       "      <td>70</td>\n",
       "      <td>70s</td>\n",
       "      <td>San Francisco-Oakland-Berkeley</td>\n",
       "      <td>0.0</td>\n",
       "      <td>0.0</td>\n",
       "      <td>0.0</td>\n",
       "    </tr>\n",
       "    <tr>\n",
       "      <th>2</th>\n",
       "      <td>1006</td>\n",
       "      <td>12</td>\n",
       "      <td>7.0</td>\n",
       "      <td>59.0</td>\n",
       "      <td>31.366035</td>\n",
       "      <td>139.0</td>\n",
       "      <td>ultimate</td>\n",
       "      <td>70</td>\n",
       "      <td>70s</td>\n",
       "      <td>San Francisco-Oakland-Berkeley</td>\n",
       "      <td>0.0</td>\n",
       "      <td>14.0</td>\n",
       "      <td>0.0</td>\n",
       "    </tr>\n",
       "    <tr>\n",
       "      <th>3</th>\n",
       "      <td>1008</td>\n",
       "      <td>10</td>\n",
       "      <td>54.0</td>\n",
       "      <td>476.0</td>\n",
       "      <td>16.706045</td>\n",
       "      <td>21.0</td>\n",
       "      <td>ultimate</td>\n",
       "      <td>70</td>\n",
       "      <td>50s</td>\n",
       "      <td>Orlando-Kissimmee-Sanford</td>\n",
       "      <td>0.0</td>\n",
       "      <td>0.0</td>\n",
       "      <td>0.0</td>\n",
       "    </tr>\n",
       "    <tr>\n",
       "      <th>4</th>\n",
       "      <td>1008</td>\n",
       "      <td>11</td>\n",
       "      <td>50.0</td>\n",
       "      <td>446.0</td>\n",
       "      <td>23.121797</td>\n",
       "      <td>37.0</td>\n",
       "      <td>ultimate</td>\n",
       "      <td>70</td>\n",
       "      <td>50s</td>\n",
       "      <td>Orlando-Kissimmee-Sanford</td>\n",
       "      <td>0.0</td>\n",
       "      <td>0.0</td>\n",
       "      <td>0.0</td>\n",
       "    </tr>\n",
       "  </tbody>\n",
       "</table>\n",
       "</div>"
      ],
      "text/plain": [
       "   user_id  month  calls_made  calls_duration  data_used  messages_sent  \\\n",
       "0     1000     12        16.0           124.0   1.856904           11.0   \n",
       "1     1006     11         2.0            10.0   2.019893           15.0   \n",
       "2     1006     12         7.0            59.0  31.366035          139.0   \n",
       "3     1008     10        54.0           476.0  16.706045           21.0   \n",
       "4     1008     11        50.0           446.0  23.121797           37.0   \n",
       "\n",
       "       plan  usd_monthly_pay age_group                            city  \\\n",
       "0  ultimate               70       40s   Atlanta-Sandy Springs-Roswell   \n",
       "1  ultimate               70       70s  San Francisco-Oakland-Berkeley   \n",
       "2  ultimate               70       70s  San Francisco-Oakland-Berkeley   \n",
       "3  ultimate               70       50s       Orlando-Kissimmee-Sanford   \n",
       "4  ultimate               70       50s       Orlando-Kissimmee-Sanford   \n",
       "\n",
       "   calls_surcharge  internet_surcharge  messages_surcharge  \n",
       "0              0.0                 0.0                 0.0  \n",
       "1              0.0                 0.0                 0.0  \n",
       "2              0.0                14.0                 0.0  \n",
       "3              0.0                 0.0                 0.0  \n",
       "4              0.0                 0.0                 0.0  "
      ]
     },
     "execution_count": 220,
     "metadata": {},
     "output_type": "execute_result"
    }
   ],
   "source": [
    "df.head()"
   ]
  },
  {
   "cell_type": "code",
   "execution_count": 221,
   "metadata": {},
   "outputs": [],
   "source": [
    "# Rounding up 'data_used' to the next Gb value because Megaline charges by 1Gb intervals:\n",
    "\n",
    "df.data_used = np.ceil(df.data_used)"
   ]
  },
  {
   "cell_type": "code",
   "execution_count": 222,
   "metadata": {},
   "outputs": [],
   "source": [
    "# Renaming 'usd_monthly_pay' to 'plan_price':\n",
    "\n",
    "df = df.rename(columns = {'usd_monthly_pay': 'plan_price'})"
   ]
  },
  {
   "cell_type": "code",
   "execution_count": 223,
   "metadata": {},
   "outputs": [],
   "source": [
    "# Sorting our new DataFrame by 'user_id'\n",
    "\n",
    "df = df.sort_values(by='user_id').reset_index(drop=True)"
   ]
  },
  {
   "cell_type": "code",
   "execution_count": 224,
   "metadata": {},
   "outputs": [],
   "source": [
    "# Converting all usage metric columns to the Int type:\n",
    "\n",
    "df[['calls_made', 'calls_duration', 'data_used', 'messages_sent']] = \\\n",
    "df[['calls_made', 'calls_duration', 'data_used', 'messages_sent']].astype(int)"
   ]
  },
  {
   "cell_type": "code",
   "execution_count": 225,
   "metadata": {},
   "outputs": [
    {
     "data": {
      "text/html": [
       "<div>\n",
       "<style scoped>\n",
       "    .dataframe tbody tr th:only-of-type {\n",
       "        vertical-align: middle;\n",
       "    }\n",
       "\n",
       "    .dataframe tbody tr th {\n",
       "        vertical-align: top;\n",
       "    }\n",
       "\n",
       "    .dataframe thead th {\n",
       "        text-align: right;\n",
       "    }\n",
       "</style>\n",
       "<table border=\"1\" class=\"dataframe\">\n",
       "  <thead>\n",
       "    <tr style=\"text-align: right;\">\n",
       "      <th></th>\n",
       "      <th>user_id</th>\n",
       "      <th>month</th>\n",
       "      <th>calls_made</th>\n",
       "      <th>calls_duration</th>\n",
       "      <th>data_used</th>\n",
       "      <th>messages_sent</th>\n",
       "      <th>plan</th>\n",
       "      <th>plan_price</th>\n",
       "      <th>age_group</th>\n",
       "      <th>city</th>\n",
       "      <th>calls_surcharge</th>\n",
       "      <th>internet_surcharge</th>\n",
       "      <th>messages_surcharge</th>\n",
       "    </tr>\n",
       "  </thead>\n",
       "  <tbody>\n",
       "    <tr>\n",
       "      <th>0</th>\n",
       "      <td>1000</td>\n",
       "      <td>12</td>\n",
       "      <td>16</td>\n",
       "      <td>124</td>\n",
       "      <td>2</td>\n",
       "      <td>11</td>\n",
       "      <td>ultimate</td>\n",
       "      <td>70</td>\n",
       "      <td>40s</td>\n",
       "      <td>Atlanta-Sandy Springs-Roswell</td>\n",
       "      <td>0.0</td>\n",
       "      <td>0.0</td>\n",
       "      <td>0.00</td>\n",
       "    </tr>\n",
       "    <tr>\n",
       "      <th>1</th>\n",
       "      <td>1001</td>\n",
       "      <td>10</td>\n",
       "      <td>47</td>\n",
       "      <td>393</td>\n",
       "      <td>22</td>\n",
       "      <td>53</td>\n",
       "      <td>surf</td>\n",
       "      <td>20</td>\n",
       "      <td>20s</td>\n",
       "      <td>Seattle-Tacoma-Bellevue</td>\n",
       "      <td>0.0</td>\n",
       "      <td>70.0</td>\n",
       "      <td>0.09</td>\n",
       "    </tr>\n",
       "    <tr>\n",
       "      <th>2</th>\n",
       "      <td>1001</td>\n",
       "      <td>11</td>\n",
       "      <td>49</td>\n",
       "      <td>426</td>\n",
       "      <td>19</td>\n",
       "      <td>36</td>\n",
       "      <td>surf</td>\n",
       "      <td>20</td>\n",
       "      <td>20s</td>\n",
       "      <td>Seattle-Tacoma-Bellevue</td>\n",
       "      <td>0.0</td>\n",
       "      <td>40.0</td>\n",
       "      <td>0.00</td>\n",
       "    </tr>\n",
       "    <tr>\n",
       "      <th>3</th>\n",
       "      <td>1001</td>\n",
       "      <td>12</td>\n",
       "      <td>46</td>\n",
       "      <td>412</td>\n",
       "      <td>19</td>\n",
       "      <td>44</td>\n",
       "      <td>surf</td>\n",
       "      <td>20</td>\n",
       "      <td>20s</td>\n",
       "      <td>Seattle-Tacoma-Bellevue</td>\n",
       "      <td>0.0</td>\n",
       "      <td>40.0</td>\n",
       "      <td>0.00</td>\n",
       "    </tr>\n",
       "    <tr>\n",
       "      <th>4</th>\n",
       "      <td>1001</td>\n",
       "      <td>9</td>\n",
       "      <td>38</td>\n",
       "      <td>315</td>\n",
       "      <td>14</td>\n",
       "      <td>44</td>\n",
       "      <td>surf</td>\n",
       "      <td>20</td>\n",
       "      <td>20s</td>\n",
       "      <td>Seattle-Tacoma-Bellevue</td>\n",
       "      <td>0.0</td>\n",
       "      <td>0.0</td>\n",
       "      <td>0.00</td>\n",
       "    </tr>\n",
       "  </tbody>\n",
       "</table>\n",
       "</div>"
      ],
      "text/plain": [
       "   user_id  month  calls_made  calls_duration  data_used  messages_sent  \\\n",
       "0     1000     12          16             124          2             11   \n",
       "1     1001     10          47             393         22             53   \n",
       "2     1001     11          49             426         19             36   \n",
       "3     1001     12          46             412         19             44   \n",
       "4     1001      9          38             315         14             44   \n",
       "\n",
       "       plan  plan_price age_group                           city  \\\n",
       "0  ultimate          70       40s  Atlanta-Sandy Springs-Roswell   \n",
       "1      surf          20       20s        Seattle-Tacoma-Bellevue   \n",
       "2      surf          20       20s        Seattle-Tacoma-Bellevue   \n",
       "3      surf          20       20s        Seattle-Tacoma-Bellevue   \n",
       "4      surf          20       20s        Seattle-Tacoma-Bellevue   \n",
       "\n",
       "   calls_surcharge  internet_surcharge  messages_surcharge  \n",
       "0              0.0                 0.0                0.00  \n",
       "1              0.0                70.0                0.09  \n",
       "2              0.0                40.0                0.00  \n",
       "3              0.0                40.0                0.00  \n",
       "4              0.0                 0.0                0.00  "
      ]
     },
     "execution_count": 225,
     "metadata": {},
     "output_type": "execute_result"
    }
   ],
   "source": [
    "# Checking our final DataFrame before computing revenue values:\n",
    "\n",
    "df.head()"
   ]
  },
  {
   "cell_type": "markdown",
   "metadata": {},
   "source": [
    "## 5.3  Monthly Revenue for user. <a name=\"dt3\"></a>"
   ]
  },
  {
   "cell_type": "code",
   "execution_count": 226,
   "metadata": {},
   "outputs": [],
   "source": [
    "# Adding a revenue column containing the sum of all 3 surcharge metrics and their respective plan prices:\n",
    "\n",
    "df['revenue'] = df.plan_price + df.calls_surcharge + df.internet_surcharge + df.messages_surcharge"
   ]
  },
  {
   "cell_type": "code",
   "execution_count": 227,
   "metadata": {
    "scrolled": true
   },
   "outputs": [
    {
     "data": {
      "text/html": [
       "<div>\n",
       "<style scoped>\n",
       "    .dataframe tbody tr th:only-of-type {\n",
       "        vertical-align: middle;\n",
       "    }\n",
       "\n",
       "    .dataframe tbody tr th {\n",
       "        vertical-align: top;\n",
       "    }\n",
       "\n",
       "    .dataframe thead th {\n",
       "        text-align: right;\n",
       "    }\n",
       "</style>\n",
       "<table border=\"1\" class=\"dataframe\">\n",
       "  <thead>\n",
       "    <tr style=\"text-align: right;\">\n",
       "      <th></th>\n",
       "      <th>user_id</th>\n",
       "      <th>month</th>\n",
       "      <th>calls_made</th>\n",
       "      <th>calls_duration</th>\n",
       "      <th>data_used</th>\n",
       "      <th>messages_sent</th>\n",
       "      <th>plan</th>\n",
       "      <th>plan_price</th>\n",
       "      <th>age_group</th>\n",
       "      <th>city</th>\n",
       "      <th>calls_surcharge</th>\n",
       "      <th>internet_surcharge</th>\n",
       "      <th>messages_surcharge</th>\n",
       "      <th>revenue</th>\n",
       "    </tr>\n",
       "  </thead>\n",
       "  <tbody>\n",
       "    <tr>\n",
       "      <th>0</th>\n",
       "      <td>1000</td>\n",
       "      <td>12</td>\n",
       "      <td>16</td>\n",
       "      <td>124</td>\n",
       "      <td>2</td>\n",
       "      <td>11</td>\n",
       "      <td>ultimate</td>\n",
       "      <td>70</td>\n",
       "      <td>40s</td>\n",
       "      <td>Atlanta-Sandy Springs-Roswell</td>\n",
       "      <td>0.0</td>\n",
       "      <td>0.0</td>\n",
       "      <td>0.00</td>\n",
       "      <td>70.00</td>\n",
       "    </tr>\n",
       "    <tr>\n",
       "      <th>1</th>\n",
       "      <td>1001</td>\n",
       "      <td>10</td>\n",
       "      <td>47</td>\n",
       "      <td>393</td>\n",
       "      <td>22</td>\n",
       "      <td>53</td>\n",
       "      <td>surf</td>\n",
       "      <td>20</td>\n",
       "      <td>20s</td>\n",
       "      <td>Seattle-Tacoma-Bellevue</td>\n",
       "      <td>0.0</td>\n",
       "      <td>70.0</td>\n",
       "      <td>0.09</td>\n",
       "      <td>90.09</td>\n",
       "    </tr>\n",
       "    <tr>\n",
       "      <th>2</th>\n",
       "      <td>1001</td>\n",
       "      <td>11</td>\n",
       "      <td>49</td>\n",
       "      <td>426</td>\n",
       "      <td>19</td>\n",
       "      <td>36</td>\n",
       "      <td>surf</td>\n",
       "      <td>20</td>\n",
       "      <td>20s</td>\n",
       "      <td>Seattle-Tacoma-Bellevue</td>\n",
       "      <td>0.0</td>\n",
       "      <td>40.0</td>\n",
       "      <td>0.00</td>\n",
       "      <td>60.00</td>\n",
       "    </tr>\n",
       "    <tr>\n",
       "      <th>3</th>\n",
       "      <td>1001</td>\n",
       "      <td>12</td>\n",
       "      <td>46</td>\n",
       "      <td>412</td>\n",
       "      <td>19</td>\n",
       "      <td>44</td>\n",
       "      <td>surf</td>\n",
       "      <td>20</td>\n",
       "      <td>20s</td>\n",
       "      <td>Seattle-Tacoma-Bellevue</td>\n",
       "      <td>0.0</td>\n",
       "      <td>40.0</td>\n",
       "      <td>0.00</td>\n",
       "      <td>60.00</td>\n",
       "    </tr>\n",
       "    <tr>\n",
       "      <th>4</th>\n",
       "      <td>1001</td>\n",
       "      <td>9</td>\n",
       "      <td>38</td>\n",
       "      <td>315</td>\n",
       "      <td>14</td>\n",
       "      <td>44</td>\n",
       "      <td>surf</td>\n",
       "      <td>20</td>\n",
       "      <td>20s</td>\n",
       "      <td>Seattle-Tacoma-Bellevue</td>\n",
       "      <td>0.0</td>\n",
       "      <td>0.0</td>\n",
       "      <td>0.00</td>\n",
       "      <td>20.00</td>\n",
       "    </tr>\n",
       "  </tbody>\n",
       "</table>\n",
       "</div>"
      ],
      "text/plain": [
       "   user_id  month  calls_made  calls_duration  data_used  messages_sent  \\\n",
       "0     1000     12          16             124          2             11   \n",
       "1     1001     10          47             393         22             53   \n",
       "2     1001     11          49             426         19             36   \n",
       "3     1001     12          46             412         19             44   \n",
       "4     1001      9          38             315         14             44   \n",
       "\n",
       "       plan  plan_price age_group                           city  \\\n",
       "0  ultimate          70       40s  Atlanta-Sandy Springs-Roswell   \n",
       "1      surf          20       20s        Seattle-Tacoma-Bellevue   \n",
       "2      surf          20       20s        Seattle-Tacoma-Bellevue   \n",
       "3      surf          20       20s        Seattle-Tacoma-Bellevue   \n",
       "4      surf          20       20s        Seattle-Tacoma-Bellevue   \n",
       "\n",
       "   calls_surcharge  internet_surcharge  messages_surcharge  revenue  \n",
       "0              0.0                 0.0                0.00    70.00  \n",
       "1              0.0                70.0                0.09    90.09  \n",
       "2              0.0                40.0                0.00    60.00  \n",
       "3              0.0                40.0                0.00    60.00  \n",
       "4              0.0                 0.0                0.00    20.00  "
      ]
     },
     "metadata": {},
     "output_type": "display_data"
    },
    {
     "data": {
      "text/html": [
       "<div>\n",
       "<style scoped>\n",
       "    .dataframe tbody tr th:only-of-type {\n",
       "        vertical-align: middle;\n",
       "    }\n",
       "\n",
       "    .dataframe tbody tr th {\n",
       "        vertical-align: top;\n",
       "    }\n",
       "\n",
       "    .dataframe thead th {\n",
       "        text-align: right;\n",
       "    }\n",
       "</style>\n",
       "<table border=\"1\" class=\"dataframe\">\n",
       "  <thead>\n",
       "    <tr style=\"text-align: right;\">\n",
       "      <th></th>\n",
       "      <th>user_id</th>\n",
       "      <th>month</th>\n",
       "      <th>calls_made</th>\n",
       "      <th>calls_duration</th>\n",
       "      <th>data_used</th>\n",
       "      <th>messages_sent</th>\n",
       "      <th>plan_price</th>\n",
       "      <th>calls_surcharge</th>\n",
       "      <th>internet_surcharge</th>\n",
       "      <th>messages_surcharge</th>\n",
       "      <th>revenue</th>\n",
       "    </tr>\n",
       "  </thead>\n",
       "  <tbody>\n",
       "    <tr>\n",
       "      <th>count</th>\n",
       "      <td>2293.000000</td>\n",
       "      <td>2293.000000</td>\n",
       "      <td>2293.000000</td>\n",
       "      <td>2293.000000</td>\n",
       "      <td>2293.000000</td>\n",
       "      <td>2293.000000</td>\n",
       "      <td>2293.000000</td>\n",
       "      <td>2293.000000</td>\n",
       "      <td>2293.000000</td>\n",
       "      <td>2293.000000</td>\n",
       "      <td>2293.000000</td>\n",
       "    </tr>\n",
       "    <tr>\n",
       "      <th>mean</th>\n",
       "      <td>1246.075883</td>\n",
       "      <td>9.172700</td>\n",
       "      <td>48.365024</td>\n",
       "      <td>429.283471</td>\n",
       "      <td>16.870475</td>\n",
       "      <td>33.166594</td>\n",
       "      <td>35.699956</td>\n",
       "      <td>1.264828</td>\n",
       "      <td>27.242041</td>\n",
       "      <td>0.144322</td>\n",
       "      <td>64.351147</td>\n",
       "    </tr>\n",
       "    <tr>\n",
       "      <th>std</th>\n",
       "      <td>143.051927</td>\n",
       "      <td>2.496386</td>\n",
       "      <td>26.202856</td>\n",
       "      <td>236.320077</td>\n",
       "      <td>7.796174</td>\n",
       "      <td>34.070085</td>\n",
       "      <td>23.210863</td>\n",
       "      <td>3.233992</td>\n",
       "      <td>48.571724</td>\n",
       "      <td>0.493515</td>\n",
       "      <td>46.624945</td>\n",
       "    </tr>\n",
       "    <tr>\n",
       "      <th>min</th>\n",
       "      <td>1000.000000</td>\n",
       "      <td>1.000000</td>\n",
       "      <td>0.000000</td>\n",
       "      <td>0.000000</td>\n",
       "      <td>0.000000</td>\n",
       "      <td>0.000000</td>\n",
       "      <td>20.000000</td>\n",
       "      <td>0.000000</td>\n",
       "      <td>0.000000</td>\n",
       "      <td>0.000000</td>\n",
       "      <td>20.000000</td>\n",
       "    </tr>\n",
       "    <tr>\n",
       "      <th>25%</th>\n",
       "      <td>1122.000000</td>\n",
       "      <td>8.000000</td>\n",
       "      <td>30.000000</td>\n",
       "      <td>265.000000</td>\n",
       "      <td>12.000000</td>\n",
       "      <td>3.000000</td>\n",
       "      <td>20.000000</td>\n",
       "      <td>0.000000</td>\n",
       "      <td>0.000000</td>\n",
       "      <td>0.000000</td>\n",
       "      <td>23.480000</td>\n",
       "    </tr>\n",
       "    <tr>\n",
       "      <th>50%</th>\n",
       "      <td>1245.000000</td>\n",
       "      <td>10.000000</td>\n",
       "      <td>48.000000</td>\n",
       "      <td>425.000000</td>\n",
       "      <td>17.000000</td>\n",
       "      <td>26.000000</td>\n",
       "      <td>20.000000</td>\n",
       "      <td>0.000000</td>\n",
       "      <td>0.000000</td>\n",
       "      <td>0.000000</td>\n",
       "      <td>70.000000</td>\n",
       "    </tr>\n",
       "    <tr>\n",
       "      <th>75%</th>\n",
       "      <td>1368.000000</td>\n",
       "      <td>11.000000</td>\n",
       "      <td>64.000000</td>\n",
       "      <td>572.000000</td>\n",
       "      <td>21.000000</td>\n",
       "      <td>51.000000</td>\n",
       "      <td>70.000000</td>\n",
       "      <td>0.000000</td>\n",
       "      <td>40.000000</td>\n",
       "      <td>0.000000</td>\n",
       "      <td>70.000000</td>\n",
       "    </tr>\n",
       "    <tr>\n",
       "      <th>max</th>\n",
       "      <td>1499.000000</td>\n",
       "      <td>12.000000</td>\n",
       "      <td>167.000000</td>\n",
       "      <td>1510.000000</td>\n",
       "      <td>70.000000</td>\n",
       "      <td>266.000000</td>\n",
       "      <td>70.000000</td>\n",
       "      <td>30.300000</td>\n",
       "      <td>550.000000</td>\n",
       "      <td>6.480000</td>\n",
       "      <td>590.370000</td>\n",
       "    </tr>\n",
       "  </tbody>\n",
       "</table>\n",
       "</div>"
      ],
      "text/plain": [
       "           user_id        month   calls_made  calls_duration    data_used  \\\n",
       "count  2293.000000  2293.000000  2293.000000     2293.000000  2293.000000   \n",
       "mean   1246.075883     9.172700    48.365024      429.283471    16.870475   \n",
       "std     143.051927     2.496386    26.202856      236.320077     7.796174   \n",
       "min    1000.000000     1.000000     0.000000        0.000000     0.000000   \n",
       "25%    1122.000000     8.000000    30.000000      265.000000    12.000000   \n",
       "50%    1245.000000    10.000000    48.000000      425.000000    17.000000   \n",
       "75%    1368.000000    11.000000    64.000000      572.000000    21.000000   \n",
       "max    1499.000000    12.000000   167.000000     1510.000000    70.000000   \n",
       "\n",
       "       messages_sent   plan_price  calls_surcharge  internet_surcharge  \\\n",
       "count    2293.000000  2293.000000      2293.000000         2293.000000   \n",
       "mean       33.166594    35.699956         1.264828           27.242041   \n",
       "std        34.070085    23.210863         3.233992           48.571724   \n",
       "min         0.000000    20.000000         0.000000            0.000000   \n",
       "25%         3.000000    20.000000         0.000000            0.000000   \n",
       "50%        26.000000    20.000000         0.000000            0.000000   \n",
       "75%        51.000000    70.000000         0.000000           40.000000   \n",
       "max       266.000000    70.000000        30.300000          550.000000   \n",
       "\n",
       "       messages_surcharge      revenue  \n",
       "count         2293.000000  2293.000000  \n",
       "mean             0.144322    64.351147  \n",
       "std              0.493515    46.624945  \n",
       "min              0.000000    20.000000  \n",
       "25%              0.000000    23.480000  \n",
       "50%              0.000000    70.000000  \n",
       "75%              0.000000    70.000000  \n",
       "max              6.480000   590.370000  "
      ]
     },
     "metadata": {},
     "output_type": "display_data"
    },
    {
     "name": "stdout",
     "output_type": "stream",
     "text": [
      "<class 'pandas.core.frame.DataFrame'>\n",
      "RangeIndex: 2293 entries, 0 to 2292\n",
      "Data columns (total 14 columns):\n",
      " #   Column              Non-Null Count  Dtype   \n",
      "---  ------              --------------  -----   \n",
      " 0   user_id             2293 non-null   int64   \n",
      " 1   month               2293 non-null   int64   \n",
      " 2   calls_made          2293 non-null   int32   \n",
      " 3   calls_duration      2293 non-null   int32   \n",
      " 4   data_used           2293 non-null   int32   \n",
      " 5   messages_sent       2293 non-null   int32   \n",
      " 6   plan                2293 non-null   object  \n",
      " 7   plan_price          2293 non-null   int64   \n",
      " 8   age_group           2293 non-null   category\n",
      " 9   city                2293 non-null   object  \n",
      " 10  calls_surcharge     2293 non-null   float64 \n",
      " 11  internet_surcharge  2293 non-null   float64 \n",
      " 12  messages_surcharge  2293 non-null   float64 \n",
      " 13  revenue             2293 non-null   float64 \n",
      "dtypes: category(1), float64(4), int32(4), int64(3), object(2)\n",
      "memory usage: 199.8+ KB\n"
     ]
    }
   ],
   "source": [
    "# Checking our final DataFrame:\n",
    "\n",
    "display(df.head())\n",
    "display(df.describe())\n",
    "df.info()"
   ]
  },
  {
   "cell_type": "markdown",
   "metadata": {},
   "source": [
    "**Data Transformation Recap:**\n",
    "<br>\n",
    "<br>\n",
    "1. Calculated monthly [call, data and message] usage for each user.\n",
    "2. Calculated monthly [call, data and message] surcharge for each user.\n",
    "3. Calculated monthly revenue for each user by summing monthly surcharge and plan price."
   ]
  },
  {
   "cell_type": "markdown",
   "metadata": {},
   "source": [
    "# 6. User Behaviour Study <a name=\"ub\"></a>"
   ]
  },
  {
   "cell_type": "code",
   "execution_count": 228,
   "metadata": {},
   "outputs": [
    {
     "data": {
      "image/png": "[encoded data removed]",
      "text/plain": [
       "<Figure size 640x480 with 1 Axes>"
      ]
     },
     "metadata": {},
     "output_type": "display_data"
    }
   ],
   "source": [
    "# Investigating when our users signed up:\n",
    "\n",
    "df.month\\\n",
    ".value_counts(normalize=True)\\\n",
    ".sort_values(ascending=True)\\\n",
    ".plot(kind='bar')\n",
    "\n",
    "plt.style.use('ggplot')\n",
    "plt.title('Service Start Month', fontsize=12)\n",
    "plt.legend(loc='upper left', prop={'size': 8.5})\n",
    "\n",
    "plt.ylabel('Users Share', fontsize=12)\n",
    "plt.xlabel('Month', fontsize=12)\n",
    "(plt.xticks(ticks=[0, 1, 2, 3, 4, 5, 6, 7, 8, 9, 10, 11], \n",
    "            labels=[\"Jan\", \"Feb\", \"Mar\", \"Apr\", \"May\", \"Jun\", \"Jul\", \"Aug\", \"Sept\", \"Oct\", \"Nov\", \"Dec\"])\n",
    "           )\n",
    "\n",
    "plt.show()"
   ]
  },
  {
   "cell_type": "markdown",
   "metadata": {},
   "source": [
    "**Observation:**\n",
    "<br>\n",
    "To study user behaviour, we need to focus more heavily on data from the months that contain an adequate population share. This being the months from May onwards which starts at close to a 5% population share."
   ]
  },
  {
   "cell_type": "markdown",
   "metadata": {},
   "source": [
    "## 6.1 Calls <a name=\"ubcalls\"></a>"
   ]
  },
  {
   "cell_type": "code",
   "execution_count": 229,
   "metadata": {
    "scrolled": false
   },
   "outputs": [
    {
     "data": {
      "image/png": "[encoded data removed]",
      "text/plain": [
       "<Figure size 1100x400 with 1 Axes>"
      ]
     },
     "metadata": {},
     "output_type": "display_data"
    }
   ],
   "source": [
    "# Comparing average number of calls made by month for each plan:\n",
    "\n",
    "(df\n",
    " .pivot_table(index='month', columns='plan', values='calls_made', aggfunc='mean')\n",
    " .plot(kind='bar', grid=True, edgecolor='black', color=['cyan', 'orange'], figsize=(11,4))\n",
    ")\n",
    "\n",
    "plt.style.use('ggplot')\n",
    "\n",
    "plt.suptitle('Avg Calls Made per Month', fontsize=13)\n",
    "plt.title('Year: 2018', fontsize=12)\n",
    "\n",
    "plt.legend(loc='upper left', prop={'size': 8.5})\n",
    "\n",
    "plt.ylabel('Calls Made', fontsize=12)\n",
    "plt.xlabel('Month', fontsize=12)\n",
    "\n",
    "(plt.xticks(ticks=[0, 1, 2, 3, 4, 5, 6, 7, 8, 9, 10, 11], \n",
    "            labels=[\"Jan\", \"Feb\", \"Mar\", \"Apr\", \"May\", \"Jun\", \"Jul\", \"Aug\", \"Sept\", \"Oct\", \"Nov\", \"Dec\"])\n",
    "           )\n",
    "\n",
    "plt.show()"
   ]
  },
  {
   "cell_type": "code",
   "execution_count": 230,
   "metadata": {},
   "outputs": [
    {
     "name": "stdout",
     "output_type": "stream",
     "text": [
      "Surf Calls Made [Mean]: 48.23712650985378\n",
      "Ultimate Calls Made [Mean]: 48.644444444444446\n"
     ]
    }
   ],
   "source": [
    "# Getting the difference in means between both plans for overall monthly calls made:\n",
    "\n",
    "print(\"Surf Calls Made [Mean]:\",\\\n",
    "      df.query(\"plan == 'surf'\").calls_made.mean())\n",
    "print(\"Ultimate Calls Made [Mean]:\",\\\n",
    "      df.query(\"plan == 'ultimate'\").calls_made.mean())"
   ]
  },
  {
   "cell_type": "code",
   "execution_count": 231,
   "metadata": {
    "scrolled": false
   },
   "outputs": [
    {
     "data": {
      "image/png": "[encoded data removed]",
      "text/plain": [
       "<Figure size 1100x400 with 1 Axes>"
      ]
     },
     "metadata": {},
     "output_type": "display_data"
    }
   ],
   "source": [
    "# Comparing average duration of calls by month of each plan:\n",
    "\n",
    "(df\n",
    " .pivot_table(index='month', columns='plan', values='calls_duration', aggfunc='mean')\n",
    " .plot(kind='bar', grid=True, edgecolor='black', color=['cyan', 'orange'], figsize=(11,4))\n",
    ")\n",
    "\n",
    "plt.style.use('ggplot')\n",
    "\n",
    "plt.suptitle('Avg Call Duration per Month', fontsize=13)\n",
    "plt.title('Year: 2018', fontsize=12)\n",
    "\n",
    "plt.legend(loc='upper left', prop={'size': 8.5})\n",
    "\n",
    "plt.ylabel('Minutes', fontsize=12)\n",
    "plt.xlabel('Month', fontsize=12)\n",
    "\n",
    "(plt.xticks(ticks=[0, 1, 2, 3, 4, 5, 6, 7, 8, 9, 10, 11], \n",
    "            labels=[\"Jan\", \"Feb\", \"Mar\", \"Apr\", \"May\", \"Jun\", \"Jul\", \"Aug\", \"Sept\", \"Oct\", \"Nov\", \"Dec\"])\n",
    "           )\n",
    "\n",
    "plt.show()"
   ]
  },
  {
   "cell_type": "code",
   "execution_count": 232,
   "metadata": {},
   "outputs": [
    {
     "name": "stdout",
     "output_type": "stream",
     "text": [
      "Surf Call Duration Mean: 428.7495232040687\n",
      "Ultimate Call Duration Mean: 430.45\n"
     ]
    }
   ],
   "source": [
    "# Getting the difference in means between both plans for overall monthly calls duration:\n",
    "\n",
    "print(\"Surf Call Duration Mean:\", df.query(\"plan == 'surf'\").calls_duration.mean())\n",
    "print(\"Ultimate Call Duration Mean:\", df.query(\"plan == 'ultimate'\").calls_duration.mean())"
   ]
  },
  {
   "cell_type": "markdown",
   "metadata": {},
   "source": [
    "**Observations:**\n",
    "<br>\n",
    "As we have determined with our monthly population share, the first 4 months of our year have data scarcity, in that the majority of users signed up for a plan after the first 4 months, with an upward trend the further we got into our year. \n",
    "<br>\n",
    "<br>For the months of May onwards, we can observe that users of both plans have similar behaviour, in that call usage hovers at an approximate average of 400 minutes and beyond, with the highest usage rate observed in December. We can infer this possibly coincides with the  year-end holidays. \n",
    "<br>\n",
    "<br>There are minor differences however, with said differences being a slightly higher usage for our Surf users in the middle of the year, while users of the Ultimate plan start picking up towards the last quarter of the year, that is before ceding the lead back to Surf users in the month of December. But overall, very similar behavioural characteristics in terms of call usage, as seen with our means of 428 minutes (Surf) and 430 minutes (Ultimate). It appears like our Ultimate users are paying for minutes they're not using (3000 minutes), but their choice of plan could still be dictated by internet or messages.\n",
    "<br>\n",
    "<br> Our data total calls made per month are identical to our data on call duration. Users from both plans have a mean of approximately 48 calls made per month, which again shows similar behaviour between the two. "
   ]
  },
  {
   "cell_type": "code",
   "execution_count": 233,
   "metadata": {},
   "outputs": [
    {
     "data": {
      "image/png": "[encoded data removed]",
      "text/plain": [
       "<Figure size 800x500 with 1 Axes>"
      ]
     },
     "metadata": {},
     "output_type": "display_data"
    }
   ],
   "source": [
    "# Comparing the number of minutes users of each plan require each month:\n",
    "\n",
    "surf = df.query(\"plan == 'surf'\")\n",
    "ult = df.query(\"plan == 'ultimate'\")\n",
    "\n",
    "plt.figure(figsize=(8,5))\n",
    "\n",
    "plt.hist(x = surf['month'], weights=surf['calls_duration'], edgecolor='black',color='cyan',bins=11, label='Surf')\n",
    "plt.hist(x = ult['month'], weights=ult['calls_duration'], edgecolor='black',color='orange',bins=11, label='Ultimate')\n",
    "\n",
    "\n",
    "plt.style.use('ggplot')\n",
    "plt.title('Total Monthly Call Usage by Plan', fontsize=13) \n",
    "plt.legend(loc='upper left')\n",
    "plt.xlabel('Month')\n",
    "plt.ylabel('Total Minutes')\n",
    "\n",
    "(plt.xticks(ticks=[0, 1, 2, 3, 4, 5, 6, 7, 8, 9, 10, 11], \n",
    "            labels=[\"Jan\", \"Feb\", \"Mar\", \"Apr\", \"May\", \"Jun\", \"Jul\", \"Aug\", \"Sept\", \"Oct\", \"Nov\", \"Dec\"])\n",
    "           )\n",
    "\n",
    "plt.tight_layout()\n",
    " \n",
    "plt.show()"
   ]
  },
  {
   "cell_type": "code",
   "execution_count": 234,
   "metadata": {},
   "outputs": [
    {
     "data": {
      "text/plain": [
       "0.45772409408773046"
      ]
     },
     "execution_count": 234,
     "metadata": {},
     "output_type": "execute_result"
    }
   ],
   "source": [
    "# Calculating the ratio of Ultimate user compared to Surf users:\n",
    "\n",
    "len(df.query(\"plan == 'ultimate'\")) / len(df.query(\"plan == 'surf'\"))"
   ]
  },
  {
   "cell_type": "code",
   "execution_count": 235,
   "metadata": {
    "scrolled": true
   },
   "outputs": [
    {
     "name": "stdout",
     "output_type": "stream",
     "text": [
      "<Surf Users>\n",
      "Monthly call duration Mean:  428.7495232040687\n",
      "Monthly call duration Variance:  54968.27946065032\n",
      "\n",
      "<Ultimate Users>\n",
      "Monthly call duration Mean:  430.45\n",
      "Monthly call duration Variance:  57844.4648122392\n"
     ]
    }
   ],
   "source": [
    "# Calculating the monthly call duration mean and variance for each plan:\n",
    "\n",
    "print(\"<Surf Users>\")\n",
    "print(\"Monthly call duration Mean: \", df.query(\"plan == 'surf'\").calls_duration.mean())\n",
    "print(\"Monthly call duration Variance: \", df.query(\"plan == 'surf'\").calls_duration.var())\n",
    "print()\n",
    "print(\"<Ultimate Users>\")\n",
    "print(\"Monthly call duration Mean: \", df.query(\"plan == 'ultimate'\").calls_duration.mean())\n",
    "print(\"Monthly call duration Variance: \", df.query(\"plan == 'ultimate'\").calls_duration.var())"
   ]
  },
  {
   "cell_type": "markdown",
   "metadata": {},
   "source": [
    "**Observations:**\n",
    "<br>\n",
    "Our histogram of total minutes used for every month showed Ultimate users requiring approximately  slightly below half of Surf users throughout the year. But as we already know, the ratio of Ultimate users to Surf users is about 4.5 : 10. Thus, all things equal, we should see similar averages every month for both plans. We confirmed this by getting extremely similar monthly mean and variance values for both plans; 428 - 430 and 54968 - 57844 respectively. Again, this depicts similar behaviour."
   ]
  },
  {
   "cell_type": "code",
   "execution_count": 236,
   "metadata": {
    "scrolled": false
   },
   "outputs": [
    {
     "data": {
      "image/png": "[encoded data removed]",
      "text/plain": [
       "<Figure size 300x500 with 1 Axes>"
      ]
     },
     "metadata": {},
     "output_type": "display_data"
    },
    {
     "name": "stdout",
     "output_type": "stream",
     "text": [
      "<Surf Plan>\n",
      "Median:  425.0\n",
      "Quartile 1: 272.0\n",
      "Quartile 3: 576.0\n"
     ]
    }
   ],
   "source": [
    "# Plotting a boxplot to visualize the distribution of monthly call durations for all users of the Surf plan:\n",
    "\n",
    "Q1 = df.query(\"plan == 'surf'\")['calls_duration'].quantile(0.25)\n",
    "Q3 = df.query(\"plan == 'surf'\")['calls_duration'].quantile(0.75)\n",
    "IQR = Q3 - Q1\n",
    "\n",
    "(df\n",
    " .query(\"plan == 'surf'\")\n",
    " .boxplot(column=['calls_duration'], grid=True, figsize=(3,5))\n",
    ")\n",
    "\n",
    "plt.title('Monthly Call Usage (Surf)', fontsize=10)\n",
    "\n",
    "plt.ylim(-200, 1250)\n",
    "plt.hlines(y=Q1-1.5*IQR, xmin=0.9, xmax=1.1, color='red')\n",
    "plt.hlines(y=Q3+1.5*IQR, xmin=0.9, xmax=1.1, color='red')\n",
    "\n",
    "plt.show()\n",
    "\n",
    "print(\"<Surf Plan>\")\n",
    "print(\"Median: \",  df.query(\"plan == 'surf'\")['calls_duration'].median())\n",
    "print(\"Quartile 1:\", Q1)\n",
    "print(\"Quartile 3:\", Q3)"
   ]
  },
  {
   "cell_type": "code",
   "execution_count": 237,
   "metadata": {},
   "outputs": [
    {
     "data": {
      "image/png": "[encoded data removed]",
      "text/plain": [
       "<Figure size 300x500 with 1 Axes>"
      ]
     },
     "metadata": {},
     "output_type": "display_data"
    },
    {
     "name": "stdout",
     "output_type": "stream",
     "text": [
      "<Ultimate Plan>\n",
      "Median:  424.0\n",
      "Quartile 1: 260.0\n",
      "Quartile 3: 565.25\n"
     ]
    }
   ],
   "source": [
    "# Plotting a boxplot to visualize the distribution of monthly call durations for all users of the Ultimate plan:\n",
    "\n",
    "Q1 = df.query(\"plan == 'ultimate'\")['calls_duration'].quantile(0.25)\n",
    "Q3 = df.query(\"plan == 'ultimate'\")['calls_duration'].quantile(0.75)\n",
    "IQR = Q3 - Q1\n",
    "\n",
    "(df\n",
    " .query(\"plan == 'ultimate'\")\n",
    " .boxplot(column=['calls_duration'], grid=True, figsize=(3,5))\n",
    ")\n",
    "\n",
    "plt.title('Monthly Call Usage (Ultimate)', fontsize=10)\n",
    "\n",
    "plt.ylim(-200, 1250)\n",
    "plt.hlines(y=Q1-1.5*IQR, xmin=0.9, xmax=1.1, color='red')\n",
    "plt.hlines(y=Q3+1.5*IQR, xmin=0.9, xmax=1.1, color='red')\n",
    "\n",
    "plt.show()\n",
    "\n",
    "print(\"<Ultimate Plan>\")\n",
    "print(\"Median: \",  df.query(\"plan == 'ultimate'\")['calls_duration'].median())\n",
    "print(\"Quartile 1:\", Q1)\n",
    "print(\"Quartile 3:\", Q3)"
   ]
  },
  {
   "cell_type": "markdown",
   "metadata": {},
   "source": [
    "**Observations:**\n",
    "<br>\n",
    "Similar to our means and variances, our median values for both Surf and Ultimate plans (425, 424) together with their respective Q1,Q3 figures are within striking distance of each other. This depicts a similar behaviour between plans."
   ]
  },
  {
   "cell_type": "code",
   "execution_count": 238,
   "metadata": {},
   "outputs": [
    {
     "name": "stdout",
     "output_type": "stream",
     "text": [
      "<Surf Plan>\n",
      "\n",
      "Mean: 415.8828478964401\n",
      "Variance: 46455.77706960447\n"
     ]
    }
   ],
   "source": [
    "# Filtering out Surf outliers to get unskewed mean and variance values:\n",
    "\n",
    "Q1 = df.query(\"plan == 'surf'\")['calls_duration'].quantile(0.25)\n",
    "Q3 = df.query(\"plan == 'surf'\")['calls_duration'].quantile(0.75)\n",
    "IQR = Q3 - Q1\n",
    "\n",
    "lower = Q1-1.5*IQR\n",
    "upper = Q3+1.5*IQR\n",
    "\n",
    "print(\"<Surf Plan>\")\n",
    "print()\n",
    "print(\"Mean:\", df.query(\"plan == 'surf'\")\\\n",
    "        .query(\"calls_duration >= @lower and calls_duration <= @upper\")['calls_duration'].mean())\n",
    "print(\"Variance:\", df.query(\"plan == 'surf'\")\\\n",
    "        .query(\"calls_duration >= @lower and calls_duration <= @upper\")['calls_duration'].var())"
   ]
  },
  {
   "cell_type": "code",
   "execution_count": 239,
   "metadata": {},
   "outputs": [
    {
     "name": "stdout",
     "output_type": "stream",
     "text": [
      "<Ultimate Plan>\n",
      "\n",
      "Mean: 413.51278409090907\n",
      "Variance: 46036.07949494051\n"
     ]
    }
   ],
   "source": [
    "# Filtering out Ultimate outliers to get unskewed mean and variance values:\n",
    "\n",
    "Q1 = df.query(\"plan == 'ultimate'\")['calls_duration'].quantile(0.25)\n",
    "Q3 = df.query(\"plan == 'ultimate'\")['calls_duration'].quantile(0.75)\n",
    "IQR = Q3 - Q1\n",
    "\n",
    "lower = Q1-1.5*IQR\n",
    "upper = Q3+1.5*IQR\n",
    "\n",
    "print(\"<Ultimate Plan>\")\n",
    "print()\n",
    "print(\"Mean:\", df.query(\"plan == 'ultimate'\") \\\n",
    "        .query(\"calls_duration >= @lower and calls_duration <= @upper\")['calls_duration'].mean())\n",
    "print(\"Variance:\", df.query(\"plan == 'ultimate'\") \\\n",
    "        .query(\"calls_duration >= @lower and calls_duration <= @upper\")['calls_duration'].var())"
   ]
  },
  {
   "cell_type": "markdown",
   "metadata": {},
   "source": [
    "**Observation:**\n",
    "<br>\n",
    "After filtering out outliers, our central tendency measure and dispersion values still remain extremely close to one another."
   ]
  },
  {
   "cell_type": "markdown",
   "metadata": {},
   "source": [
    "**Intermediate Conclusion - Calls Data:**\n",
    "<br> \n",
    "The bar and histogram plots, together with the statistics for both plans show no significant variations between each other. Most strikingly, our means, medians and dispersions show very similar characteristics, and hence we will conclude that users of the Surf and Ultimate plans possess similar behavioural characteristics when making calls. ***Just as important, is the fact that based solely off of average usage, users of the Surf plan have a lower buffer to exceeding their call plan limits (500 minutes). Ultimate users are very much far away from exceeding theirs (3000 minutes).***"
   ]
  },
  {
   "cell_type": "markdown",
   "metadata": {},
   "source": [
    "## 6.2 Internet <a name=\"ubinternet\"></a>"
   ]
  },
  {
   "cell_type": "code",
   "execution_count": 240,
   "metadata": {},
   "outputs": [
    {
     "data": {
      "image/png": "[encoded data removed]",
      "text/plain": [
       "<Figure size 1100x400 with 1 Axes>"
      ]
     },
     "metadata": {},
     "output_type": "display_data"
    }
   ],
   "source": [
    "# Comparing average volume of data used by month for each plan:\n",
    "\n",
    "(df\n",
    " .pivot_table(index='month', columns='plan', values='data_used', aggfunc='mean')\n",
    " .plot(kind='bar', grid=True, edgecolor='black', color=['cyan', 'orange'], figsize=(11,4))\n",
    ")\n",
    "\n",
    "plt.style.use('ggplot')\n",
    "\n",
    "plt.suptitle('Avg Data Usage per Month', fontsize=13)\n",
    "plt.title('Year: 2018', fontsize=12)\n",
    "\n",
    "plt.legend(loc='upper left', prop={'size': 8.5})\n",
    "\n",
    "plt.ylabel('Data Used', fontsize=12)\n",
    "plt.xlabel('Month', fontsize=12)\n",
    "\n",
    "(plt.xticks(ticks=[0, 1, 2, 3, 4, 5, 6, 7, 8, 9, 10, 11], \n",
    "            labels=[\"Jan\", \"Feb\", \"Mar\", \"Apr\", \"May\", \"Jun\", \"Jul\", \"Aug\", \"Sept\", \"Oct\", \"Nov\", \"Dec\"])\n",
    "           )\n",
    "\n",
    "plt.show()"
   ]
  },
  {
   "cell_type": "code",
   "execution_count": 241,
   "metadata": {},
   "outputs": [
    {
     "name": "stdout",
     "output_type": "stream",
     "text": [
      "Surf Call Duration Mean: 16.670692943420217\n",
      "Ultimate Call Duration Mean: 17.306944444444444\n"
     ]
    }
   ],
   "source": [
    "# Getting the difference in means between both plans for overall monthly calls duration:\n",
    "\n",
    "print(\"Surf Call Duration Mean:\", \\\n",
    "      df.query(\"plan == 'surf'\").data_used.mean())\n",
    "\n",
    "print(\"Ultimate Call Duration Mean:\", \\\n",
    "      df.query(\"plan == 'ultimate'\").data_used.mean())"
   ]
  },
  {
   "cell_type": "markdown",
   "metadata": {},
   "source": [
    "**Observations:** \n",
    "<br>\n",
    "As noted before in our calls data analysis, we found the first 4 months of the year to have significantly small sample sizes, as the plans had not gained traction within the population as yet. If we look at the latter half of the months plot (because this is where most of our population is found), we can see very similar usage between both plans again, with data usage hovering within the 16.5 - 17.5 GB range. Our means are also strikingly similar with regards to the average of all months combined.\n",
    "<br>\n",
    "<br> One difference however, and this is a relatively small one, is that barring the first 4 months and apart from the month of June/July, our Ultimate users seem to be using marginally more data compared to Surf users. The latter months are also the timeframe where most of our unique users are found, and thus is more representative of our population. Again, this is a small difference, which accounts for less than a GB worth at times. Hence, we cannot conclusively say users of one plan differ significantly with regards to data usage. \n",
    "<br>\n",
    "<br> However, what we CAN conclusively state is that our Surf users on average consistently exceed their data limits (15 GB included) by a small amount. Their choice of plan makes sense then, as going for the Ultimate (30 GB included) plan at a $50 premium does not offset the surcharge for exceeding data limits by a mere 2 GB (rounded from 1.6 GB)."
   ]
  },
  {
   "cell_type": "code",
   "execution_count": 242,
   "metadata": {
    "scrolled": false
   },
   "outputs": [
    {
     "data": {
      "image/png": "[encoded data removed]",
      "text/plain": [
       "<Figure size 800x500 with 1 Axes>"
      ]
     },
     "metadata": {},
     "output_type": "display_data"
    }
   ],
   "source": [
    "# Comparing the total volume of data users of each plan require each month:\n",
    "\n",
    "surf = df.query(\"plan == 'surf'\")\n",
    "ult = df.query(\"plan == 'ultimate'\")\n",
    "\n",
    "plt.figure(figsize=(8,5))\n",
    "\n",
    "plt.hist(x = surf['month'], weights=surf['data_used'], edgecolor='black',color='cyan',bins=11, label='Surf')\n",
    "plt.hist(x = ult['month'], weights=ult['data_used'], edgecolor='black',color='orange',bins=11, label='Ultimate')\n",
    "\n",
    "\n",
    "plt.style.use('ggplot')\n",
    "plt.title('Total Monthly Data Usage by Plan', fontsize=13) \n",
    "plt.legend(loc='upper left')\n",
    "plt.xlabel('Month')\n",
    "plt.ylabel('Total GB')\n",
    "\n",
    "(plt.xticks(ticks=[0, 1, 2, 3, 4, 5, 6, 7, 8, 9, 10, 11], \n",
    "            labels=[\"Jan\", \"Feb\", \"Mar\", \"Apr\", \"May\", \"Jun\", \"Jul\", \"Aug\", \"Sept\", \"Oct\", \"Nov\", \"Dec\"])\n",
    "           )\n",
    "\n",
    "plt.tight_layout()\n",
    " \n",
    "plt.show()"
   ]
  },
  {
   "cell_type": "code",
   "execution_count": 243,
   "metadata": {
    "scrolled": true
   },
   "outputs": [
    {
     "name": "stdout",
     "output_type": "stream",
     "text": [
      "<Surf Users>\n",
      "Monthly data usage Mean:  16.670692943420217\n",
      "Monthly data usage Variance:  61.58359983759016\n",
      "\n",
      "<Ultimate Users>\n",
      "Monthly data usage Mean:  17.306944444444444\n",
      "Monthly data usage Variance:  58.83054976046968\n"
     ]
    }
   ],
   "source": [
    "# Calculating the monthly data usage mean and variance for each plan:\n",
    "\n",
    "print(\"<Surf Users>\")\n",
    "print(\"Monthly data usage Mean: \", df.query(\"plan == 'surf'\").data_used.mean())\n",
    "print(\"Monthly data usage Variance: \", df.query(\"plan == 'surf'\").data_used.var())\n",
    "print()\n",
    "print(\"<Ultimate Users>\")\n",
    "print(\"Monthly data usage Mean: \", df.query(\"plan == 'ultimate'\").data_used.mean())\n",
    "print(\"Monthly data usage Variance: \", df.query(\"plan == 'ultimate'\").data_used.var())"
   ]
  },
  {
   "cell_type": "markdown",
   "metadata": {},
   "source": [
    "**Observations:**\n",
    "<br>\n",
    "Just like our calls data, user behaviour is strikingly similar. We can observe a similar distribution of data usage amongst both plans across the year when we approximate the sample size of Ultimate users to the larger sample size of Surf users. We can confirm this by observing similar mean and variance values."
   ]
  },
  {
   "cell_type": "code",
   "execution_count": 244,
   "metadata": {},
   "outputs": [
    {
     "data": {
      "image/png": "[encoded data removed]",
      "text/plain": [
       "<Figure size 300x500 with 1 Axes>"
      ]
     },
     "metadata": {},
     "output_type": "display_data"
    },
    {
     "name": "stdout",
     "output_type": "stream",
     "text": [
      "<Surf Plan>\n",
      "Median:  17.0\n",
      "Quartile 1: 12.0\n",
      "Quartile 3: 21.0\n"
     ]
    }
   ],
   "source": [
    "# Plotting a boxplot to visualize the distribution of monthly data usage for all users of the Surf plan:\n",
    "\n",
    "Q1 = df.query(\"plan == 'surf'\")['data_used'].quantile(0.25)\n",
    "Q3 = df.query(\"plan == 'surf'\")['data_used'].quantile(0.75)\n",
    "IQR = Q3 - Q1\n",
    "\n",
    "(df\n",
    " .query(\"plan == 'surf'\")\n",
    " .boxplot(column=['data_used'], grid=True, figsize=(3,5))\n",
    ")\n",
    "\n",
    "plt.title('Monthly Data Usage (Surf)', fontsize=10)\n",
    "\n",
    "plt.ylim(-20, 80)\n",
    "plt.hlines(y=Q1-1.5*IQR, xmin=0.9, xmax=1.1, color='red')\n",
    "plt.hlines(y=Q3+1.5*IQR, xmin=0.9, xmax=1.1, color='red')\n",
    "\n",
    "plt.show()\n",
    " \n",
    "print(\"<Surf Plan>\")\n",
    "print(\"Median: \",  df.query(\"plan == 'surf'\")['data_used'].median())\n",
    "print(\"Quartile 1:\", Q1)\n",
    "print(\"Quartile 3:\", Q3)"
   ]
  },
  {
   "cell_type": "code",
   "execution_count": 245,
   "metadata": {},
   "outputs": [
    {
     "data": {
      "image/png": "[encoded data removed]",
      "text/plain": [
       "<Figure size 300x500 with 1 Axes>"
      ]
     },
     "metadata": {},
     "output_type": "display_data"
    },
    {
     "name": "stdout",
     "output_type": "stream",
     "text": [
      "<Surf Plan>\n",
      "Median:  17.0\n",
      "Quartile 1: 13.0\n",
      "Quartile 3: 21.0\n"
     ]
    }
   ],
   "source": [
    "# Plotting a boxplot to visualize the distribution of monthly data usage for all users of the Surf plan:\n",
    "\n",
    "Q1 = df.query(\"plan == 'ultimate'\")['data_used'].quantile(0.25)\n",
    "Q3 = df.query(\"plan == 'ultimate'\")['data_used'].quantile(0.75)\n",
    "IQR = Q3 - Q1\n",
    "\n",
    "(df\n",
    " .query(\"plan == 'ultimate'\")\n",
    " .boxplot(column=['data_used'], grid=True, figsize=(3,5))\n",
    ")\n",
    "\n",
    "plt.title('Monthly Data Usage (Ultimate)', fontsize=10)\n",
    "\n",
    "plt.ylim(-20, 80)\n",
    "plt.hlines(y=Q1-1.5*IQR, xmin=0.9, xmax=1.1, color='red')\n",
    "plt.hlines(y=Q3+1.5*IQR, xmin=0.9, xmax=1.1, color='red')\n",
    "\n",
    "plt.show()\n",
    " \n",
    "print(\"<Surf Plan>\")\n",
    "print(\"Median: \",  df.query(\"plan == 'ultimate'\")['data_used'].median())\n",
    "print(\"Quartile 1:\", Q1)\n",
    "print(\"Quartile 3:\", Q3)"
   ]
  },
  {
   "cell_type": "markdown",
   "metadata": {},
   "source": [
    "**Observations:**\n",
    "<br>Similar to our means and variances, our median values for both plans together with their respective Q1,Q3 figures are almost identical. Our only observed difference is our Q1 dipersion values."
   ]
  },
  {
   "cell_type": "code",
   "execution_count": 246,
   "metadata": {},
   "outputs": [
    {
     "name": "stdout",
     "output_type": "stream",
     "text": [
      "<Surf Plan>\n",
      "\n",
      "Mean: 16.14100064977258\n",
      "Variance: 48.49571057152119\n"
     ]
    }
   ],
   "source": [
    "# Filtering out Surf outliers to get unskewed mean and variance values:\n",
    "\n",
    "Q1 = df.query(\"plan == 'surf'\")['data_used'].quantile(0.25)\n",
    "Q3 = df.query(\"plan == 'surf'\")['data_used'].quantile(0.75)\n",
    "IQR = Q3 - Q1\n",
    "\n",
    "lower = Q1-1.5*IQR\n",
    "upper = Q3+1.5*IQR\n",
    "\n",
    "print(\"<Surf Plan>\")\n",
    "print()\n",
    "print(\"Mean:\", df.query(\"plan == 'surf'\")\\\n",
    "        .query(\"data_used >= @lower and data_used <= @upper\")['data_used'].mean())\n",
    "print(\"Variance:\", df.query(\"plan == 'surf'\")\\\n",
    "        .query(\"data_used >= @lower and data_used <= @upper\")['data_used'].var())"
   ]
  },
  {
   "cell_type": "code",
   "execution_count": 247,
   "metadata": {},
   "outputs": [
    {
     "name": "stdout",
     "output_type": "stream",
     "text": [
      "<Ultimate Plan>\n",
      "\n",
      "Mean: 16.556998556998558\n",
      "Variance: 43.723986354044115\n"
     ]
    }
   ],
   "source": [
    "# Filtering out Ultimate outliers to get unskewed mean and variance values:\n",
    "\n",
    "Q1 = df.query(\"plan == 'ultimate'\")['data_used'].quantile(0.25)\n",
    "Q3 = df.query(\"plan == 'ultimate'\")['data_used'].quantile(0.75)\n",
    "IQR = Q3 - Q1\n",
    "\n",
    "lower = Q1-1.5*IQR\n",
    "upper = Q3+1.5*IQR\n",
    "\n",
    "print(\"<Ultimate Plan>\")\n",
    "print()\n",
    "print(\"Mean:\", df.query(\"plan == 'ultimate'\")\\\n",
    "        .query(\"data_used >= @lower and data_used <= @upper\")['data_used'].mean())\n",
    "print(\"Variance:\", df.query(\"plan == 'ultimate'\")\\\n",
    "        .query(\"data_used >= @lower and data_used <= @upper\")['data_used'].var())"
   ]
  },
  {
   "cell_type": "markdown",
   "metadata": {},
   "source": [
    "**Observations:**\n",
    "<br>\n",
    "After the missing value treatment, we got even closer figures for our means and variance regarding both plans."
   ]
  },
  {
   "cell_type": "markdown",
   "metadata": {},
   "source": [
    "**Intermediate Conclusion - Internet:**\n",
    "<br> With how our bar charts and histogram showed no significant variations between plans, we can conclusively state that users of both Surf and Ultimate exhibit identical behavioral patterns in terms of internet usage. We confirmed this statement by observing similar median and quartile values between the both of them, coupled with even more similar figures for outlier-filtered data. With regards to data usage, our users are extremely similar. ***Just as important, is the fact that based solely off of average usage, users of the Surf plan are consistently exceeding their data plan limits (15 Gb). Ultimate users are very much far away from exceeding theirs (30 Gb).***"
   ]
  },
  {
   "cell_type": "markdown",
   "metadata": {},
   "source": [
    "## 6.3 Messages <a name=\"ubmessages\"></a>"
   ]
  },
  {
   "cell_type": "code",
   "execution_count": 248,
   "metadata": {
    "scrolled": false
   },
   "outputs": [
    {
     "data": {
      "image/png": "[encoded data removed]",
      "text/plain": [
       "<Figure size 1100x400 with 1 Axes>"
      ]
     },
     "metadata": {},
     "output_type": "display_data"
    }
   ],
   "source": [
    "# Comparing average messages sent by month for each plan:\n",
    "\n",
    "(df\n",
    " .pivot_table(index='month', columns='plan', values='messages_sent', aggfunc='mean')\n",
    " .plot(kind='bar', grid=True, edgecolor='black', color=['cyan', 'orange'], figsize=(11,4))\n",
    ")\n",
    "\n",
    "plt.style.use('ggplot')\n",
    "plt.suptitle('Average Messages Sent per Month', fontsize=13)\n",
    "plt.title('Year: 2018', fontsize=12)\n",
    "plt.legend(loc='upper left', prop={'size': 8.5})\n",
    "\n",
    "plt.ylabel('Average Messages Sent', fontsize=12)\n",
    "plt.xlabel('Month', fontsize=12)\n",
    "\n",
    "(plt.xticks(ticks=[0, 1, 2, 3, 4, 5, 6, 7, 8, 9, 10, 11], \n",
    "            labels=[\"Jan\", \"Feb\", \"Mar\", \"Apr\", \"May\", \"Jun\", \"Jul\", \"Aug\", \"Sept\", \"Oct\", \"Nov\", \"Dec\"])\n",
    "           )\n",
    "\n",
    "plt.show()"
   ]
  },
  {
   "cell_type": "code",
   "execution_count": 249,
   "metadata": {
    "scrolled": true
   },
   "outputs": [
    {
     "name": "stdout",
     "output_type": "stream",
     "text": [
      "Surf Call Duration Mean: 31.15956770502225\n",
      "Ultimate Call Duration Mean: 37.55138888888889\n"
     ]
    }
   ],
   "source": [
    "# Getting the difference in means between both plans for overall monthly calls duration:\n",
    "\n",
    "print(\"Surf Call Duration Mean:\", \\\n",
    "      df.query(\"plan == 'surf'\").messages_sent.mean())\n",
    "\n",
    "print(\"Ultimate Call Duration Mean:\", \\\n",
    "      df.query(\"plan == 'ultimate'\").messages_sent.mean())"
   ]
  },
  {
   "cell_type": "markdown",
   "metadata": {},
   "source": [
    "**Observations:**\n",
    "<br>\n",
    "As per prior plots, we will be excluding observations in the first 4 months of the year due to a lack of user data. For the remaining months, we can see a notable uptick in messages sent for our Ultimate users when compared to Surf users. In fact, this is consistent with the majority of the entire year. Our aggregate messages sent per month between plans is approximately 6, and is a considerable distinction. We may conclude that based off of overall monthly messages sent, Ultimate users intrinsically send more messages, but not nearly enough to justify them picking the ultimate plan based off free messages alone. (free messages: (1) Surf = 50, (2) Ultimate = 1000)"
   ]
  },
  {
   "cell_type": "code",
   "execution_count": 250,
   "metadata": {
    "scrolled": false
   },
   "outputs": [
    {
     "data": {
      "image/png": "[encoded data removed]",
      "text/plain": [
       "<Figure size 800x500 with 1 Axes>"
      ]
     },
     "metadata": {},
     "output_type": "display_data"
    }
   ],
   "source": [
    "# Comparing the total monthly messages users of each plan require:\n",
    "\n",
    "surf = df.query(\"plan == 'surf'\")\n",
    "ult = df.query(\"plan == 'ultimate'\")\n",
    "\n",
    "plt.figure(figsize=(8,5))\n",
    "\n",
    "plt.hist(x = surf['month'], weights=surf['messages_sent'], edgecolor='black',color='cyan',bins=11, label='Surf')\n",
    "plt.hist(x = ult['month'], weights=ult['messages_sent'], edgecolor='black',color='orange',bins=11, label='Ultimate')\n",
    "\n",
    "\n",
    "plt.style.use('ggplot')\n",
    "plt.title('Total Monthly Message Usage by Plan', fontsize=13) \n",
    "plt.legend(loc='upper left')\n",
    "plt.xlabel('Month')\n",
    "plt.ylabel('Total Messages')\n",
    "\n",
    "(plt.xticks(ticks=[0, 1, 2, 3, 4, 5, 6, 7, 8, 9, 10, 11], \n",
    "            labels=[\"Jan\", \"Feb\", \"Mar\", \"Apr\", \"May\", \"Jun\", \"Jul\", \"Aug\", \"Sept\", \"Oct\", \"Nov\", \"Dec\"])\n",
    "           )\n",
    "\n",
    "plt.tight_layout()\n",
    " \n",
    "plt.show()"
   ]
  },
  {
   "cell_type": "code",
   "execution_count": 251,
   "metadata": {},
   "outputs": [
    {
     "name": "stdout",
     "output_type": "stream",
     "text": [
      "<Surf Users>\n",
      "Monthly message usage Mean:  31.15956770502225\n",
      "Monthly message usage Variance:  1126.7245219504082\n",
      "\n",
      "<Ultimate Users>\n",
      "Monthly message usage Mean:  37.55138888888889\n",
      "Monthly message usage Variance:  1208.756743548134\n"
     ]
    }
   ],
   "source": [
    "# Calculating the monthly message usage mean and variance for each plan:\n",
    "\n",
    "print(\"<Surf Users>\")\n",
    "print(\"Monthly message usage Mean: \", df.query(\"plan == 'surf'\").messages_sent.mean())\n",
    "print(\"Monthly message usage Variance: \", df.query(\"plan == 'surf'\").messages_sent.var())\n",
    "print()\n",
    "print(\"<Ultimate Users>\")\n",
    "print(\"Monthly message usage Mean: \", df.query(\"plan == 'ultimate'\").messages_sent.mean())\n",
    "print(\"Monthly message usage Variance: \", df.query(\"plan == 'ultimate'\").messages_sent.var())"
   ]
  },
  {
   "cell_type": "markdown",
   "metadata": {},
   "source": [
    "**Observations:**\n",
    "<br>\n",
    "Purely from observation of our histogram and approximated for equal sample sizes between both plans, our bar chart conclusions were accurate, in that Ultimate users slightly outweigh its Surf counterparts in monthly message usage. Our means have a notable distinction of about 6 messages sent.  \n",
    "<br>\n",
    "<br>However, there's a caveat; the Ultimate plans includes 1000 free messages, which begs the question if the Ultimate plan premium of \\\\$50 over the Surf plan price is worth it. "
   ]
  },
  {
   "cell_type": "code",
   "execution_count": 252,
   "metadata": {
    "scrolled": false
   },
   "outputs": [
    {
     "data": {
      "image/png": "[encoded data removed]",
      "text/plain": [
       "<Figure size 300x500 with 1 Axes>"
      ]
     },
     "metadata": {},
     "output_type": "display_data"
    },
    {
     "name": "stdout",
     "output_type": "stream",
     "text": [
      "<Surf Plan>\n",
      "Median:  24.0\n",
      "Quartile 1: 3.0\n",
      "Quartile 3: 47.0\n"
     ]
    }
   ],
   "source": [
    "# Plotting a boxplot to visualize the distribution of monthly message usage for all users of the Surf plan:\n",
    "\n",
    "Q1 = df.query(\"plan == 'surf'\")['messages_sent'].quantile(0.25)\n",
    "Q3 = df.query(\"plan == 'surf'\")['messages_sent'].quantile(0.75)\n",
    "IQR = Q3 - Q1\n",
    "\n",
    "(df\n",
    " .query(\"plan == 'surf'\")\n",
    " .boxplot(column=['messages_sent'], grid=True, figsize=(3,5))\n",
    ")\n",
    "\n",
    "plt.title('Monthly Message Usage (Surf)', fontsize=10)\n",
    "\n",
    "plt.ylim(-50, 300)\n",
    "plt.hlines(y=Q1-1.5*IQR, xmin=0.9, xmax=1.1, color='red')\n",
    "plt.hlines(y=Q3+1.5*IQR, xmin=0.9, xmax=1.1, color='red')\n",
    "\n",
    "plt.show()\n",
    " \n",
    "print(\"<Surf Plan>\")\n",
    "print(\"Median: \",  df.query(\"plan == 'surf'\")['messages_sent'].median())\n",
    "print(\"Quartile 1:\", Q1)\n",
    "print(\"Quartile 3:\", Q3)"
   ]
  },
  {
   "cell_type": "code",
   "execution_count": 253,
   "metadata": {},
   "outputs": [
    {
     "data": {
      "image/png": "[encoded data removed]",
      "text/plain": [
       "<Figure size 300x500 with 1 Axes>"
      ]
     },
     "metadata": {},
     "output_type": "display_data"
    },
    {
     "name": "stdout",
     "output_type": "stream",
     "text": [
      "<Ultimate Plan>\n",
      "Median:  30.0\n",
      "Quartile 1: 7.0\n",
      "Quartile 3: 61.0\n"
     ]
    }
   ],
   "source": [
    "# Plotting a boxplot to visualize the distribution of monthly message usage for all users of the Ultimate plan:\n",
    "\n",
    "Q1 = df.query(\"plan == 'ultimate'\")['messages_sent'].quantile(0.25)\n",
    "Q3 = df.query(\"plan == 'ultimate'\")['messages_sent'].quantile(0.75)\n",
    "IQR = Q3 - Q1\n",
    "\n",
    "(df\n",
    " .query(\"plan == 'ultimate'\")\n",
    " .boxplot(column=['messages_sent'], grid=True, figsize=(3,5))\n",
    ")\n",
    "\n",
    "plt.title('Monthly Message Usage (Ultimate)', fontsize=10)\n",
    "\n",
    "plt.ylim(-50, 300)\n",
    "plt.hlines(y=Q1-1.5*IQR, xmin=0.9, xmax=1.1, color='red')\n",
    "plt.hlines(y=Q3+1.5*IQR, xmin=0.9, xmax=1.1, color='red')\n",
    "\n",
    "plt.show()\n",
    " \n",
    "print(\"<Ultimate Plan>\")\n",
    "print(\"Median: \",  df.query(\"plan == 'ultimate'\")['messages_sent'].median())\n",
    "print(\"Quartile 1:\", Q1)\n",
    "print(\"Quartile 3:\", Q3)"
   ]
  },
  {
   "cell_type": "markdown",
   "metadata": {},
   "source": [
    "**Observations:**\n",
    "<br>\n",
    "The observations with our boxplots and quartile values confirm our prior conclusions; a difference of 6 messages were observed. Most importantly, we see quite a few extreme outliers beyond the upper limit of our Surf data."
   ]
  },
  {
   "cell_type": "code",
   "execution_count": 254,
   "metadata": {},
   "outputs": [
    {
     "name": "stdout",
     "output_type": "stream",
     "text": [
      "<Surf Plan>\n",
      "\n",
      "Mean: 27.473061760841\n",
      "Variance: 721.7589714215611\n"
     ]
    }
   ],
   "source": [
    "# Filtering out Surf outliers to get unskewed mean and variance values:\n",
    "\n",
    "Q1 = df.query(\"plan == 'surf'\")['messages_sent'].quantile(0.25)\n",
    "Q3 = df.query(\"plan == 'surf'\")['messages_sent'].quantile(0.75)\n",
    "IQR = Q3 - Q1\n",
    "\n",
    "lower = Q1-1.5*IQR\n",
    "upper = Q3+1.5*IQR\n",
    "\n",
    "print(\"<Surf Plan>\")\n",
    "print()\n",
    "print(\"Mean:\", df.query(\"plan == 'surf'\")\\\n",
    "        .query(\"messages_sent >= @lower and messages_sent <= @upper\")['messages_sent'].mean())\n",
    "print(\"Variance:\", df.query(\"plan == 'surf'\")\\\n",
    "        .query(\"messages_sent >= @lower and messages_sent <= @upper\")['messages_sent'].var())"
   ]
  },
  {
   "cell_type": "code",
   "execution_count": 255,
   "metadata": {},
   "outputs": [
    {
     "name": "stdout",
     "output_type": "stream",
     "text": [
      "<Ultimate Plan>\n",
      "\n",
      "Mean: 35.94788732394366\n",
      "Variance: 1039.9563777588\n"
     ]
    }
   ],
   "source": [
    "# Filtering out Ultimate outliers to get unskewed mean and variance values:\n",
    "\n",
    "Q1 = df.query(\"plan == 'ultimate'\")['messages_sent'].quantile(0.25)\n",
    "Q3 = df.query(\"plan == 'ultimate'\")['messages_sent'].quantile(0.75)\n",
    "IQR = Q3 - Q1\n",
    "\n",
    "lower = Q1-1.5*IQR\n",
    "upper = Q3+1.5*IQR\n",
    "\n",
    "print(\"<Ultimate Plan>\")\n",
    "print()\n",
    "print(\"Mean:\", df.query(\"plan == 'ultimate'\")\\\n",
    "        .query(\"messages_sent >= @lower and messages_sent <= @upper\")['messages_sent'].mean())\n",
    "print(\"Variance:\", df.query(\"plan == 'ultimate'\")\\\n",
    "        .query(\"messages_sent >= @lower and messages_sent <= @upper\")['messages_sent'].var())"
   ]
  },
  {
   "cell_type": "markdown",
   "metadata": {},
   "source": [
    "**Observations:**\n",
    "<br>\n",
    "Our difference in means have grown to about 8.5 messages in favor of Ultimate users. This more than confirms our prior analysis, in that Ultimate users intrinsically send more messages than Surf users."
   ]
  },
  {
   "cell_type": "markdown",
   "metadata": {},
   "source": [
    "**Intermediate Conclusion:**\n",
    "<br>\n",
    "From our bar charts and histograms, we can infer that Ultimate users differ from Surf users in that they send more messages every month and would warrant getting a prepaid plan that accounts for that if that is all we look at. Our central tendency and dispersion values of both skewed and unskewed data confirm this observation. \n",
    "<br>Whether they are getting good value from the Ultimate plan (1000 included messages) based on their usage is not for us to judge, as there could be a variety of reasons for doing so, such as overestimating their initial usage based on their past experience, or merely just as a safety net. But overall, we can conclusively say there is some difference in behaviour between users of each plan in terms of messages sent in an average month.\n",
    "<br>\n",
    "<br> There is one caveat however, in that the Ultimate plan includes 1000 messages per month, and hence we can assume that Ultimate users are wildly overpaying from a messages aspect. Perhaps sending messages isn't a top priority to these users then, when determining which plan to purchase. ***However, it is important to note the fact that based solely off of average usage, users of the Surf plan have a lower buffer to exceeding their plan limits (50 messages). Ultimate users are very much far away from exceeding their limits (1000 messages).***"
   ]
  },
  {
   "cell_type": "markdown",
   "metadata": {},
   "source": [
    "## 6.4 Age Groups <a name=\"ubage\"></a>"
   ]
  },
  {
   "cell_type": "code",
   "execution_count": 256,
   "metadata": {
    "scrolled": false
   },
   "outputs": [
    {
     "data": {
      "image/png": "[encoded data removed]",
      "text/plain": [
       "<Figure size 1000x400 with 1 Axes>"
      ]
     },
     "metadata": {},
     "output_type": "display_data"
    }
   ],
   "source": [
    "# Comparing age group value counts between both plans:\n",
    "\n",
    "(df_users\n",
    " .pivot_table(index='age_group', columns='plan', values='user_id', aggfunc='count')\n",
    " .plot(kind='bar', grid=True, edgecolor='black', color=['cyan', 'orange'], figsize=(10,4))\n",
    ")\n",
    "\n",
    "plt.title('Age Groups by Plan', fontsize=12)\n",
    "plt.legend(loc='upper left', prop={'size': 8})\n",
    "plt.ylabel('Age Group', fontsize=12)\n",
    "plt.xlabel('User Count', fontsize=12)\n",
    "\n",
    "plt.xticks(rotation=360)\n",
    "\n",
    "plt.show()"
   ]
  },
  {
   "cell_type": "code",
   "execution_count": 257,
   "metadata": {},
   "outputs": [
    {
     "data": {
      "text/html": [
       "<div>\n",
       "<style scoped>\n",
       "    .dataframe tbody tr th:only-of-type {\n",
       "        vertical-align: middle;\n",
       "    }\n",
       "\n",
       "    .dataframe tbody tr th {\n",
       "        vertical-align: top;\n",
       "    }\n",
       "\n",
       "    .dataframe thead th {\n",
       "        text-align: right;\n",
       "    }\n",
       "</style>\n",
       "<table border=\"1\" class=\"dataframe\">\n",
       "  <thead>\n",
       "    <tr style=\"text-align: right;\">\n",
       "      <th></th>\n",
       "      <th>age</th>\n",
       "    </tr>\n",
       "    <tr>\n",
       "      <th>plan</th>\n",
       "      <th></th>\n",
       "    </tr>\n",
       "  </thead>\n",
       "  <tbody>\n",
       "    <tr>\n",
       "      <th>surf</th>\n",
       "      <td>44.952802</td>\n",
       "    </tr>\n",
       "    <tr>\n",
       "      <th>ultimate</th>\n",
       "      <td>46.608696</td>\n",
       "    </tr>\n",
       "  </tbody>\n",
       "</table>\n",
       "</div>"
      ],
      "text/plain": [
       "                age\n",
       "plan               \n",
       "surf      44.952802\n",
       "ultimate  46.608696"
      ]
     },
     "metadata": {},
     "output_type": "display_data"
    },
    {
     "data": {
      "text/html": [
       "<div>\n",
       "<style scoped>\n",
       "    .dataframe tbody tr th:only-of-type {\n",
       "        vertical-align: middle;\n",
       "    }\n",
       "\n",
       "    .dataframe tbody tr th {\n",
       "        vertical-align: top;\n",
       "    }\n",
       "\n",
       "    .dataframe thead th {\n",
       "        text-align: right;\n",
       "    }\n",
       "</style>\n",
       "<table border=\"1\" class=\"dataframe\">\n",
       "  <thead>\n",
       "    <tr style=\"text-align: right;\">\n",
       "      <th></th>\n",
       "      <th>age</th>\n",
       "    </tr>\n",
       "    <tr>\n",
       "      <th>plan</th>\n",
       "      <th></th>\n",
       "    </tr>\n",
       "  </thead>\n",
       "  <tbody>\n",
       "    <tr>\n",
       "      <th>surf</th>\n",
       "      <td>45</td>\n",
       "    </tr>\n",
       "    <tr>\n",
       "      <th>ultimate</th>\n",
       "      <td>48</td>\n",
       "    </tr>\n",
       "  </tbody>\n",
       "</table>\n",
       "</div>"
      ],
      "text/plain": [
       "          age\n",
       "plan         \n",
       "surf       45\n",
       "ultimate   48"
      ]
     },
     "execution_count": 257,
     "metadata": {},
     "output_type": "execute_result"
    }
   ],
   "source": [
    "# Getting the average age for both plans:\n",
    "\n",
    "display(df_users.pivot_table(index='plan', values='age', aggfunc='mean'))\n",
    "df_users.pivot_table(index='plan', values='age', aggfunc='median')"
   ]
  },
  {
   "cell_type": "markdown",
   "metadata": {},
   "source": [
    "**Observations and Conclusion:**\n",
    "<br>\n",
    "<br>\n",
    "We'd like to see a higher average age for our ultimate users, as that will indicate higher spending power and thus, the ability to afford a higher plan premium. Unfortunately, this wasn't the case whereby the average age for both plans were within striking distance of each other (approximately 45 - 48 years). We can conclude from analyzing age groups that age isn't a determining factor when it comes to choosing a phone plan, and hence user characteristics are similar with respect to age demographics."
   ]
  },
  {
   "cell_type": "markdown",
   "metadata": {},
   "source": [
    "## 6.5 Location <a name=\"ublocation\"></a>"
   ]
  },
  {
   "cell_type": "code",
   "execution_count": 258,
   "metadata": {},
   "outputs": [
    {
     "data": {
      "image/png": "[encoded data removed]",
      "text/plain": [
       "<Figure size 1000x600 with 1 Axes>"
      ]
     },
     "metadata": {},
     "output_type": "display_data"
    }
   ],
   "source": [
    "# Observing city value counts for the Surf plan:\n",
    "\n",
    "surf = df_users.query(\"plan=='surf'\")\n",
    "top10 = surf['city'].value_counts().index[:10]\n",
    "df_location = surf[surf['city'].isin(top10)]\n",
    "\n",
    "(df_location\n",
    " .pivot_table(index='city', values='user_id', aggfunc='count').sort_values('user_id', ascending=False)\n",
    " .plot(kind='barh', grid=True, edgecolor='black', color='cyan', figsize=(10,6))\n",
    ")\n",
    "\n",
    "plt.title('Surf User Locations', fontsize=14)\n",
    "plt.legend(['Surf'], loc='upper right', prop={'size': 12})\n",
    "plt.ylabel('City', fontsize=13)\n",
    "plt.xlabel('User Count', fontsize=13)\n",
    "\n",
    "plt.xticks(rotation=360)\n",
    "\n",
    "plt.show()"
   ]
  },
  {
   "cell_type": "code",
   "execution_count": 259,
   "metadata": {},
   "outputs": [
    {
     "data": {
      "image/png": "[encoded data removed]",
      "text/plain": [
       "<Figure size 1000x600 with 1 Axes>"
      ]
     },
     "metadata": {},
     "output_type": "display_data"
    }
   ],
   "source": [
    "# Observing city value counts for the Ultimate plan:\n",
    "\n",
    "ult = df_users.query(\"plan=='ultimate'\")\n",
    "top10 = ult['city'].value_counts().index[:10]\n",
    "df_location = ult[ult['city'].isin(top10)]\n",
    "\n",
    "(df_location\n",
    " .pivot_table(index='city', values='user_id', aggfunc='count').sort_values('user_id', ascending=False)\n",
    " .plot(kind='barh', grid=True, edgecolor='black', color='orange', figsize=(10,6))\n",
    ")\n",
    "\n",
    "plt.title('Ultimate User Locations', fontsize=12)\n",
    "plt.legend(['Ultimate'], loc='upper right', prop={'size': 12})\n",
    "plt.ylabel('City', fontsize=12)\n",
    "plt.xlabel('User Count', fontsize=12)\n",
    "\n",
    "plt.xticks(rotation=360)\n",
    "\n",
    "plt.show()"
   ]
  },
  {
   "cell_type": "code",
   "execution_count": 260,
   "metadata": {},
   "outputs": [
    {
     "data": {
      "text/plain": [
       "0.16"
      ]
     },
     "execution_count": 260,
     "metadata": {},
     "output_type": "execute_result"
    }
   ],
   "source": [
    "# Getting distribution share of NY-NJ users:\n",
    "\n",
    "(df_users['city'] == 'New York-Newark-Jersey City').mean()"
   ]
  },
  {
   "cell_type": "markdown",
   "metadata": {},
   "source": [
    "**Observations and Conclusion:**\n",
    "<br>\n",
    "<br>\n",
    "Our observations of user geographical demographics are quite similar. Our top 10 most observed locations shows some similarities, the most obvious being the NY-NJ area which makes up a large share of our population, tallying 16%. This is consistent with our findings so far, in that user behaviour, age demographics and now geographical demographics are inherently quite similar to each other. ***It would not be fair then to conclude that a user's choice of plan is dictated by affordability/budget constraints and other income variables.***"
   ]
  },
  {
   "cell_type": "markdown",
   "metadata": {},
   "source": [
    "# 7. Revenue Study<a name=\"revenue\"></a>"
   ]
  },
  {
   "cell_type": "code",
   "execution_count": 261,
   "metadata": {},
   "outputs": [
    {
     "data": {
      "image/png": "[encoded data removed]",
      "text/plain": [
       "<Figure size 800x400 with 1 Axes>"
      ]
     },
     "metadata": {},
     "output_type": "display_data"
    }
   ],
   "source": [
    "# Comparing average monthly revenue for both plans:\n",
    "\n",
    "df_revenue = df.pivot_table(index='plan', values='revenue', aggfunc='mean').reset_index(drop=True)\n",
    "df_revenue = pd.concat([df_revenue, df[['plan', 'plan_price']]], axis=1)\n",
    "df_revenue.dropna(inplace=True)\n",
    "\n",
    "plt.figure(figsize=(8,4))\n",
    "\n",
    "ax = plt.bar(x=df_revenue.index, height=df_revenue['revenue'], color=['cyan', 'orange'], edgecolor='black')\n",
    "\n",
    "for index, value in enumerate(np.array(df_revenue.plan_price.sort_values())):\n",
    "    plt.hlines(y=value, \n",
    "               xmin = ax.patches[index].get_x(), \n",
    "               xmax = ax.patches[index].get_x() + ax.patches[index].get_width(),\n",
    "               linestyle='--') \n",
    "    \n",
    "plt.suptitle('Average Monthly Revenue', fontsize=13)\n",
    "plt.title('Year: 2018', fontsize=12)\n",
    "\n",
    "plt.ylabel('Monthly Revenue ($USD)', fontsize=12)\n",
    "plt.xlabel('Plan', fontsize=12)\n",
    "(plt.xticks(ticks=[0, 1], \n",
    "            labels=[\"Surf ($20)\", \"Ultimate ($70)\"],\n",
    "           rotation=360)\n",
    "           )\n",
    "\n",
    "plt.show()"
   ]
  },
  {
   "cell_type": "code",
   "execution_count": 262,
   "metadata": {},
   "outputs": [
    {
     "data": {
      "image/png": "[encoded data removed]",
      "text/plain": [
       "<Figure size 1100x400 with 1 Axes>"
      ]
     },
     "metadata": {},
     "output_type": "display_data"
    }
   ],
   "source": [
    "# Comparing monthly revenue for each plan:\n",
    "\n",
    "(df\n",
    " .pivot_table(index='month', columns='plan', values='revenue', aggfunc='mean')\n",
    " .plot(kind='bar', grid=True, edgecolor='black', color=['cyan', 'orange'], figsize=(11,4))\n",
    ")\n",
    "\n",
    "plt.style.use('ggplot')\n",
    "plt.title('Average Revenue by Month', fontsize=12)\n",
    "plt.legend(loc='upper left', prop={'size': 8.5})\n",
    "\n",
    "plt.ylabel('Revenue', fontsize=12)\n",
    "plt.xlabel('Month', fontsize=12)\n",
    "\n",
    "(plt.xticks(ticks=[0, 1, 2, 3, 4, 5, 6, 7, 8, 9, 10, 11], \n",
    "            labels=[\"Jan\", \"Feb\", \"Mar\", \"Apr\", \"May\", \"Jun\", \"Jul\", \"Aug\", \"Sept\", \"Oct\", \"Nov\", \"Dec\"])\n",
    "           )\n",
    "\n",
    "plt.show()"
   ]
  },
  {
   "cell_type": "code",
   "execution_count": 263,
   "metadata": {},
   "outputs": [
    {
     "name": "stdout",
     "output_type": "stream",
     "text": [
      "Surf Revenue Mean: 60.70640813731713\n",
      "Ultimate Revenue Mean: 72.31388888888888\n"
     ]
    }
   ],
   "source": [
    "# Getting the difference in means between both plans for overall monthly revenue:\n",
    "\n",
    "print(\"Surf Revenue Mean:\", \\\n",
    "      df.query(\"plan == 'surf'\").revenue.mean())\n",
    "\n",
    "print(\"Ultimate Revenue Mean:\", \\\n",
    "      df.query(\"plan == 'ultimate'\").revenue.mean())"
   ]
  },
  {
   "cell_type": "markdown",
   "metadata": {},
   "source": [
    "**Observations:**\n",
    "<br>\n",
    "For our Ultimate users, revenue tends to stagnate just above the baseline price of \\\\$70. In contrast, Surf users consistently display revenue figures way beyond their baseline price of \\\\$20. There is a steady increase of revenue the later we get through the year, which is explained by more users signing up every other month. The key here is the percentage increase over baseline here, whereby Surf users are exhibiting about a 200% increase over the baseline of \\\\$20."
   ]
  },
  {
   "cell_type": "code",
   "execution_count": 264,
   "metadata": {
    "scrolled": false
   },
   "outputs": [
    {
     "data": {
      "image/png": "[encoded data removed]",
      "text/plain": [
       "<Figure size 300x500 with 1 Axes>"
      ]
     },
     "metadata": {},
     "output_type": "display_data"
    },
    {
     "name": "stdout",
     "output_type": "stream",
     "text": [
      "<Surf Plan>\n",
      "Median:  40.36\n",
      "Quartile 1: 20.0\n",
      "Quartile 3: 80.36\n"
     ]
    }
   ],
   "source": [
    "# Plotting a boxplot to visualize the distribution of monthly revenue for all users of the Surf plan:\n",
    "\n",
    "Q1 = df.query(\"plan == 'surf'\")['revenue'].quantile(0.25)\n",
    "Q3 = df.query(\"plan == 'surf'\")['revenue'].quantile(0.75)\n",
    "IQR = Q3 - Q1\n",
    "\n",
    "(df\n",
    " .query(\"plan == 'surf'\")\n",
    " .boxplot(column=['revenue'], grid=True, figsize=(3,5))\n",
    ")\n",
    "\n",
    "plt.title('Monthly Revenue (Surf)', fontsize=10)\n",
    "\n",
    "plt.ylim(-50, 400)\n",
    "plt.hlines(y=Q1-1.5*IQR, xmin=0.9, xmax=1.1, color='red')\n",
    "plt.hlines(y=Q3+1.5*IQR, xmin=0.9, xmax=1.1, color='red')\n",
    "\n",
    "plt.show()\n",
    " \n",
    "print(\"<Surf Plan>\")\n",
    "print(\"Median: \",  df.query(\"plan == 'surf'\")['revenue'].median())\n",
    "print(\"Quartile 1:\", Q1)\n",
    "print(\"Quartile 3:\", Q3)"
   ]
  },
  {
   "cell_type": "code",
   "execution_count": 265,
   "metadata": {},
   "outputs": [
    {
     "data": {
      "image/png": "[encoded data removed]",
      "text/plain": [
       "<Figure size 300x500 with 1 Axes>"
      ]
     },
     "metadata": {},
     "output_type": "display_data"
    },
    {
     "name": "stdout",
     "output_type": "stream",
     "text": [
      "<Ultimate Plan>\n",
      "Median:  70.0\n",
      "Quartile 1: 70.0\n",
      "Quartile 3: 70.0\n"
     ]
    }
   ],
   "source": [
    "# Plotting a boxplot to visualize the distribution of monthly revenue for all users of the Ultimate plan:\n",
    "\n",
    "Q1 = df.query(\"plan == 'ultimate'\")['revenue'].quantile(0.25)\n",
    "Q3 = df.query(\"plan == 'ultimate'\")['revenue'].quantile(0.75)\n",
    "IQR = Q3 - Q1\n",
    "\n",
    "(df\n",
    " .query(\"plan == 'ultimate'\")\n",
    " .boxplot(column=['revenue'], grid=True, figsize=(3,5))\n",
    ")\n",
    "\n",
    "plt.title('Monthly Revenue (Ultimate)', fontsize=10)\n",
    "\n",
    "plt.ylim(-20, 200)\n",
    "plt.hlines(y=Q1-1.5*IQR, xmin=0.9, xmax=1.1, color='red')\n",
    "plt.hlines(y=Q3+1.5*IQR, xmin=0.9, xmax=1.1, color='red')\n",
    "\n",
    "plt.show()\n",
    " \n",
    "print(\"<Ultimate Plan>\")\n",
    "print(\"Median: \",  df.query(\"plan == 'ultimate'\")['revenue'].median())\n",
    "print(\"Quartile 1:\", Q1)\n",
    "print(\"Quartile 3:\", Q3)"
   ]
  },
  {
   "cell_type": "code",
   "execution_count": 266,
   "metadata": {},
   "outputs": [
    {
     "name": "stdout",
     "output_type": "stream",
     "text": [
      "<Surf Plan>\n",
      "\n",
      "Mean: 52.37644474034616\n",
      "Variance: 1424.2971123350655\n"
     ]
    }
   ],
   "source": [
    "# Filtering out Surf outliers to get unskewed mean and variance values:\n",
    "\n",
    "Q1 = df.query(\"plan == 'surf'\")['revenue'].quantile(0.25)\n",
    "Q3 = df.query(\"plan == 'surf'\")['revenue'].quantile(0.75)\n",
    "IQR = Q3 - Q1\n",
    "\n",
    "lower = Q1-1.5*IQR\n",
    "upper = Q3+1.5*IQR\n",
    "\n",
    "print(\"<Surf Plan>\")\n",
    "print()\n",
    "print(\"Mean:\", df.query(\"plan == 'surf'\")\\\n",
    "        .query(\"revenue >= @lower and revenue <= @upper\")['revenue'].mean())\n",
    "print(\"Variance:\", df.query(\"plan == 'surf'\")\\\n",
    "        .query(\"revenue >= @lower and revenue <= @upper\")['revenue'].var())"
   ]
  },
  {
   "cell_type": "code",
   "execution_count": 267,
   "metadata": {},
   "outputs": [
    {
     "name": "stdout",
     "output_type": "stream",
     "text": [
      "<Ultimate Plan>\n",
      "\n",
      "Mean: 70.0\n",
      "Variance: 0.0\n"
     ]
    }
   ],
   "source": [
    "# Filtering out Surf outliers to get unskewed mean and variance values:\n",
    "\n",
    "Q1 = df.query(\"plan == 'ultimate'\")['revenue'].quantile(0.25)\n",
    "Q3 = df.query(\"plan == 'ultimate'\")['revenue'].quantile(0.75)\n",
    "IQR = Q3 - Q1\n",
    "\n",
    "lower = Q1-1.5*IQR\n",
    "upper = Q3+1.5*IQR\n",
    "\n",
    "print(\"<Ultimate Plan>\")\n",
    "print()\n",
    "print(\"Mean:\", df.query(\"plan == 'ultimate'\")\\\n",
    "        .query(\"revenue >= @lower and revenue <= @upper\")['revenue'].mean())\n",
    "print(\"Variance:\", df.query(\"plan == 'ultimate'\")\\\n",
    "        .query(\"revenue >= @lower and revenue <= @upper\")['revenue'].var())"
   ]
  },
  {
   "cell_type": "markdown",
   "metadata": {},
   "source": [
    "**Observation:**\n",
    "<br>\n",
    "Our unskewed data has reduced our mean of Surf monthly revenue to \\\\$52. This is still a very notable 160% increase over the baseline of \\\\$20. On the other hand, Ultimate monthly revenue had remained at its baseline of \\\\$20."
   ]
  },
  {
   "cell_type": "markdown",
   "metadata": {
    "scrolled": true
   },
   "source": [
    "**Intermediate Conclusion:**\n",
    "<br> Users from the Surf plan bring in more revenue in contrast to users from the Ultimate plan, as they consistently overspend by an average of 160% from their base plan rate. We have to take into consideration that the base plan rates and respective surcharge rates of either plans have already been calculated based off of cost and budgeting expenses. These can be considered as constant variables, and ***anything beyond that can be considered as added profit to the company.***"
   ]
  },
  {
   "cell_type": "markdown",
   "metadata": {},
   "source": [
    "# 8.0 Statistical Hypothesis Testing <a name=\"hypo\"></a>"
   ]
  },
  {
   "cell_type": "markdown",
   "metadata": {},
   "source": [
    "## 8.1  Average revenue from users of the Ultimate and Surf calling plans differs <a name=\"hypo1\"></a>"
   ]
  },
  {
   "cell_type": "markdown",
   "metadata": {},
   "source": [
    "**Null Hypothesis - H_0:**\n",
    "<br>Average revenue of Surf  ==  Average revenue of Ultimate\n",
    "<br><br> **Alternative Hypothesis - H_1:**\n",
    "<br>Average revenue of Surf  !=  Average revenue of Ultimate"
   ]
  },
  {
   "cell_type": "code",
   "execution_count": 268,
   "metadata": {},
   "outputs": [
    {
     "data": {
      "text/plain": [
       "3067.8351522938633"
      ]
     },
     "metadata": {},
     "output_type": "display_data"
    },
    {
     "data": {
      "text/plain": [
       "129.8484855509191"
      ]
     },
     "execution_count": 268,
     "metadata": {},
     "output_type": "execute_result"
    }
   ],
   "source": [
    "# Getting revenue variance values:\n",
    "\n",
    "display(df.query(\"plan == 'surf'\").revenue.var())\n",
    "df.query(\"plan == 'ultimate'\").revenue.var()"
   ]
  },
  {
   "cell_type": "code",
   "execution_count": 269,
   "metadata": {
    "scrolled": true
   },
   "outputs": [
    {
     "name": "stdout",
     "output_type": "stream",
     "text": [
      "p-value: 3.1703905481135734e-15\n",
      "We reject the null hypothesis\n"
     ]
    }
   ],
   "source": [
    "# Testing the hypothesis that average revenue differs between both plans:\n",
    "\n",
    "surf = df.query(\"plan == 'surf'\").revenue\n",
    "ult = df.query(\"plan == 'ultimate'\").revenue\n",
    "\n",
    "alpha = 0.05\n",
    "\n",
    "results = st.ttest_ind(surf, ult, equal_var = False)\n",
    "print('p-value:', results.pvalue) \n",
    "\n",
    "if (results.pvalue < alpha):\n",
    "    print(\"We reject the null hypothesis\")\n",
    "else:\n",
    "    print(\"We can't reject the null hypothesis\")\n"
   ]
  },
  {
   "cell_type": "markdown",
   "metadata": {},
   "source": [
    "**Observations and Conclusion:**\n",
    "<br>\n",
    "We have a strong case for accepting our alternate hypothesis, in that revenue differs between both plans. The bigger question is, how much more revenue does a specific plan generate from its respective baseline rate."
   ]
  },
  {
   "cell_type": "markdown",
   "metadata": {},
   "source": [
    "## 8.2  Average revenue from users in the NY-NJ area differs from that of the users from the other regions <a name=\"hypo2\"></a>"
   ]
  },
  {
   "cell_type": "markdown",
   "metadata": {},
   "source": [
    "**Null Hypothesis - H_0:** \n",
    "<br>Avg revenue of users in NY-NJ == Avg revenue of users from all other locations.\n",
    "<br>\n",
    "<br>\n",
    "**Alternative Hypothesis - H_1:** \n",
    "<br>Avg revenue of users in NY-NJ != Avg revenue of users from all other locations. "
   ]
  },
  {
   "cell_type": "code",
   "execution_count": 270,
   "metadata": {},
   "outputs": [],
   "source": [
    "# Filtering our New York-Newark-Jersey City users and the rest of the population:\n",
    "\n",
    "ny = df.query(\"city == 'New York-Newark-Jersey City'\")\n",
    "pop = df.query(\"city != 'New York-Newark-Jersey City'\")"
   ]
  },
  {
   "cell_type": "code",
   "execution_count": 271,
   "metadata": {},
   "outputs": [
    {
     "name": "stdout",
     "output_type": "stream",
     "text": [
      "1895.545689920425\n",
      "2225.0479943519067\n"
     ]
    }
   ],
   "source": [
    "# Getting the monthly revenue variances for both populations:\n",
    "\n",
    "print(ny.revenue.var())\n",
    "print(pop.revenue.var())\n"
   ]
  },
  {
   "cell_type": "code",
   "execution_count": 272,
   "metadata": {
    "scrolled": true
   },
   "outputs": [
    {
     "name": "stdout",
     "output_type": "stream",
     "text": [
      "p-value: 0.0335256158853001\n",
      "We reject the null hypothesis\n"
     ]
    }
   ],
   "source": [
    "# Testing the hypothesis that average revenue differs between New York-Newark-Jersey City:\n",
    "\n",
    "alpha = 0.05\n",
    "\n",
    "results = st.ttest_ind(ny.revenue, pop.revenue, equal_var = False)\n",
    "print('p-value:', results.pvalue) \n",
    "\n",
    "if (results.pvalue < alpha):\n",
    "    print(\"We reject the null hypothesis\")\n",
    "else:\n",
    "    print(\"We can't reject the null hypothesis\")"
   ]
  },
  {
   "cell_type": "code",
   "execution_count": 273,
   "metadata": {},
   "outputs": [
    {
     "data": {
      "text/plain": [
       "59.92135278514591"
      ]
     },
     "metadata": {},
     "output_type": "display_data"
    },
    {
     "data": {
      "text/plain": [
       "65.22277139874733"
      ]
     },
     "execution_count": 273,
     "metadata": {},
     "output_type": "execute_result"
    }
   ],
   "source": [
    "# Getting the difference in revenue mean between the NY-NJ population and the of our population:\n",
    "\n",
    "display(ny.revenue.mean())\n",
    "pop.revenue.mean()"
   ]
  },
  {
   "cell_type": "code",
   "execution_count": 274,
   "metadata": {},
   "outputs": [
    {
     "data": {
      "text/plain": [
       "surf        312\n",
       "ultimate     65\n",
       "Name: plan, dtype: int64"
      ]
     },
     "metadata": {},
     "output_type": "display_data"
    },
    {
     "data": {
      "text/plain": [
       "surf        1261\n",
       "ultimate     655\n",
       "Name: plan, dtype: int64"
      ]
     },
     "metadata": {},
     "output_type": "display_data"
    },
    {
     "data": {
      "text/plain": [
       "0.8275862068965517"
      ]
     },
     "metadata": {},
     "output_type": "display_data"
    },
    {
     "data": {
      "text/plain": [
       "0.6581419624217119"
      ]
     },
     "metadata": {},
     "output_type": "display_data"
    }
   ],
   "source": [
    "# Getting plan value counts and percentage share from both the NY-NJ and rest of the population:\n",
    "\n",
    "display(ny.plan.value_counts())\n",
    "display(pop.plan.value_counts())\n",
    "\n",
    "display((ny['plan'] == 'surf').mean())\n",
    "display((pop['plan'] == 'surf').mean())"
   ]
  },
  {
   "cell_type": "markdown",
   "metadata": {},
   "source": [
    "**Observations and Conclusion:**\n",
    "<br>\n",
    "We can accept our alternative hypothesis that average revenue between both populations are different. The New York-Newark-Jersey City region contains the largest relative share of our user data; having said that, most of our NY-NJ users are of the Surf plan, with Surf users accounting for 82% share. In contrast, Surf users make up 65% share of the rest of our population. This explains the disparity in average revenue between both populations."
   ]
  },
  {
   "cell_type": "markdown",
   "metadata": {},
   "source": [
    "# 9. General conclusion <a name=\"gc\"></a>"
   ]
  },
  {
   "cell_type": "markdown",
   "metadata": {},
   "source": [
    " ## 9.1 Data Cleaning Overview <a name=\"gc1\"></a>"
   ]
  },
  {
   "cell_type": "markdown",
   "metadata": {},
   "source": [
    "1. Plans Data: \n",
    "    - Internet data included column was changed from the MB measurement to GB.\n",
    "2. Users Data:\n",
    "    - Missing values found in 'churn_date' was due to users still being subscribed to the plan. We filled in these missing values with the last day of the 2018 calender.\n",
    "    - Converted 'reg_date' and 'churn_date' to DateTime objects.\n",
    "    - Split our city column into 'city' and 'state' columns for better readability.\n",
    "3. Call Data:    \n",
    "    - 'call date' was converted to the DateTime object.\n",
    "    - 'duration' was rounded up to the next minute, as Megaline charges by minute intervals.\n",
    "    - 'duration' 0 values were observed, possibly signifying that a user did not get through to the opposing line; these were dropped.\n",
    "4. Internet Data:\n",
    "    - 'session_date' was converted to the DateTime object.\n",
    "    - 'mb_used' was converted to the GB unit of measurement.\n",
    "    - We found 0 values in our 'gb_used' column which appear to be because users had logged on without surfing the internet. These were dropped.\n",
    "5. Message Data\n",
    "    - 'message_date' was converted to the DateTime object.\n",
    "   "
   ]
  },
  {
   "cell_type": "markdown",
   "metadata": {},
   "source": [
    "## 9.2  Features Engineering Overview <a name=\"gc2\"></a>"
   ]
  },
  {
   "cell_type": "markdown",
   "metadata": {},
   "source": [
    "1. Users Data:\n",
    "    - Created a new column of age groups\n",
    "    - Created new columns of total days and months subscribed to a plan\n",
    "    - We found entries in tota months where the user had only been subscribed for less than a month. We replaced these values with 1.\n",
    "2. Calls Data:\n",
    "    - Extracted month values from 'call_date'\n",
    "3. Internet Data:\n",
    "    - Extracted month values from 'session_date'\n",
    "4. Messages Data:\n",
    "    - Extracted month values from 'message_date'"
   ]
  },
  {
   "cell_type": "markdown",
   "metadata": {},
   "source": [
    "## 9.3  Data Transformation Overview <a name=\"gc3\"></a>"
   ]
  },
  {
   "cell_type": "markdown",
   "metadata": {},
   "source": [
    "1. Calculated monthly [call, data and message] usage for each user.\n",
    "2. Calculated monthly [call, data and message] surcharge for each user.\n",
    "3. Calculated monthly revenue for each user by summing monthly surcharge and plan price.\n",
    "4. Merged usage, surcharge and revenue to consolidate all datasets into one DataFrame."
   ]
  },
  {
   "cell_type": "markdown",
   "metadata": {},
   "source": [
    "## 9.4  Conclusive Overview on Average Revenue  <a name=\"gc4\"></a>"
   ]
  },
  {
   "cell_type": "markdown",
   "metadata": {},
   "source": [
    "To answer our question on which plan generates the most revenue for Megaline, we first need to answer the question if users of both plans exhibit similar behaviour. Only by determining behaviour a constant variable can we use our 2 prepaid plans as determining variables. \n",
    "<br>\n",
    ">1. Call Data - Surf and Ultimate users more or less exhibit similar call-minute averages throughout the year, when grouped by individual months. When we analyzed total monthly usages, both plans exhibited similar properties when approximated to the same sample size. We also found skewed and unskewed central tendency and dispersion values that were within striking distance of each other. We concluded that our call data behaviours were similar between both plans. \n",
    "<br>\n",
    "2. Internet Data - Similar to our Call Data, there wasn't any observable differences between average data usage between plans when grouped by individual months. Neither was there any perceivable difference when analyzing total monthly data usage amongst each plan. These observations were confirmed with similar skewed and unskewed mean and variance values for our 'data_used' column. We concluded that our internet data behaviours were similar across both plans.\n",
    "<br>\n",
    "3. Messages Data - This is the only instance we've observed some notable difference between both prepaid plans. Our monthly charts show a slight increase in average messages sent across all substantially populated months for Ultimate users compared to Surf users. When looking total usage, this was confirmed by observing an unskewed average of 8 more messages sent for Ultimate users in contrast to Surf users. We could call it a day and conclude we have a nuanced behavioural pattern between both plans, but we also have to consider that the difference is very marginal when we take into account the amount of messages included in the Ultimate plan (1000). It is then prudent to conclude that while there is a perceivable difference in messages sent between both prepaid plans, it is marginal at best and user behaviour just slightly differ from one another.\n",
    "<br>\n",
    "4. Age Data - Our age group central tendency scores exhibit very similar values. While we did hope to see some form of age spike in our Ultimate users which would exhibit some form of income variable in play, we unfortunately didn't and can only conclude that both prepaid plans contain users of a similar age demographic, and to an extent, income demographic.\n",
    "<br>\n",
    "5. City Data - Geographical demographic analysis just as well produced similar results. Our bigger cities in the United States had an even representation between both prepaid plans (especially so for the NY-NJ area with a 16% share). It would then not be fair to say this is a case of affordability and budget constraints, when we consider the affluence and wage disparity between bigger metropolitan areas compared to their smaller counterparts.\n",
    "<br>\n",
    "<br>\n",
    "\n",
    "**Overall Conclusion on Revenue:**\n",
    "<br> \n",
    "<br>\n",
    "To recap - Our revenue values were calculated based off of the base plan price, coupled with any extra surcharges for usage past the plan limits. That being said, our bar chart on average revenue for each plan showcased a couple of things.\n",
    "<br>\n",
    "1. Ultimate users were overpaying by an average of about \\\\$2 when compared to their base plan rate (\\\\$70). When outlier treatment was applied, Ultimate users did not exceed any limits and thus, did not overpay.\n",
    "2. Surf users on the other hand were overpaying by an average of about \\\\$40 in relation to their base plan rate (\\\\$20). When outlier treatment was applied, this figure dropped down to \\\\$32. \n",
    "<br>\n",
    "\n",
    "We have to understand that plan prices and their respective surcharge rates have been predetermined based off of numerous overhead cost and budget calculations. Our plan prices then can be considered as baseline variables, and our surcharge rates as extra revenue on top of the plan price in question. This is true regardles of the total overall observable revenue depicted in our plots, and thus, revenue generation should be looked at individually via any extra surcharges as a percentage of the baseline price, and not as a whole figure by itself. \n",
    "<br>\n",
    "<br>\n",
    "***Our Hypothesis is accepted. While our Ultimate plan provides a consistent stream of revenue, it is our Surf plan that brings in additional revenue based on the dynamism of customer usages and the increasing likelihood a customer might exceed the gazetted limits placed on the plan.***"
   ]
  },
  {
   "cell_type": "markdown",
   "metadata": {},
   "source": [
    ">"
   ]
  }
 ],
 "metadata": {
  "ExecuteTimeLog": [
   {
    "duration": 828,
    "start_time": "2021-11-16T09:21:11.304Z"
   },
   {
    "duration": 893,
    "start_time": "2021-11-16T09:21:17.728Z"
   },
   {
    "duration": 1150,
    "start_time": "2021-11-16T09:21:29.568Z"
   },
   {
    "duration": 3,
    "start_time": "2021-11-16T09:24:14.495Z"
   },
   {
    "duration": 120,
    "start_time": "2021-11-16T09:24:46.630Z"
   },
   {
    "duration": 3,
    "start_time": "2021-11-16T09:28:27.882Z"
   },
   {
    "duration": 4,
    "start_time": "2021-11-16T09:29:54.281Z"
   },
   {
    "duration": 3,
    "start_time": "2021-11-16T09:30:45.936Z"
   },
   {
    "duration": 4,
    "start_time": "2021-11-16T09:31:06.300Z"
   },
   {
    "duration": 113,
    "start_time": "2021-11-16T09:31:37.208Z"
   },
   {
    "duration": 143,
    "start_time": "2021-11-16T09:31:48.656Z"
   },
   {
    "duration": 98,
    "start_time": "2021-11-16T09:31:55.678Z"
   },
   {
    "duration": 3,
    "start_time": "2021-11-16T09:32:08.535Z"
   },
   {
    "duration": 111,
    "start_time": "2021-11-16T09:32:10.120Z"
   },
   {
    "duration": 3,
    "start_time": "2021-11-16T09:32:15.732Z"
   },
   {
    "duration": 4,
    "start_time": "2021-11-16T09:32:29.423Z"
   },
   {
    "duration": 3,
    "start_time": "2021-11-16T10:03:03.074Z"
   },
   {
    "duration": 3,
    "start_time": "2021-11-16T10:10:01.288Z"
   },
   {
    "duration": 3,
    "start_time": "2021-11-16T10:10:46.923Z"
   },
   {
    "duration": 121,
    "start_time": "2021-11-16T10:37:46.494Z"
   },
   {
    "duration": 125,
    "start_time": "2021-11-16T10:38:20.632Z"
   },
   {
    "duration": 112,
    "start_time": "2021-11-16T10:46:53.001Z"
   },
   {
    "duration": 110,
    "start_time": "2021-11-16T10:48:25.775Z"
   },
   {
    "duration": 3,
    "start_time": "2021-11-16T10:50:18.720Z"
   },
   {
    "duration": 4,
    "start_time": "2021-11-16T10:50:37.649Z"
   },
   {
    "duration": 2,
    "start_time": "2021-11-16T10:50:51.884Z"
   },
   {
    "duration": 3,
    "start_time": "2021-11-16T10:51:56.237Z"
   },
   {
    "duration": 101,
    "start_time": "2021-11-16T10:53:13.791Z"
   },
   {
    "duration": 3,
    "start_time": "2021-11-16T10:55:59.186Z"
   },
   {
    "duration": 3,
    "start_time": "2021-11-16T10:56:10.751Z"
   },
   {
    "duration": 3,
    "start_time": "2021-11-16T10:56:49.038Z"
   },
   {
    "duration": 3,
    "start_time": "2021-11-16T10:56:49.174Z"
   },
   {
    "duration": 4,
    "start_time": "2021-11-16T10:56:49.414Z"
   },
   {
    "duration": 3,
    "start_time": "2021-11-16T10:56:49.680Z"
   },
   {
    "duration": 3,
    "start_time": "2021-11-16T10:56:50.370Z"
   },
   {
    "duration": 114,
    "start_time": "2021-11-16T10:59:34.518Z"
   },
   {
    "duration": 3,
    "start_time": "2021-11-16T11:01:41.201Z"
   },
   {
    "duration": 116,
    "start_time": "2021-11-16T11:01:48.754Z"
   },
   {
    "duration": 3,
    "start_time": "2021-11-16T11:02:16.685Z"
   },
   {
    "duration": 3,
    "start_time": "2021-11-16T11:02:19.479Z"
   },
   {
    "duration": 3,
    "start_time": "2021-11-16T11:02:47.067Z"
   },
   {
    "duration": 3,
    "start_time": "2021-11-16T11:02:49.353Z"
   },
   {
    "duration": 3,
    "start_time": "2021-11-16T11:03:07.835Z"
   },
   {
    "duration": 3,
    "start_time": "2021-11-16T11:03:07.953Z"
   },
   {
    "duration": 112,
    "start_time": "2021-11-16T11:07:52.072Z"
   },
   {
    "duration": 187,
    "start_time": "2021-11-16T11:09:23.468Z"
   },
   {
    "duration": 4,
    "start_time": "2021-11-16T11:10:01.455Z"
   },
   {
    "duration": 3,
    "start_time": "2021-11-16T11:10:05.069Z"
   },
   {
    "duration": 4,
    "start_time": "2021-11-16T11:10:13.376Z"
   },
   {
    "duration": 3,
    "start_time": "2021-11-16T11:10:14.434Z"
   },
   {
    "duration": 3,
    "start_time": "2021-11-16T11:10:22.853Z"
   },
   {
    "duration": 4,
    "start_time": "2021-11-16T11:27:29.279Z"
   },
   {
    "duration": 4,
    "start_time": "2021-11-16T11:29:08.919Z"
   },
   {
    "duration": 118,
    "start_time": "2021-11-16T11:29:46.703Z"
   },
   {
    "duration": 437,
    "start_time": "2021-11-16T11:36:02.181Z"
   },
   {
    "duration": 157,
    "start_time": "2021-11-16T11:36:14.388Z"
   },
   {
    "duration": 207,
    "start_time": "2021-11-16T11:47:15.898Z"
   },
   {
    "duration": 3,
    "start_time": "2021-11-16T11:53:52.092Z"
   },
   {
    "duration": 3,
    "start_time": "2021-11-16T11:53:52.236Z"
   },
   {
    "duration": 3,
    "start_time": "2021-11-16T11:59:12.005Z"
   },
   {
    "duration": 112,
    "start_time": "2021-11-16T12:00:33.446Z"
   },
   {
    "duration": 3,
    "start_time": "2021-11-16T12:02:14.453Z"
   },
   {
    "duration": 3,
    "start_time": "2021-11-16T12:02:39.512Z"
   },
   {
    "duration": 106,
    "start_time": "2021-11-16T12:03:03.460Z"
   },
   {
    "duration": 3,
    "start_time": "2021-11-17T20:37:21.139Z"
   },
   {
    "duration": 3,
    "start_time": "2021-11-17T20:37:22.229Z"
   },
   {
    "duration": 3,
    "start_time": "2021-11-17T20:38:38.806Z"
   },
   {
    "duration": 3,
    "start_time": "2021-11-17T20:38:41.958Z"
   },
   {
    "duration": 3,
    "start_time": "2021-11-17T20:43:46.551Z"
   },
   {
    "duration": 4,
    "start_time": "2021-11-17T20:58:21.835Z"
   },
   {
    "duration": 3,
    "start_time": "2021-11-17T20:59:21.872Z"
   },
   {
    "duration": 4,
    "start_time": "2021-11-17T20:59:45.352Z"
   },
   {
    "duration": 4,
    "start_time": "2021-11-17T20:59:49.646Z"
   },
   {
    "duration": 159,
    "start_time": "2021-11-17T21:02:26.949Z"
   },
   {
    "duration": 3,
    "start_time": "2021-11-17T21:03:53.461Z"
   },
   {
    "duration": 3,
    "start_time": "2021-11-17T21:03:53.694Z"
   },
   {
    "duration": 3,
    "start_time": "2021-11-17T21:05:28.145Z"
   },
   {
    "duration": 116,
    "start_time": "2021-11-17T21:05:57.787Z"
   },
   {
    "duration": 3,
    "start_time": "2021-11-17T21:06:37.993Z"
   },
   {
    "duration": 3,
    "start_time": "2021-11-17T21:06:38.261Z"
   },
   {
    "duration": 3,
    "start_time": "2021-11-17T21:11:54.358Z"
   },
   {
    "duration": 3,
    "start_time": "2021-11-17T21:12:43.846Z"
   },
   {
    "duration": 4,
    "start_time": "2021-11-17T21:13:08.773Z"
   },
   {
    "duration": 3,
    "start_time": "2021-11-17T21:14:44.441Z"
   },
   {
    "duration": 3,
    "start_time": "2021-11-17T21:15:42.059Z"
   },
   {
    "duration": 4,
    "start_time": "2021-11-17T21:15:51.995Z"
   },
   {
    "duration": 3,
    "start_time": "2021-11-17T21:15:53.923Z"
   },
   {
    "duration": 3,
    "start_time": "2021-11-17T21:15:55.282Z"
   },
   {
    "duration": 3,
    "start_time": "2021-11-17T21:16:28.492Z"
   },
   {
    "duration": 3,
    "start_time": "2021-11-17T21:16:32.603Z"
   },
   {
    "duration": 3,
    "start_time": "2021-11-17T21:17:06.941Z"
   },
   {
    "duration": 98,
    "start_time": "2021-11-17T21:18:05.733Z"
   },
   {
    "duration": 4,
    "start_time": "2021-11-17T21:21:35.255Z"
   },
   {
    "duration": 3,
    "start_time": "2021-11-17T21:21:37.804Z"
   },
   {
    "duration": 4,
    "start_time": "2021-11-17T21:23:06.071Z"
   },
   {
    "duration": 3,
    "start_time": "2021-11-17T21:23:24.799Z"
   },
   {
    "duration": 3,
    "start_time": "2021-11-17T21:23:32.591Z"
   },
   {
    "duration": 98,
    "start_time": "2021-11-17T21:28:31.559Z"
   },
   {
    "duration": 3,
    "start_time": "2021-11-17T21:28:45.448Z"
   },
   {
    "duration": 3,
    "start_time": "2021-11-17T21:29:17.303Z"
   },
   {
    "duration": 3,
    "start_time": "2021-11-17T21:29:29.617Z"
   },
   {
    "duration": 3,
    "start_time": "2021-11-17T21:29:32.681Z"
   },
   {
    "duration": 3,
    "start_time": "2021-11-17T21:36:11.474Z"
   },
   {
    "duration": 3,
    "start_time": "2021-11-17T21:36:14.791Z"
   },
   {
    "duration": 3,
    "start_time": "2021-11-17T21:36:53.943Z"
   },
   {
    "duration": 3,
    "start_time": "2021-11-17T21:36:56.165Z"
   },
   {
    "duration": 4,
    "start_time": "2021-11-17T21:37:16.590Z"
   },
   {
    "duration": 3,
    "start_time": "2021-11-17T21:37:22.702Z"
   },
   {
    "duration": 4,
    "start_time": "2021-11-17T21:38:03.479Z"
   },
   {
    "duration": 3,
    "start_time": "2021-11-17T21:38:08.601Z"
   },
   {
    "duration": 3,
    "start_time": "2021-11-17T21:38:12.928Z"
   },
   {
    "duration": 3,
    "start_time": "2021-11-17T21:38:48.896Z"
   },
   {
    "duration": 2,
    "start_time": "2021-11-17T21:38:49.171Z"
   },
   {
    "duration": 4,
    "start_time": "2021-11-17T21:39:57.889Z"
   },
   {
    "duration": 3,
    "start_time": "2021-11-17T21:39:58.057Z"
   },
   {
    "duration": 3,
    "start_time": "2021-11-17T21:41:20.108Z"
   },
   {
    "duration": 3,
    "start_time": "2021-11-17T21:41:20.629Z"
   },
   {
    "duration": 3,
    "start_time": "2021-11-17T21:42:49.136Z"
   },
   {
    "duration": 3,
    "start_time": "2021-11-17T21:43:15.137Z"
   },
   {
    "duration": 4,
    "start_time": "2021-11-17T21:43:16.766Z"
   },
   {
    "duration": 4,
    "start_time": "2021-11-17T21:43:31.711Z"
   },
   {
    "duration": 3,
    "start_time": "2021-11-17T21:43:36.312Z"
   },
   {
    "duration": 4,
    "start_time": "2021-11-17T21:45:08.825Z"
   },
   {
    "duration": 4,
    "start_time": "2021-11-17T21:45:10.119Z"
   },
   {
    "duration": 4,
    "start_time": "2021-11-17T21:45:13.748Z"
   },
   {
    "duration": 3,
    "start_time": "2021-11-17T21:45:22.219Z"
   },
   {
    "duration": 3,
    "start_time": "2021-11-17T21:45:33.412Z"
   },
   {
    "duration": 2,
    "start_time": "2021-11-17T21:46:01.885Z"
   },
   {
    "duration": 3,
    "start_time": "2021-11-17T21:46:03.628Z"
   },
   {
    "duration": 107,
    "start_time": "2021-11-17T21:47:32.512Z"
   },
   {
    "duration": 103,
    "start_time": "2021-11-17T21:50:36.243Z"
   },
   {
    "duration": 3,
    "start_time": "2021-11-18T06:28:31.440Z"
   },
   {
    "duration": 3,
    "start_time": "2021-11-18T06:29:00.168Z"
   },
   {
    "duration": 3,
    "start_time": "2021-11-18T06:31:27.008Z"
   },
   {
    "duration": 2,
    "start_time": "2021-11-18T06:35:34.288Z"
   },
   {
    "duration": 2,
    "start_time": "2021-11-18T06:38:04.527Z"
   }
  ],
  "kernelspec": {
   "display_name": "Python 3 (ipykernel)",
   "language": "python",
   "name": "python3"
  },
  "language_info": {
   "codemirror_mode": {
    "name": "ipython",
    "version": 3
   },
   "file_extension": ".py",
   "mimetype": "text/x-python",
   "name": "python",
   "nbconvert_exporter": "python",
   "pygments_lexer": "ipython3",
   "version": "3.9.13"
  },
  "toc": {
   "base_numbering": 1,
   "nav_menu": {},
   "number_sections": true,
   "sideBar": true,
   "skip_h1_title": false,
   "title_cell": "Table of Contents",
   "title_sidebar": "Contents",
   "toc_cell": false,
   "toc_position": {},
   "toc_section_display": true,
   "toc_window_display": true
  }
 },
 "nbformat": 4,
 "nbformat_minor": 2
}
