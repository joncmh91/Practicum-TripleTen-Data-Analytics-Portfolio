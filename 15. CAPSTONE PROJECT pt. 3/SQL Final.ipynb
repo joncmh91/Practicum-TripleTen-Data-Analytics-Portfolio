{
 "cells": [
  {
   "cell_type": "markdown",
   "id": "b22594bb",
   "metadata": {},
   "source": [
    "# SQL Project &ndash; Book Reviews App"
   ]
  },
  {
   "cell_type": "markdown",
   "id": "96880286",
   "metadata": {},
   "source": [
    "**Problem Statement:** The coronavirus took the entire world by surprise, changing everyone's daily routine. City dwellers no longer spent their free time outside, going to cafes and malls; more people were home, reading books. That attracted the attention of startups that rushed to develop new apps for book lovers.\n",
    "\n",
    "This SQL project aims to study one such app towards creating a new value proposition for the app in terms of marketing positioning and brand salience."
   ]
  },
  {
   "cell_type": "markdown",
   "id": "e53492db",
   "metadata": {},
   "source": [
    "# Contents <a id='back' ><a/>\n",
    "    \n",
    "* [1. Initialization](#initialization)  \n",
    "* [2. Exploratory Data Analysis](#eda)      \n",
    "    * [2.1. Books Released proceeding January 1st, 2000](#eda1)\n",
    "    * [2.2. User Review Count and Average Rating by Unique Books](#eda2) \n",
    "    * [2.3. Book Releases by Publisher - Selecting the Author with most book releases](#eda3) \n",
    "    * [2.4. Average Rating by Author ](#eda4) \n",
    "    * [2.5. Average User Review Count](#eda5) \n",
    "* [3. Conclusions](#conclusions) "
   ]
  },
  {
   "cell_type": "markdown",
   "id": "75044335",
   "metadata": {},
   "source": [
    "# 1. Initialization <a id='initialization' ><a/>"
   ]
  },
  {
   "cell_type": "code",
   "execution_count": 11,
   "id": "3ac51b88",
   "metadata": {},
   "outputs": [
    {
     "name": "stdout",
     "output_type": "stream",
     "text": [
      "Requirement already satisfied: pandas in /opt/conda/lib/python3.9/site-packages (1.2.4)\n",
      "Requirement already satisfied: sqlalchemy in /opt/conda/lib/python3.9/site-packages (1.4.20)\n",
      "Requirement already satisfied: python-dateutil>=2.7.3 in /opt/conda/lib/python3.9/site-packages (from pandas) (2.8.1)\n",
      "Requirement already satisfied: pytz>=2017.3 in /opt/conda/lib/python3.9/site-packages (from pandas) (2021.1)\n",
      "Requirement already satisfied: numpy>=1.16.5 in /opt/conda/lib/python3.9/site-packages (from pandas) (1.21.1)\n",
      "Requirement already satisfied: six>=1.5 in /opt/conda/lib/python3.9/site-packages (from python-dateutil>=2.7.3->pandas) (1.16.0)\n",
      "Requirement already satisfied: greenlet!=0.4.17 in /opt/conda/lib/python3.9/site-packages (from sqlalchemy) (1.1.0)\n",
      "Requirement already satisfied: psycopg2-binary in /opt/conda/lib/python3.9/site-packages (2.9.2)\n"
     ]
    }
   ],
   "source": [
    "!pip install pandas sqlalchemy\n",
    "!pip install psycopg2-binary"
   ]
  },
  {
   "cell_type": "code",
   "execution_count": 12,
   "id": "72abd0de",
   "metadata": {},
   "outputs": [],
   "source": [
    "# importing libraries\n",
    "\n",
    "import pandas as pd\n",
    "from sqlalchemy import create_engine"
   ]
  },
  {
   "cell_type": "code",
   "execution_count": 13,
   "id": "88758e7d",
   "metadata": {},
   "outputs": [],
   "source": [
    "# Connecting to the database\n",
    "\n",
    "db_config = {'user': 'praktikum_student',         # username\n",
    "             'pwd': 'Sdf4$2;d-d30pp', # password\n",
    "             'host': 'rc1b-wcoijxj3yxfsf3fs.mdb.yandexcloud.net',\n",
    "             'port': 6432,              # connection port\n",
    "             'db': 'data-analyst-final-project-db'}          # the name of the database\n",
    "\n",
    "connection_string = 'postgresql://{}:{}@{}:{}/{}'.format(db_config['user'],\n",
    "                                                                     db_config['pwd'],\n",
    "                                                                       db_config['host'],\n",
    "                                                                       db_config['port'],\n",
    "                                                                       db_config['db'])\n",
    "\n",
    "engine = create_engine(connection_string, connect_args={'sslmode':'require'})\n"
   ]
  },
  {
   "cell_type": "code",
   "execution_count": 14,
   "id": "d4a32f41",
   "metadata": {},
   "outputs": [],
   "source": [
    "# Defining Functions\n",
    "\n",
    "def execute_query_to_df(query, engine):\n",
    "    with engine.connect() as conn:\n",
    "        df = pd.io.sql.read_sql(query, conn)\n",
    "    return df"
   ]
  },
  {
   "cell_type": "code",
   "execution_count": 15,
   "id": "fa7e73aa",
   "metadata": {},
   "outputs": [],
   "source": [
    "# Reading tables [books, authors, ratings, reviews, publishers]\n",
    "\n",
    "query_books = ''' SELECT * FROM books '''\n",
    "query_authors = ''' SELECT * FROM authors '''\n",
    "query_ratings = ''' SELECT * FROM ratings '''\n",
    "query_reviews = ''' SELECT * FROM reviews '''  \n",
    "query_publishers = ''' SELECT * FROM publishers '''\n",
    "\n",
    "\n",
    "df_books = execute_query_to_df(query_books, engine)\n",
    "df_authors = execute_query_to_df(query_authors, engine)\n",
    "df_ratings = execute_query_to_df(query_ratings, engine)\n",
    "df_reviews = execute_query_to_df(query_reviews, engine)\n",
    "df_publishers = execute_query_to_df(query_publishers, engine)"
   ]
  },
  {
   "cell_type": "code",
   "execution_count": 16,
   "id": "2023c282",
   "metadata": {
    "scrolled": false
   },
   "outputs": [
    {
     "data": {
      "text/html": [
       "<div>\n",
       "<style scoped>\n",
       "    .dataframe tbody tr th:only-of-type {\n",
       "        vertical-align: middle;\n",
       "    }\n",
       "\n",
       "    .dataframe tbody tr th {\n",
       "        vertical-align: top;\n",
       "    }\n",
       "\n",
       "    .dataframe thead th {\n",
       "        text-align: right;\n",
       "    }\n",
       "</style>\n",
       "<table border=\"1\" class=\"dataframe\">\n",
       "  <thead>\n",
       "    <tr style=\"text-align: right;\">\n",
       "      <th></th>\n",
       "      <th>book_id</th>\n",
       "      <th>author_id</th>\n",
       "      <th>title</th>\n",
       "      <th>num_pages</th>\n",
       "      <th>publication_date</th>\n",
       "      <th>publisher_id</th>\n",
       "    </tr>\n",
       "  </thead>\n",
       "  <tbody>\n",
       "    <tr>\n",
       "      <th>0</th>\n",
       "      <td>1</td>\n",
       "      <td>546</td>\n",
       "      <td>'Salem's Lot</td>\n",
       "      <td>594</td>\n",
       "      <td>2005-11-01</td>\n",
       "      <td>93</td>\n",
       "    </tr>\n",
       "    <tr>\n",
       "      <th>1</th>\n",
       "      <td>2</td>\n",
       "      <td>465</td>\n",
       "      <td>1 000 Places to See Before You Die</td>\n",
       "      <td>992</td>\n",
       "      <td>2003-05-22</td>\n",
       "      <td>336</td>\n",
       "    </tr>\n",
       "    <tr>\n",
       "      <th>2</th>\n",
       "      <td>3</td>\n",
       "      <td>407</td>\n",
       "      <td>13 Little Blue Envelopes (Little Blue Envelope...</td>\n",
       "      <td>322</td>\n",
       "      <td>2010-12-21</td>\n",
       "      <td>135</td>\n",
       "    </tr>\n",
       "    <tr>\n",
       "      <th>3</th>\n",
       "      <td>4</td>\n",
       "      <td>82</td>\n",
       "      <td>1491: New Revelations of the Americas Before C...</td>\n",
       "      <td>541</td>\n",
       "      <td>2006-10-10</td>\n",
       "      <td>309</td>\n",
       "    </tr>\n",
       "    <tr>\n",
       "      <th>4</th>\n",
       "      <td>5</td>\n",
       "      <td>125</td>\n",
       "      <td>1776</td>\n",
       "      <td>386</td>\n",
       "      <td>2006-07-04</td>\n",
       "      <td>268</td>\n",
       "    </tr>\n",
       "  </tbody>\n",
       "</table>\n",
       "</div>"
      ],
      "text/plain": [
       "   book_id  author_id                                              title  \\\n",
       "0        1        546                                       'Salem's Lot   \n",
       "1        2        465                 1 000 Places to See Before You Die   \n",
       "2        3        407  13 Little Blue Envelopes (Little Blue Envelope...   \n",
       "3        4         82  1491: New Revelations of the Americas Before C...   \n",
       "4        5        125                                               1776   \n",
       "\n",
       "   num_pages publication_date  publisher_id  \n",
       "0        594       2005-11-01            93  \n",
       "1        992       2003-05-22           336  \n",
       "2        322       2010-12-21           135  \n",
       "3        541       2006-10-10           309  \n",
       "4        386       2006-07-04           268  "
      ]
     },
     "metadata": {},
     "output_type": "display_data"
    },
    {
     "name": "stdout",
     "output_type": "stream",
     "text": [
      "<class 'pandas.core.frame.DataFrame'>\n",
      "RangeIndex: 1000 entries, 0 to 999\n",
      "Data columns (total 6 columns):\n",
      " #   Column            Non-Null Count  Dtype \n",
      "---  ------            --------------  ----- \n",
      " 0   book_id           1000 non-null   int64 \n",
      " 1   author_id         1000 non-null   int64 \n",
      " 2   title             1000 non-null   object\n",
      " 3   num_pages         1000 non-null   int64 \n",
      " 4   publication_date  1000 non-null   object\n",
      " 5   publisher_id      1000 non-null   int64 \n",
      "dtypes: int64(4), object(2)\n",
      "memory usage: 47.0+ KB\n"
     ]
    },
    {
     "data": {
      "text/plain": [
       "None"
      ]
     },
     "metadata": {},
     "output_type": "display_data"
    },
    {
     "data": {
      "text/html": [
       "<div>\n",
       "<style scoped>\n",
       "    .dataframe tbody tr th:only-of-type {\n",
       "        vertical-align: middle;\n",
       "    }\n",
       "\n",
       "    .dataframe tbody tr th {\n",
       "        vertical-align: top;\n",
       "    }\n",
       "\n",
       "    .dataframe thead th {\n",
       "        text-align: right;\n",
       "    }\n",
       "</style>\n",
       "<table border=\"1\" class=\"dataframe\">\n",
       "  <thead>\n",
       "    <tr style=\"text-align: right;\">\n",
       "      <th></th>\n",
       "      <th>author_id</th>\n",
       "      <th>author</th>\n",
       "    </tr>\n",
       "  </thead>\n",
       "  <tbody>\n",
       "    <tr>\n",
       "      <th>0</th>\n",
       "      <td>1</td>\n",
       "      <td>A.S. Byatt</td>\n",
       "    </tr>\n",
       "    <tr>\n",
       "      <th>1</th>\n",
       "      <td>2</td>\n",
       "      <td>Aesop/Laura Harris/Laura Gibbs</td>\n",
       "    </tr>\n",
       "    <tr>\n",
       "      <th>2</th>\n",
       "      <td>3</td>\n",
       "      <td>Agatha Christie</td>\n",
       "    </tr>\n",
       "    <tr>\n",
       "      <th>3</th>\n",
       "      <td>4</td>\n",
       "      <td>Alan Brennert</td>\n",
       "    </tr>\n",
       "    <tr>\n",
       "      <th>4</th>\n",
       "      <td>5</td>\n",
       "      <td>Alan Moore/David   Lloyd</td>\n",
       "    </tr>\n",
       "  </tbody>\n",
       "</table>\n",
       "</div>"
      ],
      "text/plain": [
       "   author_id                          author\n",
       "0          1                      A.S. Byatt\n",
       "1          2  Aesop/Laura Harris/Laura Gibbs\n",
       "2          3                 Agatha Christie\n",
       "3          4                   Alan Brennert\n",
       "4          5        Alan Moore/David   Lloyd"
      ]
     },
     "metadata": {},
     "output_type": "display_data"
    },
    {
     "name": "stdout",
     "output_type": "stream",
     "text": [
      "<class 'pandas.core.frame.DataFrame'>\n",
      "RangeIndex: 636 entries, 0 to 635\n",
      "Data columns (total 2 columns):\n",
      " #   Column     Non-Null Count  Dtype \n",
      "---  ------     --------------  ----- \n",
      " 0   author_id  636 non-null    int64 \n",
      " 1   author     636 non-null    object\n",
      "dtypes: int64(1), object(1)\n",
      "memory usage: 10.1+ KB\n"
     ]
    },
    {
     "data": {
      "text/plain": [
       "None"
      ]
     },
     "metadata": {},
     "output_type": "display_data"
    },
    {
     "data": {
      "text/html": [
       "<div>\n",
       "<style scoped>\n",
       "    .dataframe tbody tr th:only-of-type {\n",
       "        vertical-align: middle;\n",
       "    }\n",
       "\n",
       "    .dataframe tbody tr th {\n",
       "        vertical-align: top;\n",
       "    }\n",
       "\n",
       "    .dataframe thead th {\n",
       "        text-align: right;\n",
       "    }\n",
       "</style>\n",
       "<table border=\"1\" class=\"dataframe\">\n",
       "  <thead>\n",
       "    <tr style=\"text-align: right;\">\n",
       "      <th></th>\n",
       "      <th>rating_id</th>\n",
       "      <th>book_id</th>\n",
       "      <th>username</th>\n",
       "      <th>rating</th>\n",
       "    </tr>\n",
       "  </thead>\n",
       "  <tbody>\n",
       "    <tr>\n",
       "      <th>0</th>\n",
       "      <td>1</td>\n",
       "      <td>1</td>\n",
       "      <td>ryanfranco</td>\n",
       "      <td>4</td>\n",
       "    </tr>\n",
       "    <tr>\n",
       "      <th>1</th>\n",
       "      <td>2</td>\n",
       "      <td>1</td>\n",
       "      <td>grantpatricia</td>\n",
       "      <td>2</td>\n",
       "    </tr>\n",
       "    <tr>\n",
       "      <th>2</th>\n",
       "      <td>3</td>\n",
       "      <td>1</td>\n",
       "      <td>brandtandrea</td>\n",
       "      <td>5</td>\n",
       "    </tr>\n",
       "    <tr>\n",
       "      <th>3</th>\n",
       "      <td>4</td>\n",
       "      <td>2</td>\n",
       "      <td>lorichen</td>\n",
       "      <td>3</td>\n",
       "    </tr>\n",
       "    <tr>\n",
       "      <th>4</th>\n",
       "      <td>5</td>\n",
       "      <td>2</td>\n",
       "      <td>mariokeller</td>\n",
       "      <td>2</td>\n",
       "    </tr>\n",
       "  </tbody>\n",
       "</table>\n",
       "</div>"
      ],
      "text/plain": [
       "   rating_id  book_id       username  rating\n",
       "0          1        1     ryanfranco       4\n",
       "1          2        1  grantpatricia       2\n",
       "2          3        1   brandtandrea       5\n",
       "3          4        2       lorichen       3\n",
       "4          5        2    mariokeller       2"
      ]
     },
     "metadata": {},
     "output_type": "display_data"
    },
    {
     "name": "stdout",
     "output_type": "stream",
     "text": [
      "<class 'pandas.core.frame.DataFrame'>\n",
      "RangeIndex: 6456 entries, 0 to 6455\n",
      "Data columns (total 4 columns):\n",
      " #   Column     Non-Null Count  Dtype \n",
      "---  ------     --------------  ----- \n",
      " 0   rating_id  6456 non-null   int64 \n",
      " 1   book_id    6456 non-null   int64 \n",
      " 2   username   6456 non-null   object\n",
      " 3   rating     6456 non-null   int64 \n",
      "dtypes: int64(3), object(1)\n",
      "memory usage: 201.9+ KB\n"
     ]
    },
    {
     "data": {
      "text/plain": [
       "None"
      ]
     },
     "metadata": {},
     "output_type": "display_data"
    },
    {
     "data": {
      "text/html": [
       "<div>\n",
       "<style scoped>\n",
       "    .dataframe tbody tr th:only-of-type {\n",
       "        vertical-align: middle;\n",
       "    }\n",
       "\n",
       "    .dataframe tbody tr th {\n",
       "        vertical-align: top;\n",
       "    }\n",
       "\n",
       "    .dataframe thead th {\n",
       "        text-align: right;\n",
       "    }\n",
       "</style>\n",
       "<table border=\"1\" class=\"dataframe\">\n",
       "  <thead>\n",
       "    <tr style=\"text-align: right;\">\n",
       "      <th></th>\n",
       "      <th>review_id</th>\n",
       "      <th>book_id</th>\n",
       "      <th>username</th>\n",
       "      <th>text</th>\n",
       "    </tr>\n",
       "  </thead>\n",
       "  <tbody>\n",
       "    <tr>\n",
       "      <th>0</th>\n",
       "      <td>1</td>\n",
       "      <td>1</td>\n",
       "      <td>brandtandrea</td>\n",
       "      <td>Mention society tell send professor analysis. ...</td>\n",
       "    </tr>\n",
       "    <tr>\n",
       "      <th>1</th>\n",
       "      <td>2</td>\n",
       "      <td>1</td>\n",
       "      <td>ryanfranco</td>\n",
       "      <td>Foot glass pretty audience hit themselves. Amo...</td>\n",
       "    </tr>\n",
       "    <tr>\n",
       "      <th>2</th>\n",
       "      <td>3</td>\n",
       "      <td>2</td>\n",
       "      <td>lorichen</td>\n",
       "      <td>Listen treat keep worry. Miss husband tax but ...</td>\n",
       "    </tr>\n",
       "    <tr>\n",
       "      <th>3</th>\n",
       "      <td>4</td>\n",
       "      <td>3</td>\n",
       "      <td>johnsonamanda</td>\n",
       "      <td>Finally month interesting blue could nature cu...</td>\n",
       "    </tr>\n",
       "    <tr>\n",
       "      <th>4</th>\n",
       "      <td>5</td>\n",
       "      <td>3</td>\n",
       "      <td>scotttamara</td>\n",
       "      <td>Nation purpose heavy give wait song will. List...</td>\n",
       "    </tr>\n",
       "  </tbody>\n",
       "</table>\n",
       "</div>"
      ],
      "text/plain": [
       "   review_id  book_id       username  \\\n",
       "0          1        1   brandtandrea   \n",
       "1          2        1     ryanfranco   \n",
       "2          3        2       lorichen   \n",
       "3          4        3  johnsonamanda   \n",
       "4          5        3    scotttamara   \n",
       "\n",
       "                                                text  \n",
       "0  Mention society tell send professor analysis. ...  \n",
       "1  Foot glass pretty audience hit themselves. Amo...  \n",
       "2  Listen treat keep worry. Miss husband tax but ...  \n",
       "3  Finally month interesting blue could nature cu...  \n",
       "4  Nation purpose heavy give wait song will. List...  "
      ]
     },
     "metadata": {},
     "output_type": "display_data"
    },
    {
     "name": "stdout",
     "output_type": "stream",
     "text": [
      "<class 'pandas.core.frame.DataFrame'>\n",
      "RangeIndex: 2793 entries, 0 to 2792\n",
      "Data columns (total 4 columns):\n",
      " #   Column     Non-Null Count  Dtype \n",
      "---  ------     --------------  ----- \n",
      " 0   review_id  2793 non-null   int64 \n",
      " 1   book_id    2793 non-null   int64 \n",
      " 2   username   2793 non-null   object\n",
      " 3   text       2793 non-null   object\n",
      "dtypes: int64(2), object(2)\n",
      "memory usage: 87.4+ KB\n"
     ]
    },
    {
     "data": {
      "text/plain": [
       "None"
      ]
     },
     "metadata": {},
     "output_type": "display_data"
    },
    {
     "data": {
      "text/html": [
       "<div>\n",
       "<style scoped>\n",
       "    .dataframe tbody tr th:only-of-type {\n",
       "        vertical-align: middle;\n",
       "    }\n",
       "\n",
       "    .dataframe tbody tr th {\n",
       "        vertical-align: top;\n",
       "    }\n",
       "\n",
       "    .dataframe thead th {\n",
       "        text-align: right;\n",
       "    }\n",
       "</style>\n",
       "<table border=\"1\" class=\"dataframe\">\n",
       "  <thead>\n",
       "    <tr style=\"text-align: right;\">\n",
       "      <th></th>\n",
       "      <th>publisher_id</th>\n",
       "      <th>publisher</th>\n",
       "    </tr>\n",
       "  </thead>\n",
       "  <tbody>\n",
       "    <tr>\n",
       "      <th>0</th>\n",
       "      <td>1</td>\n",
       "      <td>Ace</td>\n",
       "    </tr>\n",
       "    <tr>\n",
       "      <th>1</th>\n",
       "      <td>2</td>\n",
       "      <td>Ace Book</td>\n",
       "    </tr>\n",
       "    <tr>\n",
       "      <th>2</th>\n",
       "      <td>3</td>\n",
       "      <td>Ace Books</td>\n",
       "    </tr>\n",
       "    <tr>\n",
       "      <th>3</th>\n",
       "      <td>4</td>\n",
       "      <td>Ace Hardcover</td>\n",
       "    </tr>\n",
       "    <tr>\n",
       "      <th>4</th>\n",
       "      <td>5</td>\n",
       "      <td>Addison Wesley Publishing Company</td>\n",
       "    </tr>\n",
       "  </tbody>\n",
       "</table>\n",
       "</div>"
      ],
      "text/plain": [
       "   publisher_id                          publisher\n",
       "0             1                                Ace\n",
       "1             2                           Ace Book\n",
       "2             3                          Ace Books\n",
       "3             4                      Ace Hardcover\n",
       "4             5  Addison Wesley Publishing Company"
      ]
     },
     "metadata": {},
     "output_type": "display_data"
    },
    {
     "name": "stdout",
     "output_type": "stream",
     "text": [
      "<class 'pandas.core.frame.DataFrame'>\n",
      "RangeIndex: 340 entries, 0 to 339\n",
      "Data columns (total 2 columns):\n",
      " #   Column        Non-Null Count  Dtype \n",
      "---  ------        --------------  ----- \n",
      " 0   publisher_id  340 non-null    int64 \n",
      " 1   publisher     340 non-null    object\n",
      "dtypes: int64(1), object(1)\n",
      "memory usage: 5.4+ KB\n"
     ]
    }
   ],
   "source": [
    "display(df_books.head())\n",
    "display(df_books.info())\n",
    "display(df_authors.head())\n",
    "display(df_authors.info())\n",
    "display(df_ratings.head())\n",
    "display(df_ratings.info())\n",
    "display(df_reviews.head())\n",
    "display(df_reviews.info())\n",
    "display(df_publishers.head())\n",
    "df_publishers.info()"
   ]
  },
  {
   "cell_type": "markdown",
   "id": "65173784",
   "metadata": {},
   "source": [
    "[Back to Contents](#back)"
   ]
  },
  {
   "cell_type": "markdown",
   "id": "cda10ec9",
   "metadata": {},
   "source": [
    "# 2. Exploratory Data Analysis <a id='eda' ><a/>"
   ]
  },
  {
   "cell_type": "markdown",
   "id": "bb8f7fd0",
   "metadata": {},
   "source": [
    "### 2.1. Books Released proceeding January 1st, 2000 <a id='eda1' ><a/>"
   ]
  },
  {
   "cell_type": "code",
   "execution_count": 17,
   "id": "26591764",
   "metadata": {},
   "outputs": [],
   "source": [
    "# Querying book ID's released on or after the 1st of Jan, 2000\n",
    "\n",
    "books_y2k_query = '''\n",
    "    SELECT \n",
    "        COUNT(book_id)\n",
    "    FROM \n",
    "        books\n",
    "    WHERE\n",
    "        publication_date > '2000-01-01';\n",
    "'''"
   ]
  },
  {
   "cell_type": "code",
   "execution_count": 18,
   "id": "515bf118",
   "metadata": {},
   "outputs": [
    {
     "name": "stdout",
     "output_type": "stream",
     "text": [
      "Books after year 2000_Percentage Share: 0.819\n"
     ]
    },
    {
     "data": {
      "text/html": [
       "<div>\n",
       "<style scoped>\n",
       "    .dataframe tbody tr th:only-of-type {\n",
       "        vertical-align: middle;\n",
       "    }\n",
       "\n",
       "    .dataframe tbody tr th {\n",
       "        vertical-align: top;\n",
       "    }\n",
       "\n",
       "    .dataframe thead th {\n",
       "        text-align: right;\n",
       "    }\n",
       "</style>\n",
       "<table border=\"1\" class=\"dataframe\">\n",
       "  <thead>\n",
       "    <tr style=\"text-align: right;\">\n",
       "      <th></th>\n",
       "      <th>count</th>\n",
       "    </tr>\n",
       "  </thead>\n",
       "  <tbody>\n",
       "    <tr>\n",
       "      <th>0</th>\n",
       "      <td>819</td>\n",
       "    </tr>\n",
       "  </tbody>\n",
       "</table>\n",
       "</div>"
      ],
      "text/plain": [
       "   count\n",
       "0    819"
      ]
     },
     "execution_count": 18,
     "metadata": {},
     "output_type": "execute_result"
    }
   ],
   "source": [
    "books_y2k = execute_query_to_df(books_y2k_query, engine)\n",
    "print(\"Books after year 2000_Percentage Share:\", books_y2k.loc[0, 'count'] / len(df_books))\n",
    "books_y2k.head()"
   ]
  },
  {
   "cell_type": "markdown",
   "id": "b13fbcc3",
   "metadata": {},
   "source": [
    "> **Observations:** Roughly 81% of books in the database were released post-year 2000."
   ]
  },
  {
   "cell_type": "markdown",
   "id": "b315d745",
   "metadata": {},
   "source": [
    "[Back to Contents](#back)"
   ]
  },
  {
   "cell_type": "markdown",
   "id": "9bd46ac6",
   "metadata": {},
   "source": [
    "### 2.2. User Review Count and Average Rating by Unique Books <a id='eda2' ><a/>"
   ]
  },
  {
   "cell_type": "code",
   "execution_count": 19,
   "id": "733e25ff",
   "metadata": {},
   "outputs": [],
   "source": [
    "# Querying total reviews and average ratings by unique book ID's\n",
    "\n",
    "ratings_reviews_query = '''\n",
    "    SELECT\n",
    "        reviews.book_id,\n",
    "        books.title,\n",
    "        COUNT(DISTINCT reviews.review_id) AS n_reviews,\n",
    "        AVG(ratings.rating) AS avg_rating\n",
    "    FROM \n",
    "        reviews \n",
    "    JOIN \n",
    "        ratings \n",
    "            ON reviews.book_id = ratings.book_id\n",
    "    JOIN\n",
    "        books\n",
    "            ON reviews.book_id = books.book_id\n",
    "    GROUP BY\n",
    "        reviews.book_id, books.title\n",
    "    ORDER BY\n",
    "        n_reviews DESC, avg_rating DESC;\n",
    "'''"
   ]
  },
  {
   "cell_type": "code",
   "execution_count": 20,
   "id": "5e826fa5",
   "metadata": {
    "scrolled": false
   },
   "outputs": [
    {
     "data": {
      "text/html": [
       "<div>\n",
       "<style scoped>\n",
       "    .dataframe tbody tr th:only-of-type {\n",
       "        vertical-align: middle;\n",
       "    }\n",
       "\n",
       "    .dataframe tbody tr th {\n",
       "        vertical-align: top;\n",
       "    }\n",
       "\n",
       "    .dataframe thead th {\n",
       "        text-align: right;\n",
       "    }\n",
       "</style>\n",
       "<table border=\"1\" class=\"dataframe\">\n",
       "  <thead>\n",
       "    <tr style=\"text-align: right;\">\n",
       "      <th></th>\n",
       "      <th>book_id</th>\n",
       "      <th>title</th>\n",
       "      <th>n_reviews</th>\n",
       "      <th>avg_rating</th>\n",
       "    </tr>\n",
       "  </thead>\n",
       "  <tbody>\n",
       "    <tr>\n",
       "      <th>0</th>\n",
       "      <td>948</td>\n",
       "      <td>Twilight (Twilight  #1)</td>\n",
       "      <td>7</td>\n",
       "      <td>3.662500</td>\n",
       "    </tr>\n",
       "    <tr>\n",
       "      <th>1</th>\n",
       "      <td>302</td>\n",
       "      <td>Harry Potter and the Prisoner of Azkaban (Harr...</td>\n",
       "      <td>6</td>\n",
       "      <td>4.414634</td>\n",
       "    </tr>\n",
       "    <tr>\n",
       "      <th>2</th>\n",
       "      <td>299</td>\n",
       "      <td>Harry Potter and the Chamber of Secrets (Harry...</td>\n",
       "      <td>6</td>\n",
       "      <td>4.287500</td>\n",
       "    </tr>\n",
       "    <tr>\n",
       "      <th>3</th>\n",
       "      <td>656</td>\n",
       "      <td>The Book Thief</td>\n",
       "      <td>6</td>\n",
       "      <td>4.264151</td>\n",
       "    </tr>\n",
       "    <tr>\n",
       "      <th>4</th>\n",
       "      <td>734</td>\n",
       "      <td>The Glass Castle</td>\n",
       "      <td>6</td>\n",
       "      <td>4.206897</td>\n",
       "    </tr>\n",
       "    <tr>\n",
       "      <th>5</th>\n",
       "      <td>750</td>\n",
       "      <td>The Hobbit  or There and Back Again</td>\n",
       "      <td>6</td>\n",
       "      <td>4.125000</td>\n",
       "    </tr>\n",
       "    <tr>\n",
       "      <th>6</th>\n",
       "      <td>497</td>\n",
       "      <td>Outlander (Outlander  #1)</td>\n",
       "      <td>6</td>\n",
       "      <td>4.125000</td>\n",
       "    </tr>\n",
       "    <tr>\n",
       "      <th>7</th>\n",
       "      <td>695</td>\n",
       "      <td>The Curious Incident of the Dog in the Night-Time</td>\n",
       "      <td>6</td>\n",
       "      <td>4.081081</td>\n",
       "    </tr>\n",
       "    <tr>\n",
       "      <th>8</th>\n",
       "      <td>779</td>\n",
       "      <td>The Lightning Thief (Percy Jackson and the Oly...</td>\n",
       "      <td>6</td>\n",
       "      <td>4.080645</td>\n",
       "    </tr>\n",
       "    <tr>\n",
       "      <th>9</th>\n",
       "      <td>963</td>\n",
       "      <td>Water for Elephants</td>\n",
       "      <td>6</td>\n",
       "      <td>3.977273</td>\n",
       "    </tr>\n",
       "    <tr>\n",
       "      <th>10</th>\n",
       "      <td>696</td>\n",
       "      <td>The Da Vinci Code (Robert Langdon  #2)</td>\n",
       "      <td>6</td>\n",
       "      <td>3.830508</td>\n",
       "    </tr>\n",
       "    <tr>\n",
       "      <th>11</th>\n",
       "      <td>673</td>\n",
       "      <td>The Catcher in the Rye</td>\n",
       "      <td>6</td>\n",
       "      <td>3.825581</td>\n",
       "    </tr>\n",
       "    <tr>\n",
       "      <th>12</th>\n",
       "      <td>627</td>\n",
       "      <td>The Alchemist</td>\n",
       "      <td>6</td>\n",
       "      <td>3.789474</td>\n",
       "    </tr>\n",
       "    <tr>\n",
       "      <th>13</th>\n",
       "      <td>854</td>\n",
       "      <td>The Road</td>\n",
       "      <td>6</td>\n",
       "      <td>3.772727</td>\n",
       "    </tr>\n",
       "    <tr>\n",
       "      <th>14</th>\n",
       "      <td>733</td>\n",
       "      <td>The Giver (The Giver  #1)</td>\n",
       "      <td>6</td>\n",
       "      <td>3.750000</td>\n",
       "    </tr>\n",
       "    <tr>\n",
       "      <th>15</th>\n",
       "      <td>207</td>\n",
       "      <td>Eat  Pray  Love</td>\n",
       "      <td>6</td>\n",
       "      <td>3.395833</td>\n",
       "    </tr>\n",
       "    <tr>\n",
       "      <th>16</th>\n",
       "      <td>581</td>\n",
       "      <td>Snow Flower and the Secret Fan</td>\n",
       "      <td>5</td>\n",
       "      <td>4.636364</td>\n",
       "    </tr>\n",
       "    <tr>\n",
       "      <th>17</th>\n",
       "      <td>74</td>\n",
       "      <td>And Then There Were None</td>\n",
       "      <td>5</td>\n",
       "      <td>4.454545</td>\n",
       "    </tr>\n",
       "    <tr>\n",
       "      <th>18</th>\n",
       "      <td>884</td>\n",
       "      <td>The Thirteenth Tale</td>\n",
       "      <td>5</td>\n",
       "      <td>4.444444</td>\n",
       "    </tr>\n",
       "    <tr>\n",
       "      <th>19</th>\n",
       "      <td>284</td>\n",
       "      <td>Gone with the Wind</td>\n",
       "      <td>5</td>\n",
       "      <td>4.428571</td>\n",
       "    </tr>\n",
       "  </tbody>\n",
       "</table>\n",
       "</div>"
      ],
      "text/plain": [
       "    book_id                                              title  n_reviews  \\\n",
       "0       948                            Twilight (Twilight  #1)          7   \n",
       "1       302  Harry Potter and the Prisoner of Azkaban (Harr...          6   \n",
       "2       299  Harry Potter and the Chamber of Secrets (Harry...          6   \n",
       "3       656                                     The Book Thief          6   \n",
       "4       734                                   The Glass Castle          6   \n",
       "5       750                The Hobbit  or There and Back Again          6   \n",
       "6       497                          Outlander (Outlander  #1)          6   \n",
       "7       695  The Curious Incident of the Dog in the Night-Time          6   \n",
       "8       779  The Lightning Thief (Percy Jackson and the Oly...          6   \n",
       "9       963                                Water for Elephants          6   \n",
       "10      696             The Da Vinci Code (Robert Langdon  #2)          6   \n",
       "11      673                             The Catcher in the Rye          6   \n",
       "12      627                                      The Alchemist          6   \n",
       "13      854                                           The Road          6   \n",
       "14      733                          The Giver (The Giver  #1)          6   \n",
       "15      207                                    Eat  Pray  Love          6   \n",
       "16      581                     Snow Flower and the Secret Fan          5   \n",
       "17       74                           And Then There Were None          5   \n",
       "18      884                                The Thirteenth Tale          5   \n",
       "19      284                                 Gone with the Wind          5   \n",
       "\n",
       "    avg_rating  \n",
       "0     3.662500  \n",
       "1     4.414634  \n",
       "2     4.287500  \n",
       "3     4.264151  \n",
       "4     4.206897  \n",
       "5     4.125000  \n",
       "6     4.125000  \n",
       "7     4.081081  \n",
       "8     4.080645  \n",
       "9     3.977273  \n",
       "10    3.830508  \n",
       "11    3.825581  \n",
       "12    3.789474  \n",
       "13    3.772727  \n",
       "14    3.750000  \n",
       "15    3.395833  \n",
       "16    4.636364  \n",
       "17    4.454545  \n",
       "18    4.444444  \n",
       "19    4.428571  "
      ]
     },
     "execution_count": 20,
     "metadata": {},
     "output_type": "execute_result"
    }
   ],
   "source": [
    "ratings_reviews_by_book = execute_query_to_df(ratings_reviews_query, engine)\n",
    "ratings_reviews_by_book.head(20)"
   ]
  },
  {
   "cell_type": "markdown",
   "id": "950b7c6e",
   "metadata": {},
   "source": [
    "> **Observations:** We can observe a trend of disproportionate correlation between the number of reviews and average ratings of a book. We can clearly see the sheer popularity of the first Twilight book judging from the number of reviews written for it, but it did not necessarily equate to anywhere near the best average rating. Hence, the number of reviews are a better indicator of a book's popularity; this could be due to the influence of pop culture, as seen in the presence of 4 different *Harry Potter* sequels and two *Lord of The Rings* books (The Hobbit included), while we also see classics such as *Romeo and Juliet* and Internation Best-Sellers in *The Book Thief* in our top 20 list. All in all, a great blend of classics, pop-culture and modern-day best-sellers."
   ]
  },
  {
   "cell_type": "markdown",
   "id": "07d98365",
   "metadata": {},
   "source": [
    "[Back to Contents](#back)"
   ]
  },
  {
   "cell_type": "markdown",
   "id": "89639895",
   "metadata": {},
   "source": [
    "### 2.3. Book Releases by Publisher - Selecting the Author with most book releases <a id='eda3' ><a/>"
   ]
  },
  {
   "cell_type": "markdown",
   "id": "b75c58a9",
   "metadata": {},
   "source": [
    "**N.B.** Filtering for books above 50 pages to eliminate occurrences of brochures and similar-natured publications."
   ]
  },
  {
   "cell_type": "code",
   "execution_count": 21,
   "id": "cc2d1659",
   "metadata": {},
   "outputs": [],
   "source": [
    "# Querying publisher Id's and their corresponding book counts, filtered for no. of pgs above 50\n",
    "\n",
    "publisher_books_query = '''\n",
    "    SELECT\n",
    "        publishers.publisher, publishers.publisher_id,\n",
    "        COUNT(books.book_id) as book_releases\n",
    "    FROM \n",
    "        books \n",
    "    JOIN publishers \n",
    "        ON books.publisher_id = publishers.publisher_id\n",
    "    WHERE\n",
    "        books.num_pages > 50\n",
    "    GROUP BY\n",
    "        publishers.publisher, publishers.publisher_id\n",
    "    ORDER BY\n",
    "        book_releases DESC\n",
    "    LIMIT 1;\n",
    "'''"
   ]
  },
  {
   "cell_type": "code",
   "execution_count": 22,
   "id": "c8c6b05b",
   "metadata": {},
   "outputs": [
    {
     "data": {
      "text/html": [
       "<div>\n",
       "<style scoped>\n",
       "    .dataframe tbody tr th:only-of-type {\n",
       "        vertical-align: middle;\n",
       "    }\n",
       "\n",
       "    .dataframe tbody tr th {\n",
       "        vertical-align: top;\n",
       "    }\n",
       "\n",
       "    .dataframe thead th {\n",
       "        text-align: right;\n",
       "    }\n",
       "</style>\n",
       "<table border=\"1\" class=\"dataframe\">\n",
       "  <thead>\n",
       "    <tr style=\"text-align: right;\">\n",
       "      <th></th>\n",
       "      <th>publisher</th>\n",
       "      <th>publisher_id</th>\n",
       "      <th>book_releases</th>\n",
       "    </tr>\n",
       "  </thead>\n",
       "  <tbody>\n",
       "    <tr>\n",
       "      <th>0</th>\n",
       "      <td>Penguin Books</td>\n",
       "      <td>212</td>\n",
       "      <td>42</td>\n",
       "    </tr>\n",
       "  </tbody>\n",
       "</table>\n",
       "</div>"
      ],
      "text/plain": [
       "       publisher  publisher_id  book_releases\n",
       "0  Penguin Books           212             42"
      ]
     },
     "execution_count": 22,
     "metadata": {},
     "output_type": "execute_result"
    }
   ],
   "source": [
    "releases_by_publisher = execute_query_to_df(publisher_books_query, engine)\n",
    "releases_by_publisher.sort_values('book_releases', ascending=False).head(10)"
   ]
  },
  {
   "cell_type": "markdown",
   "id": "923a8356",
   "metadata": {},
   "source": [
    "> **Observations:** The Penguin brand is by and wide the largest publisher on display here, especially when we consider its main affordable brand, Penguin Books and its more premium imprint sub-brand, Penguin Classics made it into our top 10. This is no surprise however, as Penguin Publications are renowned for being the leading publisher of classic literature in the English-speaking world. All time classics such as Price & Prejudice, Moby Dick and Dracula were all published via the Penguin brand."
   ]
  },
  {
   "cell_type": "markdown",
   "id": "97af47b5",
   "metadata": {},
   "source": [
    "[Back to Contents](#back)"
   ]
  },
  {
   "cell_type": "markdown",
   "id": "80881bfd",
   "metadata": {},
   "source": [
    "### 2.4. Average Rating by Author <a id='eda4' ><a/>"
   ]
  },
  {
   "cell_type": "markdown",
   "id": "c372be2b",
   "metadata": {},
   "source": [
    "**N.B.** Filtering for books with at least 50 n_ratings."
   ]
  },
  {
   "cell_type": "code",
   "execution_count": 195,
   "id": "870c16d5",
   "metadata": {},
   "outputs": [],
   "source": [
    "# Querying average rating by author, for books with at least 50 ratings\n",
    "\n",
    "average_rating_author_query = '''\n",
    "    SELECT\n",
    "        authors.author,\n",
    "        AVG(ratings.rating) AS avg_rating\n",
    "    FROM\n",
    "        authors\n",
    "        JOIN books ON authors.author_id = books.author_id\n",
    "        JOIN ratings ON books.book_id = ratings.book_id\n",
    "    WHERE\n",
    "        books.book_id IN (\n",
    "            SELECT\n",
    "                book_id\n",
    "            FROM\n",
    "                ratings\n",
    "            GROUP BY\n",
    "                book_id\n",
    "            HAVING\n",
    "                COUNT(rating_id) >= 50\n",
    "        )\n",
    "    GROUP BY\n",
    "        authors.author\n",
    "    ORDER BY\n",
    "        avg_rating DESC;\n",
    "'''"
   ]
  },
  {
   "cell_type": "code",
   "execution_count": 196,
   "id": "254a7773",
   "metadata": {},
   "outputs": [
    {
     "data": {
      "text/html": [
       "<div>\n",
       "<style scoped>\n",
       "    .dataframe tbody tr th:only-of-type {\n",
       "        vertical-align: middle;\n",
       "    }\n",
       "\n",
       "    .dataframe tbody tr th {\n",
       "        vertical-align: top;\n",
       "    }\n",
       "\n",
       "    .dataframe thead th {\n",
       "        text-align: right;\n",
       "    }\n",
       "</style>\n",
       "<table border=\"1\" class=\"dataframe\">\n",
       "  <thead>\n",
       "    <tr style=\"text-align: right;\">\n",
       "      <th></th>\n",
       "      <th>author</th>\n",
       "      <th>avg_rating</th>\n",
       "    </tr>\n",
       "  </thead>\n",
       "  <tbody>\n",
       "    <tr>\n",
       "      <th>0</th>\n",
       "      <td>J.K. Rowling/Mary GrandPré</td>\n",
       "      <td>4.287097</td>\n",
       "    </tr>\n",
       "    <tr>\n",
       "      <th>1</th>\n",
       "      <td>Markus Zusak/Cao Xuân Việt Khương</td>\n",
       "      <td>4.264151</td>\n",
       "    </tr>\n",
       "    <tr>\n",
       "      <th>2</th>\n",
       "      <td>J.R.R. Tolkien</td>\n",
       "      <td>4.246914</td>\n",
       "    </tr>\n",
       "    <tr>\n",
       "      <th>3</th>\n",
       "      <td>Louisa May Alcott</td>\n",
       "      <td>4.192308</td>\n",
       "    </tr>\n",
       "    <tr>\n",
       "      <th>4</th>\n",
       "      <td>Rick Riordan</td>\n",
       "      <td>4.080645</td>\n",
       "    </tr>\n",
       "  </tbody>\n",
       "</table>\n",
       "</div>"
      ],
      "text/plain": [
       "                              author  avg_rating\n",
       "0         J.K. Rowling/Mary GrandPré    4.287097\n",
       "1  Markus Zusak/Cao Xuân Việt Khương    4.264151\n",
       "2                     J.R.R. Tolkien    4.246914\n",
       "3                  Louisa May Alcott    4.192308\n",
       "4                       Rick Riordan    4.080645"
      ]
     },
     "execution_count": 196,
     "metadata": {},
     "output_type": "execute_result"
    }
   ],
   "source": [
    "authors_by_rating = execute_query_to_df(average_rating_author_query, engine)\n",
    "authors_by_rating.head(5)"
   ]
  },
  {
   "cell_type": "markdown",
   "id": "9903a40d",
   "metadata": {},
   "source": [
    "> **Observations:** To any book-fan, the top 3 authors by average ratings is no surprise. The author J.K. Rowling (Mary GrandPre' being the illustrator) is best known for her series of *Harry Potter* books including other sub-series of the Harry Potter universe. Markus Zusak on the other hand wrote *The Book Thief* and *The Messenger*, two books that went on to become Internation Best-Sellers. Lastly, who could forget J.R.R. Tolkien with *Lord of The Rings* franchise. This also includes works  in and of the same sphere of the likes of the Hobbit and Silmarillion."
   ]
  },
  {
   "cell_type": "markdown",
   "id": "b412ef5d",
   "metadata": {},
   "source": [
    "[Back to Contents](#back)"
   ]
  },
  {
   "cell_type": "markdown",
   "id": "441100c8",
   "metadata": {},
   "source": [
    "### 2.5. Average User Review Count <a id='eda5' ><a/>"
   ]
  },
  {
   "cell_type": "markdown",
   "id": "c69880eb",
   "metadata": {},
   "source": [
    "**N.B.** To aggregate review counts for only users who rated books on a high-frequency basis, we will filter for n_ratings above 50. We'd like to observe the behaviour of an avid-book reader and reviewer."
   ]
  },
  {
   "cell_type": "code",
   "execution_count": 171,
   "id": "66f6991b",
   "metadata": {},
   "outputs": [],
   "source": [
    "agg_review_count_query = '''\n",
    "    SELECT AVG(review_count) AS avg_text_reviews\n",
    "        FROM (\n",
    "            SELECT \n",
    "                username, COUNT(review_id) AS review_count\n",
    "            FROM (\n",
    "                SELECT \n",
    "                    reviews.username, reviews.review_id\n",
    "                FROM \n",
    "                    reviews \n",
    "                JOIN \n",
    "                    ratings ON reviews.username = ratings.username\n",
    "                GROUP BY \n",
    "                    reviews.username, reviews.review_id\n",
    "                HAVING \n",
    "                    COUNT(DISTINCT ratings.book_id) > 50\n",
    "                    ) AS subquery1\n",
    "            GROUP BY username) AS subquery2;\n",
    "'''"
   ]
  },
  {
   "cell_type": "code",
   "execution_count": 172,
   "id": "7e0b1976",
   "metadata": {},
   "outputs": [
    {
     "data": {
      "text/html": [
       "<div>\n",
       "<style scoped>\n",
       "    .dataframe tbody tr th:only-of-type {\n",
       "        vertical-align: middle;\n",
       "    }\n",
       "\n",
       "    .dataframe tbody tr th {\n",
       "        vertical-align: top;\n",
       "    }\n",
       "\n",
       "    .dataframe thead th {\n",
       "        text-align: right;\n",
       "    }\n",
       "</style>\n",
       "<table border=\"1\" class=\"dataframe\">\n",
       "  <thead>\n",
       "    <tr style=\"text-align: right;\">\n",
       "      <th></th>\n",
       "      <th>avg_text_reviews</th>\n",
       "    </tr>\n",
       "  </thead>\n",
       "  <tbody>\n",
       "    <tr>\n",
       "      <th>0</th>\n",
       "      <td>24.333333</td>\n",
       "    </tr>\n",
       "  </tbody>\n",
       "</table>\n",
       "</div>"
      ],
      "text/plain": [
       "   avg_text_reviews\n",
       "0         24.333333"
      ]
     },
     "execution_count": 172,
     "metadata": {},
     "output_type": "execute_result"
    }
   ],
   "source": [
    "avg_reviews_by_user = execute_query_to_df(agg_review_count_query, engine)\n",
    "avg_reviews_by_user.head(5)"
   ]
  },
  {
   "cell_type": "markdown",
   "id": "de4cfa58",
   "metadata": {},
   "source": [
    "> **Observations:** An avid reader and subsequently, reviewer, who rates books above the 50 book threshold typically writes roughly 24 reviews in their lifetime (and counting). These readers can be considered major book-worms, and are seen as crucial towards word-of-mouth marketing on a book-by-book basis."
   ]
  },
  {
   "cell_type": "markdown",
   "id": "a7018052",
   "metadata": {},
   "source": [
    "[Back to Contents](#back)"
   ]
  },
  {
   "cell_type": "markdown",
   "id": "34d949e5",
   "metadata": {},
   "source": [
    "# 3. Conclusions <a id='conclusions' ><a/>\n",
    "    \n",
    "**Value Proposition moving forward as a Books Review site:**   \n",
    "    \n",
    "1. 82% of our books on observation are post-year 2000, which in contrast, means that we still have a fair share of books that are deemed 'older classics' on display. This could be major boon to avid readers of an older nature and literature buffs alike.\n",
    "2. Our top 10 snippet of books with high review counts and moderate-to-high ratings tells us that we have a wide array of popular books on display, which ranges from all-time classics, popular culture influenced titles and modern-day Internation Best-Sellers. This bodes well for readers from all walks of life and thus, could be a one-stop centre for anyone vying to pick up their next book.\n",
    "3. It is encouraging to see the large majority of books on display being from the Penguins publishing brand, as they are by far, the largest literature-based publisher in the English-speaking world. This is a great selling point, as the app prides itself in catering to books that are, for lack of a better phrase, *'good reads'*.\n",
    "4. Our top authors on the app, with an average rating of above 4, are inherently popular with the masses. These being authors such as J.K. Rowling, J.R.R. Tolkien and Markus Zusak. The is important as more likely than not, titles from these authors would inevitably be recommended sooner or later down the line. Furthermore, this creates a domino effect for lesser known titles.\n",
    "5. Our app in question contains a subset of unique users who help generate word-of-mouth traffic, in part because they frequently rate books at a high clip (above 50 distinct books), while also write reviews on a frequent basis (average of roughly 24 reviews). These users help create relevancy to the app, as well as help promote back-link generation for book sales. This is a huge value proposition, as it means the app has potential (if it hasn't already reached it) towards being a one-stop centre any information book-related, or rather, an intermediary connecting all types of readers to the masses of publishers and sellers. "
   ]
  }
 ],
 "metadata": {
  "kernelspec": {
   "display_name": "Python 3 (ipykernel)",
   "language": "python",
   "name": "python3"
  },
  "language_info": {
   "codemirror_mode": {
    "name": "ipython",
    "version": 3
   },
   "file_extension": ".py",
   "mimetype": "text/x-python",
   "name": "python",
   "nbconvert_exporter": "python",
   "pygments_lexer": "ipython3",
   "version": "3.9.13"
  },
  "toc": {
   "base_numbering": 1,
   "nav_menu": {},
   "number_sections": true,
   "sideBar": true,
   "skip_h1_title": true,
   "title_cell": "Table of Contents",
   "title_sidebar": "Contents",
   "toc_cell": false,
   "toc_position": {},
   "toc_section_display": true,
   "toc_window_display": false
  }
 },
 "nbformat": 4,
 "nbformat_minor": 5
}
